{
 "cells": [
  {
   "cell_type": "code",
   "execution_count": 1,
   "metadata": {},
   "outputs": [],
   "source": [
    "# The Dependency Inversion Principle (DIP) is a core principle of object-oriented design, which suggests that:\n",
    "\n",
    "# High-level modules should not depend on low-level modules. Both should depend on abstractions.\n",
    "\n",
    "# Abstractions should not depend on details. Details should depend on abstractions.\n",
    "\n",
    "# Let's break this down with examples of valid and invalid cases to better understand how to correctly apply DIP."
   ]
  },
  {
   "cell_type": "code",
   "execution_count": 17,
   "metadata": {},
   "outputs": [],
   "source": [
    "# Summary\n",
    "\n",
    "# Valid Cases:\n",
    "\n",
    "# Both high-level and low-level modules depend on abstractions.\n",
    "# Abstractions are used to decouple the high-level logic from low-level implementation details.\n",
    "# New low-level modules can be added without modifying high-level modules.\n",
    "\n",
    "# Invalid Cases:\n",
    "\n",
    "# High-level modules directly depend on low-level modules.\n",
    "# Hardcoding dependencies within high-level modules.\n",
    "# Modifying high-level modules to accommodate new low-level modules."
   ]
  },
  {
   "cell_type": "code",
   "execution_count": 16,
   "metadata": {},
   "outputs": [],
   "source": [
    "# By adhering to DIP, you create a flexible, maintainable system where changes in low-level modules don't force changes in high-level modules, thus enhancing\n",
    "# modularity and scalability."
   ]
  },
  {
   "cell_type": "code",
   "execution_count": 2,
   "metadata": {},
   "outputs": [],
   "source": [
    "# Valid Case\n",
    "# In a valid application of DIP, both the high-level module and the low-level module depend on abstractions.\n",
    "# This decouples the high-level module from the specifics of the low-level module.\n"
   ]
  },
  {
   "cell_type": "code",
   "execution_count": 5,
   "metadata": {},
   "outputs": [
    {
     "name": "stdout",
     "output_type": "stream",
     "text": [
      "Processing Data from database\n"
     ]
    }
   ],
   "source": [
    "from abc import ABC, abstractmethod\n",
    "\n",
    "# Abstraction\n",
    "class DataSource(ABC):\n",
    "    @abstractmethod\n",
    "    def get_data(self):\n",
    "        pass\n",
    "\n",
    "# Low-level module\n",
    "class DatabaseSource(DataSource): # Implements the DataSource abstraction to provide data from a database.\n",
    "    def get_data(self): # we kept the data source seperate from the data processor\n",
    "        return \"Data from database\"\n",
    "\n",
    "# High-level module\n",
    "class DataProcessor:\n",
    "    def __init__(self, data_source: DataSource): # Accepts any object that implements DataSource which is easy to test and mock/ update later in future.\n",
    "        self.data_source = data_source\n",
    "\n",
    "    def process(self):\n",
    "        data = self.data_source.get_data()\n",
    "        print(f\"Processing {data}\")\n",
    "\n",
    "# Usage\n",
    "db_source = DatabaseSource() # This is for the database \n",
    "processor = DataProcessor(db_source)\n",
    "processor.process()\n",
    "\n",
    "# Here, DataProcessor (high-level module) depends on the DataSource abstraction, not the concrete DatabaseSource class.\n",
    "# This way, we can easily change the data source without modifying DataProcessor."
   ]
  },
  {
   "cell_type": "code",
   "execution_count": 6,
   "metadata": {},
   "outputs": [],
   "source": [
    "# Invalid Case\n",
    "# In an invalid application of DIP, the high-level module directly depends on the low-level module, causing tight coupling."
   ]
  },
  {
   "cell_type": "code",
   "execution_count": 8,
   "metadata": {},
   "outputs": [
    {
     "name": "stdout",
     "output_type": "stream",
     "text": [
      "Processing Data from database\n"
     ]
    }
   ],
   "source": [
    "# In this case, DataProcessor directly depends on DatabaseSource, violating DIP. If we want to change the data source, we need to modify DataProcessor.\n",
    "\n",
    "# Low-level module\n",
    "class DatabaseSource:\n",
    "    def get_data(self):\n",
    "        return \"Data from database\"\n",
    "\n",
    "# High-level module directly depending on the low-level module\n",
    "class DataProcessor:\n",
    "    def __init__(self, data_source: DatabaseSource): # This is tightly coupled with DatabaseSource which is a low-level module and concrete class.\n",
    "        self.data_source = data_source\n",
    "\n",
    "    def process(self):\n",
    "        data = self.data_source.get_data()\n",
    "        print(f\"Processing {data}\")\n",
    "\n",
    "# Usage\n",
    "db_source = DatabaseSource()\n",
    "processor = DataProcessor(db_source)\n",
    "processor.process()\n"
   ]
  },
  {
   "cell_type": "code",
   "execution_count": 11,
   "metadata": {},
   "outputs": [
    {
     "name": "stdout",
     "output_type": "stream",
     "text": [
      "Processing Data from database\n",
      "Processing Data from API\n"
     ]
    }
   ],
   "source": [
    "# Valid Case: Adding a New Data Source\n",
    "\n",
    "from abc import ABC, abstractmethod\n",
    "\n",
    "# Abstraction\n",
    "class DataSource(ABC):\n",
    "    @abstractmethod\n",
    "    def get_data(self):\n",
    "        pass\n",
    "\n",
    "# Low-level module 1\n",
    "class DatabaseSource(DataSource):\n",
    "    def get_data(self):\n",
    "        return \"Data from database\"\n",
    "\n",
    "# Low-level module 2\n",
    "class APISource(DataSource):\n",
    "    def get_data(self):\n",
    "        return \"Data from API\"\n",
    "\n",
    "# High-level module\n",
    "class DataProcessor:\n",
    "    def __init__(self, data_source: DataSource):\n",
    "        self.data_source = data_source\n",
    "\n",
    "    def process(self):\n",
    "        data = self.data_source.get_data()\n",
    "        print(f\"Processing {data}\")\n",
    "\n",
    "# Usage with DatabaseSource\n",
    "db_source = DatabaseSource()\n",
    "processor = DataProcessor(db_source)\n",
    "processor.process() # Processing Data from database\n",
    "\n",
    "# Usage with APISource\n",
    "api_source = APISource()\n",
    "processor = DataProcessor(api_source)\n",
    "processor.process() # Processing Data from API\n",
    "\n",
    "# Here, DataProcessor can work with both DatabaseSource and APISource without any modification, demonstrating the flexibility provided by DIP.\n"
   ]
  },
  {
   "cell_type": "code",
   "execution_count": 13,
   "metadata": {},
   "outputs": [
    {
     "name": "stdout",
     "output_type": "stream",
     "text": [
      "Processing Data from database\n"
     ]
    }
   ],
   "source": [
    "# Invalid Case: Hardcoding the Data Source\n",
    "\n",
    "class DataProcessor:\n",
    "    def __init__(self):\n",
    "        # Hardcoding the dependency\n",
    "        self.data_source = DatabaseSource() # This is tightly coupled with DatabaseSource which is a low-level module and concrete class.\n",
    "\n",
    "    def process(self):\n",
    "        data = self.data_source.get_data()\n",
    "        print(f\"Processing {data}\")\n",
    "\n",
    "# Usage\n",
    "processor = DataProcessor()\n",
    "processor.process()\n",
    "\n",
    "# In this case, DataProcessor is tightly coupled with DatabaseSource, making it difficult to change the data source without modifying the class.\n",
    "# This violates the Dependency Inversion Principle (DIP) by directly depending on a low-level module.\n",
    "# Now DataProcessor can only work with DatabaseSource, limiting its flexibility and reusability.\n"
   ]
  },
  {
   "cell_type": "code",
   "execution_count": 14,
   "metadata": {},
   "outputs": [],
   "source": [
    "# The reason why its name is Dependency Inversion Principle is because the high-level module is not directly dependent\n",
    "# on the low-level module, but rather on an abstraction.\n",
    "\n",
    "# Dependency mean the high-level module is dependent on the low-level module.\n",
    "# Inversion mean the high-level module is not directly dependent on the low-level module but on an abstraction.\n",
    "# so we are avoiding the direct dependency between high-level and low-level modules by using abstraction."
   ]
  }
 ],
 "metadata": {
  "kernelspec": {
   "display_name": "Python 3",
   "language": "python",
   "name": "python3"
  },
  "language_info": {
   "codemirror_mode": {
    "name": "ipython",
    "version": 3
   },
   "file_extension": ".py",
   "mimetype": "text/x-python",
   "name": "python",
   "nbconvert_exporter": "python",
   "pygments_lexer": "ipython3",
   "version": "3.9.6"
  }
 },
 "nbformat": 4,
 "nbformat_minor": 2
}
