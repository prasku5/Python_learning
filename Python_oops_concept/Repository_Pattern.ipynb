{
 "cells": [
  {
   "cell_type": "code",
   "execution_count": 19,
   "metadata": {},
   "outputs": [],
   "source": [
    "# Repository Pattern Explained\n",
    "\n",
    "# Definition: The Repository pattern abstracts the data layer, making the data access logic agnostic to the rest of the application.\n",
    "# It provides a collection-like interface for accessing domain objects.\n",
    "\n",
    "# Valid Cases for Repository Pattern\n",
    "# 1. Decoupling Data Access Logic\n",
    "\n",
    "# Scenario: Separating data access logic from business logic. *<----------------Majorly this is the focus of this pattern"
   ]
  },
  {
   "cell_type": "code",
   "execution_count": 18,
   "metadata": {},
   "outputs": [],
   "source": [
    "# Summary\n",
    "# Valid Cases:\n",
    "\n",
    "# Promotes decoupling of data access logic from business logic.\n",
    "# Facilitates unit testing by allowing dependency mocking.\n",
    "# Centralizes data access logic for multiple data sources.\n",
    "    \n",
    "# Invalid Cases:\n",
    "\n",
    "# Adds unnecessary overhead for simple applications.\n",
    "# Unnecessary for fixed data access logic.\n",
    "# May introduce latency in performance-critical applications."
   ]
  },
  {
   "cell_type": "code",
   "execution_count": 26,
   "metadata": {},
   "outputs": [],
   "source": [
    "# The name \"repository pattern\" can be understood by breaking down the term \"repository\" and relating it to its intended purpose and usage in software design.\n",
    "# Here's a way to recall and remember the concept:\n",
    "\n",
    "# Repository\n",
    "# Repository: In everyday language, a repository is a place where things are stored and can be retrieved. Think of a repository as a library or a warehouse.\n",
    "# Library: Stores books (data) and provides a way to search and retrieve them.\n",
    "\n",
    "# Warehouse: Stores goods (data) and provides a way to store and retrieve them efficiently.\n",
    "\n",
    "# Repository Pattern in Software Design\n",
    "# Purpose: The repository pattern is used to abstract the data access layer, providing a centralized place to store, retrieve, and manage data. It acts like a\n",
    "\n",
    "# library or warehouse for your data.\n",
    "# Key Concept: It separates the business logic from the data access logic. This way, the business logic (like borrowing a book from a library) doesn't need to\n",
    "# know how the data is stored or retrieved (how the library system works internally)."
   ]
  },
  {
   "cell_type": "code",
   "execution_count": 28,
   "metadata": {},
   "outputs": [],
   "source": [
    "# Repository Pattern: Provides methods to fetch and save data, often interacting with a database or other data source.\n",
    "\n",
    "\n",
    "# Factory Pattern: Provides a method to create objects, often deciding the class of object to create based on input parameters."
   ]
  },
  {
   "cell_type": "code",
   "execution_count": 2,
   "metadata": {},
   "outputs": [
    {
     "name": "stdout",
     "output_type": "stream",
     "text": [
      "Executing query: SELECT * FROM users WHERE id = 1\n"
     ]
    }
   ],
   "source": [
    "class DatabaseConnection: # This is low-level module\n",
    "    def query(self, query):\n",
    "        # Simulate database query \n",
    "        return f\"Executing query: {query}\" # This is data access logic\n",
    "\n",
    "class UserRepository: # This is high-level module\n",
    "    def __init__(self, database):\n",
    "        self.database = database\n",
    "\n",
    "    def get_user(self, user_id): # This is bsuiness logic\n",
    "        return self.database.query(f\"SELECT * FROM users WHERE id = {user_id}\")\n",
    "\n",
    "database = DatabaseConnection()\n",
    "user_repository = UserRepository(database) # Here we are passing the low-level module to high-level module\n",
    "user = user_repository.get_user(1)\n",
    "print(user)  # Output: Executing query: SELECT * FROM users WHERE id = 1\n",
    "\n",
    "\n",
    "# Explanation: UserRepository handles data access, keeping it separate from the business logic, which promotes a clean and maintainable codebase.\n"
   ]
  },
  {
   "cell_type": "code",
   "execution_count": 4,
   "metadata": {},
   "outputs": [],
   "source": [
    "# Facilitating Unit Testing\n",
    "\n",
    "\n",
    "# Scenario: Easier unit testing by mocking the data layer."
   ]
  },
  {
   "cell_type": "code",
   "execution_count": 6,
   "metadata": {},
   "outputs": [
    {
     "name": "stdout",
     "output_type": "stream",
     "text": [
      "Mock User Data\n"
     ]
    }
   ],
   "source": [
    "class MockDatabaseConnection: # This is low-level module\n",
    "    def query(self, query):\n",
    "        return \"Mock User Data\"\n",
    "\n",
    "class UserRepository: # This is high-level module\n",
    "    def __init__(self, database):\n",
    "        self.database = database\n",
    "\n",
    "    def get_user(self, user_id):\n",
    "        return self.database.query(f\"SELECT * FROM users WHERE id = {user_id}\")\n",
    "\n",
    "mock_database = MockDatabaseConnection()\n",
    "user_repository = UserRepository(mock_database)\n",
    "user = user_repository.get_user(1)\n",
    "print(user)  # Output: Mock User Data\n",
    "\n",
    "# Explanation: Using a mock database connection allows easy testing of UserRepository without depending on a real database.\n"
   ]
  },
  {
   "cell_type": "code",
   "execution_count": 7,
   "metadata": {},
   "outputs": [],
   "source": [
    "#  Centralized Data Access Logic\n",
    "\n",
    "#  Scenario: Centralizing data access logic for multiple data sources."
   ]
  },
  {
   "cell_type": "code",
   "execution_count": 10,
   "metadata": {},
   "outputs": [
    {
     "name": "stdout",
     "output_type": "stream",
     "text": [
      "User Data from API\n"
     ]
    }
   ],
   "source": [
    "class DatabaseConnection: # This is low-level module\n",
    "    def query(self, query):\n",
    "        return None  # Simulate no data\n",
    "\n",
    "class APIClient: # This is low-level module\n",
    "    def get(self, endpoint):\n",
    "        return \"User Data from API\"\n",
    "\n",
    "class UserRepository:\n",
    "    def __init__(self, database, api):\n",
    "        self.database = database    # This is similar to object composition\n",
    "        self.api = api\n",
    "\n",
    "    def get_user(self, user_id):\n",
    "        user = self.database.query(f\"SELECT * FROM users WHERE id = {user_id}\")\n",
    "        if not user:\n",
    "            user = self.api.get(f\"/users/{user_id}\")\n",
    "        return user\n",
    "    \n",
    "database = DatabaseConnection()\n",
    "api = APIClient()\n",
    "user_repository = UserRepository(database, api)\n",
    "user = user_repository.get_user(1)\n",
    "print(user)  # Output: User Data from API\n",
    "\n",
    "# Explanation: UserRepository centralizes access logic for both database and API, providing a single point of access."
   ]
  },
  {
   "cell_type": "code",
   "execution_count": 11,
   "metadata": {},
   "outputs": [],
   "source": [
    "# Invalid Cases for Repository Pattern\n",
    "\n",
    "# 1. Overhead for Simple Applications\n",
    "\n",
    "# Scenario: Simple applications where a repository adds unnecessary complexity."
   ]
  },
  {
   "cell_type": "code",
   "execution_count": 13,
   "metadata": {},
   "outputs": [
    {
     "name": "stdout",
     "output_type": "stream",
     "text": [
      "Simple User Data\n"
     ]
    }
   ],
   "source": [
    "class SimpleUserRepository:\n",
    "    def get_user(self, user_id):\n",
    "        return \"Simple User Data\"\n",
    "\n",
    "user_repository = SimpleUserRepository()\n",
    "user = user_repository.get_user(1)\n",
    "print(user)  # Output: Simple User Data\n",
    "\n",
    "# Explanation: For simple applications, directly accessing the data source without an additional layer can be simpler and more efficient."
   ]
  },
  {
   "cell_type": "code",
   "execution_count": 14,
   "metadata": {},
   "outputs": [],
   "source": [
    "# Inappropriate for Fixed Data Access Logic\n",
    "\n",
    "# Scenario: When the data access logic is unlikely to change."
   ]
  },
  {
   "cell_type": "code",
   "execution_count": 15,
   "metadata": {},
   "outputs": [
    {
     "name": "stdout",
     "output_type": "stream",
     "text": [
      "Fixed User Data\n"
     ]
    }
   ],
   "source": [
    "class FixedUserRepository:\n",
    "    def get_user(self, user_id):\n",
    "        return \"Fixed User Data\"\n",
    "\n",
    "user_repository = FixedUserRepository()\n",
    "user = user_repository.get_user(1)\n",
    "print(user)  # Output: Fixed User Data\n",
    "\n",
    "# explanation: If the data access logic is fixed and unlikely to change, a repository layer may be unnecessary."
   ]
  },
  {
   "cell_type": "code",
   "execution_count": 16,
   "metadata": {},
   "outputs": [],
   "source": [
    "# Performance Considerations\n",
    "\n",
    "# Scenario: Performance-critical applications where an additional abstraction layer could introduce latency.\n",
    "\n"
   ]
  },
  {
   "cell_type": "code",
   "execution_count": 17,
   "metadata": {},
   "outputs": [
    {
     "name": "stdout",
     "output_type": "stream",
     "text": [
      "None\n"
     ]
    }
   ],
   "source": [
    "class PerformanceUserRepository:\n",
    "    def __init__(self, database):\n",
    "        self.database = database\n",
    "\n",
    "    def get_user(self, user_id):\n",
    "        # Directly query the database for performance\n",
    "        return self.database.query(f\"SELECT * FROM users WHERE id = {user_id}\")\n",
    "\n",
    "database = DatabaseConnection() \n",
    "user_repository = PerformanceUserRepository(database)\n",
    "user = user_repository.get_user(1)\n",
    "print(user)  # Output: Executing query: SELECT * FROM users WHERE id = 1\n"
   ]
  },
  {
   "cell_type": "code",
   "execution_count": 20,
   "metadata": {},
   "outputs": [],
   "source": [
    "# composition seems similar to this but here is the example to differentiate between composition and repository pattern\n"
   ]
  },
  {
   "cell_type": "code",
   "execution_count": 22,
   "metadata": {},
   "outputs": [
    {
     "name": "stdout",
     "output_type": "stream",
     "text": [
      "User 1 from SQL database\n"
     ]
    }
   ],
   "source": [
    "from abc import ABC, abstractmethod\n",
    "\n",
    "# Abstraction for the repository pattern\n",
    "class UserRepository(ABC):\n",
    "    @abstractmethod\n",
    "    def get_user(self, user_id):\n",
    "        pass\n",
    "\n",
    "# Concrete implementation of the UserRepository using SQL\n",
    "class SQLUserRepository(UserRepository):\n",
    "    def __init__(self, db_connection):\n",
    "        # Composition: SQLUserRepository is composed with a db_connection\n",
    "        self.db_connection = db_connection\n",
    "\n",
    "    def get_user(self, user_id):\n",
    "        # Use db_connection to fetch user from SQL database\n",
    "        return f\"User {user_id} from SQL database\"\n",
    "\n",
    "# Service that uses the repository pattern to get user information\n",
    "class UserService:\n",
    "    def __init__(self, user_repo: UserRepository):\n",
    "        # Composition: UserService is composed with a UserRepository\n",
    "        self.user_repo = user_repo\n",
    "\n",
    "    def get_user_info(self, user_id):\n",
    "        # Repository pattern: UserService uses UserRepository to get user data\n",
    "        return self.user_repo.get_user(user_id)\n",
    "\n",
    "# Usage\n",
    "db_connection = \"Database Connection Object\"  # This would be an actual DB connection in a real application\n",
    "# Composition: Creating a SQLUserRepository with a db_connection\n",
    "sql_repo = SQLUserRepository(db_connection)\n",
    "# Composition: Creating a UserService with a UserRepository (SQLUserRepository)\n",
    "user_service = UserService(sql_repo)\n",
    "# Using the UserService to get user information\n",
    "print(user_service.get_user_info(1))  # Output: User 1 from SQL database\n"
   ]
  },
  {
   "cell_type": "code",
   "execution_count": 24,
   "metadata": {},
   "outputs": [],
   "source": [
    "# Repository Pattern:\n",
    "\n",
    "# UserRepository interface (or abstract class) defines the contract for data access.\n",
    "# SQLUserRepository implements the UserRepository interface to fetch user data from a SQL database.\n",
    "# UserService depends on the UserRepository abstraction to get user data, not on a specific implementation.\n",
    "\n",
    "# Composition:\n",
    "\n",
    "# SQLUserRepository uses composition by including a db_connection object to handle database operations.\n",
    "# UserService uses composition by including a UserRepository object, allowing it to interact with user data through the repository interface.\n",
    "# When creating instances, SQLUserRepository is composed with a db_connection object, and UserService is composed with a UserRepository object.\n"
   ]
  }
 ],
 "metadata": {
  "kernelspec": {
   "display_name": "Python 3",
   "language": "python",
   "name": "python3"
  },
  "language_info": {
   "codemirror_mode": {
    "name": "ipython",
    "version": 3
   },
   "file_extension": ".py",
   "mimetype": "text/x-python",
   "name": "python",
   "nbconvert_exporter": "python",
   "pygments_lexer": "ipython3",
   "version": "3.9.6"
  }
 },
 "nbformat": 4,
 "nbformat_minor": 2
}
