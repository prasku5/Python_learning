{
 "cells": [
  {
   "cell_type": "code",
   "execution_count": 15,
   "metadata": {},
   "outputs": [],
   "source": [
    "# The Singleton pattern is particularly useful in scenarios where you need to ensure a single point of access to certain resources or configurations.\n",
    "\n",
    "# Benefits of Singleton Pattern\n",
    "# Global Access Point:\n",
    "# The Singleton pattern provides a global access point to the instance. Any part of the application can access it without needing to pass it explicitly, which can be very convenient.\n",
    "\n",
    "# Controlled Access:\n",
    "# The Singleton pattern controls the instantiation process. This ensures that only one instance is created, preventing accidental creation of multiple instances which could lead to inconsistent states.\n",
    "\n",
    "# Lazy Initialization:\n",
    "# The instance is created only when it's needed for the first time, which can be useful for managing resources efficiently.\n",
    "\n",
    "# Decoupling:\n",
    "# Using a Singleton pattern decouples the usage of the instance from its creation. This can make the code cleaner and easier to maintain."
   ]
  },
  {
   "cell_type": "code",
   "execution_count": 1,
   "metadata": {},
   "outputs": [],
   "source": [
    "\n",
    "# Analogy: Imagine you have a magical candy jar in your kitchen. No matter how many times you take a candy out, the jar always refills itself with just one candy.\n",
    "# You can't have more than one candy at a time from this magical jar."
   ]
  },
  {
   "cell_type": "code",
   "execution_count": 3,
   "metadata": {},
   "outputs": [],
   "source": [
    "class CandyJar:\n",
    "    _instance = None  # This variable will hold the single instance of the class\n",
    "\n",
    "    def __new__(cls):\n",
    "        if cls._instance is None:  # Check if an instance already exists\n",
    "            cls._instance = super(CandyJar, cls).__new__(cls)  # Create a new instance if not\n",
    "        return cls._instance  # Return the single instance\n",
    "    \n",
    "    # The __new__ method is responsible for creating a new instance of a class.\n",
    "    # We check if _instance is None, which means no instance has been created yet.\n",
    "    # If _instance is None, we create a new instance using super(CandyJar, cls).__new__(cls).\n",
    "    # We then assign this new instance to _instance.\n",
    "    # Finally, we return the single instance stored in _instance."
   ]
  },
  {
   "cell_type": "code",
   "execution_count": 4,
   "metadata": {},
   "outputs": [
    {
     "name": "stdout",
     "output_type": "stream",
     "text": [
      "True\n"
     ]
    }
   ],
   "source": [
    "jar1 = CandyJar()\n",
    "jar2 = CandyJar()\n",
    "print(jar1 is jar2)  # Output: True"
   ]
  },
  {
   "cell_type": "code",
   "execution_count": 5,
   "metadata": {},
   "outputs": [],
   "source": [
    "# Other examples"
   ]
  },
  {
   "cell_type": "code",
   "execution_count": 8,
   "metadata": {},
   "outputs": [],
   "source": [
    "# Data Engineering Example: Configuration Manager\n",
    "\n",
    "# In data engineering, you might need a single configuration manager to handle settings for your data pipelines.\n",
    "# Using the Singleton pattern ensures that there is only one configuration manager throughout your application."
   ]
  },
  {
   "cell_type": "code",
   "execution_count": 13,
   "metadata": {},
   "outputs": [
    {
     "name": "stdout",
     "output_type": "stream",
     "text": [
      "True\n"
     ]
    }
   ],
   "source": [
    "class ConfigurationManager:\n",
    "    _instance = None # This variable will hold the single instance of the class\n",
    "\n",
    "    def __new__(cls):\n",
    "        if cls._instance is None: # Check if an instance already exists\n",
    "            cls._instance = super(ConfigurationManager, cls).__new__(cls) # Create a new instance if not\n",
    "            cls._instance.settings = {} # Initialize the settings dictionary\n",
    "        return cls._instance # Return the single instance\n",
    "\n",
    "config1 = ConfigurationManager() # Create an instance of the ConfigurationManager class\n",
    "config2 = ConfigurationManager() # Create another instance of the ConfigurationManager class\n",
    "print(config1 is config2)  # Output: True"
   ]
  },
  {
   "cell_type": "code",
   "execution_count": 12,
   "metadata": {},
   "outputs": [],
   "source": [
    "# Purpose in Data Engineering:\n",
    "\n",
    "# The Singleton pattern ensures that there is only one instance of the ConfigurationManager class, which is essential for managing configuration settings \n",
    "# consistently across your data pipelines. This avoids conflicts and ensures that changes to the configuration are reflected globally."
   ]
  },
  {
   "cell_type": "code",
   "execution_count": 17,
   "metadata": {},
   "outputs": [],
   "source": [
    "# t’s consider a scenario where we are using a ConfigurationManager in a data engineering project. Imagine a pipeline where multiple components need access \n",
    "# to configuration settings. Using a Singleton pattern ensures that these settings are consistent and changes in one part of the application are reflected globally."
   ]
  },
  {
   "cell_type": "code",
   "execution_count": 18,
   "metadata": {},
   "outputs": [
    {
     "name": "stdout",
     "output_type": "stream",
     "text": [
      "MySQL\n",
      "Redis\n"
     ]
    }
   ],
   "source": [
    "class ConfigurationManager:\n",
    "    _instance = None\n",
    "\n",
    "    def __new__(cls):\n",
    "        if cls._instance is None:\n",
    "            cls._instance = super(ConfigurationManager, cls).__new__(cls)\n",
    "            cls._instance.settings = {}\n",
    "        return cls._instance\n",
    "\n",
    "    def add_setting(self, key, value):\n",
    "        self.settings[key] = value\n",
    "\n",
    "    def get_setting(self, key):\n",
    "        return self.settings.get(key)\n",
    "\n",
    "# Creating the singleton instance\n",
    "config1 = ConfigurationManager()\n",
    "config1.add_setting('database', 'MySQL')\n",
    "\n",
    "# Any other instance will point to the same object\n",
    "config2 = ConfigurationManager()\n",
    "print(config2.get_setting('database'))  # Output: MySQL\n",
    "\n",
    "# Modifying through any instance affects the single instance\n",
    "config2.add_setting('cache', 'Redis')\n",
    "print(config1.get_setting('cache'))  # Output: Redis\n"
   ]
  },
  {
   "cell_type": "code",
   "execution_count": 24,
   "metadata": {},
   "outputs": [],
   "source": [
    "# Ease of Access:\n",
    "# With the Singleton pattern, you don’t have to pass the instance around explicitly. Any part of the application can access it directly, reducing the need for boilerplate code.\n",
    "\n",
    "# Consistency:\n",
    "# Ensures that every access point is referring to the exact same instance. This can prevent bugs that arise from multiple instances being created unintentionally.\n",
    "\n",
    "# Code Readability:\n",
    "# Singleton pattern can make the code more readable by avoiding the clutter of passing the instance around, especially in large projects.\n",
    "\n",
    "# Summary\n",
    "\n",
    "# While it is possible to create a single instance and pass it around, the Singleton pattern provides a clean and efficient way to ensure that only one instance exists and \n",
    "# is easily accessible throughout the application. This pattern is particularly useful in scenarios where a global point of access is needed, such as configuration management\n",
    "# in data engineering pipelines."
   ]
  }
 ],
 "metadata": {
  "kernelspec": {
   "display_name": "Python 3",
   "language": "python",
   "name": "python3"
  },
  "language_info": {
   "codemirror_mode": {
    "name": "ipython",
    "version": 3
   },
   "file_extension": ".py",
   "mimetype": "text/x-python",
   "name": "python",
   "nbconvert_exporter": "python",
   "pygments_lexer": "ipython3",
   "version": "3.9.6"
  }
 },
 "nbformat": 4,
 "nbformat_minor": 2
}
