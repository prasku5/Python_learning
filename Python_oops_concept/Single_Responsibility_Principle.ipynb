{
 "cells": [
  {
   "cell_type": "code",
   "execution_count": 1,
   "metadata": {},
   "outputs": [],
   "source": [
    "# SOLID Principles\n",
    "# Design Patterns\n",
    "# Dependency Injection\n",
    "# Object Composition\n",
    "# Data Transfer Objects (DTOs)\n",
    "# Repository Pattern\n",
    "# Factory Pattern"
   ]
  },
  {
   "cell_type": "code",
   "execution_count": 2,
   "metadata": {},
   "outputs": [],
   "source": [
    "# SOLID Principles"
   ]
  },
  {
   "cell_type": "code",
   "execution_count": 3,
   "metadata": {},
   "outputs": [],
   "source": [
    "# Single Responsibility Principle (SRP):\n",
    "\n",
    "# Each class should have only one reason to change, meaning it should have only one job or responsibility."
   ]
  },
  {
   "cell_type": "code",
   "execution_count": 3,
   "metadata": {},
   "outputs": [],
   "source": [
    "# Benefits of SRP in Data Engineering\n",
    "\n",
    "# Maintainability: Code is easier to maintain and modify when each class or function has a single responsibility.\n",
    "\n",
    "# Testability: Unit testing becomes simpler when each component has a clear, focused role.\n",
    "\n",
    "# Scalability: It’s easier to extend functionality without affecting other parts of the system.\n",
    "\n",
    "# Collaboration: Clear separation of responsibilities allows multiple team members to work on different parts of the codebase simultaneously."
   ]
  },
  {
   "cell_type": "code",
   "execution_count": 74,
   "metadata": {},
   "outputs": [],
   "source": [
    "# Example Valid SRP Cases:\n",
    "\n",
    "# Separate classes for loading and processing data.\n",
    "# Separate classes for different database operations.\n",
    "# Separate classes for different stages of a data pipeline.\n",
    "\n",
    "# Example Invalid SRP Cases:\n",
    "\n",
    "# Combining data loading and processing in one class.\n",
    "# Combining multiple database operations in one class.\n",
    "# Combining different stages of a data pipeline in one class."
   ]
  },
  {
   "cell_type": "code",
   "execution_count": 5,
   "metadata": {},
   "outputs": [],
   "source": [
    "class DataLoader:\n",
    "    def load_data(self, source):\n",
    "        # Code to load data from a source\n",
    "        pass \n",
    "\n",
    "class DataProcessor:\n",
    "    def process_data(self, data):\n",
    "        # Code to process the loaded data\n",
    "        pass"
   ]
  },
  {
   "cell_type": "code",
   "execution_count": 55,
   "metadata": {},
   "outputs": [],
   "source": [
    "# The Single Responsibility Principle (SRP) states that a class should have only one reason to change, meaning it should have only one job or responsibility. \n",
    "# This principle helps in making classes more modular, easier to maintain, and less prone to bugs.\n",
    "\n",
    "# Valid Cases\n",
    "# Case 1: Loading and Processing Data"
   ]
  },
  {
   "cell_type": "code",
   "execution_count": 57,
   "metadata": {},
   "outputs": [
    {
     "name": "stdout",
     "output_type": "stream",
     "text": [
      "Loading data from database\n",
      "Processing data: None\n"
     ]
    }
   ],
   "source": [
    "# Valid: Separate classes for loading and processing data.\n",
    "\n",
    "# Here, DataLoader has the responsibility of loading data, and DataProcessor has the responsibility of processing data.\n",
    "# They each have a single reason to change: DataLoader might change if the loading logic changes, and DataProcessor might change if the processing logic changes.\n",
    "\n",
    "class DataLoader:\n",
    "    def load_data(self, source):\n",
    "        # Code to load data from a source\n",
    "        print(f\"Loading data from {source}\")\n",
    "\n",
    "class DataProcessor:\n",
    "    def process_data(self, data): # This is not composition since object is not stored as a class attribute. \n",
    "        # Code to process the loaded data\n",
    "        print(f\"Processing data: {data}\")\n",
    "\n",
    "# Usage\n",
    "data_loader = DataLoader()\n",
    "data_processor = DataProcessor()\n",
    "\n",
    "data = data_loader.load_data(\"database\")\n",
    "\n",
    "data_processor.process_data(data)\n"
   ]
  },
  {
   "cell_type": "code",
   "execution_count": 59,
   "metadata": {},
   "outputs": [],
   "source": [
    "# ase 2: Separate Concerns for Database Operations\n",
    "\n",
    "# Valid: Separate classes for different database operations."
   ]
  },
  {
   "cell_type": "code",
   "execution_count": 61,
   "metadata": {},
   "outputs": [
    {
     "name": "stdout",
     "output_type": "stream",
     "text": [
      "Getting user with ID 1\n",
      "Updating user with ID 1 with data {'name': 'Alice'}\n"
     ]
    }
   ],
   "source": [
    "# Here, UserRepository is responsible for retrieving users, while UserService is responsible for updating users. They each have a single responsibility.\n",
    "\n",
    "class UserRepository:\n",
    "    def get_user(self, user_id):\n",
    "        # Code to retrieve user from database\n",
    "        print(f\"Getting user with ID {user_id}\")\n",
    "\n",
    "class UserService:\n",
    "    def update_user(self, user_id, new_data):\n",
    "        # Code to update user in the database\n",
    "        print(f\"Updating user with ID {user_id} with data {new_data}\")\n",
    "\n",
    "# Usage\n",
    "user_repo = UserRepository()\n",
    "user_service = UserService()\n",
    "\n",
    "user_repo.get_user(1)\n",
    "user_service.update_user(1, {\"name\": \"Alice\"})\n"
   ]
  },
  {
   "cell_type": "code",
   "execution_count": 62,
   "metadata": {},
   "outputs": [],
   "source": [
    "# Invalid Cases\n",
    "# Case 1: Combining Data Loading and Processing\n",
    "\n",
    "# Invalid: A class that handles both loading and processing data."
   ]
  },
  {
   "cell_type": "code",
   "execution_count": 65,
   "metadata": {},
   "outputs": [
    {
     "name": "stdout",
     "output_type": "stream",
     "text": [
      "Loading data from database\n",
      "Processing data: None\n"
     ]
    }
   ],
   "source": [
    "# Here, DataHandler has multiple responsibilities: loading and processing data. \n",
    "\n",
    "class DataHandler: # It violates the Single Responsibility Principle (SRP) because it has two reasons to change: if the loading logic changes or if the processing logic changes.\n",
    "    def load_data(self, source):\n",
    "        # Code to load data from a source\n",
    "        print(f\"Loading data from {source}\")\n",
    "\n",
    "    def process_data(self, data):\n",
    "        # Code to process the loaded data\n",
    "        print(f\"Processing data: {data}\")\n",
    "\n",
    "# Usage\n",
    "data_handler = DataHandler()\n",
    "data = data_handler.load_data(\"database\")\n",
    "data_handler.process_data(data)\n"
   ]
  },
  {
   "cell_type": "code",
   "execution_count": 66,
   "metadata": {},
   "outputs": [],
   "source": [
    "# Combining Multiple Database Operations\n",
    "\n",
    "# Invalid: A class that handles multiple types of database operations."
   ]
  },
  {
   "cell_type": "code",
   "execution_count": 68,
   "metadata": {},
   "outputs": [
    {
     "name": "stdout",
     "output_type": "stream",
     "text": [
      "Getting user with ID 1\n",
      "Updating user with ID 1 with data {'name': 'Alice'}\n",
      "Deleting user with ID 1\n"
     ]
    }
   ],
   "source": [
    "# Here, UserDatabaseHandler has multiple responsibilities: retrieving, updating, and deleting users. This violates SRP because changes in \n",
    "# any of these operations would require changes to the same class.\n",
    "\n",
    "class UserDatabaseHandler:\n",
    "    def get_user(self, user_id):\n",
    "        # Code to retrieve user from database\n",
    "        print(f\"Getting user with ID {user_id}\")\n",
    "\n",
    "    def update_user(self, user_id, new_data):\n",
    "        # Code to update user in the database\n",
    "        print(f\"Updating user with ID {user_id} with data {new_data}\")\n",
    "\n",
    "    def delete_user(self, user_id):\n",
    "        # Code to delete user from database\n",
    "        print(f\"Deleting user with ID {user_id}\")\n",
    "\n",
    "# Usage\n",
    "user_db_handler = UserDatabaseHandler()\n",
    "user_db_handler.get_user(1)\n",
    "user_db_handler.update_user(1, {\"name\": \"Alice\"})\n",
    "user_db_handler.delete_user(1)\n"
   ]
  },
  {
   "cell_type": "code",
   "execution_count": 69,
   "metadata": {},
   "outputs": [],
   "source": [
    "# Case: Managing a Data Pipeline\n",
    "\n",
    "# Invalid: Combining different stages of a data pipeline into one class."
   ]
  },
  {
   "cell_type": "code",
   "execution_count": 70,
   "metadata": {},
   "outputs": [
    {
     "name": "stdout",
     "output_type": "stream",
     "text": [
      "Extracting data from source\n",
      "Transforming data: None\n",
      "Loading data to destination\n"
     ]
    }
   ],
   "source": [
    "class DataPipeline:\n",
    "    def extract_data(self, source):\n",
    "        # Code to extract data\n",
    "        print(f\"Extracting data from {source}\")\n",
    "\n",
    "    def transform_data(self, data):\n",
    "        # Code to transform data\n",
    "        print(f\"Transforming data: {data}\")\n",
    "\n",
    "    def load_data(self, data, destination):\n",
    "        # Code to load data\n",
    "        print(f\"Loading data to {destination}\")\n",
    "\n",
    "# Usage\n",
    "pipeline = DataPipeline()\n",
    "data = pipeline.extract_data(\"source\")\n",
    "transformed_data = pipeline.transform_data(data)\n",
    "pipeline.load_data(transformed_data, \"destination\")\n"
   ]
  },
  {
   "cell_type": "code",
   "execution_count": 71,
   "metadata": {},
   "outputs": [],
   "source": [
    "# Here, DataPipeline has multiple responsibilities: extracting, transforming, and loading data. This violates SRP because changes to any of these stages\n",
    "# would require changes to the same class."
   ]
  },
  {
   "cell_type": "code",
   "execution_count": 72,
   "metadata": {},
   "outputs": [
    {
     "name": "stdout",
     "output_type": "stream",
     "text": [
      "Extracting data from source\n",
      "Transforming data: data from source\n",
      "Loading data to destination\n"
     ]
    }
   ],
   "source": [
    "# Valid: Separating different stages of a data pipeline into different classes.\n",
    "\n",
    "class DataExtractor:\n",
    "    def extract_data(self, source):\n",
    "        # Code to extract data\n",
    "        print(f\"Extracting data from {source}\")\n",
    "        return f\"data from {source}\"\n",
    "\n",
    "class DataTransformer:\n",
    "    def transform_data(self, data):\n",
    "        # Code to transform data\n",
    "        print(f\"Transforming data: {data}\")\n",
    "        return f\"transformed {data}\"\n",
    "\n",
    "class DataLoader:\n",
    "    def load_data(self, data, destination):\n",
    "        # Code to load data\n",
    "        print(f\"Loading data to {destination}\")\n",
    "\n",
    "# Usage\n",
    "extractor = DataExtractor()\n",
    "transformer = DataTransformer()\n",
    "loader = DataLoader()\n",
    "\n",
    "data = extractor.extract_data(\"source\")\n",
    "transformed_data = transformer.transform_data(data)\n",
    "loader.load_data(transformed_data, \"destination\")\n"
   ]
  },
  {
   "cell_type": "code",
   "execution_count": 6,
   "metadata": {},
   "outputs": [],
   "source": [
    "# Open/Closed Principle (OCP):\n",
    "\n",
    "# Software entities should be open for extension but closed for modification."
   ]
  },
  {
   "cell_type": "code",
   "execution_count": null,
   "metadata": {},
   "outputs": [],
   "source": [
    "# The Open/Closed Principle is one of the five SOLID principles of object-oriented design. It states that:\n",
    "\n",
    "# Software entities (classes, modules, functions, etc.) should be open for extension, but closed for modification.\n",
    "# This means that you should be able to add new functionality to a class or module without altering its existing code.\n",
    "\n",
    "# Inheritance can be a way to achieve this, but it's not the only way. The principle encourages designs that allow the behavior of software entities to be extended \n",
    "# without modifying their source code.\n",
    "\n",
    "# Inheritance and OCP\n",
    "# While inheritance can help achieve the Open/Closed Principle by allowing you to extend existing classes, OCP is more closely related to the broader concept of\n",
    "# polymorphism and the use of interfaces or abstract classes.\n",
    "\n"
   ]
  },
  {
   "cell_type": "code",
   "execution_count": null,
   "metadata": {},
   "outputs": [],
   "source": [
    "class DataProcessor:\n",
    "    def process(self, data):\n",
    "        # Default processing logic\n",
    "        pass\n",
    "\n",
    "class AdvancedDataProcessor(DataProcessor): # Inheritance by default is open for extension which is example of Open closed principle.\n",
    "    def process(self, data):\n",
    "        # Extended processing logic\n",
    "        pass"
   ]
  },
  {
   "cell_type": "code",
   "execution_count": 7,
   "metadata": {},
   "outputs": [
    {
     "name": "stdout",
     "output_type": "stream",
     "text": [
      "[200, 78.5]\n"
     ]
    }
   ],
   "source": [
    "class Shape:\n",
    "    def area(self):\n",
    "        raise NotImplementedError(\"Subclasses should implement this!\")\n",
    "\n",
    "class Rectangle(Shape):\n",
    "    def __init__(self, width, height):\n",
    "        self.width = width\n",
    "        self.height = height\n",
    "    \n",
    "    def area(self):\n",
    "        return self.width * self.height\n",
    "\n",
    "class Circle(Shape):\n",
    "    def __init__(self, radius):\n",
    "        self.radius = radius\n",
    "    \n",
    "    def area(self):\n",
    "        return 3.14 * self.radius * self.radius\n",
    "\n",
    "def calculate_area(shape):\n",
    "    return shape.area()\n",
    "\n",
    "# Extending the behavior without modifying the existing code\n",
    "shapes = [Rectangle(10, 20), Circle(5)]\n",
    "areas = [calculate_area(shape) for shape in shapes]\n",
    "print(areas)  # Output: [200, 78.5]\n"
   ]
  },
  {
   "cell_type": "markdown",
   "metadata": {},
   "source": [
    "The Shape class is open for extension (you can add new shapes by inheriting from it).\n",
    "The Shape class is closed for modification (you don't need to change the Shape class to add new shapes)."
   ]
  },
  {
   "cell_type": "code",
   "execution_count": 9,
   "metadata": {},
   "outputs": [
    {
     "name": "stdout",
     "output_type": "stream",
     "text": [
      "[200, 78.5]\n"
     ]
    }
   ],
   "source": [
    "from abc import ABC, abstractmethod\n",
    "\n",
    "class Shape(ABC): # This is an abstract class\n",
    "    @abstractmethod\n",
    "    def area(self):\n",
    "        pass\n",
    "\n",
    "class Rectangle(Shape): # This is a concrete class and is inheriting from abstract class\n",
    "    def __init__(self, width, height):\n",
    "        self.width = width\n",
    "        self.height = height\n",
    "    \n",
    "    def area(self):\n",
    "        return self.width * self.height\n",
    "\n",
    "class Circle(Shape): # This is a concrete class and is inheriting from abstract class and is example of multiple inheritance\n",
    "    def __init__(self, radius):\n",
    "        self.radius = radius\n",
    "    \n",
    "    def area(self):\n",
    "        return 3.14 * self.radius * self.radius\n",
    "\n",
    "def calculate_area(shape: Shape): # This is an example of polymorphism where we are passing different objects of different classes but they are of same type\n",
    "    return shape.area()\n",
    "\n",
    "# Extending the behavior without modifying the existing code\n",
    "shapes = [Rectangle(10, 20), Circle(5)]\n",
    "areas = [calculate_area(shape) for shape in shapes]\n",
    "print(areas)  # Output: [200, 78.5]\n"
   ]
  },
  {
   "cell_type": "code",
   "execution_count": 10,
   "metadata": {},
   "outputs": [],
   "source": [
    "# Summary\n",
    "\n",
    "# Inheritance can be used to adhere to the Open/Closed Principle by allowing classes to be extended without modification.\n",
    "\n",
    "# Polymorphism and the use of interfaces or abstract classes often provide a more flexible way to adhere to the Open/Closed Principle.\n",
    "\n",
    "# The key idea of OCP is to design software modules that can be extended without changing existing code, which helps in maintaining and scaling applications."
   ]
  },
  {
   "cell_type": "code",
   "execution_count": 12,
   "metadata": {},
   "outputs": [],
   "source": [
    "# Liskov Substitution Principle (LSP):\n",
    "\n",
    "# Subtypes must be substitutable for their base types without altering the correctness of the program."
   ]
  },
  {
   "cell_type": "code",
   "execution_count": 15,
   "metadata": {},
   "outputs": [
    {
     "ename": "NameError",
     "evalue": "name 'data' is not defined",
     "output_type": "error",
     "traceback": [
      "\u001b[0;31m---------------------------------------------------------------------------\u001b[0m",
      "\u001b[0;31mNameError\u001b[0m                                 Traceback (most recent call last)",
      "Cell \u001b[0;32mIn[15], line 13\u001b[0m\n\u001b[1;32m     10\u001b[0m \u001b[38;5;28;01mdef\u001b[39;00m \u001b[38;5;21muse_processor\u001b[39m(processor: BaseDataProcessor): \u001b[38;5;66;03m# This is an example of Liskov Substitution Principle where we are substituting the base class with the derived class\u001b[39;00m\n\u001b[1;32m     11\u001b[0m     processor\u001b[38;5;241m.\u001b[39mprocess(data)\n\u001b[0;32m---> 13\u001b[0m \u001b[43muse_processor\u001b[49m\u001b[43m(\u001b[49m\u001b[43mDataProcessor\u001b[49m\u001b[43m(\u001b[49m\u001b[43m)\u001b[49m\u001b[43m)\u001b[49m\n",
      "Cell \u001b[0;32mIn[15], line 11\u001b[0m, in \u001b[0;36muse_processor\u001b[0;34m(processor)\u001b[0m\n\u001b[1;32m     10\u001b[0m \u001b[38;5;28;01mdef\u001b[39;00m \u001b[38;5;21muse_processor\u001b[39m(processor: BaseDataProcessor): \u001b[38;5;66;03m# This is an example of Liskov Substitution Principle where we are substituting the base class with the derived class\u001b[39;00m\n\u001b[0;32m---> 11\u001b[0m     processor\u001b[38;5;241m.\u001b[39mprocess(\u001b[43mdata\u001b[49m)\n",
      "\u001b[0;31mNameError\u001b[0m: name 'data' is not defined"
     ]
    }
   ],
   "source": [
    "class BaseDataProcessor:\n",
    "    def process(self, data):\n",
    "        pass\n",
    "\n",
    "class DataProcessor(BaseDataProcessor): \n",
    "    def process(self, data):\n",
    "        # Process data\n",
    "        pass \n",
    "\n",
    "def use_processor(processor: BaseDataProcessor): # This is an example of Liskov Substitution Principle where we are substituting the base class with the derived class\n",
    "    processor.process(data)\n",
    "\n",
    "use_processor(DataProcessor())\n"
   ]
  },
  {
   "cell_type": "code",
   "execution_count": 23,
   "metadata": {},
   "outputs": [],
   "source": [
    "# Interface Segregation Principle (ISP):\n",
    "\n",
    "# Clients should not be forced to depend on methods they do not use. Suppose if a class has 10 methods and\n",
    "# a client is using only 2 methods then it should not be forced to use all 10 methods to prevent it we use ISP to enclose methods in individual classes.\n",
    "\n",
    "#It also follows the Single Responsibility Principle since each interface has only one responsibility."
   ]
  },
  {
   "cell_type": "code",
   "execution_count": 22,
   "metadata": {},
   "outputs": [],
   "source": [
    "from abc import ABC, abstractmethod\n",
    "\n",
    "class DataLoader(ABC): # Interface segregation principle is used here where we are creating different interfaces for different functionalities\n",
    "    @abstractmethod\n",
    "    def load(self):\n",
    "        pass\n",
    "\n",
    "class DataSaver(ABC):\n",
    "    @abstractmethod\n",
    "    def save(self):\n",
    "        pass\n",
    "\n",
    "class DataHandler(DataLoader, DataSaver): # This is an example of multiple inheritance where we are inheriting from two different classes\n",
    "    def load(self):\n",
    "        # Load data\n",
    "        pass\n",
    "\n",
    "    def save(self):\n",
    "        # Save data\n",
    "        pass"
   ]
  },
  {
   "cell_type": "code",
   "execution_count": 25,
   "metadata": {},
   "outputs": [],
   "source": [
    "# Dependency Inversion Principle (DIP):\n",
    "# High-level modules should not depend on low-level modules. Both should depend on abstractions."
   ]
  },
  {
   "cell_type": "code",
   "execution_count": 28,
   "metadata": {},
   "outputs": [],
   "source": [
    "# Abstractions should not depend on details. Details should depend on abstractions.\n",
    "\n",
    "from abc import ABC, abstractmethod\n",
    "\n",
    "class DataSource(ABC):\n",
    "    @abstractmethod\n",
    "    def get_data(self):\n",
    "        pass\n",
    "\n",
    "class DatabaseSource(DataSource): \n",
    "    def get_data(self):\n",
    "        # Fetch data from database\n",
    "        pass\n",
    "\n",
    "class DataProcessor:\n",
    "    def __init__(self, data_source: DataSource): # This is an example of dependency inversion principle where we are injecting the dependency\n",
    "        self.data_source = data_source # This is an example of dependency injection where were are using object from another abstract class to use its methods\n",
    "\n",
    "    def process(self):\n",
    "        data = self.data_source.get_data() # This is similar to factory pattern where we are using object of another class to use its methods\n",
    "        # Process data\n",
    "\n",
    "db_source = DatabaseSource()\n",
    "processor = DataProcessor(db_source)\n",
    "processor.process()\n"
   ]
  },
  {
   "cell_type": "code",
   "execution_count": 29,
   "metadata": {},
   "outputs": [],
   "source": [
    "# Singleton Pattern: Ensures a class has only one instance and provides a global point of access to it."
   ]
  },
  {
   "cell_type": "code",
   "execution_count": null,
   "metadata": {},
   "outputs": [],
   "source": []
  },
  {
   "cell_type": "code",
   "execution_count": 30,
   "metadata": {},
   "outputs": [],
   "source": [
    "# Factory Pattern: Provides an interface for creating objects in a superclass but allows subclasses to alter the type of objects that will be created."
   ]
  },
  {
   "cell_type": "code",
   "execution_count": 31,
   "metadata": {},
   "outputs": [],
   "source": [
    "from abc import ABC, abstractmethod\n",
    "\n",
    "class DataSource(ABC):\n",
    "    @abstractmethod\n",
    "    def get_data(self):\n",
    "        pass\n",
    "\n",
    "class DatabaseSource(DataSource):\n",
    "    def get_data(self):\n",
    "        # Fetch data from database\n",
    "        pass\n",
    "\n",
    "class APISource(DataSource):\n",
    "    def get_data(self):\n",
    "        # Fetch data from API\n",
    "        pass\n",
    "\n",
    "class DataSourceFactory:\n",
    "    @staticmethod\n",
    "    def get_data_source(source_type): # This is similar to polymorphism where we are using different objects of different classes but they are of same type\n",
    "        if source_type == 'database': # But factory pattern is used to create objects of different classes at the runtime based on the input provided. \n",
    "            return DatabaseSource()\n",
    "        elif source_type == 'api':\n",
    "            return APISource() \n",
    "\n",
    "data_source = DataSourceFactory.get_data_source('database')\n",
    "data_source.get_data()\n"
   ]
  },
  {
   "cell_type": "code",
   "execution_count": 33,
   "metadata": {},
   "outputs": [],
   "source": [
    "# Repository Pattern: Abstracts the data layer, making the data access logic agnostic to the rest of the application."
   ]
  },
  {
   "cell_type": "code",
   "execution_count": 35,
   "metadata": {},
   "outputs": [],
   "source": [
    "class DatabaseConnection:\n",
    "    def query(self, query):\n",
    "        # Execute the query\n",
    "        pass\n",
    "\n",
    "class UserRepository:\n",
    "    def __init__(self, database):\n",
    "        self.database = database\n",
    "\n",
    "    def get_user(self, user_id):\n",
    "        # Query database to get user\n",
    "        return self.database.query(f\"SELECT * FROM users WHERE id = {user_id}\")\n",
    "\n",
    "database = DatabaseConnection() # This is an example of object composition where we are using object of another class to use its methods\n",
    "user_repository = UserRepository(database)\n",
    "user = user_repository.get_user(1)\n"
   ]
  },
  {
   "cell_type": "code",
   "execution_count": 39,
   "metadata": {},
   "outputs": [],
   "source": [
    "# Dependency Injection\n",
    "\n",
    "# Dependency Injection (DI) is a design pattern used to implement IoC (Inversion of Control). It allows a class to receive its dependencies from an external \n",
    "# source rather (objects and methods of another class) than creating them itself."
   ]
  },
  {
   "cell_type": "code",
   "execution_count": 45,
   "metadata": {},
   "outputs": [],
   "source": [
    "class DataLoader:\n",
    "    def __init__(self, data_source):\n",
    "        self.data_source = data_source # This is an example of dependency injection where we are injecting the dependency of anoter class object\n",
    "\n",
    "    def load_data(self):\n",
    "        return self.data_source.get_data()\n",
    "\n",
    "class DatabaseSource:\n",
    "    def get_data(self):\n",
    "        # Fetch data from database\n",
    "        pass\n",
    "\n",
    "database_source = DatabaseSource()\n",
    "data_loader = DataLoader(database_source) # we are injecting the dependency of another class object during the object creation.\n",
    "data_loader.load_data()"
   ]
  },
  {
   "cell_type": "code",
   "execution_count": 42,
   "metadata": {},
   "outputs": [],
   "source": [
    "# Object Composition\n",
    "\n",
    "# Object Composition is a way to combine objects or classes into more complex ones. It is used to model \"has-a\" relationships."
   ]
  },
  {
   "cell_type": "code",
   "execution_count": 47,
   "metadata": {},
   "outputs": [
    {
     "name": "stdout",
     "output_type": "stream",
     "text": [
      "Engine started\n"
     ]
    }
   ],
   "source": [
    "class Engine:\n",
    "    def start(self):\n",
    "        print(\"Engine started\")\n",
    "\n",
    "class Car:\n",
    "    def __init__(self):\n",
    "        self.engine = Engine() # This is an example of object composition where we are using object of another class to use its methods\n",
    "\n",
    "    def start(self):\n",
    "        self.engine.start()\n",
    "\n",
    "car = Car()  # Notice here we are not directly using the Engine class object outside but it is used inside the Car class\n",
    "car.start()  # Output: Engine started "
   ]
  },
  {
   "cell_type": "code",
   "execution_count": 49,
   "metadata": {},
   "outputs": [],
   "source": [
    "# Data Transfer Objects (DTOs)\n",
    "\n",
    "# Data Transfer Objects (DTOs) are simple objects that are used to transfer data between layers or components of an application."
   ]
  },
  {
   "cell_type": "code",
   "execution_count": 50,
   "metadata": {},
   "outputs": [
    {
     "name": "stdout",
     "output_type": "stream",
     "text": [
      "Alice\n"
     ]
    }
   ],
   "source": [
    "class UserDTO:\n",
    "    def __init__(self, user_id, name, email):\n",
    "        self.user_id = user_id\n",
    "        self.name = name\n",
    "        self.email = email\n",
    "\n",
    "# Usage\n",
    "user_dto = UserDTO(1, \"Alice\", \"alice@example.com\")\n",
    "print(user_dto.name)  # Output: Alice\n"
   ]
  }
 ],
 "metadata": {
  "kernelspec": {
   "display_name": "Python 3",
   "language": "python",
   "name": "python3"
  },
  "language_info": {
   "codemirror_mode": {
    "name": "ipython",
    "version": 3
   },
   "file_extension": ".py",
   "mimetype": "text/x-python",
   "name": "python",
   "nbconvert_exporter": "python",
   "pygments_lexer": "ipython3",
   "version": "3.9.6"
  }
 },
 "nbformat": 4,
 "nbformat_minor": 2
}
