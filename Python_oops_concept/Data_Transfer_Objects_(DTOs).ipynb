{
 "cells": [
  {
   "cell_type": "code",
   "execution_count": 1,
   "metadata": {},
   "outputs": [],
   "source": [
    "# Definition: Data Transfer Objects (DTOs) are simple objects that are used to transfer data between layers or components of an application. They are primarily used to encapsulate data and ensure that it is passed around without including business logic.\n",
    "\n",
    "# Valid Cases for Data Transfer Objects\n",
    "# 1. Separation of Concerns\n",
    "\n",
    "# Scenario: Separating data representation from business logic."
   ]
  },
  {
   "cell_type": "code",
   "execution_count": 11,
   "metadata": {},
   "outputs": [],
   "source": [
    "# Valid Cases:\n",
    "\n",
    "# Promotes separation of concerns by separating data representation from business logic.\n",
    "# Simplifies data transfer between layers or components.\n",
    "# Improves performance by bundling multiple pieces of data and reducing remote calls.\n",
    "\n",
    "# Invalid Cases:\n",
    "\n",
    "# Adds unnecessary overhead for simple data transfers.\n",
    "# Not suitable when data and business logic are tightly coupled.\n",
    "# Might introduce performance overhead in performance-critical applications."
   ]
  },
  {
   "cell_type": "code",
   "execution_count": 21,
   "metadata": {},
   "outputs": [],
   "source": [
    "# Without DTO:\n",
    "\n",
    "# Multiple Remote Calls: Separate calls to fetch user details and email address.\n",
    "# Example: get_user_details(user_id) and get_user_email(user_id) increase the number of remote calls.\n",
    "# With DTO:\n",
    "\n",
    "# Single Remote Call: One call to fetch all necessary user details encapsulated in a UserDTO.\n",
    "# Example: get_user_dto(user_id) reduces the number of remote calls by bundling all user data in one call."
   ]
  },
  {
   "cell_type": "code",
   "execution_count": 3,
   "metadata": {},
   "outputs": [
    {
     "name": "stdout",
     "output_type": "stream",
     "text": [
      "Alice\n"
     ]
    }
   ],
   "source": [
    "class UserDTO:\n",
    "    def __init__(self, user_id, name, email):\n",
    "        self.user_id = user_id\n",
    "        self.name = name\n",
    "        self.email = email\n",
    "\n",
    "# Usage\n",
    "user_dto = UserDTO(1, \"Alice\", \"alice@example.com\")\n",
    "print(user_dto.name)  # Output: Alice\n",
    "\n",
    "# Explanation: The UserDTO class is used to transfer user data without including any business logic. This ensures a clear separation of concerns."
   ]
  },
  {
   "cell_type": "code",
   "execution_count": 4,
   "metadata": {},
   "outputs": [],
   "source": [
    "# Simplifying Data Transfer\n",
    "\n",
    "# Scenario: Simplifying the process of transferring data between layers or components."
   ]
  },
  {
   "cell_type": "code",
   "execution_count": 6,
   "metadata": {},
   "outputs": [
    {
     "name": "stdout",
     "output_type": "stream",
     "text": [
      "alice@example.com\n"
     ]
    }
   ],
   "source": [
    "class UserDTO:\n",
    "    def __init__(self, user_id, name, email):\n",
    "        self.user_id = user_id\n",
    "        self.name = name\n",
    "        self.email = email\n",
    "\n",
    "class UserService:\n",
    "    def get_user(self, user_id):\n",
    "        # Simulate fetching user data\n",
    "        return UserDTO(user_id, \"Alice\", \"alice@example.com\")\n",
    "\n",
    "# Usage\n",
    "service = UserService()\n",
    "user_dto = service.get_user(1)\n",
    "print(user_dto.email)  # Output: alice@example.com\n",
    "\n",
    "# Explanation: UserDTO simplifies data transfer between the UserService and the client code, making it easier to manage data.\n"
   ]
  },
  {
   "cell_type": "code",
   "execution_count": 7,
   "metadata": {},
   "outputs": [],
   "source": [
    "# Improving Performance\n",
    "\n",
    "# Scenario: Reducing the number of remote calls by bundling data."
   ]
  },
  {
   "cell_type": "code",
   "execution_count": 10,
   "metadata": {},
   "outputs": [
    {
     "name": "stdout",
     "output_type": "stream",
     "text": [
      "123 Main St\n"
     ]
    }
   ],
   "source": [
    "class UserDTO:\n",
    "    def __init__(self, user_id, name, email, address):\n",
    "        self.user_id = user_id\n",
    "        self.name = name\n",
    "        self.email = email\n",
    "        self.address = address\n",
    "\n",
    "class UserService:\n",
    "    def get_user(self, user_id):\n",
    "        # Simulate fetching user data\n",
    "        return UserDTO(user_id, \"Alice\", \"alice@example.com\", \"123 Main St\")\n",
    "\n",
    "# Usage\n",
    "service = UserService()\n",
    "user_dto = service.get_user(1)\n",
    "print(user_dto.address)  # Output: 123 Main St\n",
    "\n",
    "# Explanation: UserDTO can bundle multiple pieces of data, reducing the need for multiple remote calls and improving performance."
   ]
  },
  {
   "cell_type": "code",
   "execution_count": 13,
   "metadata": {},
   "outputs": [],
   "source": [
    "# Using DTO to Reduce Number of Remote Calls\n",
    "# Without DTO (Increasing Number of Remote Calls)\n",
    "\n",
    "# Scenario: A system where the client needs to fetch user details and their email address separately, leading to multiple remote calls."
   ]
  },
  {
   "cell_type": "code",
   "execution_count": 16,
   "metadata": {},
   "outputs": [
    {
     "name": "stdout",
     "output_type": "stream",
     "text": [
      "Fetching details for user 1\n",
      "Fetching email for user 1\n",
      "User Details: {'user_id': 1, 'name': 'Alice'}, Email: alice@example.com\n"
     ]
    }
   ],
   "source": [
    "# Mock function to simulate a remote call to get user details\n",
    "def get_user_details(user_id):\n",
    "    print(f\"Fetching details for user {user_id}\")\n",
    "    return {\"user_id\": user_id, \"name\": \"Alice\"}\n",
    "\n",
    "# Mock function to simulate a remote call to get user email\n",
    "def get_user_email(user_id):\n",
    "    print(f\"Fetching email for user {user_id}\")\n",
    "    return \"alice@example.com\"\n",
    "\n",
    "# Usage without DTO\n",
    "user_details = get_user_details(1)\n",
    "user_email = get_user_email(1)\n",
    "print(f\"User Details: {user_details}, Email: {user_email}\")\n",
    "\n",
    "# Explanation: In this example, we make two remote calls: one to fetch user details and another to fetch the user's email address.\n"
   ]
  },
  {
   "cell_type": "code",
   "execution_count": 17,
   "metadata": {},
   "outputs": [],
   "source": [
    "# With DTO (Reducing Number of Remote Calls)\n",
    "\n",
    "# Scenario: A system where the client can fetch all required user details in a single remote call by using a DTO."
   ]
  },
  {
   "cell_type": "code",
   "execution_count": 20,
   "metadata": {},
   "outputs": [
    {
     "name": "stdout",
     "output_type": "stream",
     "text": [
      "Fetching full details for user 1\n",
      "User Details: {'user_id': 1, 'name': Alice}, Email: alice@example.com \n"
     ]
    }
   ],
   "source": [
    "# DTO class to hold user data\n",
    "class UserDTO:\n",
    "    def __init__(self, user_id, name, email):\n",
    "        self.user_id = user_id\n",
    "        self.name = name\n",
    "        self.email = email\n",
    "\n",
    "# Mock function to simulate a remote call to get user details with email\n",
    "def get_user_dto(user_id):\n",
    "    print(f\"Fetching full details for user {user_id}\")\n",
    "    return UserDTO(user_id, \"Alice\", \"alice@example.com\")  # we are returning the user details in a single call \n",
    "\n",
    "# Usage with DTO\n",
    "user_dto = get_user_dto(1)\n",
    "print(f\"User Details: {{'user_id': {user_dto.user_id}, 'name': {user_dto.name}}}, Email: {user_dto.email} \")\n",
    "\n",
    "# Explanation: In this example, we make a single remote call that fetches all required user details, including the email address, encapsulated in a UserDTO object."
   ]
  },
  {
   "cell_type": "code",
   "execution_count": null,
   "metadata": {},
   "outputs": [],
   "source": []
  }
 ],
 "metadata": {
  "kernelspec": {
   "display_name": "Python 3",
   "language": "python",
   "name": "python3"
  },
  "language_info": {
   "codemirror_mode": {
    "name": "ipython",
    "version": 3
   },
   "file_extension": ".py",
   "mimetype": "text/x-python",
   "name": "python",
   "nbconvert_exporter": "python",
   "pygments_lexer": "ipython3",
   "version": "3.9.6"
  }
 },
 "nbformat": 4,
 "nbformat_minor": 2
}
