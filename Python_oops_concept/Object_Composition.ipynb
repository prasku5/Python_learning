{
 "cells": [
  {
   "cell_type": "code",
   "execution_count": 1,
   "metadata": {},
   "outputs": [],
   "source": [
    "# Object Composition Explained\n",
    "\n",
    "# Definition: Object composition is a design principle that models \"has-a\" relationships by combining objects or classes into more complex ones.\n",
    "# It promotes code reuse and flexibility by allowing complex behaviors to be built from simpler components.\n",
    "\n",
    "# Valid Cases for Object Composition\n",
    "# 1. Reusability\n",
    "\n",
    "# Scenario: Reusing components across multiple classes."
   ]
  },
  {
   "cell_type": "code",
   "execution_count": 24,
   "metadata": {},
   "outputs": [],
   "source": [
    "# Benefits of Composition\n",
    "# Reusability:\n",
    "\n",
    "# Components can be reused across different parts of the application.\n",
    "# Example: An Engine class can be used by both Car and Boat.\n",
    "# Flexibility and Scalability:\n",
    "\n",
    "# New functionalities can be added by composing new objects without modifying existing ones.\n",
    "# Example: Adding a GPS to a Car without changing the Car class itself.\n",
    "# Separation of Concerns:\n",
    "\n",
    "# Different functionalities are separated into distinct classes, promoting cleaner code and easier maintenance.\n",
    "# Example: The Car class can focus on car-specific logic, while the Engine class handles engine-specific logic.\n",
    "# Testability:\n",
    "\n",
    "# Components can be independently tested, which makes unit testing easier and more effective.\n",
    "# Example: Testing the Engine class separately from the Car class."
   ]
  },
  {
   "cell_type": "code",
   "execution_count": 23,
   "metadata": {},
   "outputs": [],
   "source": [
    "# Valid Cases:\n",
    "\n",
    "# Promotes reusability by combining existing components.\n",
    "# Enhances separation of concerns by splitting functionalities into distinct classes.\n",
    "# Offers flexibility and scalability by easily adding new functionalities.\n",
    "\n",
    "# Invalid Cases:\n",
    "\n",
    "# Adds unnecessary overhead for simple classes.\n",
    "# Not suitable for tightly coupled components.\n",
    "# Might introduce overhead in performance-critical applications."
   ]
  },
  {
   "cell_type": "code",
   "execution_count": 2,
   "metadata": {},
   "outputs": [
    {
     "name": "stdout",
     "output_type": "stream",
     "text": [
      "Engine started\n"
     ]
    }
   ],
   "source": [
    "class Engine:\n",
    "    def start(self):\n",
    "        return \"Engine started\"\n",
    "\n",
    "class Car:\n",
    "    def __init__(self, engine):\n",
    "        self.engine = engine\n",
    "\n",
    "    def start(self): # Explanation: The Engine class is reused in the Car class, promoting code reuse.\n",
    "        return self.engine.start()\n",
    "\n",
    "engine = Engine()\n",
    "car = Car(engine)\n",
    "print(car.start())  # Output: Engine started\n",
    "\n",
    "\n"
   ]
  },
  {
   "cell_type": "code",
   "execution_count": 3,
   "metadata": {},
   "outputs": [],
   "source": [
    "# Separation of Concerns\n",
    "\n",
    "# Scenario: Separating different functionalities into distinct classes."
   ]
  },
  {
   "cell_type": "code",
   "execution_count": 5,
   "metadata": {},
   "outputs": [
    {
     "name": "stdout",
     "output_type": "stream",
     "text": [
      "Engine started\n",
      "Playing music\n"
     ]
    }
   ],
   "source": [
    "class Engine:   # This is concern number 1 \n",
    "    def start(self):\n",
    "        return \"Engine started\"\n",
    "\n",
    "class SoundSystem:  # This is concern number 2\n",
    "    def play_music(self):\n",
    "        return \"Playing music\"\n",
    "\n",
    "class Car:\n",
    "    def __init__(self, engine, sound_system):\n",
    "        self.engine = engine\n",
    "        self.sound_system = sound_system\n",
    "\n",
    "    def start(self):                  # Here we have seperated the concerns of engine and sound system.\n",
    "        return self.engine.start()\n",
    "\n",
    "    def play_music(self):\n",
    "        return self.sound_system.play_music()\n",
    "\n",
    "engine = Engine()\n",
    "sound_system = SoundSystem()\n",
    "car = Car(engine, sound_system)\n",
    "print(car.start())  # Output: Engine started\n",
    "print(car.play_music())  # Output: Playing music\n",
    "\n",
    "# Explanation: Different functionalities (engine and sound system) are separated into distinct classes and composed into the Car class."
   ]
  },
  {
   "cell_type": "code",
   "execution_count": 6,
   "metadata": {},
   "outputs": [],
   "source": [
    "# Flexibility and Scalability\n",
    "\n",
    "# Scenario: Adding new functionalities by composing new objects."
   ]
  },
  {
   "cell_type": "code",
   "execution_count": 10,
   "metadata": {},
   "outputs": [
    {
     "name": "stdout",
     "output_type": "stream",
     "text": [
      "Engine started\n",
      "Navigating\n"
     ]
    }
   ],
   "source": [
    "class Engine:\n",
    "    def start(self):\n",
    "        return \"Engine started\"\n",
    "\n",
    "class GPS: # Explanation: A new GPS class is added to the Car class to provide navigation functionality.\n",
    "    def navigate(self):\n",
    "        return \"Navigating\"\n",
    "\n",
    "class Car: # This will not violet single responsibility principle because car is responsible for starting engine and navigating in seperate methods. \n",
    "    def __init__(self, engine, gps): # Explanation: The Car class is flexible and scalable, allowing new functionalities to be added by composing new objects. Ex: GPS added.\n",
    "        self.engine = engine\n",
    "        self.gps = gps\n",
    "\n",
    "    def start(self):\n",
    "        return self.engine.start()\n",
    "\n",
    "    def navigate(self):\n",
    "        return self.gps.navigate()\n",
    "\n",
    "engine = Engine()\n",
    "gps = GPS()\n",
    "car = Car(engine, gps)\n",
    "print(car.start())  # Output: Engine started\n",
    "print(car.navigate())  # Output: Navigating\n"
   ]
  },
  {
   "cell_type": "code",
   "execution_count": 8,
   "metadata": {},
   "outputs": [],
   "source": [
    "# Flexibility and Scalability\n",
    "\n",
    "# Scenario: Adding new functionalities by composing new objects."
   ]
  },
  {
   "cell_type": "code",
   "execution_count": 11,
   "metadata": {},
   "outputs": [],
   "source": [
    "# nvalid Cases for Object Composition\n",
    "# 1. Overhead for Simple Classes\n",
    "\n",
    "# Scenario: Adding unnecessary complexity for simple classes."
   ]
  },
  {
   "cell_type": "code",
   "execution_count": 14,
   "metadata": {},
   "outputs": [
    {
     "name": "stdout",
     "output_type": "stream",
     "text": [
      "Car started\n"
     ]
    }
   ],
   "source": [
    "class SimpleCar:\n",
    "    def start(self):\n",
    "        return \"Car started\"\n",
    "\n",
    "car = SimpleCar()\n",
    "print(car.start())  # Output: Car started\n",
    "\n",
    "# Explanation: Direct implementation is simpler and more efficient for simple classes."
   ]
  },
  {
   "cell_type": "code",
   "execution_count": 15,
   "metadata": {},
   "outputs": [],
   "source": [
    "# Tightly Coupled Components\n",
    "\n",
    "# Scenario: Components that are highly dependent on each other, making composition unnecessary."
   ]
  },
  {
   "cell_type": "code",
   "execution_count": 17,
   "metadata": {},
   "outputs": [
    {
     "name": "stdout",
     "output_type": "stream",
     "text": [
      "Engine started\n"
     ]
    }
   ],
   "source": [
    "class Engine: # This is tightly coupled with car class and is concrete class. Alternative is to use interface or abstract class.\n",
    "    def start(self):\n",
    "        return \"Engine started\"\n",
    "\n",
    "class Car:\n",
    "    def __init__(self):\n",
    "        self.engine = Engine() # Explanation: The Engine class is tightly coupled with the Car class, making composition unnecessary.\n",
    "\n",
    "    def start(self):\n",
    "        return self.engine.start()\n",
    "\n",
    "car = Car()\n",
    "print(car.start())  # Output: Engine started\n"
   ]
  },
  {
   "cell_type": "code",
   "execution_count": 19,
   "metadata": {},
   "outputs": [],
   "source": [
    "# Performance Considerations\n",
    "\n",
    "# Scenario: Performance-critical applications where object composition might introduce overhead."
   ]
  },
  {
   "cell_type": "code",
   "execution_count": 21,
   "metadata": {},
   "outputs": [
    {
     "name": "stdout",
     "output_type": "stream",
     "text": [
      "Engine started\n"
     ]
    }
   ],
   "source": [
    "class Engine:\n",
    "    def start(self):\n",
    "        return \"Engine started\"\n",
    "\n",
    "class Car:\n",
    "    def __init__(self):\n",
    "        self.engine = Engine()\n",
    "\n",
    "    def start(self):\n",
    "        return self.engine.start()\n",
    "\n",
    "# In performance-critical scenarios, creating multiple objects might introduce overhead\n",
    "car = Car()\n",
    "print(car.start())  # Output: Engine started\n",
    "\n",
    "# Explanation: In performance-critical applications, minimizing the creation of multiple objects might be necessary to reduce overhead."
   ]
  },
  {
   "cell_type": "code",
   "execution_count": null,
   "metadata": {},
   "outputs": [],
   "source": []
  }
 ],
 "metadata": {
  "kernelspec": {
   "display_name": "Python 3",
   "language": "python",
   "name": "python3"
  },
  "language_info": {
   "codemirror_mode": {
    "name": "ipython",
    "version": 3
   },
   "file_extension": ".py",
   "mimetype": "text/x-python",
   "name": "python",
   "nbconvert_exporter": "python",
   "pygments_lexer": "ipython3",
   "version": "3.9.6"
  }
 },
 "nbformat": 4,
 "nbformat_minor": 2
}
