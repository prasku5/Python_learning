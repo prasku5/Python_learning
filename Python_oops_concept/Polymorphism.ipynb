{
 "cells": [
  {
   "cell_type": "code",
   "execution_count": 23,
   "metadata": {},
   "outputs": [],
   "source": [
    "# Suppose we have two classes and (Morphism)\n",
    "# Many forms of means same method implementation (mean it can be called) is different in different classes and behave based on object recieved.\n",
    "\n",
    "# Allows objects of different classes to be treated as objects of a common superclass (Morphism)\n",
    "\n",
    "# Morphism means \"forms\" or \"ways of doing something\"."
   ]
  },
  {
   "cell_type": "code",
   "execution_count": 11,
   "metadata": {},
   "outputs": [],
   "source": [
    "# Polymorphism is a powerful concept in object-oriented programming that allows for flexible and reusable code.\n",
    "#  By understanding and applying these concepts, you can design robust software systems that are easier to maintain\n",
    "# and extend.\n",
    "\n",
    "# Here's a recap of the main concepts we've covered related to polymorphism in Python:\n",
    "\n",
    "# Method Overriding\n",
    "# Polymorphism with Inheritance\n",
    "# Abstract Base Classes (ABC)\n",
    "# Operator Overloading\n",
    "# Duck Typing\n",
    "# Polymorphism with Functions and Methods\n",
    "# Interface Segregation Principle (ISP)\n",
    "\n",
    "# These concepts cover the core principles of polymorphism and how they are applied in Python. If you have any\n",
    "# specific questions or need further clarification on any of these topics, feel free to ask!"
   ]
  },
  {
   "cell_type": "code",
   "execution_count": null,
   "metadata": {},
   "outputs": [],
   "source": [
    "# Polymorphism\n",
    "# Polymorphism means \"many shapes\" and it allows objects of different classes to be treated as objects of a common \n",
    "# superclass. The key idea is that different classes can be used interchangeably if they implement the same interface\n",
    "# or inherit from the same base class.\n",
    "\n",
    "# 1. Method Overriding\n",
    "# Method overriding is a way to achieve polymorphism. It allows a subclass to provide a specific implementation of\n",
    "# a method that is already defined in its superclass."
   ]
  },
  {
   "cell_type": "code",
   "execution_count": 21,
   "metadata": {},
   "outputs": [
    {
     "name": "stdout",
     "output_type": "stream",
     "text": [
      "Bark\n",
      "Meow\n"
     ]
    }
   ],
   "source": [
    "class Animal:\n",
    "    def make_sound(self):\n",
    "        raise NotImplementedError(\"Subclass must implement abstract method\") # Which is similar to abstract method in python\n",
    "\n",
    "class Dog(Animal): # Dog class inherits from Animal class\n",
    "\n",
    "    def make_sound(self): # Overriding the make_sound method which is polymorphism concept \n",
    "                          # since the Dog class is treated as an Animal object\n",
    "        return \"Bark\"\n",
    "\n",
    "class Cat(Animal):\n",
    "    def make_sound(self):\n",
    "        return \"Meow\"\n",
    "\n",
    "def animal_sound(animal: Animal): # Function that takes an Animal object and calls the make_sound method\n",
    "    print(animal.make_sound())\n",
    "\n",
    "dog = Dog()\n",
    "cat = Cat()\n",
    "\n",
    "animal_sound(dog)  # Output: Bark\n",
    "animal_sound(cat)  # Output: Meow\n",
    "\n"
   ]
  },
  {
   "cell_type": "code",
   "execution_count": null,
   "metadata": {},
   "outputs": [],
   "source": [
    "#  Polymorphism with Inheritance\n",
    "#  Polymorphism can also be achieved by using inheritance, where a base class defines a common interface and\n",
    "#  derived classes provide specific implementation"
   ]
  },
  {
   "cell_type": "code",
   "execution_count": 2,
   "metadata": {},
   "outputs": [
    {
     "name": "stdout",
     "output_type": "stream",
     "text": [
      "The area is: 20\n",
      "The area is: 28.26\n"
     ]
    }
   ],
   "source": [
    "class Shape:\n",
    "    def area(self):\n",
    "        raise NotImplementedError(\"Subclass must implement abstract method\")\n",
    "\n",
    "class Rectangle(Shape):\n",
    "    def __init__(self, width, height):\n",
    "        self.width = width\n",
    "        self.height = height\n",
    "\n",
    "    def area(self):\n",
    "        return self.width * self.height\n",
    "\n",
    "class Circle(Shape):\n",
    "    def __init__(self, radius):\n",
    "        self.radius = radius\n",
    "\n",
    "    def area(self):\n",
    "        return 3.14 * self.radius ** 2\n",
    "\n",
    "def print_area(shape: Shape):\n",
    "    print(f\"The area is: {shape.area()}\") # The area method is called on the object passed to the function\n",
    "\n",
    "rectangle = Rectangle(4, 5)\n",
    "circle = Circle(3)\n",
    "\n",
    "print_area(rectangle)  # Output: The area is: 20\n",
    "print_area(circle)     # Output: The area is: 28.26\n"
   ]
  },
  {
   "cell_type": "code",
   "execution_count": 5,
   "metadata": {},
   "outputs": [],
   "source": [
    "# 3. Polymorphism with Functions\n",
    "# Polymorphism can also be seen in functions where different types of objects are passed as arguments,\n",
    "# and the function can handle them differently based on their types."
   ]
  },
  {
   "cell_type": "code",
   "execution_count": 4,
   "metadata": {},
   "outputs": [
    {
     "name": "stdout",
     "output_type": "stream",
     "text": [
      "7\n",
      "Hello, World!\n"
     ]
    }
   ],
   "source": [
    "def add(a, b):\n",
    "    return a + b\n",
    "\n",
    "print(add(3, 4))         # Output: 7 (integers)\n",
    "print(add(\"Hello, \", \"World!\"))  # Output: Hello, World! (strings)\n",
    "\n",
    "# Same function behaves differently based on the type of arguments passed to it. This is an example of polymorphism."
   ]
  },
  {
   "cell_type": "code",
   "execution_count": 6,
   "metadata": {},
   "outputs": [],
   "source": [
    "# 4. Polymorphism with Abstract Base Classes (ABC)\n",
    "\n",
    "# Abstract base classes can be used to define a common interface for a group of related classes,\n",
    "#  ensuring that they implement specific methods."
   ]
  },
  {
   "cell_type": "code",
   "execution_count": 7,
   "metadata": {},
   "outputs": [
    {
     "name": "stdout",
     "output_type": "stream",
     "text": [
      "Car engine started\n",
      "Motorcycle engine started\n"
     ]
    }
   ],
   "source": [
    "from abc import ABC, abstractmethod\n",
    "\n",
    "class Vehicle(ABC):\n",
    "    @abstractmethod\n",
    "    def start_engine(self):\n",
    "        pass\n",
    "\n",
    "class Car(Vehicle):\n",
    "    def start_engine(self):\n",
    "        return \"Car engine started\"\n",
    "\n",
    "class Motorcycle(Vehicle):\n",
    "    def start_engine(self):\n",
    "        return \"Motorcycle engine started\"\n",
    "\n",
    "def start_vehicle(vehicle: Vehicle):\n",
    "    print(vehicle.start_engine())\n",
    "\n",
    "car = Car()\n",
    "motorcycle = Motorcycle()\n",
    "\n",
    "start_vehicle(car)        # Output: Car engine started\n",
    "start_vehicle(motorcycle) # Output: Motorcycle engine started\n"
   ]
  },
  {
   "cell_type": "code",
   "execution_count": 9,
   "metadata": {},
   "outputs": [
    {
     "name": "stdout",
     "output_type": "stream",
     "text": [
      "Vector(6, 8)\n"
     ]
    }
   ],
   "source": [
    "# 5. Polymorphism with Operator Overloading\n",
    "# Operator overloading allows you to define how operators behave for custom objects, enabling polymorphic behavior.\n",
    "\n",
    "class Vector:\n",
    "    def __init__(self, x, y):\n",
    "        self.x = x\n",
    "        self.y = y\n",
    "\n",
    "    def __add__(self, other): # Overloading the + operator to add two Vector objects\n",
    "        return Vector(self.x + other.x, self.y + other.y)\n",
    "\n",
    "    def __str__(self): # Overloading the str() function to return a string representation of the object\n",
    "        return f\"Vector({self.x}, {self.y})\"\n",
    "\n",
    "v1 = Vector(2, 3) # Creating two Vector objects\n",
    "v2 = Vector(4, 5)\n",
    "v3 = v1 + v2 # Adding two Vector objects using the + operator \n",
    "\n",
    "#The __add__ method is called when the + operator is used with two Vector objects.\n",
    "# The __str__ method is called when the str() function is used with a Vector object.\n",
    "\n",
    "print(v3)  # Output: Vector(6, 8)\n"
   ]
  },
  {
   "cell_type": "code",
   "execution_count": null,
   "metadata": {},
   "outputs": [],
   "source": [
    "# Relationship Between the Two Concepts\n",
    "# Method Overriding is a feature of object-oriented programming that allows a subclass to provide a specific \n",
    "# implementation for a method that is already defined in its superclass.\n",
    "    \n",
    "# Polymorphism with Inheritance leverages method overriding to allow the same method call to execute different\n",
    "# behaviors depending on the subclass object it is invoked on."
   ]
  },
  {
   "cell_type": "code",
   "execution_count": 10,
   "metadata": {},
   "outputs": [
    {
     "name": "stdout",
     "output_type": "stream",
     "text": [
      "Bark\n",
      "Meow\n",
      "Bark\n",
      "Meow\n"
     ]
    }
   ],
   "source": [
    "class Animal:\n",
    "    def make_sound(self):\n",
    "        raise NotImplementedError(\"Subclass must implement abstract method\")\n",
    "\n",
    "class Dog(Animal):\n",
    "    def make_sound(self):\n",
    "        return \"Bark\"\n",
    "\n",
    "class Cat(Animal):\n",
    "    def make_sound(self):\n",
    "        return \"Meow\"\n",
    " \n",
    "def animal_sound(animal: Animal): # helper function that takes an Animal object and calls the make_sound method. This is an example of polymorphism with inheritance.\n",
    "    print(animal.make_sound())\n",
    "\n",
    "# Creating instances\n",
    "dog = Dog()\n",
    "cat = Cat()\n",
    "\n",
    "# Method overriding: Subclasses Dog and Cat provide specific implementations for make_sound\n",
    "print(dog.make_sound())  # Output: Bark\n",
    "print(cat.make_sound())  # Output: Meow\n",
    "\n",
    "# Polymorphism with inheritance: Using the common interface to interact with different subclasses\n",
    "animal_sound(dog)  # Output: Bark\n",
    "animal_sound(cat)  # Output: Meow\n"
   ]
  },
  {
   "cell_type": "code",
   "execution_count": 13,
   "metadata": {},
   "outputs": [],
   "source": [
    "# olymorphism is a fundamental concept in object-oriented programming (OOP) that allows objects of different classes to be treated as objects of a common superclass. \n",
    "# It enables a single interface to represent different underlying forms (data types). In simpler terms, polymorphism allows methods to do different things based on the object it is acting upon.\n",
    "\n",
    "# Types of Polymorphism\n",
    "# Compile-time Polymorphism (Static Binding):\n",
    "\n",
    "# Method Overloading: Same method name with different parameters within the same class.\n",
    "\n",
    "# Operator Overloading: Same operator behaves differently with different types of operands.\n",
    "\n",
    "# Run-time Polymorphism (Dynamic Binding):\n",
    "\n",
    "# Method Overriding: A subclass provides a specific implementation of a method that is already defined in its superclass."
   ]
  },
  {
   "cell_type": "code",
   "execution_count": 18,
   "metadata": {},
   "outputs": [
    {
     "name": "stdout",
     "output_type": "stream",
     "text": [
      "Woof!\n",
      "Meow!\n",
      "Moo!\n"
     ]
    }
   ],
   "source": [
    "# Polymorphism using method overriding\n",
    "\n",
    "class Animal:\n",
    "    def sound(self):\n",
    "        raise NotImplementedError(\"Subclasses should implement this!\")\n",
    "\n",
    "class Dog(Animal):\n",
    "    def sound(self):\n",
    "        return \"Woof!\"\n",
    "\n",
    "class Cat(Animal):\n",
    "    def sound(self):\n",
    "        return \"Meow!\"\n",
    "\n",
    "class Cow(Animal):\n",
    "    def sound(self):\n",
    "        return \"Moo!\"\n",
    "\n",
    "def make_animal_sound(animal):\n",
    "    print(animal.sound()) # This method is deciding which sound to make based on the object received\n",
    "\n",
    "# Using polymorphism\n",
    "animals = [Dog(), Cat(), Cow()]\n",
    "\n",
    "for animal in animals:\n",
    "    make_animal_sound(animal)\n"
   ]
  },
  {
   "cell_type": "code",
   "execution_count": 15,
   "metadata": {},
   "outputs": [
    {
     "name": "stdout",
     "output_type": "stream",
     "text": [
      "5\n",
      "15\n",
      "30\n"
     ]
    }
   ],
   "source": [
    "# Polymorphism using method overloading\n",
    "\n",
    "class MathOperations:\n",
    "    def add(self, a, b=0, c=0):\n",
    "        return a + b + c\n",
    "\n",
    "# Usage\n",
    "math_ops = MathOperations()\n",
    "print(math_ops.add(5))         # Output: 5 (only one argument)\n",
    "print(math_ops.add(5, 10))     # Output: 15 (two arguments)\n",
    "print(math_ops.add(5, 10, 15)) # Output: 30 (three arguments)\n"
   ]
  },
  {
   "cell_type": "code",
   "execution_count": 17,
   "metadata": {},
   "outputs": [
    {
     "name": "stdout",
     "output_type": "stream",
     "text": [
      "Vector(6, 8)\n",
      "Vector(-2, -2)\n"
     ]
    }
   ],
   "source": [
    "# Operator Overloading:\n",
    "# Python allows operator overloading, where you can define the behavior of operators for user-defined types by defining special methods.\n",
    "\n",
    "class Vector:\n",
    "    def __init__(self, x, y):\n",
    "        self.x = x\n",
    "        self.y = y\n",
    "\n",
    "    def __add__(self, other):\n",
    "        return Vector(self.x + other.x, self.y + other.y)\n",
    "\n",
    "    def __sub__(self, other):\n",
    "        return Vector(self.x - other.x, self.y - other.y)\n",
    "\n",
    "    def __str__(self):\n",
    "        return f\"Vector({self.x}, {self.y})\"\n",
    "\n",
    "# Usage\n",
    "v1 = Vector(2, 3)\n",
    "v2 = Vector(4, 5)\n",
    "\n",
    "print(v1 + v2)  # Output: Vector(6, 8)\n",
    "print(v1 - v2)  # Output: Vector(-2, -2)\n"
   ]
  }
 ],
 "metadata": {
  "kernelspec": {
   "display_name": "Python 3",
   "language": "python",
   "name": "python3"
  },
  "language_info": {
   "codemirror_mode": {
    "name": "ipython",
    "version": 3
   },
   "file_extension": ".py",
   "mimetype": "text/x-python",
   "name": "python",
   "nbconvert_exporter": "python",
   "pygments_lexer": "ipython3",
   "version": "3.9.6"
  }
 },
 "nbformat": 4,
 "nbformat_minor": 2
}
