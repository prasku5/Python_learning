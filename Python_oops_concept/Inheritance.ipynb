{
 "cells": [
  {
   "cell_type": "code",
   "execution_count": 2,
   "metadata": {},
   "outputs": [],
   "source": [
    "# Inheritance\n",
    "# Inheritance allows a class (called a subclass or derived class) to inherit attributes and methods from another class (called a superclass or base class). This promotes code reusability and establishes a natural hierarchical relationship between classes.\n",
    "\n",
    "# Key Concepts in Inheritance\n",
    "\n",
    "# Base Class (Super Class)\n",
    "# Derived Class (Sub Class)\n",
    "# Single Inheritance\n",
    "# Multiple Inheritance\n",
    "# Hierarchical Inheritance\n",
    "# Multilevel Inheritance\n",
    "# Method Overriding\n",
    "# Using super()\n",
    "# Composition vs. Inheritance\n",
    "# Mixins\n",
    "# Method Resolution Order (MRO)\n",
    "# Diamond Problem can be solved using MRO using c3 linearization algorithm\n",
    "\n",
    "\n",
    "# Difference types of inheritance \n",
    "\n",
    "# Single Inheritance: One subclass inherits from one parent class.\n",
    "# Multiple Inheritance: One subclass inherits from multiple parent classes.\n",
    "# Multilevel Inheritance: A subclass inherits from another subclass.\n",
    "# Hierarchical Inheritance: Multiple subclasses inherit from a single parent class.\n",
    "# Hybrid Inheritance: Combination of different inheritance types.\n",
    "# Super() Function: Calling parent class methods.\n",
    "# Method Overriding: Redefining parent class methods in subclasses.\n",
    "# Encapsulation: Protecting object states using access modifiers.\n",
    "# Abstract Classes: Defining common interfaces for subclasses.\n",
    "\n"
   ]
  },
  {
   "cell_type": "code",
   "execution_count": 3,
   "metadata": {},
   "outputs": [],
   "source": [
    "# Base Class (Super Class) and Derived Class (Sub Class)\n",
    "\n",
    "# A base class defines common attributes and methods that can be shared by derived classes."
   ]
  },
  {
   "cell_type": "code",
   "execution_count": 4,
   "metadata": {},
   "outputs": [
    {
     "name": "stdout",
     "output_type": "stream",
     "text": [
      "Buddy says Bark\n",
      "Whiskers says Meow\n"
     ]
    }
   ],
   "source": [
    "class Animal:\n",
    "    def __init__(self, name):\n",
    "        self.name = name\n",
    "\n",
    "    def make_sound(self):\n",
    "        raise NotImplementedError(\"Subclass must implement abstract method\")\n",
    "\n",
    "class Dog(Animal):\n",
    "    def make_sound(self): # Subclass overrides the method and provides its own implementation\n",
    "        return \"Bark\"\n",
    "\n",
    "class Cat(Animal):\n",
    "    def make_sound(self): # Subclass overrides the method and provides its own implementation\n",
    "        return \"Meow\"\n",
    "\n",
    "# Usage\n",
    "dog = Dog(\"Buddy\")\n",
    "cat = Cat(\"Whiskers\")\n",
    "\n",
    "print(f\"{dog.name} says {dog.make_sound()}\")  # Output: Buddy says Bark\n",
    "print(f\"{cat.name} says {cat.make_sound()}\")  # Output: Whiskers says Meow\n"
   ]
  },
  {
   "cell_type": "code",
   "execution_count": 5,
   "metadata": {},
   "outputs": [],
   "source": [
    "# 2. Single Inheritance\n",
    "\n",
    "# A subclass inherits from a single superclass."
   ]
  },
  {
   "cell_type": "code",
   "execution_count": 6,
   "metadata": {},
   "outputs": [
    {
     "name": "stdout",
     "output_type": "stream",
     "text": [
      "Parent Name: John\n",
      "Child Age: 12\n"
     ]
    }
   ],
   "source": [
    "# Code Reuse:\n",
    "\n",
    "# Parent Class: The Parent class defines a name attribute and a display method that prints the parent's name.\n",
    "# Child Class: The Child class inherits from the Parent class, meaning it automatically has access to the name attribute \n",
    "# and the display method from the Parent class. This allows for code reuse without duplicating the name attribute or the display method in the Child class.\n",
    "\n",
    "class Parent:\n",
    "    def __init__(self, name):\n",
    "        self.name = name\n",
    "\n",
    "    def display(self):\n",
    "        print(f\"Parent Name: {self.name}\")\n",
    "\n",
    "class Child(Parent): # Child class inherits from the Parent class\n",
    "    def __init__(self, name, age):\n",
    "        \n",
    "        # The Child class's __init__ method explicitly calls the Parent class's __init__ method using super().__init__(name). \n",
    "        # This initializes the name attribute in the parent class part of the Child instance.\n",
    "\n",
    "        super().__init__(name) # Call the superclass __init__() method and store the name attribute in the object of the Child class\n",
    "        self.age = age\n",
    "\n",
    "# Extending Functionality:\n",
    "\n",
    "# Additional Attributes: The Child class adds an age attribute, which is specific to instances of the Child class.\n",
    "# Method Overriding: The Child class overrides the display method to first call the Parent class's display method (using super().display()) to print the parent's name and then adds additional functionality to print the child's age.\n",
    "\n",
    "    def display(self):\n",
    "        super().display() # Call the superclass display() method to display the parent's name attribute\n",
    "        print(f\"Child Age: {self.age}\")\n",
    "\n",
    "# Usage\n",
    "child = Child(\"John\", 12)\n",
    "child.display()\n"
   ]
  },
  {
   "cell_type": "code",
   "execution_count": 7,
   "metadata": {},
   "outputs": [],
   "source": [
    "# Key Points:\n",
    "# Inheritance and Attribute Initialization:\n",
    "\n",
    "# Parent Class (Parent): This class has an attribute name and a method display.\n",
    "# Child Class (Child): This class inherits from the Parent class and adds its own attribute age. It also overrides the display method to add more functionality.\n",
    "# Initialization of Attributes:\n",
    "\n",
    "# When you create an instance of the Child class, it calls its own __init__ method.\n",
    "# The Child class's __init__ method explicitly calls the Parent class's __init__ method using super().__init__(name). This initializes the name attribute in the parent class part of the Child instance.\n",
    "# The Child class then initializes its own age attribute.\n",
    "# Attribute Storage:\n",
    "\n",
    "# The name attribute is stored in the part of the object managed by the Parent class.\n",
    "# The age attribute is stored in the part of the object managed by the Child class.\n",
    "# Method Overriding and Access:\n",
    "\n",
    "# The Child class has access to the name attribute and the display method from the Parent class because it inherits from Parent.\n",
    "# The Parent class, however, does not know about the age attribute because it is defined exclusively in the Child class.\n",
    "# Added Functionality:\n",
    "\n",
    "# The Child class adds functionality by introducing the age attribute and extending the display method to print the age in addition to the name."
   ]
  },
  {
   "cell_type": "code",
   "execution_count": null,
   "metadata": {},
   "outputs": [],
   "source": [
    "class Parent:\n",
    "    def __init__(self, name):\n",
    "        self.name = name  # Parent class handles 'name' attribute\n",
    "\n",
    "    def display(self):\n",
    "        print(f\"Parent Name: {self.name}\")  # Parent's display method\n",
    "\n",
    "class Child(Parent):  # Child class inherits from Parent class\n",
    "    def __init__(self, name, age):\n",
    "        super().__init__(name)  # Initialize 'name' attribute via Parent's __init__\n",
    "        self.age = age  # Child class handles 'age' attribute\n",
    "\n",
    "    def display(self):\n",
    "        super().display()  # Call Parent's display method to show name\n",
    "        print(f\"Child Age: {self.age}\")  # Add functionality to show age\n",
    "\n",
    "# Usage\n",
    "child = Child(\"John\", 12)  # Create instance of Child class\n",
    "child.display()  # Call display method of Child class\n"
   ]
  },
  {
   "cell_type": "code",
   "execution_count": 8,
   "metadata": {},
   "outputs": [
    {
     "name": "stdout",
     "output_type": "stream",
     "text": [
      "{'name': 'John', 'age': 12}\n",
      "Parent Name: John\n",
      "Child Age: 12\n"
     ]
    }
   ],
   "source": [
    "class Parent:\n",
    "    def __init__(self, name):\n",
    "        self.name = name  # Parent class handles 'name' attribute\n",
    "\n",
    "    def display(self):\n",
    "        print(f\"Parent Name: {self.name}\")  # Parent's display method\n",
    "\n",
    "class Child(Parent):  # Child class inherits from Parent class\n",
    "    def __init__(self, name, age):\n",
    "        super().__init__(name)  # Initialize 'name' attribute via Parent's __init__\n",
    "        self.age = age  # Child class handles 'age' attribute\n",
    "\n",
    "    def display(self):\n",
    "        super().display()  # Call Parent's display method to show name\n",
    "        print(f\"Child Age: {self.age}\")  # Add functionality to show age\n",
    "\n",
    "# Usage\n",
    "child = Child(\"John\", 12)  # Create instance of Child class\n",
    "print(child.__dict__)  # View all attributes of the child instance\n",
    "child.display()  # Call display method of Child class\n",
    "\n",
    "# The Child instance child contains both name and age attributes.\n",
    "# The name attribute is initialized through the Parent class's __init__ method, but it is stored within the same Child instance.\n",
    "# The age attribute is initialized in the Child class's __init__ method and is also stored within the same Child instance.\n",
    "\n",
    "\n",
    "# Single Object: There is only one object (child), which contains both the name and age attributes.\n",
    "# Shared Attributes: The name attribute, although initialized by the Parent class's __init__ method, is part of the Child instance.\n",
    "# Inheritance: Inheritance allows the Child class to reuse the Parent class's attributes and methods, but they all belong to the same object instance.\n"
   ]
  },
  {
   "cell_type": "code",
   "execution_count": 9,
   "metadata": {},
   "outputs": [],
   "source": [
    "# Multiple Inheritance or Multi class Inheritance\n",
    "\n",
    "# A subclass inherits from more than one superclass."
   ]
  },
  {
   "cell_type": "code",
   "execution_count": 11,
   "metadata": {},
   "outputs": [
    {
     "name": "stdout",
     "output_type": "stream",
     "text": [
      "Mother: Mary\n",
      "Father: John\n",
      "Child: Alice\n"
     ]
    }
   ],
   "source": [
    "class Mother:\n",
    "    def __init__(self, mother_name):\n",
    "        self.mother_name = mother_name\n",
    "\n",
    "class Father:\n",
    "    def __init__(self, father_name):\n",
    "        self.father_name = father_name\n",
    "\n",
    "class Child(Mother, Father): # Child class inherits from both Mother and Father classes which is an example of multiple inheritance\n",
    "    def __init__(self, mother_name, father_name, child_name):\n",
    "        Mother.__init__(self, mother_name) # Using the mother_name attribute from the Mother class\n",
    "        Father.__init__(self, father_name) # Using the father_name attribute from the Father class\n",
    "        self.child_name = child_name # Using the child_name attribute from the Child class\n",
    "\n",
    "    def display(self):\n",
    "        print(f\"Mother: {self.mother_name}\") # This is the mother_name attribute from the Mother class which is again part of the Child class\n",
    "        print(f\"Father: {self.father_name}\") # This is the father_name attribute from the Mother class which is again part of the Child class\n",
    "        print(f\"Child: {self.child_name}\")   # This is the child_name attribute from the Child class\n",
    "\n",
    "# Usage\n",
    "child = Child(\"Mary\", \"John\", \"Alice\")\n",
    "child.display()"
   ]
  },
  {
   "cell_type": "code",
   "execution_count": 12,
   "metadata": {},
   "outputs": [],
   "source": [
    "# Hierarchical Inheritance\n",
    "\n",
    "# Multiple subclasses inherit from the same superclass"
   ]
  },
  {
   "cell_type": "code",
   "execution_count": 13,
   "metadata": {},
   "outputs": [
    {
     "name": "stdout",
     "output_type": "stream",
     "text": [
      "Car Name: Toyota\n",
      "Bike Name: Honda\n"
     ]
    }
   ],
   "source": [
    "class Vehicle: # This is heirarchical which is top level class\n",
    "    def __init__(self, name):\n",
    "        self.name = name\n",
    "\n",
    "class Car(Vehicle): # This is the first child class which is inheriting from the Vehicle class\n",
    "    def display(self):\n",
    "        print(f\"Car Name: {self.name}\") # This is the name attribute from the parent class using child class method\n",
    "\n",
    "class Bike(Vehicle): # This is the second child class which is inheriting from the Vehicle class\n",
    "    def display(self):\n",
    "        print(f\"Bike Name: {self.name}\")  # This is the name attribute from the parent class using child class method\n",
    "\n",
    "# Usage\n",
    "car = Car(\"Toyota\")\n",
    "bike = Bike(\"Honda\")\n",
    "\n",
    "car.display()  # Output: Car Name: Toyota\n",
    "bike.display()  # Output: Bike Name: Honda\n"
   ]
  },
  {
   "cell_type": "code",
   "execution_count": 14,
   "metadata": {},
   "outputs": [],
   "source": [
    "# Multilevel Inheritance\n",
    "\n",
    "# A subclass inherits from another subclass, creating a chain of inheritance."
   ]
  },
  {
   "cell_type": "code",
   "execution_count": 17,
   "metadata": {},
   "outputs": [
    {
     "name": "stdout",
     "output_type": "stream",
     "text": [
      "Grandparent: George\n",
      "Parent: Michael\n",
      "Child: Sophie\n"
     ]
    }
   ],
   "source": [
    "class Grandparent:\n",
    "    def __init__(self, grandparent_name):\n",
    "        self.grandparent_name = grandparent_name\n",
    "\n",
    "class Parent(Grandparent): # This is subclass of Grandparent class\n",
    "    def __init__(self, grandparent_name, parent_name):\n",
    "        super().__init__(grandparent_name) # Using the grandparent_name attribute from the Grandparent class\n",
    "        self.parent_name = parent_name # Using the parent_name attribute from the Parent class\n",
    "\n",
    "class Child(Parent): # This is subclass of another subclass Parent class\n",
    "    def __init__(self, grandparent_name, parent_name, child_name):\n",
    "        super().__init__(grandparent_name, parent_name) # Using the grandparent_name and parent_name attributes from the Parent class\n",
    "        self.child_name = child_name\n",
    "\n",
    "    def display(self):\n",
    "        print(f\"Grandparent: {self.grandparent_name}\")\n",
    "        print(f\"Parent: {self.parent_name}\")\n",
    "        print(f\"Child: {self.child_name}\")\n",
    "\n",
    "# Usage\n",
    "child = Child(\"George\", \"Michael\", \"Sophie\")\n",
    "child.display()\n"
   ]
  },
  {
   "cell_type": "code",
   "execution_count": null,
   "metadata": {},
   "outputs": [],
   "source": [
    "# Using super()\n",
    "\n",
    "# The super() function is used to call methods from the superclass in the subclass, allowing you to extend or modify the inherited behavior."
   ]
  },
  {
   "cell_type": "code",
   "execution_count": 19,
   "metadata": {},
   "outputs": [
    {
     "name": "stdout",
     "output_type": "stream",
     "text": [
      "Hello, I am John. I am a child.\n"
     ]
    }
   ],
   "source": [
    "class Parent:\n",
    "    def __init__(self, name):\n",
    "        self.name = name\n",
    "\n",
    "    def greet(self):\n",
    "        return f\"Hello, I am {self.name}.\"\n",
    "\n",
    "class Child(Parent):\n",
    "    def greet(self):\n",
    "        parent_greeting = super().greet() # Call the greet method of the Parent class using super() constructor from the Child class\n",
    "        return f\"{parent_greeting} I am a child.\"\n",
    "\n",
    "# Usage\n",
    "child = Child(\"John\")\n",
    "print(child.greet())  # Output: Hello, I am John. I am a child.\n"
   ]
  },
  {
   "cell_type": "code",
   "execution_count": 20,
   "metadata": {},
   "outputs": [],
   "source": [
    "# Composition vs. Inheritance\n",
    "\n",
    "# Composition: Instead of inheriting from a class, one class contains an instance of another class. It is used to model \"has-a\" relationships.\n",
    "\n",
    "# Inheritance: Used to model \"is-a\" relationships.\n",
    "\n",
    "# Example of Composition"
   ]
  },
  {
   "cell_type": "code",
   "execution_count": 21,
   "metadata": {},
   "outputs": [
    {
     "name": "stdout",
     "output_type": "stream",
     "text": [
      "Engine started\n"
     ]
    }
   ],
   "source": [
    "class Engine:\n",
    "    def start(self):\n",
    "        print(\"Engine started\")\n",
    "\n",
    "class Car:\n",
    "    def __init__(self):\n",
    "        self.engine = Engine()\n",
    "\n",
    "    def start(self):\n",
    "        self.engine.start()\n",
    "\n",
    "# Usage\n",
    "car = Car()\n",
    "car.start()  # Output: Engine started\n"
   ]
  },
  {
   "cell_type": "code",
   "execution_count": 22,
   "metadata": {},
   "outputs": [],
   "source": [
    "# Hybrid Inheritance\n",
    "\n",
    "# Definition: A combination of two or more types of inheritance.\n",
    "# Use Case: Combining different inheritance structures.\n",
    "\n",
    "# Below is a example of combination of multiple inheritance and multilevel inheritance"
   ]
  },
  {
   "cell_type": "code",
   "execution_count": 23,
   "metadata": {},
   "outputs": [
    {
     "name": "stdout",
     "output_type": "stream",
     "text": [
      "Base1 Method\n",
      "Base2 Method\n",
      "Derived1 Method\n",
      "Derived2 Method\n"
     ]
    }
   ],
   "source": [
    "class Base1: # This is the first parent class\n",
    "    def method1(self):\n",
    "        print(\"Base1 Method\")\n",
    "\n",
    "class Base2: # This is the second parent class\n",
    "    def method2(self):\n",
    "        print(\"Base2 Method\")\n",
    "\n",
    "class Derived1(Base1, Base2): # This is the child class which is inheriting from both Base1 and Base2 classes which is example of multiple inheritance\n",
    "    def method3(self):\n",
    "        print(\"Derived1 Method\")\n",
    "\n",
    "class Derived2(Derived1): # This is the child class which is inheriting from Derived1 sub class( which inturn inherited from Base1 and Base2)\n",
    "                          # which is example of multilevel inheritance.\n",
    "    def method4(self):\n",
    "        print(\"Derived2 Method\")\n",
    "\n",
    "derived2 = Derived2()\n",
    "derived2.method1()\n",
    "derived2.method2()\n",
    "derived2.method3()\n",
    "derived2.method4()\n"
   ]
  },
  {
   "cell_type": "code",
   "execution_count": null,
   "metadata": {},
   "outputs": [],
   "source": [
    "# Mixins in Python\n",
    "\n",
    "# Definition: Mixins are a way to reuse code across multiple classes. A mixin is a class that provides methods to other classes\n",
    "# but is not intended to stand on its own. Mixins allow you to compose classes in a flexible and modular way.\n",
    "\n",
    "# Using inheritance child class has to inherit all the methods and attributes of the parent class. But using mixins we can inherit only the required methods and attributes\n",
    "# Without using the inheritance hierarchy.\n",
    "\n",
    "# Key Characteristics:\n",
    "\n",
    "# Reuse: Mixins provide a way to reuse common functionality across different classes without using inheritance hierarchies.\n",
    "# Modularity: Mixins are modular and can be mixed into different classes as needed.\n",
    "\n",
    "# Single Responsibility: Mixins typically implement a single piece of functionality.\n",
    "\n",
    "# Example of a Mixin\n",
    "# Here is an example to illustrate how mixins work:"
   ]
  },
  {
   "cell_type": "code",
   "execution_count": 24,
   "metadata": {},
   "outputs": [
    {
     "name": "stdout",
     "output_type": "stream",
     "text": [
      "Opening file: /path/to/file.txt\n",
      "LOG: Processed file: /path/to/file.txt\n",
      "Sending data: Some data\n",
      "LOG: Processed data: Some data\n"
     ]
    }
   ],
   "source": [
    "# Mixins provide a way to reuse code by composing classes with additional functionalities.\n",
    "# Mixins are a flexible alternative to deep inheritance hierarchies, making code more maintainable and scalable.\n",
    "\n",
    "class LoggableMixin:\n",
    "    def log(self, message):\n",
    "        print(f\"LOG: {message}\")\n",
    "\n",
    "class FileHandler:\n",
    "    def open(self, file_path):\n",
    "        print(f\"Opening file: {file_path}\")\n",
    "\n",
    "class NetworkHandler:\n",
    "    def send(self, data):\n",
    "        print(f\"Sending data: {data}\")\n",
    "\n",
    "class FileLogger(FileHandler, LoggableMixin): # This is the child class which is inheriting from both FileHandler and LoggableMixin classes\n",
    "    def process(self, file_path): # This is the method which is using the methods from both the parent classes wihout using inheritance concept \n",
    "        self.open(file_path)\n",
    "        self.log(f\"Processed file: {file_path}\")\n",
    "\n",
    "class NetworkLogger(NetworkHandler, LoggableMixin):  # This is the child class which is inheriting from both NetworkHandler and LoggableMixin classes   \n",
    "    def process(self, data): # This is the method which is using the methods from both the parent classes wihout using inheritance concept \n",
    "        self.send(data)\n",
    "        self.log(f\"Processed data: {data}\")\n",
    "\n",
    "file_logger = FileLogger()\n",
    "file_logger.process(\"/path/to/file.txt\")\n",
    "\n",
    "network_logger = NetworkLogger()\n",
    "network_logger.process(\"Some data\")"
   ]
  },
  {
   "cell_type": "code",
   "execution_count": 25,
   "metadata": {},
   "outputs": [],
   "source": [
    "#  Method Resolution Order (MRO)\n",
    "# The Method Resolution Order (MRO) is the order in which base classes are searched when executing a method. This is especially important in multiple inheritance scenarios."
   ]
  },
  {
   "cell_type": "code",
   "execution_count": 27,
   "metadata": {},
   "outputs": [
    {
     "name": "stdout",
     "output_type": "stream",
     "text": [
      "B.method\n",
      "C.method\n",
      "(<class '__main__.D'>, <class '__main__.B'>, <class '__main__.C'>, <class '__main__.A'>, <class 'object'>)\n",
      "(<class '__main__.E'>, <class '__main__.C'>, <class '__main__.B'>, <class '__main__.A'>, <class 'object'>)\n"
     ]
    }
   ],
   "source": [
    "class A:\n",
    "    def method(self):\n",
    "        print(\"A.method\")\n",
    "\n",
    "class B(A):\n",
    "    def method(self):\n",
    "        print(\"B.method\")\n",
    "\n",
    "class C(A):\n",
    "    def method(self):\n",
    "        print(\"C.method\")\n",
    "\n",
    "class D(B, C):\n",
    "    pass\n",
    "\n",
    "class E(C, B):\n",
    "    pass\n",
    "\n",
    "# Usage\n",
    "d = D()\n",
    "e = E()\n",
    "d.method()  # Output: B.method\n",
    "e.method()  # Output: C.method\n",
    "\n",
    "# The MRO is the order in which base classes are searched when executing a method.\n",
    "# Classes D and E inherit from classes B and C in different orders.\n",
    "\n",
    "\n",
    "print(D.__mro__)  # Output: (<class '__main__.D'>, <class '__main__.B'>, <class '__main__.C'>, <class '__main__.A'>, <class 'object'>)\n",
    "print(E.__mro__)  # Output: (<class '__main__.E'>, <class '__main__.C'>, <class '__main__.B'>, <class '__main__.A'>, <class 'object'>)\n"
   ]
  },
  {
   "cell_type": "code",
   "execution_count": 31,
   "metadata": {},
   "outputs": [],
   "source": [
    "# Diamond Problem\n",
    "# The Diamond Problem occurs in multiple inheritance when two classes inherit from the same base class, and a subclass inherits from both of these classes.\n",
    "# Python uses the C3 linearization algorithm to handle this.\n",
    "\n",
    "# Using MRo we can see the order of the classes in which they are searched for the method execution using C3 linearization algorithm."
   ]
  },
  {
   "cell_type": "code",
   "execution_count": null,
   "metadata": {},
   "outputs": [],
   "source": []
  }
 ],
 "metadata": {
  "kernelspec": {
   "display_name": "Python 3",
   "language": "python",
   "name": "python3"
  },
  "language_info": {
   "codemirror_mode": {
    "name": "ipython",
    "version": 3
   },
   "file_extension": ".py",
   "mimetype": "text/x-python",
   "name": "python",
   "nbconvert_exporter": "python",
   "pygments_lexer": "ipython3",
   "version": "3.9.6"
  }
 },
 "nbformat": 4,
 "nbformat_minor": 2
}
