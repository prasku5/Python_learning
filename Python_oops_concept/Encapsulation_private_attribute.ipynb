{
 "cells": [
  {
   "cell_type": "markdown",
   "metadata": {},
   "source": [
    "### Access Modifiers in Encapsulation: Correct and Incorrect Access\n",
    "\n",
    "#### Public Attributes\n",
    "**Correct Access:**\n",
    "- **Inside the class**: Direct access.\n",
    "- **Inside subclasses**: Direct access.\n",
    "- **Outside the class**: Direct access.\n",
    "\n",
    "**Incorrect Access (Poor Practices):**\n",
    "- Accessing an uninitialized public attribute.\n",
    "- Directly modifying public attributes without proper documentation or control.\n",
    "\n",
    "#### Protected Attributes\n",
    "**Correct Access:**\n",
    "- **Inside the class**: Direct access.\n",
    "- **Inside subclasses**: Direct access.\n",
    "\n",
    "**Incorrect Access:**\n",
    "- **Outside the class**: Direct access is technically possible but considered bad practice.\n",
    "\n",
    "#### Private Attributes\n",
    "**Correct Access:**\n",
    "- **Inside the class**: Direct access using name mangling (e.g., `self.__attribute`).\n",
    "\n",
    "**Incorrect Access:**\n",
    "- **Inside subclasses**: Direct access using name mangling (e.g., `self._ParentClass__attribute`) is possible but breaks encapsulation.\n",
    "- **Outside the class**: Direct access using name mangling (e.g., `instance._ParentClass__attribute`) is possible but should be avoided.\n",
    "\n",
    "### Summary\n",
    "\n",
    "- **Public Attributes**:\n",
    "  - Intended for unrestricted access.\n",
    "  - Poor practices include accessing uninitialized attributes and modifying them without proper control.\n",
    "\n",
    "- **Protected Attributes**:\n",
    "  - Intended for access within the class and subclasses.\n",
    "  - Poor practice includes accessing them directly from outside the class hierarchy.\n",
    "\n",
    "- **Private Attributes**:\n",
    "  - Intended for access only within the class.\n",
    "  - Poor practice includes using name mangling to access them from subclasses or outside the class hierarchy.\n",
    "\n",
    "Encapsulation is a fundamental concept in object-oriented programming (OOP) that ensures that the internal state of an object is hidden from the outside world and can only be accessed or modified through well-defined interfaces. While using private instance variables along with getters and setters is a common way to achieve encapsulation, it's not the only way.\n",
    "\n",
    "1. Encapsulation\n",
    "2. Private, Protected, and Public Attributes\n",
    "3. Getters and Setters\n",
    "4. Property Decorators\n",
    "5. Name Mangling\n",
    "6. Accessing Attributes\n",
    "7. Convention Over Enforcement (python doesnt enforce mistakes if protected members are used publically)\n",
    "8. Inheritance and Protected Attributes\n",
    "\n",
    "\n",
    "#### Summary of Encapsulation Concepts\n",
    "Encapsulation:\n",
    "\n",
    "** Definition: Encapsulation is the bundling of data (attributes) and methods (functions) that operate on the data within a single unit or class, and restricting access to some of the object's components.\n",
    "Access Modifiers:\n",
    "\n",
    "**Public: Attributes and methods that are accessible from outside the class. No leading underscores.\n",
    "**Protected: Attributes and methods intended for internal use within the class and its subclasses. Indicated by a single leading underscore (_).\n",
    "**Private: Attributes and methods that are not intended to be accessed from outside the class. Indicated by double leading underscores (__). Name mangling is applied.\n",
    "Name Mangling:\n",
    "\n",
    "**Python automatically changes the name of private attributes and methods to include the class name, making it harder to access them from outside the class.\n",
    "Getters and Setters:\n",
    "\n",
    "**Methods used to access and modify private attributes.\n",
    "Provide controlled access to the attributes, allowing for validation and encapsulation.\n",
    "Property Decorators:\n",
    "\n",
    "@property: Used to define a method as a property, making it accessible like an attribute.\n",
    "@<property>.setter: Used to define the setter method for a property.\n",
    "@<property>.deleter: Used to define the deleter method for a property (less common).\n",
    "Convention Over Enforcement:\n",
    "\n",
    "**Protected attributes and methods are indicated by a single underscore and are intended for internal use by convention, not enforced by Python.\n",
    "Inheritance and Access Control:\n",
    "\n",
    "**Protected members can be accessed and modified by subclasses.\n",
    "Private members can still be accessed using name mangling but are intended to be hidden.\n",
    "Validation and Computation:\n",
    "\n",
    "Using getters and setters or properties to add validation or computation logic when accessing or modifying attributes."
   ]
  },
  {
   "cell_type": "code",
   "execution_count": 1,
   "metadata": {},
   "outputs": [],
   "source": [
    "#Encapsulation"
   ]
  },
  {
   "cell_type": "code",
   "execution_count": 2,
   "metadata": {},
   "outputs": [],
   "source": [
    "#Private attributes can be accessed using class methods only from the outside of the class.\n",
    "\n",
    "class Capsule:\n",
    "    def __init__(self):\n",
    "        self.__medicine = \"Healing Potion\"  # Private variable\n",
    "\n",
    "    def get_medicine(self):   # exposing the private variable using a public method\n",
    "        return self.__medicine\n",
    "\n",
    "    def set_medicine(self, new_medicine):  # Public method to modify the private variable\n",
    "        self.__medicine = new_medicine\n",
    "\n",
    "# Create a Capsule object\n",
    "capsule = Capsule()"
   ]
  },
  {
   "cell_type": "code",
   "execution_count": 3,
   "metadata": {},
   "outputs": [
    {
     "ename": "AttributeError",
     "evalue": "'Capsule' object has no attribute '__medicine'",
     "output_type": "error",
     "traceback": [
      "\u001b[0;31m---------------------------------------------------------------------------\u001b[0m",
      "\u001b[0;31mAttributeError\u001b[0m                            Traceback (most recent call last)",
      "Cell \u001b[0;32mIn[3], line 2\u001b[0m\n\u001b[1;32m      1\u001b[0m \u001b[38;5;66;03m# Access the private variable directly\u001b[39;00m\n\u001b[0;32m----> 2\u001b[0m \u001b[38;5;28mprint\u001b[39m(\u001b[43mcapsule\u001b[49m\u001b[38;5;241;43m.\u001b[39;49m\u001b[43m__medicine\u001b[49m)  \u001b[38;5;66;03m# Output: AttributeError: 'Capsule' object has no attribute '__medicine'\u001b[39;00m\n",
      "\u001b[0;31mAttributeError\u001b[0m: 'Capsule' object has no attribute '__medicine'"
     ]
    }
   ],
   "source": [
    "\n",
    "# Access the private variable directly\n",
    "print(capsule.__medicine)  # Output: AttributeError: 'Capsule' object has no attribute '__medicine'"
   ]
  },
  {
   "cell_type": "code",
   "execution_count": 5,
   "metadata": {},
   "outputs": [
    {
     "name": "stdout",
     "output_type": "stream",
     "text": [
      "Healing Potion\n"
     ]
    }
   ],
   "source": [
    "# Access the medicine using the public method\n",
    "print(capsule.get_medicine()) # Output: Healing Potion"
   ]
  },
  {
   "cell_type": "code",
   "execution_count": 7,
   "metadata": {},
   "outputs": [
    {
     "name": "stdout",
     "output_type": "stream",
     "text": [
      "Energy Booster\n"
     ]
    }
   ],
   "source": [
    "# Modify the medicine using the public method\n",
    "capsule.set_medicine(\"Energy Booster\")\n",
    "print(capsule.get_medicine())  # Output: Energy Booster"
   ]
  },
  {
   "cell_type": "code",
   "execution_count": 8,
   "metadata": {},
   "outputs": [
    {
     "name": "stdout",
     "output_type": "stream",
     "text": [
      "Energy Booster\n"
     ]
    }
   ],
   "source": [
    "# Access the modified private variable using the name mangling\n",
    "print(capsule._Capsule__medicine) # Output: Energy Booster"
   ]
  },
  {
   "cell_type": "code",
   "execution_count": 4,
   "metadata": {},
   "outputs": [],
   "source": [
    "# Access the private variable from inherited child class\n",
    "\n",
    "class ChildCapsule(Capsule):\n",
    "    def __init__(self):\n",
    "       #super().__init__() # Call the parent class constructor to initialize the private variable\n",
    "       pass\n",
    "    \n",
    "    def get_child_medicine(self):\n",
    "        return self.super().get_medicine() # Access the private variable using the child public method\n",
    "\n",
    "    def get_child_mangling_medicine(self):\n",
    "        return self.super()._Capsule__medicine\n",
    "    \n",
    "child_capsule = ChildCapsule()\n"
   ]
  },
  {
   "cell_type": "code",
   "execution_count": 5,
   "metadata": {},
   "outputs": [
    {
     "ename": "AttributeError",
     "evalue": "'ChildCapsule' object has no attribute 'super'",
     "output_type": "error",
     "traceback": [
      "\u001b[0;31m---------------------------------------------------------------------------\u001b[0m",
      "\u001b[0;31mAttributeError\u001b[0m                            Traceback (most recent call last)",
      "Cell \u001b[0;32mIn[5], line 3\u001b[0m\n\u001b[1;32m      1\u001b[0m \u001b[38;5;66;03m# Accessing the private variable using the child class method since we didnt call the parent constructor\u001b[39;00m\n\u001b[0;32m----> 3\u001b[0m \u001b[38;5;28mprint\u001b[39m(\u001b[43mchild_capsule\u001b[49m\u001b[38;5;241;43m.\u001b[39;49m\u001b[43mget_child_medicine\u001b[49m\u001b[43m(\u001b[49m\u001b[43m)\u001b[49m) \u001b[38;5;66;03m# Output: Energy Booster\u001b[39;00m\n",
      "Cell \u001b[0;32mIn[4], line 9\u001b[0m, in \u001b[0;36mChildCapsule.get_child_medicine\u001b[0;34m(self)\u001b[0m\n\u001b[1;32m      8\u001b[0m \u001b[38;5;28;01mdef\u001b[39;00m \u001b[38;5;21mget_child_medicine\u001b[39m(\u001b[38;5;28mself\u001b[39m):\n\u001b[0;32m----> 9\u001b[0m     \u001b[38;5;28;01mreturn\u001b[39;00m \u001b[38;5;28;43mself\u001b[39;49m\u001b[38;5;241;43m.\u001b[39;49m\u001b[43msuper\u001b[49m()\u001b[38;5;241m.\u001b[39mget_medicine()\n",
      "\u001b[0;31mAttributeError\u001b[0m: 'ChildCapsule' object has no attribute 'super'"
     ]
    }
   ],
   "source": [
    "# Accessing the private variable using the child class method since we didnt call the parent constructor\n",
    "\n",
    "print(child_capsule.get_child_medicine()) # Output: Energy Booster"
   ]
  },
  {
   "cell_type": "code",
   "execution_count": 6,
   "metadata": {},
   "outputs": [
    {
     "ename": "AttributeError",
     "evalue": "'ChildCapsule' object has no attribute 'super'",
     "output_type": "error",
     "traceback": [
      "\u001b[0;31m---------------------------------------------------------------------------\u001b[0m",
      "\u001b[0;31mAttributeError\u001b[0m                            Traceback (most recent call last)",
      "Cell \u001b[0;32mIn[6], line 3\u001b[0m\n\u001b[1;32m      1\u001b[0m \u001b[38;5;66;03m# Accessing the private variable using the name mangling since we didnt call the parent constructor\u001b[39;00m\n\u001b[0;32m----> 3\u001b[0m \u001b[38;5;28mprint\u001b[39m(\u001b[43mchild_capsule\u001b[49m\u001b[38;5;241;43m.\u001b[39;49m\u001b[43mget_child_mangling_medicine\u001b[49m\u001b[43m(\u001b[49m\u001b[43m)\u001b[49m) \u001b[38;5;66;03m# Output: Energy Booster\u001b[39;00m\n",
      "Cell \u001b[0;32mIn[4], line 12\u001b[0m, in \u001b[0;36mChildCapsule.get_child_mangling_medicine\u001b[0;34m(self)\u001b[0m\n\u001b[1;32m     11\u001b[0m \u001b[38;5;28;01mdef\u001b[39;00m \u001b[38;5;21mget_child_mangling_medicine\u001b[39m(\u001b[38;5;28mself\u001b[39m):\n\u001b[0;32m---> 12\u001b[0m     \u001b[38;5;28;01mreturn\u001b[39;00m \u001b[38;5;28;43mself\u001b[39;49m\u001b[38;5;241;43m.\u001b[39;49m\u001b[43msuper\u001b[49m()\u001b[38;5;241m.\u001b[39m_Capsule__medicine\n",
      "\u001b[0;31mAttributeError\u001b[0m: 'ChildCapsule' object has no attribute 'super'"
     ]
    }
   ],
   "source": [
    "# Accessing the private variable using the name mangling since we didnt call the parent constructor\n",
    "\n",
    "print(child_capsule.get_child_mangling_medicine()) # Output: Energy Booster"
   ]
  },
  {
   "cell_type": "code",
   "execution_count": 18,
   "metadata": {},
   "outputs": [],
   "source": [
    "# Private Attributes:\n",
    "\n",
    "# Private attributes are indicated by a double underscore (e.g., __private_member). These attributes are subject\n",
    "# to name mangling, which means they are internally renamed to include the class name, making it harder to access\n",
    "# them outside the class. To properly initialize private attributes in a subclass,\n",
    "# we must call the parent class's __init__ method using super()."
   ]
  },
  {
   "cell_type": "code",
   "execution_count": 7,
   "metadata": {},
   "outputs": [],
   "source": [
    "# Access the private variable using the child class method calling the parent constructor\n",
    "\n",
    "# Access the private variable from inherited child class\n",
    "\n",
    "class ChildCapsule_with_parent_contructor(Capsule):\n",
    "    def __init__(self):\n",
    "       super().__init__() # Call the parent class constructor to initialize the private variable \n",
    "    \n",
    "    def get_child_medicine(self):\n",
    "        return self.get_medicine() # Access the private variable using the child public method\n",
    "\n",
    "    def get_child_mangling_medicine(self): # Access the private variable using the name mangling\n",
    "        return self._Capsule__medicine\n",
    "    \n",
    "child_capsule_with_parent_constructor = ChildCapsule_with_parent_contructor()\n"
   ]
  },
  {
   "cell_type": "code",
   "execution_count": 13,
   "metadata": {},
   "outputs": [
    {
     "name": "stdout",
     "output_type": "stream",
     "text": [
      "Healing Potion\n"
     ]
    }
   ],
   "source": [
    "# Accessing the private variable using the child class method since we didnt call the parent constructor\n",
    "\n",
    "print(child_capsule_with_parent_constructor.get_child_medicine()) "
   ]
  },
  {
   "cell_type": "code",
   "execution_count": 14,
   "metadata": {},
   "outputs": [
    {
     "name": "stdout",
     "output_type": "stream",
     "text": [
      "Healing Potion\n"
     ]
    }
   ],
   "source": [
    "# Accessing the private variable using the child class method since we didnt call the parent constructor\n",
    "\n",
    "print(child_capsule_with_parent_constructor.get_child_mangling_medicine()) # Output: Energy Booster"
   ]
  },
  {
   "cell_type": "code",
   "execution_count": 15,
   "metadata": {},
   "outputs": [
    {
     "name": "stdout",
     "output_type": "stream",
     "text": [
      "Healing Potion\n"
     ]
    }
   ],
   "source": [
    "# Access the medicine using the public method before modification from the child class\n",
    "print(child_capsule_with_parent_constructor.get_medicine()) # Output: Healing Potion"
   ]
  },
  {
   "cell_type": "code",
   "execution_count": 16,
   "metadata": {},
   "outputs": [
    {
     "name": "stdout",
     "output_type": "stream",
     "text": [
      "Energy Potion\n",
      "Energy Potion\n"
     ]
    }
   ],
   "source": [
    "# Modifying the private variable via parent class method and accessing again\n",
    "child_capsule_with_parent_constructor.set_medicine(\"Energy Potion\")\n",
    "print(child_capsule_with_parent_constructor.get_child_medicine())  # Output: Energy Potion\n",
    "print(child_capsule_with_parent_constructor.get_child_mangling_medicine())  # Output: Energy Potion"
   ]
  },
  {
   "cell_type": "code",
   "execution_count": 17,
   "metadata": {},
   "outputs": [
    {
     "name": "stdout",
     "output_type": "stream",
     "text": [
      "Energy Potion\n"
     ]
    }
   ],
   "source": [
    "# Access the medicine using the public method post modification from the child class\n",
    "print(child_capsule_with_parent_constructor.get_medicine()) # Output: Healing Potion"
   ]
  },
  {
   "cell_type": "code",
   "execution_count": 20,
   "metadata": {},
   "outputs": [],
   "source": [
    "# No Getter and Setter Methods\n",
    "\n",
    "# Not using getter and setter methods to access and modify private attributes."
   ]
  },
  {
   "cell_type": "code",
   "execution_count": 21,
   "metadata": {},
   "outputs": [
    {
     "ename": "AttributeError",
     "evalue": "'Person' object has no attribute '__name'",
     "output_type": "error",
     "traceback": [
      "\u001b[0;31m---------------------------------------------------------------------------\u001b[0m",
      "\u001b[0;31mAttributeError\u001b[0m                            Traceback (most recent call last)",
      "Cell \u001b[0;32mIn[21], line 7\u001b[0m\n\u001b[1;32m      4\u001b[0m         \u001b[38;5;28mself\u001b[39m\u001b[38;5;241m.\u001b[39m__age \u001b[38;5;241m=\u001b[39m age\n\u001b[1;32m      6\u001b[0m person \u001b[38;5;241m=\u001b[39m Person(\u001b[38;5;124m\"\u001b[39m\u001b[38;5;124mAlice\u001b[39m\u001b[38;5;124m\"\u001b[39m, \u001b[38;5;241m30\u001b[39m)\n\u001b[0;32m----> 7\u001b[0m \u001b[38;5;28mprint\u001b[39m(\u001b[43mperson\u001b[49m\u001b[38;5;241;43m.\u001b[39;49m\u001b[43m__name\u001b[49m)  \u001b[38;5;66;03m# Incorrect: Direct access to private attribute\u001b[39;00m\n\u001b[1;32m      8\u001b[0m \u001b[38;5;28mprint\u001b[39m(person\u001b[38;5;241m.\u001b[39m__age)   \u001b[38;5;66;03m# Incorrect: Direct access to private attribute\u001b[39;00m\n",
      "\u001b[0;31mAttributeError\u001b[0m: 'Person' object has no attribute '__name'"
     ]
    }
   ],
   "source": [
    "class Person:\n",
    "    def __init__(self, name, age):\n",
    "        self.__name = name\n",
    "        self.__age = age\n",
    "\n",
    "person = Person(\"Alice\", 30)\n",
    "print(person.__name)  # Incorrect: Direct access to private attribute\n",
    "print(person.__age)   # Incorrect: Direct access to private attribute"
   ]
  },
  {
   "cell_type": "code",
   "execution_count": 22,
   "metadata": {},
   "outputs": [],
   "source": [
    "# Incorrect Use of Property Decorators\n",
    "\n",
    "# Using property decorators incorrectly, leading to unexpected behavior."
   ]
  },
  {
   "cell_type": "code",
   "execution_count": 27,
   "metadata": {},
   "outputs": [],
   "source": [
    "class Person:\n",
    "    def __init__(self, name, age):\n",
    "        self.__name = name\n",
    "        self.__age = age\n",
    "\n",
    "    @property\n",
    "    def age(self):\n",
    "        return self.__age\n",
    "\n",
    "    @age.setter\n",
    "    def age(self, value):\n",
    "        if value < 0:\n",
    "            self.__age = 0  # Incorrect: Assigning zero without informing the user\n",
    "        else:\n",
    "            self.__age = value\n",
    "\n",
    "person = Person(\"Alice\", 30)"
   ]
  },
  {
   "cell_type": "code",
   "execution_count": 29,
   "metadata": {},
   "outputs": [
    {
     "name": "stdout",
     "output_type": "stream",
     "text": [
      "30\n"
     ]
    }
   ],
   "source": [
    "print(person.age)"
   ]
  },
  {
   "cell_type": "code",
   "execution_count": 31,
   "metadata": {},
   "outputs": [
    {
     "name": "stdout",
     "output_type": "stream",
     "text": [
      "0\n"
     ]
    }
   ],
   "source": [
    "person.age = -5 # Incorrect: Negative age assigned which hasn't been informed to the user outside of the class\n",
    "print(person.age) # Output: 0"
   ]
  },
  {
   "cell_type": "code",
   "execution_count": 53,
   "metadata": {},
   "outputs": [],
   "source": [
    "# The @property decorator in Python is used to define methods in a class that can be accessed like attributes.\n",
    "#  This decorator allows you to define getter, setter, and deleter methods in a way that makes them appear like\n",
    "#  regular attributes when accessed from outside the class.\n",
    "\n",
    "# What @property Does\n",
    "\n",
    "# Transforms Methods into Readable Attributes: The @property decorator allows you to call a method like an attribute.\n",
    "#  This makes the code more readable and intuitive.\n",
    "\n",
    "# Encapsulation: It provides a way to implement encapsulation by allowing you to define getter and setter methods\n",
    "#  for private attributes without changing the public interface of the class.\n",
    "\n",
    "# Validation and Computed Properties: You can add logic to the getter and setter methods to perform validation or\n",
    "#  compute the value dynamically.\n",
    "\n",
    "# Why It Is Named property\n",
    "# The @property decorator essentially turns a method into a property. A property is an attribute that has methods\n",
    "#  attached to it for getting, setting, or deleting its value. This allows you to control access to the attribute\n",
    "#  in a clean and Pythonic way."
   ]
  },
  {
   "cell_type": "code",
   "execution_count": 54,
   "metadata": {},
   "outputs": [
    {
     "name": "stdout",
     "output_type": "stream",
     "text": [
      "5\n"
     ]
    }
   ],
   "source": [
    "class Circle:\n",
    "    def __init__(self, radius):\n",
    "        self.__radius = radius  # Private attribute\n",
    "\n",
    "    @property\n",
    "    def radius(self):\n",
    "        return self.__radius\n",
    "\n",
    "circle = Circle(5)\n",
    "print(circle.radius)  # Access the radius like an attribute\n"
   ]
  },
  {
   "cell_type": "code",
   "execution_count": 55,
   "metadata": {},
   "outputs": [],
   "source": [
    "# Adding Setter Method\n",
    "# You can also define a setter method using the @property decorator along with\n",
    "# @<property_name>.setter. This allows you to set the value of the property and include validation logic if needed."
   ]
  },
  {
   "cell_type": "code",
   "execution_count": 56,
   "metadata": {},
   "outputs": [
    {
     "name": "stdout",
     "output_type": "stream",
     "text": [
      "5\n",
      "10\n"
     ]
    }
   ],
   "source": [
    "# In this example:\n",
    "\n",
    "# @property makes the radius method behave like an attribute.\n",
    "# @radius.setter defines the setter method for the radius property, allowing you to set the value and perform \n",
    "# validation.\n",
    "\n",
    "class Circle:\n",
    "    def __init__(self, radius):\n",
    "        self.__radius = radius  # Private attribute\n",
    "\n",
    "    @property\n",
    "    def radius(self):\n",
    "        return self.__radius\n",
    "\n",
    "    @radius.setter\n",
    "    def radius(self, value):\n",
    "        if value > 0:\n",
    "            self.__radius = value\n",
    "        else:\n",
    "            raise ValueError(\"Radius must be positive\")\n",
    "\n",
    "circle = Circle(5)\n",
    "print(circle.radius)  # Output: 5\n",
    "circle.radius = 10\n",
    "print(circle.radius)  # Output: 10\n",
    "# circle.radius = -1  # This will raise a ValueError: Radius must be positive\n"
   ]
  },
  {
   "cell_type": "code",
   "execution_count": 59,
   "metadata": {},
   "outputs": [],
   "source": [
    "# Advantages of Using @property\n",
    "# Cleaner Syntax:\n",
    "\n",
    "# With @property, you access and modify attributes using a more natural syntax (like accessing and setting\n",
    "#  attributes directly) rather than calling getter and setter methods.\n",
    "# Encapsulation:\n",
    "\n",
    "# You can change the implementation of the getter and setter methods without changing how the attribute is \n",
    "# accessed from outside the class. This provides a clean way to encapsulate data.\n",
    "\n",
    "# Readability:\n",
    "\n",
    "# Code using properties is easier to read and understand because it avoids explicit method calls for getting \n",
    "# and setting attributes.\n",
    "# Compatibility:\n",
    "\n",
    "# If you initially implement an attribute as a public attribute and later need to add validation or other\n",
    "# logic when accessing or modifying it, you can convert it to a property without changing the interface.c"
   ]
  },
  {
   "cell_type": "code",
   "execution_count": 60,
   "metadata": {},
   "outputs": [],
   "source": [
    "# Using @property and @<property>.setter\n",
    "# Using @property and @<property>.setter allows you to use the same name for both the getter and setter methods, \n",
    "# providing a cleaner and more intuitive interface:"
   ]
  },
  {
   "cell_type": "code",
   "execution_count": 61,
   "metadata": {},
   "outputs": [
    {
     "name": "stdout",
     "output_type": "stream",
     "text": [
      "30\n",
      "35\n"
     ]
    }
   ],
   "source": [
    "class Person:\n",
    "    def __init__(self, name, age):\n",
    "        self.name = name\n",
    "        self._age = age\n",
    "\n",
    "    @property\n",
    "    def age(self):\n",
    "        return self._age\n",
    "\n",
    "    @age.setter\n",
    "    def age(self, value):\n",
    "        if value > 0:\n",
    "            self._age = value\n",
    "        else:\n",
    "            raise ValueError(\"Age must be positive\")\n",
    "\n",
    "person = Person(\"Alice\", 30)\n",
    "print(person.age)  # Output: 30\n",
    "person.age = 35\n",
    "print(person.age)  # Output: 35\n"
   ]
  },
  {
   "cell_type": "code",
   "execution_count": 57,
   "metadata": {},
   "outputs": [
    {
     "name": "stdout",
     "output_type": "stream",
     "text": [
      "Alice\n",
      "Bob\n",
      "30\n",
      "35\n",
      "Deleting age\n"
     ]
    }
   ],
   "source": [
    "# Full Example with Getter, Setter, and Deleter\n",
    "# Here's a complete example that includes getter, setter, and deleter methods for a property:\n",
    "\n",
    "class Person:\n",
    "    def __init__(self, name, age):\n",
    "        self.__name = name\n",
    "        self.__age = age\n",
    "\n",
    "    @property\n",
    "    def name(self):\n",
    "        return self.__name\n",
    "\n",
    "    @name.setter\n",
    "    def name(self, value):\n",
    "        self.__name = value\n",
    "\n",
    "    @property\n",
    "    def age(self):\n",
    "        return self.__age\n",
    "\n",
    "    @age.setter\n",
    "    def age(self, value):\n",
    "        if value > 0:\n",
    "            self.__age = value\n",
    "        else:\n",
    "            raise ValueError(\"Age must be positive\")\n",
    "\n",
    "    @age.deleter\n",
    "    def age(self):\n",
    "        print(\"Deleting age\")\n",
    "        del self.__age\n",
    "\n",
    "person = Person(\"Alice\", 30)\n",
    "print(person.name)  # Output: Alice\n",
    "person.name = \"Bob\"\n",
    "print(person.name)  # Output: Bob\n",
    "\n",
    "print(person.age)  # Output: 30\n",
    "person.age = 35\n",
    "print(person.age)  # Output: 35\n",
    "# person.age = -5  # Raises ValueError: Age must be positive\n",
    "\n",
    "del person.age  # Output: Deleting age\n"
   ]
  },
  {
   "cell_type": "code",
   "execution_count": 58,
   "metadata": {},
   "outputs": [
    {
     "name": "stdout",
     "output_type": "stream",
     "text": [
      "Alice\n",
      "Bob\n",
      "30\n",
      "35\n"
     ]
    }
   ],
   "source": [
    "# Without @property\n",
    "# Here's an example of defining getter and setter methods without using @property:\n",
    "\n",
    "class Person:\n",
    "    def __init__(self, name, age):\n",
    "        self.__name = name\n",
    "        self.__age = age\n",
    "\n",
    "    def get_name(self):\n",
    "        return self.__name\n",
    "\n",
    "    def set_name(self, name):\n",
    "        self.__name = name\n",
    "\n",
    "    def get_age(self):\n",
    "        return self.__age\n",
    "\n",
    "    def set_age(self, age):\n",
    "        if age > 0:\n",
    "            self.__age = age\n",
    "        else:\n",
    "            raise ValueError(\"Age must be positive\")\n",
    "\n",
    "person = Person(\"Alice\", 30)\n",
    "print(person.get_name())  # Output: Alice\n",
    "person.set_name(\"Bob\")\n",
    "print(person.get_name())  # Output: Bob\n",
    "\n",
    "print(person.get_age())  # Output: 30\n",
    "person.set_age(35)\n",
    "print(person.get_age())  # Output: 35\n"
   ]
  },
  {
   "cell_type": "code",
   "execution_count": 38,
   "metadata": {},
   "outputs": [
    {
     "name": "stdout",
     "output_type": "stream",
     "text": [
      "Alice\n",
      "30\n",
      "35\n"
     ]
    }
   ],
   "source": [
    "# Using Property Decorators Properly\n",
    "\n",
    "# Using property decorators to provide controlled access to attributes.\n",
    "\n",
    "class Person:\n",
    "    def __init__(self, name, age):\n",
    "        self.__name = name\n",
    "        self.__age = age\n",
    "\n",
    "    @property\n",
    "    def name(self):\n",
    "        return self.__name\n",
    "\n",
    "    @property\n",
    "    def age(self):\n",
    "        return self.__age\n",
    "\n",
    "    @age.setter\n",
    "    def age(self, value):\n",
    "        if value > 0:\n",
    "            self.__age = value\n",
    "\n",
    "person = Person(\"Alice\", 30)\n",
    "print(person.name)  # Correct: Access through property\n",
    "print(person.age)   # Correct: Access through property\n",
    "person.age = 35\n",
    "print(person.age)   # Correct: Modify through setter\n"
   ]
  },
  {
   "cell_type": "code",
   "execution_count": null,
   "metadata": {},
   "outputs": [],
   "source": [
    "# Validating Input in Setter Methods\n",
    "\n",
    "# Ensuring valid data through setter methods."
   ]
  },
  {
   "cell_type": "code",
   "execution_count": 37,
   "metadata": {},
   "outputs": [
    {
     "name": "stdout",
     "output_type": "stream",
     "text": [
      "30\n",
      "35\n"
     ]
    }
   ],
   "source": [
    "class Person:\n",
    "    def __init__(self, name, age):\n",
    "        self.__name = name\n",
    "        self.__age = age\n",
    "\n",
    "    def get_age(self):\n",
    "        return self.__age\n",
    "\n",
    "    def set_age(self, age):\n",
    "        if age > 0:\n",
    "            self.__age = age\n",
    "        else:\n",
    "            raise ValueError(\"Age must be positive\") # Here we are raising an exception if the age is \n",
    "                                                     # negative and letting the user know\n",
    "\n",
    "person = Person(\"Alice\", 30)\n",
    "print(person.get_age())\n",
    "person.set_age(35)\n",
    "print(person.get_age())"
   ]
  },
  {
   "cell_type": "code",
   "execution_count": null,
   "metadata": {},
   "outputs": [],
   "source": [
    "# Exposing Multiple Private Attributes in same Methods which is not good practice\n",
    "\n",
    "# Exposing private attributes directly in public methods."
   ]
  },
  {
   "cell_type": "code",
   "execution_count": 32,
   "metadata": {},
   "outputs": [],
   "source": [
    "class Person:\n",
    "    def __init__(self, name, age):\n",
    "        self.__name = name\n",
    "        self.__age = age\n",
    "\n",
    "    def get_private_attributes(self):\n",
    "        return self.__name, self.__age  # Incorrect: Exposing private attributes\n",
    "\n",
    "person = Person(\"Alice\", 30)"
   ]
  },
  {
   "cell_type": "code",
   "execution_count": 33,
   "metadata": {},
   "outputs": [
    {
     "name": "stdout",
     "output_type": "stream",
     "text": [
      "('Alice', 30)\n"
     ]
    }
   ],
   "source": [
    "print(person.get_private_attributes())"
   ]
  },
  {
   "cell_type": "code",
   "execution_count": 39,
   "metadata": {},
   "outputs": [],
   "source": [
    "# Using Private Methods for Internal Logic\n",
    "\n",
    "# Keeping helper methods private to encapsulate internal logic."
   ]
  },
  {
   "cell_type": "code",
   "execution_count": 44,
   "metadata": {},
   "outputs": [
    {
     "name": "stdout",
     "output_type": "stream",
     "text": [
      "Robo moves forward.\n",
      "Robo moves backward.\n"
     ]
    }
   ],
   "source": [
    "class Robot:\n",
    "    def __init__(self, name):\n",
    "        self.__name = name\n",
    "\n",
    "    def __move_forward(self):\n",
    "        return f\"{self.__name} moves forward.\"\n",
    "\n",
    "    def __move_backward(self):\n",
    "        return f\"{self.__name} moves backward.\"\n",
    "\n",
    "    def move(self, direction): # this method will call the private methods based on the parameter passed\n",
    "        if direction == \"forward\":\n",
    "            return self.__move_forward()\n",
    "        elif direction == \"backward\":\n",
    "            return self.__move_backward()\n",
    "        else:\n",
    "            return \"Invalid direction\"\n",
    "\n",
    "robot = Robot(\"Robo\")\n",
    "print(robot.move(\"forward\"))   # Correct: Robo moves forward.\n",
    "print(robot.move(\"backward\"))  # Correct: Robo moves backward."
   ]
  },
  {
   "cell_type": "code",
   "execution_count": 45,
   "metadata": {},
   "outputs": [],
   "source": [
    "# Summary\n",
    "# ---------\n",
    "\n",
    "# Incorrect Encapsulation:\n",
    "\n",
    "# Direct access to attributes.\n",
    "# No getter and setter methods.\n",
    "# Public attributes with no restrictions.\n",
    "# Incorrect use of property decorators.\n",
    "# Exposing private attributes in methods.\n",
    "\n",
    "# Correct Encapsulation:\n",
    "\n",
    "# Using getter and setter methods.\n",
    "# Using property decorators properly.\n",
    "# Validating input in setter methods.\n",
    "# Encapsulating complex logic within methods.\n",
    "# Using private methods for internal logic."
   ]
  },
  {
   "cell_type": "code",
   "execution_count": 19,
   "metadata": {},
   "outputs": [],
   "source": [
    "# Why the Difference?\n",
    "# The difference in behavior stems from the way Python handles name mangling for private attributes and \n",
    "# the lack thereof for protected attributes:\n",
    "\n",
    "# Protected Attributes: These attributes are not name-mangled. They follow a convention indicating they \n",
    "# should be accessed within the class or subclass but not from outside. Subclasses inherit them directly \n",
    "# and can access them without any special handling.\n",
    "\n",
    "# Private Attributes: These attributes are name-mangled to prevent accidental access and modification. \n",
    "# To access them in a subclass, you need to ensure that the parent class’s constructor initializes them, \n",
    "# and access them via public methods provided by the parent class."
   ]
  },
  {
   "cell_type": "code",
   "execution_count": 50,
   "metadata": {},
   "outputs": [
    {
     "name": "stdout",
     "output_type": "stream",
     "text": [
      "('Krishna', 30, 'Hyderabad')\n"
     ]
    }
   ],
   "source": [
    "# setting the changes of private attributes and making arguments options by \n",
    "# Assigning default values to the arguments of the setter methods.\n",
    "\n",
    "class Person:\n",
    "    def __init__(self, name, age, city, weight):\n",
    "        self.__name = name  # Private variable\n",
    "        self.__age = age # Private variable\n",
    "        self.city = city # Public variable\n",
    "        self.__weight = weight # Private variable\n",
    "        \n",
    "    def get_person(self): # Public method to access private attributes\n",
    "        return (self.__name, self.__age, self.city)\n",
    "    \n",
    "\n",
    "#  This modified version, the set_person method accepts name, age, city, and weight as optional arguments.\n",
    "#  Each argument has a default value of None. Inside the method, we check if each argument is provided (not None) \n",
    "#  before updating the corresponding attribute.\n",
    "\n",
    "\n",
    "    def set_person(self, name=None, age=None, city=None, weight=None):\n",
    "        # Assign new values only if they are not None\n",
    "        if name is not None:\n",
    "            self.__name = name\n",
    "        if age is not None:\n",
    "            self.__age = age\n",
    "        if city is not None:\n",
    "            self.city = city\n",
    "        if weight is not None:\n",
    "            self.__weight = weight\n",
    "\n",
    "person = Person(\"Alice\", 30, city=\"Hyderabad\", weight=2)\n",
    "\n",
    "# Change only the name\n",
    "person.set_person(name=\"Krishna\")\n",
    "\n",
    "# Verify the changes\n",
    "print(person.get_person())  # Output: ('krishna', 30, 'vijayawada')\n"
   ]
  }
 ],
 "metadata": {
  "kernelspec": {
   "display_name": "Python 3",
   "language": "python",
   "name": "python3"
  },
  "language_info": {
   "codemirror_mode": {
    "name": "ipython",
    "version": 3
   },
   "file_extension": ".py",
   "mimetype": "text/x-python",
   "name": "python",
   "nbconvert_exporter": "python",
   "pygments_lexer": "ipython3",
   "version": "3.9.6"
  }
 },
 "nbformat": 4,
 "nbformat_minor": 2
}
