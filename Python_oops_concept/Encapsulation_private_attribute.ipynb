{
 "cells": [
  {
   "cell_type": "markdown",
   "metadata": {},
   "source": [
    "### Access Modifiers in Encapsulation: Correct and Incorrect Access\n",
    "\n",
    "#### Public Attributes\n",
    "**Correct Access:**\n",
    "- **Inside the class**: Direct access.\n",
    "- **Inside subclasses**: Direct access.\n",
    "- **Outside the class**: Direct access.\n",
    "\n",
    "**Incorrect Access (Poor Practices):**\n",
    "- Accessing an uninitialized public attribute.\n",
    "- Directly modifying public attributes without proper documentation or control.\n",
    "\n",
    "#### Protected Attributes\n",
    "**Correct Access:**\n",
    "- **Inside the class**: Direct access.\n",
    "- **Inside subclasses**: Direct access.\n",
    "\n",
    "**Incorrect Access:**\n",
    "- **Outside the class**: Direct access is technically possible but considered bad practice.\n",
    "\n",
    "#### Private Attributes\n",
    "**Correct Access:**\n",
    "- **Inside the class**: Direct access using name mangling (e.g., `self.__attribute`).\n",
    "\n",
    "**Incorrect Access:**\n",
    "- **Inside subclasses**: Direct access using name mangling (e.g., `self._ParentClass__attribute`) is possible but breaks encapsulation.\n",
    "- **Outside the class**: Direct access using name mangling (e.g., `instance._ParentClass__attribute`) is possible but should be avoided.\n",
    "\n",
    "### Summary\n",
    "\n",
    "- **Public Attributes**:\n",
    "  - Intended for unrestricted access.\n",
    "  - Poor practices include accessing uninitialized attributes and modifying them without proper control.\n",
    "\n",
    "- **Protected Attributes**:\n",
    "  - Intended for access within the class and subclasses.\n",
    "  - Poor practice includes accessing them directly from outside the class hierarchy.\n",
    "\n",
    "- **Private Attributes**:\n",
    "  - Intended for access only within the class.\n",
    "  - Poor practice includes using name mangling to access them from subclasses or outside the class hierarchy."
   ]
  },
  {
   "cell_type": "code",
   "execution_count": 1,
   "metadata": {},
   "outputs": [],
   "source": [
    "#Encapsulation"
   ]
  },
  {
   "cell_type": "code",
   "execution_count": 2,
   "metadata": {},
   "outputs": [],
   "source": [
    "#Private attributes can be accessed using class methods only from the outside of the class.\n",
    "\n",
    "class Capsule:\n",
    "    def __init__(self):\n",
    "        self.__medicine = \"Healing Potion\"  # Private variable\n",
    "\n",
    "    def get_medicine(self):   # exposing the private variable using a public method\n",
    "        return self.__medicine\n",
    "\n",
    "    def set_medicine(self, new_medicine):  # Public method to modify the private variable\n",
    "        self.__medicine = new_medicine\n",
    "\n",
    "# Create a Capsule object\n",
    "capsule = Capsule()"
   ]
  },
  {
   "cell_type": "code",
   "execution_count": 3,
   "metadata": {},
   "outputs": [
    {
     "ename": "AttributeError",
     "evalue": "'Capsule' object has no attribute '__medicine'",
     "output_type": "error",
     "traceback": [
      "\u001b[0;31m---------------------------------------------------------------------------\u001b[0m",
      "\u001b[0;31mAttributeError\u001b[0m                            Traceback (most recent call last)",
      "Cell \u001b[0;32mIn[3], line 2\u001b[0m\n\u001b[1;32m      1\u001b[0m \u001b[38;5;66;03m# Access the private variable directly\u001b[39;00m\n\u001b[0;32m----> 2\u001b[0m \u001b[38;5;28mprint\u001b[39m(\u001b[43mcapsule\u001b[49m\u001b[38;5;241;43m.\u001b[39;49m\u001b[43m__medicine\u001b[49m)  \u001b[38;5;66;03m# Output: AttributeError: 'Capsule' object has no attribute '__medicine'\u001b[39;00m\n",
      "\u001b[0;31mAttributeError\u001b[0m: 'Capsule' object has no attribute '__medicine'"
     ]
    }
   ],
   "source": [
    "\n",
    "# Access the private variable directly\n",
    "print(capsule.__medicine)  # Output: AttributeError: 'Capsule' object has no attribute '__medicine'"
   ]
  },
  {
   "cell_type": "code",
   "execution_count": 5,
   "metadata": {},
   "outputs": [
    {
     "name": "stdout",
     "output_type": "stream",
     "text": [
      "Healing Potion\n"
     ]
    }
   ],
   "source": [
    "# Access the medicine using the public method\n",
    "print(capsule.get_medicine()) # Output: Healing Potion"
   ]
  },
  {
   "cell_type": "code",
   "execution_count": 7,
   "metadata": {},
   "outputs": [
    {
     "name": "stdout",
     "output_type": "stream",
     "text": [
      "Energy Booster\n"
     ]
    }
   ],
   "source": [
    "# Modify the medicine using the public method\n",
    "capsule.set_medicine(\"Energy Booster\")\n",
    "print(capsule.get_medicine())  # Output: Energy Booster"
   ]
  },
  {
   "cell_type": "code",
   "execution_count": 8,
   "metadata": {},
   "outputs": [
    {
     "name": "stdout",
     "output_type": "stream",
     "text": [
      "Energy Booster\n"
     ]
    }
   ],
   "source": [
    "# Access the modified private variable using the name mangling\n",
    "print(capsule._Capsule__medicine) # Output: Energy Booster"
   ]
  },
  {
   "cell_type": "code",
   "execution_count": 9,
   "metadata": {},
   "outputs": [],
   "source": [
    "# Access the private variable from inherited child class\n",
    "\n",
    "class ChildCapsule(Capsule):\n",
    "    def __init__(self):\n",
    "       #super().__init__() # Call the parent class constructor to initialize the private variable\n",
    "       pass\n",
    "    \n",
    "    def get_child_medicine(self):\n",
    "        return self.super().get_medicine() # Access the private variable using the child public method\n",
    "\n",
    "    def get_child_mangling_medicine(self):\n",
    "        return self.super()._Capsule__medicine\n",
    "    \n",
    "child_capsule = ChildCapsule()\n"
   ]
  },
  {
   "cell_type": "code",
   "execution_count": 10,
   "metadata": {},
   "outputs": [
    {
     "ename": "AttributeError",
     "evalue": "'ChildCapsule' object has no attribute 'super'",
     "output_type": "error",
     "traceback": [
      "\u001b[0;31m---------------------------------------------------------------------------\u001b[0m",
      "\u001b[0;31mAttributeError\u001b[0m                            Traceback (most recent call last)",
      "Cell \u001b[0;32mIn[10], line 3\u001b[0m\n\u001b[1;32m      1\u001b[0m \u001b[38;5;66;03m# Accessing the private variable using the child class method since we didnt call the parent constructor\u001b[39;00m\n\u001b[0;32m----> 3\u001b[0m \u001b[38;5;28mprint\u001b[39m(\u001b[43mchild_capsule\u001b[49m\u001b[38;5;241;43m.\u001b[39;49m\u001b[43mget_child_medicine\u001b[49m\u001b[43m(\u001b[49m\u001b[43m)\u001b[49m) \u001b[38;5;66;03m# Output: Energy Booster\u001b[39;00m\n",
      "Cell \u001b[0;32mIn[9], line 9\u001b[0m, in \u001b[0;36mChildCapsule.get_child_medicine\u001b[0;34m(self)\u001b[0m\n\u001b[1;32m      8\u001b[0m \u001b[38;5;28;01mdef\u001b[39;00m \u001b[38;5;21mget_child_medicine\u001b[39m(\u001b[38;5;28mself\u001b[39m):\n\u001b[0;32m----> 9\u001b[0m     \u001b[38;5;28;01mreturn\u001b[39;00m \u001b[38;5;28;43mself\u001b[39;49m\u001b[38;5;241;43m.\u001b[39;49m\u001b[43msuper\u001b[49m()\u001b[38;5;241m.\u001b[39mget_medicine()\n",
      "\u001b[0;31mAttributeError\u001b[0m: 'ChildCapsule' object has no attribute 'super'"
     ]
    }
   ],
   "source": [
    "# Accessing the private variable using the child class method since we didnt call the parent constructor\n",
    "\n",
    "print(child_capsule.get_child_medicine()) # Output: Energy Booster"
   ]
  },
  {
   "cell_type": "code",
   "execution_count": 11,
   "metadata": {},
   "outputs": [
    {
     "ename": "AttributeError",
     "evalue": "'ChildCapsule' object has no attribute 'super'",
     "output_type": "error",
     "traceback": [
      "\u001b[0;31m---------------------------------------------------------------------------\u001b[0m",
      "\u001b[0;31mAttributeError\u001b[0m                            Traceback (most recent call last)",
      "Cell \u001b[0;32mIn[11], line 3\u001b[0m\n\u001b[1;32m      1\u001b[0m \u001b[38;5;66;03m# Accessing the private variable using the name mangling since we didnt call the parent constructor\u001b[39;00m\n\u001b[0;32m----> 3\u001b[0m \u001b[38;5;28mprint\u001b[39m(\u001b[43mchild_capsule\u001b[49m\u001b[38;5;241;43m.\u001b[39;49m\u001b[43mget_child_mangling_medicine\u001b[49m\u001b[43m(\u001b[49m\u001b[43m)\u001b[49m) \u001b[38;5;66;03m# Output: Energy Booster\u001b[39;00m\n",
      "Cell \u001b[0;32mIn[9], line 12\u001b[0m, in \u001b[0;36mChildCapsule.get_child_mangling_medicine\u001b[0;34m(self)\u001b[0m\n\u001b[1;32m     11\u001b[0m \u001b[38;5;28;01mdef\u001b[39;00m \u001b[38;5;21mget_child_mangling_medicine\u001b[39m(\u001b[38;5;28mself\u001b[39m):\n\u001b[0;32m---> 12\u001b[0m     \u001b[38;5;28;01mreturn\u001b[39;00m \u001b[38;5;28;43mself\u001b[39;49m\u001b[38;5;241;43m.\u001b[39;49m\u001b[43msuper\u001b[49m()\u001b[38;5;241m.\u001b[39m_Capsule__medicine\n",
      "\u001b[0;31mAttributeError\u001b[0m: 'ChildCapsule' object has no attribute 'super'"
     ]
    }
   ],
   "source": [
    "# Accessing the private variable using the name mangling since we didnt call the parent constructor\n",
    "\n",
    "print(child_capsule.get_child_mangling_medicine()) # Output: Energy Booster"
   ]
  },
  {
   "cell_type": "code",
   "execution_count": 18,
   "metadata": {},
   "outputs": [],
   "source": [
    "# Private Attributes:\n",
    "\n",
    "# Private attributes are indicated by a double underscore (e.g., __private_member). These attributes are subject\n",
    "# to name mangling, which means they are internally renamed to include the class name, making it harder to access\n",
    "# them outside the class. To properly initialize private attributes in a subclass,\n",
    "# we must call the parent class's __init__ method using super()."
   ]
  },
  {
   "cell_type": "code",
   "execution_count": 12,
   "metadata": {},
   "outputs": [],
   "source": [
    "# Access the private variable using the child class method calling the parent constructor\n",
    "\n",
    "# Access the private variable from inherited child class\n",
    "\n",
    "class ChildCapsule_with_parent_contructor(Capsule):\n",
    "    def __init__(self):\n",
    "       super().__init__() # Call the parent class constructor to initialize the private variable \n",
    "    \n",
    "    def get_child_medicine(self):\n",
    "        return self.get_medicine() # Access the private variable using the child public method\n",
    "\n",
    "    def get_child_mangling_medicine(self):\n",
    "        return self._Capsule__medicine\n",
    "    \n",
    "child_capsule_with_parent_constructor = ChildCapsule_with_parent_contructor()\n"
   ]
  },
  {
   "cell_type": "code",
   "execution_count": 13,
   "metadata": {},
   "outputs": [
    {
     "name": "stdout",
     "output_type": "stream",
     "text": [
      "Healing Potion\n"
     ]
    }
   ],
   "source": [
    "# Accessing the private variable using the child class method since we didnt call the parent constructor\n",
    "\n",
    "print(child_capsule_with_parent_constructor.get_child_medicine()) "
   ]
  },
  {
   "cell_type": "code",
   "execution_count": 14,
   "metadata": {},
   "outputs": [
    {
     "name": "stdout",
     "output_type": "stream",
     "text": [
      "Healing Potion\n"
     ]
    }
   ],
   "source": [
    "# Accessing the private variable using the child class method since we didnt call the parent constructor\n",
    "\n",
    "print(child_capsule_with_parent_constructor.get_child_mangling_medicine()) # Output: Energy Booster"
   ]
  },
  {
   "cell_type": "code",
   "execution_count": 15,
   "metadata": {},
   "outputs": [
    {
     "name": "stdout",
     "output_type": "stream",
     "text": [
      "Healing Potion\n"
     ]
    }
   ],
   "source": [
    "# Access the medicine using the public method before modification from the child class\n",
    "print(child_capsule_with_parent_constructor.get_medicine()) # Output: Healing Potion"
   ]
  },
  {
   "cell_type": "code",
   "execution_count": 16,
   "metadata": {},
   "outputs": [
    {
     "name": "stdout",
     "output_type": "stream",
     "text": [
      "Energy Potion\n",
      "Energy Potion\n"
     ]
    }
   ],
   "source": [
    "# Modifying the private variable via parent class method and accessing again\n",
    "child_capsule_with_parent_constructor.set_medicine(\"Energy Potion\")\n",
    "print(child_capsule_with_parent_constructor.get_child_medicine())  # Output: Energy Potion\n",
    "print(child_capsule_with_parent_constructor.get_child_mangling_medicine())  # Output: Energy Potion"
   ]
  },
  {
   "cell_type": "code",
   "execution_count": 17,
   "metadata": {},
   "outputs": [
    {
     "name": "stdout",
     "output_type": "stream",
     "text": [
      "Energy Potion\n"
     ]
    }
   ],
   "source": [
    "# Access the medicine using the public method post modification from the child class\n",
    "print(child_capsule_with_parent_constructor.get_medicine()) # Output: Healing Potion"
   ]
  },
  {
   "cell_type": "code",
   "execution_count": 19,
   "metadata": {},
   "outputs": [],
   "source": [
    "# Why the Difference?\n",
    "# The difference in behavior stems from the way Python handles name mangling for private attributes and \n",
    "# the lack thereof for protected attributes:\n",
    "\n",
    "# Protected Attributes: These attributes are not name-mangled. They follow a convention indicating they \n",
    "# should be accessed within the class or subclass but not from outside. Subclasses inherit them directly \n",
    "# and can access them without any special handling.\n",
    "\n",
    "# Private Attributes: These attributes are name-mangled to prevent accidental access and modification. \n",
    "# To access them in a subclass, you need to ensure that the parent class’s constructor initializes them, \n",
    "# and access them via public methods provided by the parent class."
   ]
  }
 ],
 "metadata": {
  "kernelspec": {
   "display_name": "Python 3",
   "language": "python",
   "name": "python3"
  },
  "language_info": {
   "codemirror_mode": {
    "name": "ipython",
    "version": 3
   },
   "file_extension": ".py",
   "mimetype": "text/x-python",
   "name": "python",
   "nbconvert_exporter": "python",
   "pygments_lexer": "ipython3",
   "version": "3.9.6"
  }
 },
 "nbformat": 4,
 "nbformat_minor": 2
}
