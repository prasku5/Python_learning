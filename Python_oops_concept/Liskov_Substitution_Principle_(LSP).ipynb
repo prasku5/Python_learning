{
 "cells": [
  {
   "cell_type": "code",
   "execution_count": null,
   "metadata": {},
   "outputs": [],
   "source": [
    "# The Liskov Substitution Principle (LSP) states that objects of a superclass should be replaceable with objects of a subclass without\n",
    "\n",
    "# affecting the correctness of the program. To understand this principle better, let's look at valid and invalid cases with code examples.\n",
    "\n",
    "# Valid Case\n",
    "\n",
    "# A valid case of LSP would be when a subclass maintains the behavior and contracts of the superclass."
   ]
  },
  {
   "cell_type": "code",
   "execution_count": 1,
   "metadata": {},
   "outputs": [],
   "source": [
    "# Valid Case\n",
    "\n",
    "# A valid case of LSP would be when a subclass maintains the behavior and contracts of the superclass without changing parent class methods or members.\n",
    "\n",
    "# In a example, we have a superclass called Bird and a subclass called Duck. The Duck class extends\n",
    "# the Bird class and overrides the fly method. The fly method in the Bird class returns a string that\n",
    "# says \"I can fly\". The Duck class overrides the fly method and returns a string that says \"I can fly but only for a short distance\".\n",
    "# But the Bird class method fly is not affected by the Duck class method fly. This is a valid case of LSP."
   ]
  },
  {
   "cell_type": "code",
   "execution_count": 5,
   "metadata": {},
   "outputs": [
    {
     "name": "stdout",
     "output_type": "stream",
     "text": [
      "Area: 50\n"
     ]
    }
   ],
   "source": [
    "class Shape: # Parent class\n",
    "    def area(self):\n",
    "        pass\n",
    "\n",
    "class Rectangle(Shape): # Child class\n",
    "    def __init__(self, width, height):\n",
    "        self.width = width\n",
    "        self.height = height\n",
    "\n",
    "    def area(self): # overriding the area method of the parent class\n",
    "        return self.width * self.height\n",
    "\n",
    "def print_area(shape: Shape):\n",
    "    print(f\"Area: {shape.area()}\")\n",
    "\n",
    "# Valid case: Rectangle can substitute Shape\n",
    "rect = Rectangle(5, 10)  # we are creating an object of the child class. \n",
    "print_area(rect)  # Output: Area: 50\n",
    "\n",
    "# Here, Rectangle correctly extends Shape and overrides the area method. The print_area function works correctly with any Shape object, including Rectangle.\n"
   ]
  },
  {
   "cell_type": "code",
   "execution_count": 6,
   "metadata": {},
   "outputs": [],
   "source": [
    "# Invalid Cases\n",
    "# Invalid cases occur when the subclass breaks the behavior or contract expected from the superclass."
   ]
  },
  {
   "cell_type": "code",
   "execution_count": 8,
   "metadata": {},
   "outputs": [
    {
     "ename": "NotImplementedError",
     "evalue": "Penguins cannot fly",
     "output_type": "error",
     "traceback": [
      "\u001b[0;31m---------------------------------------------------------------------------\u001b[0m",
      "\u001b[0;31mNotImplementedError\u001b[0m                       Traceback (most recent call last)",
      "Cell \u001b[0;32mIn[8], line 26\u001b[0m\n\u001b[1;32m     24\u001b[0m \u001b[38;5;66;03m# Invalid case: Penguin cannot substitute Bird\u001b[39;00m\n\u001b[1;32m     25\u001b[0m penguin \u001b[38;5;241m=\u001b[39m Penguin()\n\u001b[0;32m---> 26\u001b[0m \u001b[43mmake_bird_fly\u001b[49m\u001b[43m(\u001b[49m\u001b[43mpenguin\u001b[49m\u001b[43m)\u001b[49m  \u001b[38;5;66;03m# Raises NotImplementedError\u001b[39;00m\n",
      "Cell \u001b[0;32mIn[8], line 22\u001b[0m, in \u001b[0;36mmake_bird_fly\u001b[0;34m(bird)\u001b[0m\n\u001b[1;32m     21\u001b[0m \u001b[38;5;28;01mdef\u001b[39;00m \u001b[38;5;21mmake_bird_fly\u001b[39m(bird: Bird):\n\u001b[0;32m---> 22\u001b[0m     \u001b[43mbird\u001b[49m\u001b[38;5;241;43m.\u001b[39;49m\u001b[43mfly\u001b[49m\u001b[43m(\u001b[49m\u001b[43m)\u001b[49m\n",
      "Cell \u001b[0;32mIn[8], line 19\u001b[0m, in \u001b[0;36mPenguin.fly\u001b[0;34m(self)\u001b[0m\n\u001b[1;32m     18\u001b[0m \u001b[38;5;28;01mdef\u001b[39;00m \u001b[38;5;21mfly\u001b[39m(\u001b[38;5;28mself\u001b[39m):\n\u001b[0;32m---> 19\u001b[0m     \u001b[38;5;28;01mraise\u001b[39;00m \u001b[38;5;167;01mNotImplementedError\u001b[39;00m(\u001b[38;5;124m\"\u001b[39m\u001b[38;5;124mPenguins cannot fly\u001b[39m\u001b[38;5;124m\"\u001b[39m)\n",
      "\u001b[0;31mNotImplementedError\u001b[0m: Penguins cannot fly"
     ]
    }
   ],
   "source": [
    "# Example 1: Violation of Precondition\n",
    "\n",
    "# Precondition: A precondition is a condition that must be true before a method is called.\n",
    "\n",
    "# If a subclass strengthens the precondition of a method, it violates LSP.\n",
    "# In the following example, the Penguin class extends the Bird class and overrides the fly method.\n",
    "# The fly method in the Bird class is empty, but the Penguin class overrides it and raises a NotImplementedError.\n",
    "# This violates LSP because the Penguin class strengthens the precondition of the fly method by raising an error. \n",
    "\n",
    "# Ideally, the Penguin class should not raise an error when the fly method is called.\n",
    "# Instead, it should provide a meaningful implementation that reflects the behavior of a penguin.\n",
    "\n",
    "class Bird:\n",
    "    def fly(self):\n",
    "        pass\n",
    "\n",
    "class Penguin(Bird):\n",
    "    def fly(self):\n",
    "        raise NotImplementedError(\"Penguins cannot fly\") \n",
    "\n",
    "def make_bird_fly(bird: Bird):\n",
    "    bird.fly()\n",
    "\n",
    "# Invalid case: Penguin cannot substitute Bird\n",
    "penguin = Penguin()\n",
    "make_bird_fly(penguin)  # Raises NotImplementedError\n",
    "\n",
    "# In this example, the Penguin class cannot fly, which breaks the contract that a Bird can fly. This substitution leads to a runtime error.\n"
   ]
  },
  {
   "cell_type": "code",
   "execution_count": 9,
   "metadata": {},
   "outputs": [],
   "source": [
    "# Example 2: Violation of Postcondition\n",
    "\n",
    "# If a subclass weakens the postcondition of a method, it violates LSP."
   ]
  },
  {
   "cell_type": "code",
   "execution_count": 15,
   "metadata": {},
   "outputs": [
    {
     "ename": "AssertionError",
     "evalue": "",
     "output_type": "error",
     "traceback": [
      "\u001b[0;31m---------------------------------------------------------------------------\u001b[0m",
      "\u001b[0;31mAssertionError\u001b[0m                            Traceback (most recent call last)",
      "Cell \u001b[0;32mIn[15], line 21\u001b[0m\n\u001b[1;32m     16\u001b[0m                                                       \u001b[38;5;66;03m# But the child class is setting the expectation as \"Engine started\" which is wrong in this case.\u001b[39;00m\n\u001b[1;32m     17\u001b[0m \n\u001b[1;32m     18\u001b[0m \u001b[38;5;66;03m# Invalid case: ElectricCar cannot substitute Vehicle\u001b[39;00m\n\u001b[1;32m     20\u001b[0m electric_car \u001b[38;5;241m=\u001b[39m ElectricCar() \u001b[38;5;66;03m# we are creating an object of the child class.\u001b[39;00m\n\u001b[0;32m---> 21\u001b[0m \u001b[43mtest_vehicle\u001b[49m\u001b[43m(\u001b[49m\u001b[43melectric_car\u001b[49m\u001b[43m)\u001b[49m  \u001b[38;5;66;03m# AssertionError\u001b[39;00m\n\u001b[1;32m     23\u001b[0m \u001b[38;5;66;03m# Here, the ElectricCar returns a different string from start_engine, violating the expected postcondition that it should return \"Engine started\".\u001b[39;00m\n",
      "Cell \u001b[0;32mIn[15], line 15\u001b[0m, in \u001b[0;36mtest_vehicle\u001b[0;34m(vehicle)\u001b[0m\n\u001b[1;32m     14\u001b[0m \u001b[38;5;28;01mdef\u001b[39;00m \u001b[38;5;21mtest_vehicle\u001b[39m(vehicle: Vehicle): \u001b[38;5;66;03m# we are passing an object of the child class with the parent class reference of the object.\u001b[39;00m\n\u001b[0;32m---> 15\u001b[0m     \u001b[38;5;28;01massert\u001b[39;00m vehicle\u001b[38;5;241m.\u001b[39mstart_engine() \u001b[38;5;241m==\u001b[39m \u001b[38;5;124m\"\u001b[39m\u001b[38;5;124mEngine started\u001b[39m\u001b[38;5;124m\"\u001b[39m\n",
      "\u001b[0;31mAssertionError\u001b[0m: "
     ]
    }
   ],
   "source": [
    "# Explanation of the Problem\n",
    "\n",
    "# In your example, the test_vehicle function expects that any Vehicle instance, when passed to it, will have a start_engine method that returns \"Engine started\".\n",
    "# However, the ElectricCar subclass overrides this method to return \"Silent start\". This violates the expectation set by the test_vehicle function, causing an AssertionError.\n",
    "\n",
    "class Vehicle:\n",
    "    def start_engine(self):\n",
    "        return \"Engine started\"\n",
    "\n",
    "class ElectricCar(Vehicle): # ElectricCar is a subclass of Vehicle\n",
    "    def start_engine(self): \n",
    "        return \"Silent start\"\n",
    "\n",
    "def test_vehicle(vehicle: Vehicle): # we are passing an object of the child class with the parent class reference of the object.\n",
    "\n",
    "    assert vehicle.start_engine() == \"Engine started\" #### Since the child class set expectation as \"silent start\" whiles testing even should be set as \"silent start\"\n",
    "                                                      #### But the child class is setting the expectation as \"Engine started\" which is wrong in this case.\n",
    "\n",
    "# Invalid case: ElectricCar cannot substitute Vehicle\n",
    "\n",
    "electric_car = ElectricCar() # we are creating an object of the child class.\n",
    "test_vehicle(electric_car)  # AssertionError\n",
    "\n",
    "# Here, the ElectricCar returns a different string from start_engine, violating the expected postcondition that it should return \"Engine started\"."
   ]
  },
  {
   "cell_type": "code",
   "execution_count": 11,
   "metadata": {},
   "outputs": [],
   "source": [
    "# Correct Approach\n",
    "\n",
    "# To adhere to the Liskov Substitution Principle, the subclass should provide behavior that is consistent with the expectations set by the superclass. If the start_engine method\n",
    "# in Vehicle has a specific expected outcome, the subclass should honor that expectation if it is intended to be used interchangeably with instances of the superclass.\n",
    "\n",
    "\n",
    "# However, if the behavior of ElectricCar is intentionally different, then you should not expect it to pass tests that are designed with the assumptions of the superclass.\n",
    "# Instead, you should test the ElectricCar separately according to its own specifications."
   ]
  },
  {
   "cell_type": "code",
   "execution_count": 12,
   "metadata": {},
   "outputs": [],
   "source": [
    "class Vehicle:\n",
    "    def start_engine(self):\n",
    "        return \"Engine started\"\n",
    "\n",
    "class ElectricCar(Vehicle):\n",
    "    def start_engine(self):\n",
    "        return \"Silent start\"\n",
    "\n",
    "def test_vehicle(vehicle: Vehicle):\n",
    "    if isinstance(vehicle, ElectricCar):\n",
    "        assert vehicle.start_engine() == \"Silent start\"\n",
    "    else:\n",
    "        assert vehicle.start_engine() == \"Engine started\"\n",
    "\n",
    "# Test cases\n",
    "regular_vehicle = Vehicle()\n",
    "test_vehicle(regular_vehicle)  # Passes the test for Vehicle\n",
    "\n",
    "electric_car = ElectricCar()\n",
    "test_vehicle(electric_car)  # Passes the test for ElectricCar"
   ]
  },
  {
   "cell_type": "code",
   "execution_count": 13,
   "metadata": {},
   "outputs": [],
   "source": [
    "# Alternative approach: Separate tests for different types of vehicles:"
   ]
  },
  {
   "cell_type": "code",
   "execution_count": 14,
   "metadata": {},
   "outputs": [],
   "source": [
    "class Vehicle:\n",
    "    def start_engine(self):\n",
    "        return \"Engine started\"\n",
    "\n",
    "class ElectricCar(Vehicle):\n",
    "    def start_engine(self):\n",
    "        return \"Silent start\"\n",
    "\n",
    "def test_regular_vehicle(vehicle: Vehicle):\n",
    "    assert vehicle.start_engine() == \"Engine started\"\n",
    "\n",
    "def test_electric_car(vehicle: ElectricCar):\n",
    "    assert vehicle.start_engine() == \"Silent start\"\n",
    "\n",
    "# Test cases\n",
    "regular_vehicle = Vehicle()\n",
    "test_regular_vehicle(regular_vehicle)  # Passes the test for Vehicle\n",
    "\n",
    "electric_car = ElectricCar()\n",
    "test_electric_car(electric_car)  # Passes the test for ElectricCar\n"
   ]
  },
  {
   "cell_type": "code",
   "execution_count": 16,
   "metadata": {},
   "outputs": [],
   "source": [
    "# Example 3: Violation of Invariant\n",
    "\n",
    "# If a subclass alters the invariant condition that should be maintained, it violates LSP."
   ]
  },
  {
   "cell_type": "code",
   "execution_count": 20,
   "metadata": {},
   "outputs": [],
   "source": [
    "class BankAccount:\n",
    "    def __init__(self, balance):\n",
    "        self.balance = balance\n",
    "\n",
    "    def withdraw(self, amount):\n",
    "        if amount > 0 and self.balance >= amount: # The parent class has a condition that the balance should be greater than the amount to withdraw.\n",
    "            self.balance -= amount\n",
    "            return True\n",
    "        return False\n",
    "\n",
    "class OverdraftAccount(BankAccount):\n",
    "    def withdraw(self, amount):\n",
    "        if amount > 0:\n",
    "            self.balance -= amount # The child class does not check if the balance is greater than the amount to withdraw and allows overdraft not maintaining the invariant condition.\n",
    "            return True\n",
    "        return False\n",
    "\n",
    "def test_withdraw(account: BankAccount):\n",
    "    initial_balance = account.balance\n",
    "    assert account.withdraw(50) == (initial_balance >= 50)\n",
    "    assert account.balance == initial_balance - 50\n",
    "# Invalid case: OverdraftAccount cannot substitute BankAccount\n",
    "overdraft_account = OverdraftAccount(100)\n",
    "test_withdraw(overdraft_account)  # AssertionError\n",
    "\n",
    "\n",
    "\n",
    "# In this example, the OverdraftAccount class allows overdraft withdrawals, which breaks\n",
    "# the invariant condition that the balance should not go below zero when withdrawing money."
   ]
  },
  {
   "cell_type": "code",
   "execution_count": 23,
   "metadata": {},
   "outputs": [],
   "source": [
    "# Summary\n",
    "\n",
    "# Valid Case: Subclass maintains the behavior and contracts of the superclass.\n",
    "\n",
    "# Invalid Cases:\n",
    "# Strengthening preconditions.\n",
    "# Weakening postconditions.\n",
    "# Altering invariants.\n",
    "\n",
    "# Understanding and adhering to the Liskov Substitution Principle helps ensure that subclasses can be used interchangeably with their base classes,\n",
    "# leading to more robust and maintainable code."
   ]
  },
  {
   "cell_type": "code",
   "execution_count": 34,
   "metadata": {},
   "outputs": [],
   "source": [
    "# The term \"invariant\" in the context of the Liskov Substitution Principle (LSP) refers to conditions or properties that must always hold true for a class.\n",
    "#  These invariants should remain consistent even when dealing with subclasses.\n",
    "\n",
    "# Understanding Invariants\n",
    "# Invariants are conditions that are expected to be true for every instance of a class throughout its lifetime. These conditions ensure the integrity and\n",
    "#  correct behavior of the objects.\n",
    "\n",
    "# Liskov Substitution Principle and Invariants\n",
    "# When applying LSP, the subclass must not violate the invariants established by the parent class. This means that:\n",
    "\n",
    "# Subclasses should honor the preconditions set by the parent class.\n",
    "# Subclasses should honor the postconditions established by the parent class.\n",
    "# Subclasses should maintain the invariants of the parent class."
   ]
  },
  {
   "cell_type": "code",
   "execution_count": 26,
   "metadata": {},
   "outputs": [],
   "source": [
    "# Example: Non-Negative Integer Container\n",
    "\n",
    "# We'll create a base class NonNegativeIntegerContainer that ensures only non-negative integers can be added.\n",
    "# Then, we'll create a subclass NegativeIntegerContainer that violates this invariant."
   ]
  },
  {
   "cell_type": "code",
   "execution_count": 29,
   "metadata": {},
   "outputs": [],
   "source": [
    "# This class maintains the invariant that only non-negative integers can be added to the values list.\n",
    "\n",
    "class NonNegativeIntegerContainer:\n",
    "    def __init__(self):\n",
    "        self.values = []\n",
    "\n",
    "    def add_value(self, value):\n",
    "        if value >= 0:\n",
    "            self.values.append(value)\n",
    "        else:\n",
    "            raise ValueError(\"Only non-negative integers are allowed\")\n",
    "\n",
    "    def get_values(self):\n",
    "        return self.values\n"
   ]
  },
  {
   "cell_type": "code",
   "execution_count": 31,
   "metadata": {},
   "outputs": [],
   "source": [
    "# Subclass Violating the Invariant\n",
    "\n",
    "class NegativeIntegerContainer(NonNegativeIntegerContainer):\n",
    "    def add_value(self, value):\n",
    "        # Allows adding negative integers, violating the invariant\n",
    "        self.values.append(value)"
   ]
  },
  {
   "cell_type": "code",
   "execution_count": 32,
   "metadata": {},
   "outputs": [],
   "source": [
    "# Test Function\n",
    "\n",
    "# Let's write a function that works with NonNegativeIntegerContainer and expects the invariant to hold.\n",
    "\n",
    "def process_container(container: NonNegativeIntegerContainer, value):\n",
    "    try:\n",
    "        container.add_value(value)\n",
    "        print(f\"Added {value} to the container: {container.get_values()}\")\n",
    "    except ValueError as e:\n",
    "        print(e)"
   ]
  },
  {
   "cell_type": "code",
   "execution_count": 33,
   "metadata": {},
   "outputs": [
    {
     "name": "stdout",
     "output_type": "stream",
     "text": [
      "Added 5 to the container: [5]\n",
      "Only non-negative integers are allowed\n",
      "Added 5 to the container: [5]\n",
      "Added -3 to the container: [5, -3]\n"
     ]
    }
   ],
   "source": [
    "# Valid usage\n",
    "non_negative_container = NonNegativeIntegerContainer()\n",
    "process_container(non_negative_container, 5)  # Added 5 to the container: [5]\n",
    "process_container(non_negative_container, -3) # Only non-negative integers are allowed\n",
    "\n",
    "# Invalid usage\n",
    "negative_container = NegativeIntegerContainer()\n",
    "process_container(negative_container, 5)  # Added 5 to the container: [5]\n",
    "process_container(negative_container, -3) # Added -3 to the container: [5, -3]"
   ]
  },
  {
   "cell_type": "code",
   "execution_count": 35,
   "metadata": {},
   "outputs": [],
   "source": [
    "# Another simple example "
   ]
  },
  {
   "cell_type": "code",
   "execution_count": 38,
   "metadata": {},
   "outputs": [],
   "source": [
    "class BankAccount:\n",
    "    def __init__(self, balance):\n",
    "        self.balance = balance\n",
    "\n",
    "    def withdraw(self, amount):\n",
    "        if amount > 0 and self.balance >= amount: # This is the invariant condition that the balance should be greater than the amount to withdraw.\n",
    "            self.balance -= amount\n",
    "            return True\n",
    "        return False\n",
    "\n",
    "    def get_balance(self):\n",
    "        return self.balance\n",
    "    "
   ]
  },
  {
   "cell_type": "code",
   "execution_count": 40,
   "metadata": {},
   "outputs": [],
   "source": [
    "# Subclass Violating the Invariant\n",
    "\n",
    "# In this example, the OverdraftAccount class allows the balance to become negative, which violates the invariant of the parent BankAccount class.\n",
    "\n",
    "class OverdraftAccount(BankAccount):\n",
    "    def withdraw(self, amount):\n",
    "        # Allows overdraft, violating the invariant that balance should not be negative\n",
    "        if amount > 0:\n",
    "            self.balance -= amount\n",
    "            return True\n",
    "        return False"
   ]
  },
  {
   "cell_type": "code",
   "execution_count": 47,
   "metadata": {},
   "outputs": [
    {
     "name": "stdout",
     "output_type": "stream",
     "text": [
      "Balance after withdrawal: 50\n",
      "Balance after withdrawal: -50\n"
     ]
    },
    {
     "ename": "AssertionError",
     "evalue": "Balance should never be negative",
     "output_type": "error",
     "traceback": [
      "\u001b[0;31m---------------------------------------------------------------------------\u001b[0m",
      "\u001b[0;31mAssertionError\u001b[0m                            Traceback (most recent call last)",
      "Cell \u001b[0;32mIn[47], line 14\u001b[0m\n\u001b[1;32m     12\u001b[0m \u001b[38;5;66;03m# Invalid usage\u001b[39;00m\n\u001b[1;32m     13\u001b[0m overdraft_account \u001b[38;5;241m=\u001b[39m OverdraftAccount(\u001b[38;5;241m100\u001b[39m)\n\u001b[0;32m---> 14\u001b[0m \u001b[43mtest_withdraw\u001b[49m\u001b[43m(\u001b[49m\u001b[43moverdraft_account\u001b[49m\u001b[43m,\u001b[49m\u001b[43m \u001b[49m\u001b[38;5;241;43m150\u001b[39;49m\u001b[43m)\u001b[49m  \u001b[38;5;66;03m# This should trigger the assertion error\u001b[39;00m\n",
      "Cell \u001b[0;32mIn[47], line 6\u001b[0m, in \u001b[0;36mtest_withdraw\u001b[0;34m(account, amount)\u001b[0m\n\u001b[1;32m      4\u001b[0m \u001b[38;5;28mprint\u001b[39m(\u001b[38;5;124mf\u001b[39m\u001b[38;5;124m\"\u001b[39m\u001b[38;5;124mBalance after withdrawal: \u001b[39m\u001b[38;5;132;01m{\u001b[39;00maccount\u001b[38;5;241m.\u001b[39mget_balance()\u001b[38;5;132;01m}\u001b[39;00m\u001b[38;5;124m\"\u001b[39m)\n\u001b[1;32m      5\u001b[0m \u001b[38;5;66;03m# Expect balance to never be negative\u001b[39;00m\n\u001b[0;32m----> 6\u001b[0m \u001b[38;5;28;01massert\u001b[39;00m account\u001b[38;5;241m.\u001b[39mget_balance() \u001b[38;5;241m>\u001b[39m\u001b[38;5;241m=\u001b[39m \u001b[38;5;241m0\u001b[39m, \u001b[38;5;124m\"\u001b[39m\u001b[38;5;124mBalance should never be negative\u001b[39m\u001b[38;5;124m\"\u001b[39m\n",
      "\u001b[0;31mAssertionError\u001b[0m: Balance should never be negative"
     ]
    }
   ],
   "source": [
    "def test_withdraw(account: BankAccount, amount):\n",
    "    initial_balance = account.get_balance()\n",
    "    account.withdraw(amount)\n",
    "    print(f\"Balance after withdrawal: {account.get_balance()}\")\n",
    "    # Expect balance to never be negative\n",
    "    assert account.get_balance() >= 0, \"Balance should never be negative\"\n",
    "\n",
    "# Valid usage\n",
    "account = BankAccount(100)\n",
    "test_withdraw(account, 50)  # Works fine, balance never negative\n",
    "\n",
    "# Invalid usage\n",
    "overdraft_account = OverdraftAccount(100)\n",
    "test_withdraw(overdraft_account, 150)  # This should trigger the assertion error\n"
   ]
  }
 ],
 "metadata": {
  "kernelspec": {
   "display_name": "Python 3",
   "language": "python",
   "name": "python3"
  },
  "language_info": {
   "codemirror_mode": {
    "name": "ipython",
    "version": 3
   },
   "file_extension": ".py",
   "mimetype": "text/x-python",
   "name": "python",
   "nbconvert_exporter": "python",
   "pygments_lexer": "ipython3",
   "version": "3.9.6"
  }
 },
 "nbformat": 4,
 "nbformat_minor": 2
}
