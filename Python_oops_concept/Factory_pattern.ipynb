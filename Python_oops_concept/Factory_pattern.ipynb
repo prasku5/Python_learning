{
 "cells": [
  {
   "cell_type": "code",
   "execution_count": 21,
   "metadata": {},
   "outputs": [],
   "source": [
    "# Factory Pattern Explained\n",
    "\n",
    "# Analogy: Imagine you have a candy factory. Depending on the type of candy you want (chocolate, gummy, etc.), the factory will \n",
    "# produce the specific type of candy for you. You don’t need to know how the candy is made; you just need to request the type of candy you want.\n",
    "\n",
    "# Code Explanation\n",
    "# Let's start with a simple example using candies, then we'll move on to a real-world data engineering example."
   ]
  },
  {
   "cell_type": "code",
   "execution_count": 19,
   "metadata": {},
   "outputs": [
    {
     "name": "stdout",
     "output_type": "stream",
     "text": [
      "Chocolate Candy\n",
      "Gummy Candy\n"
     ]
    }
   ],
   "source": [
    "# Base class\n",
    "class Candy:\n",
    "    def create(self):\n",
    "        pass\n",
    "\n",
    "# Subclass for Chocolate Candy\n",
    "class ChocolateCandy(Candy):\n",
    "    def create(self):\n",
    "        return \"Chocolate Candy\"\n",
    "\n",
    "# Subclass for Gummy Candy\n",
    "class GummyCandy(Candy):\n",
    "    def create(self):\n",
    "        return \"Gummy Candy\"\n",
    "\n",
    "# Factory class to create candies\n",
    "class CandyFactory:\n",
    "    @staticmethod\n",
    "    def create_candy(candy_type):\n",
    "        if candy_type == 'chocolate':\n",
    "            return ChocolateCandy()\n",
    "        elif candy_type == 'gummy':\n",
    "            return GummyCandy()\n",
    "\n",
    "# Using the factory to create candies\n",
    "candy = CandyFactory.create_candy('chocolate')\n",
    "print(candy.create())  # Output: Chocolate Candy\n",
    "\n",
    "candy = CandyFactory.create_candy('gummy')\n",
    "print(candy.create())  # Output: Gummy Candy\n"
   ]
  },
  {
   "cell_type": "code",
   "execution_count": 3,
   "metadata": {},
   "outputs": [],
   "source": [
    "# Real-World Data Engineering Example: Data Source Factory\n",
    "# In data engineering, you might need to fetch data from different sources, such as databases or APIs. The Factory pattern can be used\n",
    "# to create these data sources based on some input criteria."
   ]
  },
  {
   "cell_type": "code",
   "execution_count": 5,
   "metadata": {},
   "outputs": [
    {
     "name": "stdout",
     "output_type": "stream",
     "text": [
      "Data from Database\n",
      "Data from API\n"
     ]
    }
   ],
   "source": [
    "from abc import ABC, abstractmethod\n",
    "\n",
    "# Abstract base class for data sources\n",
    "class DataSource(ABC):\n",
    "    @abstractmethod\n",
    "    def get_data(self):\n",
    "        pass\n",
    "\n",
    "# Subclass for database source\n",
    "class DatabaseSource(DataSource):\n",
    "    def get_data(self):\n",
    "        return \"Data from Database\"\n",
    "\n",
    "# Subclass for API source\n",
    "class APISource(DataSource):\n",
    "    def get_data(self):\n",
    "        return \"Data from API\"\n",
    "\n",
    "# Factory class to create data sources\n",
    "class DataSourceFactory:\n",
    "    \n",
    "    @staticmethod\n",
    "\n",
    "    # The @staticmethod decorator in Python is used to define a method that belongs to the class and not to any instance of the class.\n",
    "    # This means that a static method can be called on the class itself, without creating an instance of the class. It doesn't have access\n",
    "    # to the instance (self) or the class (cls).\n",
    "\n",
    "    # Why Use @staticmethod?\n",
    "    \n",
    "    # Class-Level Method: Static methods are used for tasks that are related to the class but do not require access to the class or its instances.\n",
    "    # These methods are often utility functions, like helper methods, that perform tasks in isolation from the class.\n",
    "\n",
    "    # Namespace Organization: They help in logically organizing methods that don't need to modify or read the state of the class or its instances.\n",
    "\n",
    "    def get_data_source(source_type):\n",
    "        if source_type == 'database':\n",
    "            return DatabaseSource()\n",
    "        elif source_type == 'api':\n",
    "            return APISource()\n",
    "\n",
    "# Using the factory to create data sources\n",
    "data_source = DataSourceFactory.get_data_source('database')\n",
    "print(data_source.get_data())  # Output: Data from Database\n",
    "\n",
    "data_source = DataSourceFactory.get_data_source('api')\n",
    "print(data_source.get_data())  # Output: Data from API\n"
   ]
  },
  {
   "cell_type": "code",
   "execution_count": 14,
   "metadata": {},
   "outputs": [],
   "source": [
    "# Let's revisit the CandyFactory example to understand the use of @staticmethod:\n",
    "\n",
    "class CandyFactory:\n",
    "    @staticmethod\n",
    "    def create_candy(candy_type):\n",
    "        if candy_type == 'chocolate':\n",
    "            return ChocolateCandy()\n",
    "        elif candy_type == 'gummy':\n",
    "            return GummyCandy()"
   ]
  },
  {
   "cell_type": "code",
   "execution_count": 9,
   "metadata": {},
   "outputs": [],
   "source": [
    "# With @staticmethod:\n",
    "\n",
    "# The method create_candy can be called on the class itself without needing to instantiate it."
   ]
  },
  {
   "cell_type": "code",
   "execution_count": 15,
   "metadata": {},
   "outputs": [
    {
     "name": "stdout",
     "output_type": "stream",
     "text": [
      "Chocolate Candy\n"
     ]
    }
   ],
   "source": [
    "candy = CandyFactory.create_candy('chocolate')\n",
    "print(candy.create())  # Output: Chocolate Candy"
   ]
  },
  {
   "cell_type": "code",
   "execution_count": 11,
   "metadata": {},
   "outputs": [],
   "source": [
    "# Without @staticmethod:\n",
    "\n",
    "# If we remove the @staticmethod decorator, the method would expect an instance of the class to be passed as the first argument,\n",
    "#  which would usually be self for instance methods or cls for class methods."
   ]
  }
 ],
 "metadata": {
  "kernelspec": {
   "display_name": "Python 3",
   "language": "python",
   "name": "python3"
  },
  "language_info": {
   "codemirror_mode": {
    "name": "ipython",
    "version": 3
   },
   "file_extension": ".py",
   "mimetype": "text/x-python",
   "name": "python",
   "nbconvert_exporter": "python",
   "pygments_lexer": "ipython3",
   "version": "3.9.6"
  }
 },
 "nbformat": 4,
 "nbformat_minor": 2
}
