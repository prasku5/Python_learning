{
 "cells": [
  {
   "cell_type": "markdown",
   "metadata": {},
   "source": [
    "### Access Modifiers in Encapsulation: Correct and Incorrect Access\n",
    "\n",
    "#### Public Attributes\n",
    "**Correct Access:**\n",
    "- **Inside the class**: Direct access.\n",
    "- **Inside subclasses**: Direct access.\n",
    "- **Outside the class**: Direct access.\n",
    "\n",
    "**Incorrect Access (Poor Practices):**\n",
    "- Accessing an uninitialized public attribute.\n",
    "- Directly modifying public attributes without proper documentation or control.\n",
    "\n",
    "#### Protected Attributes\n",
    "**Correct Access:**\n",
    "- **Inside the class**: Direct access.\n",
    "- **Inside subclasses**: Direct access.\n",
    "\n",
    "**Incorrect Access:**\n",
    "- **Outside the class**: Direct access is technically possible but considered bad practice.\n",
    "\n",
    "#### Private Attributes\n",
    "**Correct Access:**\n",
    "- **Inside the class**: Direct access using name mangling (e.g., `self.__attribute`).\n",
    "\n",
    "**Incorrect Access:**\n",
    "- **Inside subclasses**: Direct access using name mangling (e.g., `self._ParentClass__attribute`) is possible but breaks encapsulation.\n",
    "- **Outside the class**: Direct access using name mangling (e.g., `instance._ParentClass__attribute`) is possible but should be avoided.\n",
    "\n",
    "### Summary\n",
    "\n",
    "- **Public Attributes**:\n",
    "  - Intended for unrestricted access.\n",
    "  - Poor practices include accessing uninitialized attributes and modifying them without proper control.\n",
    "\n",
    "- **Protected Attributes**:\n",
    "  - Intended for access within the class and subclasses.\n",
    "  - Poor practice includes accessing them directly from outside the class hierarchy.\n",
    "\n",
    "- **Private Attributes**:\n",
    "  - Intended for access only within the class.\n",
    "  - Poor practice includes using name mangling to access them from subclasses or outside the class hierarchy."
   ]
  },
  {
   "cell_type": "code",
   "execution_count": 19,
   "metadata": {},
   "outputs": [],
   "source": [
    "# Public attributes in Python are the most accessible type of attributes. They can be accessed\n",
    "#  directly from anywhere—inside the class, inside subclasses, and outside the class. Public attributes \n",
    "# are typically used for attributes that are meant to be part of the public interface of a class.\n",
    "\n",
    "# Here’s an example demonstrating the correct and incorrect ways to access public attributes:\n",
    "\n",
    "# Inside the Class\n",
    "# Public attributes can be accessed directly within the class where they are defined."
   ]
  },
  {
   "cell_type": "code",
   "execution_count": 2,
   "metadata": {},
   "outputs": [],
   "source": [
    "class BaseClass:\n",
    "    def __init__(self):\n",
    "        self.public_member = \"I am public\"\n",
    "\n",
    "    def access_public(self):\n",
    "        return self.public_member\n",
    "\n",
    "# Example usage\n",
    "base = BaseClass()\n"
   ]
  },
  {
   "cell_type": "code",
   "execution_count": 4,
   "metadata": {},
   "outputs": [
    {
     "name": "stdout",
     "output_type": "stream",
     "text": [
      "I am public\n"
     ]
    }
   ],
   "source": [
    "print(base.access_public())  # Output: I am public"
   ]
  },
  {
   "cell_type": "code",
   "execution_count": 5,
   "metadata": {},
   "outputs": [
    {
     "name": "stdout",
     "output_type": "stream",
     "text": [
      "I am public\n"
     ]
    }
   ],
   "source": [
    "print(base.public_member)  # Output: I am public"
   ]
  },
  {
   "cell_type": "code",
   "execution_count": 6,
   "metadata": {},
   "outputs": [],
   "source": [
    "# Inside the Subclass\n",
    "# Public attributes can be accessed directly within subclasses."
   ]
  },
  {
   "cell_type": "code",
   "execution_count": 7,
   "metadata": {},
   "outputs": [
    {
     "name": "stdout",
     "output_type": "stream",
     "text": [
      "I am public\n"
     ]
    }
   ],
   "source": [
    "class BaseClass:\n",
    "    def __init__(self):\n",
    "        self.public_member = \"I am public\"\n",
    "\n",
    "    def access_public(self):\n",
    "        return self.public_member\n",
    "\n",
    "class SubClass(BaseClass):\n",
    "    def access_public_in_subclass(self):\n",
    "        return self.public_member\n",
    "\n",
    "# Example usage\n",
    "sub = SubClass()\n",
    "print(sub.access_public_in_subclass())  # Output: I am public\n"
   ]
  },
  {
   "cell_type": "code",
   "execution_count": 8,
   "metadata": {},
   "outputs": [],
   "source": [
    "# Outside the Class/Hierarchy\n",
    "# Public attributes can be accessed directly from outside the class hierarchy."
   ]
  },
  {
   "cell_type": "code",
   "execution_count": 9,
   "metadata": {},
   "outputs": [
    {
     "name": "stdout",
     "output_type": "stream",
     "text": [
      "I am public\n"
     ]
    }
   ],
   "source": [
    "class BaseClass:\n",
    "    def __init__(self):\n",
    "        self.public_member = \"I am public\"\n",
    "\n",
    "# Example usage\n",
    "base = BaseClass()\n",
    "print(base.public_member)  # Output: I am public\n"
   ]
  },
  {
   "cell_type": "code",
   "execution_count": 10,
   "metadata": {},
   "outputs": [],
   "source": [
    "# Incorrect Ways of Accessing Public Attributes\n",
    "\n",
    "# Since public attributes are meant to be accessible, it's hard to show \"incorrect\" ways of accessing them \n",
    "# in the same sense as private or protected attributes. However, there are still some scenarios that can be \n",
    "# considered poor practice, such as:\n",
    "\n",
    "# Accessing without Initialization: Trying to access a public attribute before it is properly initialized.\n",
    "# Modifying Public Attributes Directly: While technically correct, directly modifying public attributes from\n",
    "#  outside the class can lead to maintenance issues if not documented and managed properly."
   ]
  },
  {
   "cell_type": "code",
   "execution_count": 11,
   "metadata": {},
   "outputs": [
    {
     "name": "stdout",
     "output_type": "stream",
     "text": [
      "AttributeError: 'BaseClass' object has no attribute 'public_member'\n"
     ]
    }
   ],
   "source": [
    "# Accessing without Initialization\n",
    "\n",
    "class BaseClass:\n",
    "    def __init__(self):\n",
    "        # Note: public_member is not initialized here\n",
    "        pass\n",
    "\n",
    "# Example usage\n",
    "base = BaseClass()\n",
    "try:\n",
    "    print(base.public_member)  # This will raise an AttributeError\n",
    "except AttributeError:\n",
    "    print(\"AttributeError: 'BaseClass' object has no attribute 'public_member'\")\n"
   ]
  },
  {
   "cell_type": "code",
   "execution_count": 13,
   "metadata": {},
   "outputs": [
    {
     "name": "stdout",
     "output_type": "stream",
     "text": [
      "I have been modified\n"
     ]
    }
   ],
   "source": [
    "#Modifying Public Attributes Directly outside the class\n",
    "\n",
    "class BaseClass:\n",
    "    def __init__(self):\n",
    "        self.public_member = \"I am public\"\n",
    "\n",
    "# Example usage\n",
    "base = BaseClass()\n",
    "base.public_member = \"I have been modified\"\n",
    "print(base.public_member)  # Output: I have been modified\n"
   ]
  }
 ],
 "metadata": {
  "kernelspec": {
   "display_name": "Python 3",
   "language": "python",
   "name": "python3"
  },
  "language_info": {
   "codemirror_mode": {
    "name": "ipython",
    "version": 3
   },
   "file_extension": ".py",
   "mimetype": "text/x-python",
   "name": "python",
   "nbconvert_exporter": "python",
   "pygments_lexer": "ipython3",
   "version": "3.9.6"
  }
 },
 "nbformat": 4,
 "nbformat_minor": 2
}
