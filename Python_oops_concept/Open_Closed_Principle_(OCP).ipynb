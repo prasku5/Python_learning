{
 "cells": [
  {
   "cell_type": "code",
   "execution_count": 1,
   "metadata": {},
   "outputs": [],
   "source": [
    "# Open/Closed Principle (OCP) states that software entities (classes, modules, functions, etc.)\n",
    "# should be open for extension but closed for modification. This principle encourages the design of\n",
    "# software in such a way that new functionality can be added with minimal changes to existing code."
   ]
  },
  {
   "cell_type": "code",
   "execution_count": 23,
   "metadata": {},
   "outputs": [],
   "source": [
    "# Valid Uses of OCP:\n",
    "\n",
    "# Using abstract classes or interfaces to define extensible behaviors.\n",
    "# Implementing new classes that extend the base functionality.\n",
    "# Avoiding modifications to existing, stable code.\n",
    "\n",
    "# Invalid Uses of OCP:\n",
    "\n",
    "# Modifying existing methods to accommodate new functionality.\n",
    "# Adding new logic directly within existing classes.\n",
    "# Hardcoding support for new requirements in established classes.\n"
   ]
  },
  {
   "cell_type": "code",
   "execution_count": 2,
   "metadata": {},
   "outputs": [],
   "source": [
    "# Valid Cases for OCP\n",
    "\n",
    "# Adding New Data Processing Methods:\n",
    "\n",
    "# Example: Adding new data processing methods without changing existing classes."
   ]
  },
  {
   "cell_type": "code",
   "execution_count": 6,
   "metadata": {},
   "outputs": [],
   "source": [
    "from abc import ABC, abstractmethod\n",
    "\n",
    "class DataTransformer(ABC): \n",
    "    @abstractmethod\n",
    "    def transform(self, data):\n",
    "        pass\n",
    "\n",
    "class JSONTransformer(DataTransformer):\n",
    "    def transform(self, data):\n",
    "        # Code to transform data to JSON\n",
    "        pass\n",
    "\n",
    "class XMLTransformer(DataTransformer):\n",
    "    def transform(self, data):\n",
    "        # Code to transform data to XML\n",
    "        pass\n",
    "\n",
    "def process_data(transformer: DataTransformer, data):\n",
    "    return transformer.transform(data)\n",
    "\n",
    "# Adding a new transformer\n",
    "class CSVTransformer(DataTransformer): # we are extending the abstract class \n",
    "    def transform(self, data):\n",
    "        # Code to transform data to CSV\n",
    "        pass\n",
    "\n",
    "# Usage\n",
    "\n",
    "csv_transformer = CSVTransformer()\n",
    "\n",
    "process_data(csv_transformer, data = { 'name': 'John Doe', 'age': 30 })"
   ]
  },
  {
   "cell_type": "code",
   "execution_count": 24,
   "metadata": {},
   "outputs": [],
   "source": [
    "#  Abstract Base Class (DataTransformer): Defines the interface for data transformation with an abstract method transform.\n",
    "\n",
    "#  Concrete Classes (JSONTransformer, XMLTransformer, CSVTransformer, YAMLTransformer): Implement the transform method for different formats.\n",
    "#  These classes extend the DataTransformer abstract base class.\n",
    "\n",
    "#  Function to Process Data (process_data): Takes a DataTransformer instance and data as input, and calls the transform method on the data.\n",
    "\n",
    "#  This approach adheres to the Open/Closed Principle by allowing new transformation formats to be added as new classes without modifying the existing code structure."
   ]
  },
  {
   "cell_type": "code",
   "execution_count": 25,
   "metadata": {},
   "outputs": [
    {
     "name": "stdout",
     "output_type": "stream",
     "text": [
      "Data cannot be null\n",
      "Data 150 out of range (1, 100)\n"
     ]
    }
   ],
   "source": [
    "from abc import ABC, abstractmethod\n",
    "\n",
    "# Abstract base class for validators\n",
    "class Validator(ABC):\n",
    "    @abstractmethod\n",
    "    def validate(self, data):\n",
    "        pass\n",
    "\n",
    "# Concrete validator for non-null values\n",
    "class NonNullValidator(Validator):\n",
    "    def validate(self, data):\n",
    "        if not data:\n",
    "            raise ValueError(\"Data cannot be null\")\n",
    "\n",
    "# Concrete validator for checking if data is within a specific range\n",
    "class RangeValidator(Validator):\n",
    "    def __init__(self, min_value, max_value):\n",
    "        self.min_value = min_value\n",
    "        self.max_value = max_value\n",
    "\n",
    "    def validate(self, data):\n",
    "        if not (self.min_value <= data <= self.max_value):\n",
    "            raise ValueError(f\"Data {data} out of range ({self.min_value}, {self.max_value})\")\n",
    "\n",
    "# Class to aggregate and apply multiple validators\n",
    "class DataValidator:\n",
    "    def __init__(self):\n",
    "        self.validators = []\n",
    "\n",
    "    def add_validator(self, validator: Validator):\n",
    "        self.validators.append(validator)\n",
    "\n",
    "    def validate(self, data):\n",
    "        for validator in self.validators:\n",
    "            validator.validate(data)\n",
    "\n",
    "# Usage\n",
    "data_validator = DataValidator()\n",
    "data_validator.add_validator(NonNullValidator())\n",
    "data_validator.add_validator(RangeValidator(1, 100))\n",
    "\n",
    "# Valid data\n",
    "data = 50\n",
    "data_validator.validate(data)  # No exception\n",
    "\n",
    "# Invalid data (null)\n",
    "data = None\n",
    "try:\n",
    "    data_validator.validate(data)\n",
    "except ValueError as e:\n",
    "    print(e)  # Data cannot be null\n",
    "\n",
    "# Invalid data (out of range)\n",
    "data = 150\n",
    "try:\n",
    "    data_validator.validate(data)\n",
    "except ValueError as e:\n",
    "    print(e)  # Data 150 out of range (1, 100)\n"
   ]
  },
  {
   "cell_type": "code",
   "execution_count": 26,
   "metadata": {},
   "outputs": [],
   "source": [
    "# Explanation\n",
    "# Abstract Base Class (Validator):\n",
    "\n",
    "# Defines an interface for validation with an abstract validate method.\n",
    "# Concrete Validator Classes (NonNullValidator, RangeValidator):\n",
    "\n",
    "# Each class implements the validate method for a specific validation rule.\n",
    "# NonNullValidator checks for non-null values.\n",
    "# RangeValidator checks if the data is within a specified range.\n",
    "# Validation Aggregator (DataValidator):\n",
    "\n",
    "# Maintains a list of validators and applies each validator to the data.\n",
    "\n",
    "# New validation rules can be added by creating new classes that extend the Validator base class and adding them to the DataValidator\n",
    "#  instance without modifying existing validators.\n",
    "\n",
    "# This approach ensures that new validation logic can be added by extending the code (creating new classes) rather than modifying existing\n",
    "#  classes, thus adhering to the Open/Closed Principle."
   ]
  },
  {
   "cell_type": "code",
   "execution_count": 7,
   "metadata": {},
   "outputs": [],
   "source": [
    "# Implementing New Validation Rules:\n",
    "\n",
    "# Example: Adding new validation rules without modifying existing validators."
   ]
  },
  {
   "cell_type": "code",
   "execution_count": 11,
   "metadata": {},
   "outputs": [],
   "source": [
    "# Imagine a parent has two children, SchemaValidator and NonNullValidator and we are adding a new child RangeValidator.\n",
    "# The helper function will take list of children and use common method which also involve the concept of polymorphism.\n",
    "\n",
    "from abc import ABC, abstractmethod\n",
    "\n",
    "class Validator(ABC):\n",
    "    @abstractmethod\n",
    "    def validate(self, data):\n",
    "        pass\n",
    "\n",
    "class SchemaValidator(Validator): # we are extending the abstract class\n",
    "    def validate(self, data):\n",
    "        # Code to validate schema\n",
    "        pass\n",
    "\n",
    "class NonNullValidator(Validator):  # we are extending the abstract class\n",
    "    def validate(self, data):\n",
    "        # Code to validate non-null values\n",
    "        pass\n",
    "\n",
    "def validate_data(validators, data): # This is a helper function that takes concrete classes.\n",
    "    for validator in validators:\n",
    "        validator.validate(data)\n",
    "\n",
    "# Adding a new validator\n",
    "class RangeValidator(Validator): # we are extending the abstract class without modifying the existing classes\n",
    "    def validate(self, data):\n",
    "        # Code to validate value ranges\n",
    "        pass\n",
    "\n",
    "# Usage\n",
    "range_validator = RangeValidator()\n",
    "validate_data([range_validator], data = { 'name': 'John Doe', 'age': 30 })"
   ]
  },
  {
   "cell_type": "code",
   "execution_count": 14,
   "metadata": {},
   "outputs": [],
   "source": [
    "# Invalid Cases for OCP\n",
    "\n",
    "# Modifying Existing Methods for New Requirements:\n",
    "\n",
    "# Example: Changing existing transformation methods to add new formats."
   ]
  },
  {
   "cell_type": "code",
   "execution_count": 15,
   "metadata": {},
   "outputs": [],
   "source": [
    "# Modifying Existing Methods for New Requirements:\n",
    "\n",
    "# Example: Changing existing transformation methods to add new formats."
   ]
  },
  {
   "cell_type": "code",
   "execution_count": 18,
   "metadata": {},
   "outputs": [],
   "source": [
    "# Invalid: modifying existing method to handle new format\n",
    "\n",
    "class DataTransformer:\n",
    "    def transform(self, data, format):\n",
    "        if format == 'json':\n",
    "            # Transform to JSON\n",
    "            pass \n",
    "        elif format == 'xml':\n",
    "            # Transform to XML\n",
    "            pass\n",
    "        elif format == 'csv':  # New format added\n",
    "            # Transform to CSV\n",
    "            pass"
   ]
  },
  {
   "cell_type": "code",
   "execution_count": 19,
   "metadata": {},
   "outputs": [],
   "source": [
    "# Adding New Functionality Directly in Existing Classes:\n",
    "\n",
    "# Example: Directly adding new validation logic in an existing validator class."
   ]
  },
  {
   "cell_type": "code",
   "execution_count": null,
   "metadata": {},
   "outputs": [],
   "source": [
    "# Invalid: adding new validation logic directly\n",
    "class DataValidator:\n",
    "    def validate(self, data):\n",
    "        # Existing validation logic\n",
    "        if not data:\n",
    "            raise ValueError(\"Data cannot be null\")\n",
    "        \n",
    "        # New validation logic added\n",
    "        if not self.is_within_range(data):\n",
    "            raise ValueError(\"Data out of range\")\n",
    "\n",
    "    def is_within_range(self, data):\n",
    "        # Check if data is within a specific range\n",
    "        pass"
   ]
  },
  {
   "cell_type": "code",
   "execution_count": 20,
   "metadata": {},
   "outputs": [],
   "source": [
    "# Hardcoding New Data Sources or Destinations:\n",
    "\n",
    "# Example: Modifying existing data loaders to support new destinations."
   ]
  },
  {
   "cell_type": "code",
   "execution_count": 22,
   "metadata": {},
   "outputs": [],
   "source": [
    "# Invalid: hardcoding new data destination in existing class\n",
    "\n",
    "class DataLoader:\n",
    "    def load(self, data, destination):\n",
    "        if destination == 'database':\n",
    "            # Load to database\n",
    "            pass\n",
    "        elif destination == 's3':\n",
    "            # Load to S3\n",
    "            pass\n",
    "        elif destination == 'filesystem':  # New destination added (violates OCP because we are modifying the existing class).\n",
    "            # Load to filesystem\n",
    "            pass"
   ]
  }
 ],
 "metadata": {
  "kernelspec": {
   "display_name": "Python 3",
   "language": "python",
   "name": "python3"
  },
  "language_info": {
   "codemirror_mode": {
    "name": "ipython",
    "version": 3
   },
   "file_extension": ".py",
   "mimetype": "text/x-python",
   "name": "python",
   "nbconvert_exporter": "python",
   "pygments_lexer": "ipython3",
   "version": "3.9.6"
  }
 },
 "nbformat": 4,
 "nbformat_minor": 2
}
