{
 "cells": [
  {
   "cell_type": "markdown",
   "metadata": {},
   "source": [
    "Abstraction in object-oriented programming allows you to hide the internal implementation details of a class and \n",
    "expose only the necessary parts. This enables you to change the implementation without affecting the external code\n",
    "that uses the class."
   ]
  },
  {
   "cell_type": "code",
   "execution_count": 63,
   "metadata": {},
   "outputs": [],
   "source": [
    "# Summary of Abstraction Concepts in Python\n",
    "# Abstract Classes and Methods:\n",
    "\n",
    "# abc module \n",
    "# @abstractmethod decorator \n",
    "# Encapsulation with Getters and Setters: \n",
    "\n",
    "# @property decorator\n",
    "# Getters and setters for controlled access\n",
    "# Modules and Packages:\n",
    "\n",
    "# Creating modules (.py files)\n",
    "# Creating packages (directories with __init__.py)\n",
    "# Importing modules and packages\n",
    "# Duck Typing:\n",
    "\n",
    "# Emphasis on behavior over type\n",
    "# Ensuring objects implement required methods\n",
    "# Interface Segregation Principle (Additional Concept):\n",
    "\n",
    "# Using multiple abstract base classes\n",
    "# Segregating interfaces to ensure classes only implement what they need\n",
    "# Single Responsibility Principle (Additional Concept):\n",
    "\n",
    "# Ensuring classes have a single responsibility\n",
    "# Maintaining clean and manageable code\n"
   ]
  },
  {
   "cell_type": "code",
   "execution_count": null,
   "metadata": {},
   "outputs": [],
   "source": [
    "# Here's an example demonstrating abstraction. Suppose you have a class that represents a simple bank account.\n",
    "# Initially, the account balance is stored as a private attribute, but later you might decide to change how the\n",
    "# Balance is stored or calculated. Using abstraction, you can hide these details from the user of the class.\n",
    "\n",
    "# Initial Implementation\n",
    "\n",
    "# In the initial implementation, the balance is stored as a private attribute:"
   ]
  },
  {
   "cell_type": "code",
   "execution_count": 1,
   "metadata": {},
   "outputs": [
    {
     "name": "stdout",
     "output_type": "stream",
     "text": [
      "100\n",
      "150\n",
      "130\n"
     ]
    }
   ],
   "source": [
    "class BankAccount:\n",
    "    def __init__(self, initial_balance):\n",
    "        self.__balance = initial_balance  # Private attribute\n",
    "\n",
    "    @property\n",
    "    def balance(self):\n",
    "        return self.__balance\n",
    "\n",
    "    def deposit(self, amount): # abstracting the core logic of depositing the amount from the user\n",
    "        if amount > 0:\n",
    "            self.__balance += amount\n",
    "        else:\n",
    "            raise ValueError(\"Deposit amount must be positive\") # Letting user know that deposit amount must be positive # This is convention over enforcement\n",
    "\n",
    "    def withdraw(self, amount):\n",
    "        if 0 < amount <= self.__balance:\n",
    "            self.__balance -= amount\n",
    "        else:\n",
    "            raise ValueError(\"Invalid withdrawal amount\") # Letting user know that withdrawal amount must be positive and less than balance\n",
    "\n",
    "# Usage\n",
    "\n",
    "account = BankAccount(100)\n",
    "print(account.balance)  # Output: 100\n",
    "account.deposit(50)\n",
    "print(account.balance)  # Output: 150\n",
    "account.withdraw(20)\n",
    "print(account.balance)  # Output: 130"
   ]
  },
  {
   "cell_type": "code",
   "execution_count": 3,
   "metadata": {},
   "outputs": [],
   "source": [
    "# Updated Implementation\n",
    "\n",
    "# Now, suppose you decide to store the transactions (deposits and withdrawals) and calculate \n",
    "# the balance on the fly instead of storing it directly. You can change the internal implementation \n",
    "# while keeping the external interface the same:"
   ]
  },
  {
   "cell_type": "code",
   "execution_count": 35,
   "metadata": {},
   "outputs": [],
   "source": [
    "# Key Points\n",
    "# Internal Representation Hidden: The balance is now calculated based on the list of transactions instead of being\n",
    "# stored directly. This change is hidden from the user.\n",
    "\n",
    "# External Interface Unchanged: The methods deposit, withdraw, and the property balance remain the same, so the external\n",
    "# code using this class does not need to change.\n",
    "\n",
    "# Flexibility: The internal implementation can be modified as needed without impacting the external code, allowing \n",
    "# for improvements and optimizations.\n",
    "\n",
    "class BankAccount:\n",
    "    def __init__(self, initial_balance):\n",
    "        self.__transactions = [initial_balance]  # Store transactions\n",
    "\n",
    "    @property\n",
    "    def balance(self):\n",
    "        print(\"Calculating balance\")\n",
    "        print(\"Transactions: \", self.__transactions)\n",
    "        return sum(self.__transactions)\n",
    "\n",
    "    def deposit(self, amount):\n",
    "        if amount > 0:\n",
    "            self.__transactions.append(amount)\n",
    "        else:\n",
    "            raise ValueError(\"Deposit amount must be positive\")\n",
    "\n",
    "    def withdraw(self, amount):\n",
    "        if 0 < amount <= self.balance:\n",
    "            self.__transactions.append(-amount)\n",
    "        else:\n",
    "            raise ValueError(\"Invalid withdrawal amount\")\n",
    "\n",
    "# Usage remains the same\n",
    "account = BankAccount(100)"
   ]
  },
  {
   "cell_type": "code",
   "execution_count": 31,
   "metadata": {},
   "outputs": [
    {
     "name": "stdout",
     "output_type": "stream",
     "text": [
      "Calculating balance\n",
      "Transactions:  [100]\n",
      "100\n"
     ]
    }
   ],
   "source": [
    "print(account.balance)  # Output: 100"
   ]
  },
  {
   "cell_type": "code",
   "execution_count": 32,
   "metadata": {},
   "outputs": [
    {
     "name": "stdout",
     "output_type": "stream",
     "text": [
      "Calculating balance\n",
      "Transactions:  [100, 50]\n",
      "150\n"
     ]
    }
   ],
   "source": [
    "account.deposit(50)\n",
    "print(account.balance)  # Output: 150\n"
   ]
  },
  {
   "cell_type": "code",
   "execution_count": 33,
   "metadata": {},
   "outputs": [
    {
     "name": "stdout",
     "output_type": "stream",
     "text": [
      "Calculating balance\n",
      "Transactions:  [100, 50]\n",
      "Calculating balance\n",
      "Transactions:  [100, 50, -20]\n",
      "130\n"
     ]
    }
   ],
   "source": [
    "account.withdraw(20)\n",
    "print(account.balance)  # Output: 130"
   ]
  },
  {
   "cell_type": "code",
   "execution_count": 36,
   "metadata": {},
   "outputs": [],
   "source": [
    "#  Abstract classes in Python are used to define common interfaces and ensure that derived classes implement \n",
    "#  specific methods. They are a key part of achieving data abstraction and enforcing a contract for subclasses.\n",
    "\n",
    "# Abstract Classes in Python\n",
    "# In Python, abstract classes can be created using the abc module. An abstract class cannot be instantiated, and\n",
    "# it often includes one or more abstract methods that must be implemented by subclasses.\n",
    "\n",
    "# Example of an Abstract Class\n",
    "# Here's a simple example to demonstrate how abstract classes are used to achieve abstraction:\n",
    "\n",
    "# Step-by-Step Example\n",
    "\n",
    "# Define an Abstract Class:\n",
    "\n",
    "# Use the ABC class from the abc module to create an abstract class.\n",
    "# Use the @abstractmethod decorator to define abstract methods.\n",
    "# Create Subclasses:\n",
    "\n",
    "# Subclasses must implement the abstract methods defined in the abstract class."
   ]
  },
  {
   "cell_type": "code",
   "execution_count": 2,
   "metadata": {},
   "outputs": [],
   "source": [
    "from abc import ABC, abstractmethod\n",
    "\n",
    "class Shape(ABC):\n",
    "    @abstractmethod\n",
    "    def area(self):\n",
    "        pass\n",
    "\n",
    "    @abstractmethod\n",
    "    def perimeter(self):\n",
    "        pass"
   ]
  },
  {
   "cell_type": "code",
   "execution_count": null,
   "metadata": {},
   "outputs": [],
   "source": [
    "# In above example:\n",
    "\n",
    "# Shape is an abstract class with two abstract methods: area and perimeter.\n",
    "# Any subclass of Shape must implement these methods.\n"
   ]
  },
  {
   "cell_type": "code",
   "execution_count": 9,
   "metadata": {},
   "outputs": [],
   "source": [
    "class Circle(Shape):\n",
    "    def __init__(self, radius):\n",
    "        self.radius = radius\n",
    "    \n",
    "    def area(self): # This class is implementing the abstract methods of the abstract class Shape\n",
    "        return 3.14 * self.radius ** 2\n",
    "\n",
    "    def perimeter(self): # This class is implementing the abstract methods of the abstract class Shape\n",
    "        return 2 * 3.14 * self.radius\n",
    "\n",
    "class Rectangle(Shape):\n",
    "    def __init__(self, length, width):\n",
    "        self.length = length\n",
    "        self.width = width\n",
    "\n",
    "    def area(self): # This class is implementing the abstract methods of the abstract class Shape  \n",
    "        return self.length * self.width\n",
    "\n",
    "    def perimeter(self): # This class is implementing the abstract methods of the abstract class Shape\n",
    "        return 2 * (self.length + self.width)"
   ]
  },
  {
   "cell_type": "code",
   "execution_count": 10,
   "metadata": {},
   "outputs": [
    {
     "name": "stdout",
     "output_type": "stream",
     "text": [
      "Circle Area: 78.5\n",
      "Circle Perimeter: 31.400000000000002\n",
      "Rectangle Area: 28\n",
      "Rectangle Perimeter: 22\n"
     ]
    }
   ],
   "source": [
    "circle = Circle(5)\n",
    "rectangle = Rectangle(4, 7)\n",
    "\n",
    "# print(f\"Circle Area: {circle.area}\")  # calling directly using the property decorator\n",
    "\n",
    "print(f\"Circle Area: {circle.area()}\")  # Output: Circle Area: 78.5\n",
    "print(f\"Circle Perimeter: {circle.perimeter()}\")  # Output: Circle Perimeter: 31.400000000000002\n",
    "\n",
    "print(f\"Rectangle Area: {rectangle.area()}\")  # Output: Rectangle Area: 28\n",
    "print(f\"Rectangle Perimeter: {rectangle.perimeter()}\")  # Output: Rectangle Perimeter: 22"
   ]
  },
  {
   "cell_type": "code",
   "execution_count": 39,
   "metadata": {},
   "outputs": [],
   "source": [
    "# Abstract Class: A class that cannot be instantiated and usually contains one or more abstract methods.\n",
    "\n",
    "# Abstract Method: A method declared in an abstract class that must be implemented by subclasses.\n",
    "\n",
    "# Enforcing a Contract: Abstract classes enforce that derived classes implement certain methods, ensuring consistency.\n",
    "\n",
    "# Flexibility and Extensibility: Abstract classes allow for flexible and extensible designs by providing a common interface \n",
    "# for a group of related classes."
   ]
  },
  {
   "cell_type": "code",
   "execution_count": 41,
   "metadata": {},
   "outputs": [],
   "source": [
    "# Below example shows combined concept of abstraction and abstract class and encapsulation and inheritance"
   ]
  },
  {
   "cell_type": "code",
   "execution_count": 43,
   "metadata": {},
   "outputs": [
    {
     "name": "stdout",
     "output_type": "stream",
     "text": [
      "Circle Area: 78.5\n",
      "Circle Perimeter: 31.400000000000002\n",
      "Circle Color: Red\n",
      "Rectangle Area: 28\n",
      "Rectangle Perimeter: 22\n",
      "Rectangle Color: Blue\n"
     ]
    }
   ],
   "source": [
    "from abc import ABC, abstractmethod\n",
    "\n",
    "class Shape(ABC): # Abstract class from the abc module\n",
    "    def __init__(self, color):\n",
    "        self._color = color  # Protected attribute # This is concept of encapsulation\n",
    "\n",
    "    @property # This is concept of defining getter and setter methods using property decorator\n",
    "    def color(self):\n",
    "        return self._color\n",
    "\n",
    "    @color.setter\n",
    "    def color(self, value):\n",
    "        if value:\n",
    "            self._color = value\n",
    "        else:\n",
    "            raise ValueError(\"Color cannot be empty\") # This is concept of letting user know that color cannot be empty\n",
    "\n",
    "    @abstractmethod # This is concept of defining abstract methods using abstractmethod decorator\n",
    "    def area(self): \n",
    "        pass\n",
    "\n",
    "    @abstractmethod\n",
    "    def perimeter(self):\n",
    "        pass\n",
    "\n",
    "class Circle(Shape):\n",
    "    def __init__(self, radius, color):\n",
    "        super().__init__(color)\n",
    "        self.radius = radius\n",
    "\n",
    "    def area(self): # This class is implementing the abstract methods of the abstract class Shape\n",
    "        return 3.14 * self.radius ** 2\n",
    "\n",
    "    def perimeter(self):\n",
    "        return 2 * 3.14 * self.radius\n",
    "\n",
    "class Rectangle(Shape):\n",
    "    def __init__(self, length, width, color):\n",
    "        super().__init__(color)\n",
    "        self.length = length\n",
    "        self.width = width\n",
    "\n",
    "    def area(self):\n",
    "        return self.length * self.width\n",
    "\n",
    "    def perimeter(self):\n",
    "        return 2 * (self.length + self.width)\n",
    "\n",
    "# Usage\n",
    "circle = Circle(5, \"Red\")\n",
    "rectangle = Rectangle(4, 7, \"Blue\")\n",
    "\n",
    "print(f\"Circle Area: {circle.area()}\")  # Output: Circle Area: 78.5\n",
    "print(f\"Circle Perimeter: {circle.perimeter()}\")  # Output: Circle Perimeter: 31.400000000000002\n",
    "print(f\"Circle Color: {circle.color}\")  # Output: Circle Color: Red\n",
    "\n",
    "print(f\"Rectangle Area: {rectangle.area()}\")  # Output: Rectangle Area: 28\n",
    "print(f\"Rectangle Perimeter: {rectangle.perimeter()}\")  # Output: Rectangle Perimeter: 22\n",
    "print(f\"Rectangle Color: {rectangle.color}\")  # Output: Rectangle Color: Blue\n"
   ]
  },
  {
   "cell_type": "code",
   "execution_count": null,
   "metadata": {},
   "outputs": [],
   "source": [
    "# Duck Typing:\n",
    "\n",
    "# Python follows the principle of \"duck typing,\" which is a form of dynamic typing. If an object behaves\n",
    "# like a duck (supports the operations you expect), it can be used as a duck.\n",
    "# This principle allows for flexible and dynamic code but is conceptually related to abstraction as it emphasizes\n",
    "#  the behavior (interface) rather than the specific type of an object."
   ]
  },
  {
   "cell_type": "code",
   "execution_count": 12,
   "metadata": {},
   "outputs": [
    {
     "name": "stdout",
     "output_type": "stream",
     "text": [
      "FileWriter writing: Hello, FileWriter!\n",
      "Logger writing: Hello, Logger!\n"
     ]
    }
   ],
   "source": [
    "class FileWriter:\n",
    "    def write(self, text):\n",
    "        print(f\"FileWriter writing: {text}\")\n",
    "\n",
    "class Logger:\n",
    "    def write(self, text):\n",
    "        print(f\"Logger writing: {text}\")\n",
    "\n",
    "def write_to_stream(stream, text): # This is concept of duck typing where we are not checking the type of the object but we are checking the behavior of the object\n",
    "    stream.write(text) # Here we are checking the behavior of the object\n",
    "\n",
    "# Usage\n",
    "file_writer = FileWriter() #Both are different classes but they have same method write\n",
    "logger = Logger()\n",
    "\n",
    "write_to_stream(file_writer, \"Hello, FileWriter!\")  # Output: FileWriter writing: Hello, FileWriter!\n",
    "write_to_stream(logger, \"Hello, Logger!\")          # Output: Logger writing: Hello, Logger!\n"
   ]
  },
  {
   "cell_type": "code",
   "execution_count": 48,
   "metadata": {},
   "outputs": [],
   "source": [
    "# In above example, both FileWriter and Logger have a write method. The write_to_stream function does not care \n",
    "# about the specific type of the object; it just calls the write method, demonstrating duck typing."
   ]
  },
  {
   "cell_type": "code",
   "execution_count": 13,
   "metadata": {},
   "outputs": [
    {
     "name": "stdout",
     "output_type": "stream",
     "text": [
      "1\n",
      "2\n",
      "3\n",
      "4\n",
      "5\n",
      "6\n",
      "7\n",
      "8\n",
      "9\n",
      "10\n"
     ]
    }
   ],
   "source": [
    "class NumberList:\n",
    "    def __init__(self, numbers):\n",
    "        self.numbers = numbers\n",
    "\n",
    "    def __iter__(self):\n",
    "        return iter(self.numbers)\n",
    "\n",
    "def process_iterable(iterable): # This is concept of duck typing where we are not checking the type of the object but we are checking the behavior of the object\n",
    "    for item in iterable:\n",
    "        print(item)\n",
    "\n",
    "# Usage\n",
    "number_list = NumberList([1, 2, 3, 4, 5])\n",
    "process_iterable(number_list)  # Output: 1 2 3 4 5\n",
    "\n",
    "# Using a built-in list\n",
    "process_iterable([6, 7, 8, 9, 10])  # Output: 6 7 8 9 10"
   ]
  },
  {
   "cell_type": "code",
   "execution_count": 50,
   "metadata": {},
   "outputs": [],
   "source": [
    "# Above Example: Duck Typing with Iterables\n",
    "\n",
    "# Here's an example that shows how duck typing can be used with iterables. \n",
    "# The function processes any object that supports the iteration protocol (i.e., has an __iter__ method).\n",
    "\n",
    "# In this example, NumberList implements the iteration protocol by defining an __iter__ method. \n",
    "# The process_iterable function can process any iterable, demonstrating duck typing."
   ]
  },
  {
   "cell_type": "code",
   "execution_count": 52,
   "metadata": {},
   "outputs": [],
   "source": [
    "class Resource:\n",
    "    def __enter__(self):\n",
    "        print(\"Resource acquired\")\n",
    "        return self\n",
    "\n",
    "    def __exit__(self, exc_type, exc_value, traceback):\n",
    "        print(\"Resource released\")\n",
    "\n",
    "def use_resource(resource):\n",
    "    with resource as res:\n",
    "        print(\"Using resource\")\n",
    "\n",
    "# Usage\n",
    "resource = Resource()"
   ]
  },
  {
   "cell_type": "code",
   "execution_count": 53,
   "metadata": {},
   "outputs": [
    {
     "name": "stdout",
     "output_type": "stream",
     "text": [
      "Resource acquired\n",
      "Using resource\n",
      "Resource released\n"
     ]
    }
   ],
   "source": [
    "use_resource(resource)\n",
    "# Output:\n",
    "# Resource acquired\n",
    "# Using resource\n",
    "# Resource released"
   ]
  },
  {
   "cell_type": "code",
   "execution_count": 61,
   "metadata": {},
   "outputs": [],
   "source": [
    "# Above Example: Duck Typing with Context Managers\n",
    "# Duck typing can also be used with context managers, which require objects to have __enter__ and __exit__ methods.\n",
    "\n",
    "# Duck Typing with __enter__ and __exit__ Methods (Context Managers)\n",
    "# Purpose\n",
    "\n",
    "# Resource Management: Context managers are primarily used for managing resources. Common use cases include opening\n",
    "#  and closing files, establishing and tearing down database connections, acquiring and releasing locks, etc.\n",
    "# Automatic Setup and Teardown: They ensure that setup and teardown code is automatically executed around a block of\n",
    "# code, typically using the with statement.\n",
    "# Usage\n",
    "\n",
    "# Context Managers: Execute code before and after a block of code.( but not function call like below)\n",
    "\n",
    "\n",
    "# Decorators: Execute code before, after, or around a function call.\n",
    "# Comparision between context managers and decorators done to signify the difference between the two\n",
    "\n",
    "# Syntax: Context managers are used with the with statement. The __enter__ method is called at the beginning of the\n",
    "#  with block, and the __exit__ method is called at the end, even if an exception occurs.\n",
    "\n",
    "# In this example, the Resource class implements the context manager protocol with __enter__ and __exit__ methods.\n",
    "# The use_resource function can use any object that follows this protocol, demonstrating duck typing.\n",
    "\n",
    "# Summary\n",
    "# Duck typing in Python allows for flexible and dynamic code by emphasizing the behavior (methods and operations)\n",
    "#  of objects rather than their specific types. The examples above illustrate how duck typing can be applied in \n",
    "# various contexts, including file-like objects, iterables, and context managers. This principle is a core part \n",
    "# of Python's dynamic nature and supports the creation of flexible, reusable code."
   ]
  },
  {
   "cell_type": "code",
   "execution_count": 62,
   "metadata": {},
   "outputs": [
    {
     "name": "stdout",
     "output_type": "stream",
     "text": [
      "Entering the context\n",
      "Inside the context\n",
      "Exiting the context\n"
     ]
    }
   ],
   "source": [
    "class MyContextManager: # This is ideal in case of file handling, database connection, etc\n",
    "    def __enter__(self):\n",
    "        print(\"Entering the context\")\n",
    "        return self\n",
    "    \n",
    "    def __exit__(self, exc_type, exc_value, traceback):\n",
    "        print(\"Exiting the context\")\n",
    "\n",
    "with MyContextManager():\n",
    "    print(\"Inside the context\")"
   ]
  },
  {
   "cell_type": "code",
   "execution_count": 54,
   "metadata": {},
   "outputs": [],
   "source": [
    "# Duck Typing in Data Engineering\n",
    "# Imagine you have different types of data sources (like a CSV file, a database, and an API) and you want \n",
    "# to process data from these sources in the same way. Duck typing allows you to write code that can handle\n",
    "# these different data sources without worrying about their specific types, as long as they all provide a\n",
    "#  method to fetch the data.\n",
    "\n",
    "# Practical Use Case: Data Processing from Different Sources\n",
    "# Let's say we have three types of data sources:\n",
    "\n",
    "# CSV File\n",
    "# Database\n",
    "# API\n",
    "# We'll define a common method fetch_data() for all these data sources. Using duck typing, we'll write a\n",
    "#  function to process the data that works with any data source that provides this method.\n",
    "\n",
    "# Step-by-Step Example\n",
    "\n",
    "# Define Classes for Each Data Source\n",
    "\n",
    "# We'll create three classes: CSVSource, DatabaseSource, and APISource. Each class will have a fetch_data() \n",
    "# method that returns data."
   ]
  },
  {
   "cell_type": "code",
   "execution_count": 14,
   "metadata": {},
   "outputs": [
    {
     "name": "stdout",
     "output_type": "stream",
     "text": [
      "Data from CSV file\n",
      "Data from Database\n",
      "Data from API\n"
     ]
    }
   ],
   "source": [
    "class CSVSource:\n",
    "    def fetch_data(self):\n",
    "        return \"Data from CSV file\"\n",
    "\n",
    "class DatabaseSource:\n",
    "    def fetch_data(self):\n",
    "        return \"Data from Database\"\n",
    "\n",
    "class APISource:\n",
    "    def fetch_data(self):\n",
    "        return \"Data from API\"\n",
    "    \n",
    "def process_data(data_source): # This method is using duck typing where we are not checking the type of the object but we are checking the behavior of the object\n",
    "    data = data_source.fetch_data() # This type of method is called duck typing where we are checking the behavior of the object\n",
    "    print(data)\n",
    "\n",
    "csv_source = CSVSource()\n",
    "db_source = DatabaseSource()\n",
    "api_source = APISource()\n",
    "\n",
    "process_data(csv_source)  # Output: Data from CSV file\n",
    "process_data(db_source)   # Output: Data from Database\n",
    "process_data(api_source)  # Output: Data from API"
   ]
  },
  {
   "cell_type": "code",
   "execution_count": 58,
   "metadata": {},
   "outputs": [],
   "source": [
    "# Duck typing allows you to write flexible code that can work with any object, as long as that object provides\n",
    "# the necessary methods or behaviors.In our data engineering example, we created different data source classes\n",
    "# with a common method (fetch_data()). The process_data function can process data from any of these sources without\n",
    "# needing to know the specific type of the data source, demonstrating the power and simplicity of duck typing.\n",
    "\n",
    "# This principle helps in writing code that is easier to extend and maintain, as you can add new data sources \n",
    "# without changing the code that processes the data, as long as the new data sources adhere to the expected interface."
   ]
  },
  {
   "cell_type": "code",
   "execution_count": null,
   "metadata": {},
   "outputs": [],
   "source": [
    "# Composition:\n",
    "# Composition is a design principle where a class is composed of one or more objects of other classes to achieve more\n",
    "#  complex functionality. It is a way to build complex types by combining objects of other types.\n",
    "\n",
    "# Composition is a part of abstraction as it allows you to create more complex behaviors while hiding the implementation\n",
    "# details."
   ]
  },
  {
   "cell_type": "code",
   "execution_count": 46,
   "metadata": {},
   "outputs": [
    {
     "name": "stdout",
     "output_type": "stream",
     "text": [
      "Engine started\n",
      "Engine stopped\n"
     ]
    }
   ],
   "source": [
    "class Engine:\n",
    "    def start(self):\n",
    "        print(\"Engine started\")\n",
    "\n",
    "    def stop(self):\n",
    "        print(\"Engine stopped\")\n",
    "\n",
    "class Car:\n",
    "    def __init__(self):\n",
    "        self.engine = Engine()  # Car has an Engine # This is concept of composition using object of Engine class as\n",
    "                                # attribute of Car class. Now car class can use the methods of Engine class as its own methods.\n",
    "\n",
    "    def start(self):\n",
    "        self.engine.start() # This is concept of abstraction as Car class is using the methods of Engine class as its own methods\n",
    "\n",
    "    def stop(self):\n",
    "        self.engine.stop() # This is starting another class method inside the class method of another class\n",
    "\n",
    "# Usage\n",
    "car = Car()\n",
    "car.start()  # Output: Engine started\n",
    "car.stop()  # Output: Engine stopped"
   ]
  },
  {
   "cell_type": "code",
   "execution_count": 64,
   "metadata": {},
   "outputs": [],
   "source": [
    "# let's clarify the Interface Segregation Principle (ISP) with an example. The principle states that a class should not be forced to implement methods it does not use. This can be achieved by breaking down large interfaces into smaller, more specific ones.\n",
    "\n",
    "# Example: Interface Segregation Principle\n",
    "# Let's imagine we are designing a system for different types of printers. There are some printers that can print, some that can scan, and some that can both print and scan.\n",
    "\n",
    "# Step-by-Step Example\n",
    "# Define Small, Specific Interfaces (Abstract Base Classes):\n",
    "\n",
    "# Create separate abstract base classes for printable and scannable functionalities.\n",
    "# Implement Classes That Use These Interfaces:\n",
    "\n",
    "# Create classes that implement only the interfaces they need."
   ]
  },
  {
   "cell_type": "code",
   "execution_count": 73,
   "metadata": {},
   "outputs": [],
   "source": [
    "from abc import ABC, abstractmethod\n",
    "\n",
    "class Printable(ABC): # This is a interface \n",
    "    @abstractmethod\n",
    "    def print(self):\n",
    "        pass\n",
    "\n",
    "class Scannable(ABC): # This is a interface\n",
    "    @abstractmethod\n",
    "    def scan(self):\n",
    "        pass\n"
   ]
  },
  {
   "cell_type": "code",
   "execution_count": 66,
   "metadata": {},
   "outputs": [],
   "source": [
    "# Implement Classes Using These Interfaces\n",
    "# Now, let's create three types of printers:\n",
    "\n",
    "# Printer: Can only print.\n",
    "# Scanner: Can only scan.\n",
    "# MultiFunctionPrinter: Can both print and scan."
   ]
  },
  {
   "cell_type": "code",
   "execution_count": 68,
   "metadata": {},
   "outputs": [],
   "source": [
    "class Printer(Printable): # This class is implementing the abstract methods of the abstract class Printable\n",
    "    def print(self):      # This is concrete class that implements abstract methods of abstract class\n",
    "        print(\"Printing document\")\n",
    "\n",
    "class Scanner(Scannable):\n",
    "    def scan(self):\n",
    "        print(\"Scanning document\")\n",
    "\n",
    "class MultiFunctionPrinter(Printable, Scannable):\n",
    "    def print(self):\n",
    "        print(\"Printing document\")\n",
    "\n",
    "    def scan(self):\n",
    "        print(\"Scanning document\")\n"
   ]
  },
  {
   "cell_type": "code",
   "execution_count": 70,
   "metadata": {},
   "outputs": [
    {
     "name": "stdout",
     "output_type": "stream",
     "text": [
      "Printing document\n",
      "Scanning document\n",
      "Printing document\n",
      "Scanning document\n"
     ]
    }
   ],
   "source": [
    "def use_printer(printer: Printable): # This is helper method\n",
    "    printer.print()\n",
    "\n",
    "def use_scanner(scanner: Scannable): # This is helper method\n",
    "    scanner.scan()\n",
    "\n",
    "# Instantiate the devices\n",
    "printer = Printer()\n",
    "scanner = Scanner()\n",
    "multi_function_printer = MultiFunctionPrinter()\n",
    "\n",
    "# Use the devices\n",
    "use_printer(printer)                # Output: Printing document\n",
    "use_scanner(scanner)                # Output: Scanning document\n",
    "use_printer(multi_function_printer) # Output: Printing document\n",
    "use_scanner(multi_function_printer) # Output: Scanning document\n"
   ]
  },
  {
   "cell_type": "code",
   "execution_count": 75,
   "metadata": {},
   "outputs": [],
   "source": [
    "# Specific Interfaces:\n",
    "\n",
    "# Printable and Scannable are separate interfaces, ensuring that a class only implements the methods it needs.\n",
    "\n",
    "# Single Responsibility:\n",
    "\n",
    "# Printer class implements only the Printable interface.\n",
    "# Scanner class implements only the Scannable interface.\n",
    "# MultiFunctionPrinter class implements both Printable and Scannable interfaces.\n",
    "\n",
    "# No Unused Methods:\n",
    "\n",
    "# Each class only implements the methods that are relevant to its functionality, adhering to the Interface Segregation\n",
    "#  Principle.\n",
    "\n",
    "# Summary:\n",
    "\n",
    "# Interface Segregation Principle: Ensures that classes are not forced to implement methods they do not use by breaking down\n",
    "# large interfaces into smaller, more specific ones.\n",
    "\n",
    "# Practical Example: Separate interfaces for printing and scanning functionalities, with different classes implementing only\n",
    "# the interfaces they need.\n",
    "\n",
    "# Benefits: This approach leads to more maintainable and flexible code, as classes are not burdened with unnecessary methods.\n",
    "\n",
    "# Yes, that's correct! By defining smaller, specific abstract base classes, each concrete class that implements these \n",
    "# abstract methods can decide which functionalities (methods) it needs to provide. This way, each concrete class only\n",
    "# implements the methods that are relevant to its purpose."
   ]
  },
  {
   "cell_type": "code",
   "execution_count": null,
   "metadata": {},
   "outputs": [],
   "source": [
    "# Implementing All Interfaces in a Single Class\n",
    "# In this scenario, a class is forced to implement all the methods of multiple interfaces, even if it doesn't need all of them. This can lead to a class having unnecessary methods.\n",
    "\n",
    "# Example\n",
    "\n",
    "# Let's assume we have a large interface that includes methods for printing, scanning, and faxing.\n",
    "\n",
    "# python\n"
   ]
  },
  {
   "cell_type": "code",
   "execution_count": 76,
   "metadata": {},
   "outputs": [],
   "source": [
    "from abc import ABC, abstractmethod\n",
    "\n",
    "class MultiFunctionDevice(ABC):\n",
    "    @abstractmethod\n",
    "    def print(self):\n",
    "        pass\n",
    "\n",
    "    @abstractmethod\n",
    "    def scan(self):\n",
    "        pass\n",
    "\n",
    "    @abstractmethod\n",
    "    def fax(self):\n",
    "        pass"
   ]
  },
  {
   "cell_type": "code",
   "execution_count": null,
   "metadata": {},
   "outputs": [],
   "source": [
    "# Now, every device that inherits from MultiFunctionDevice must implement all three methods, even if it doesn't \n",
    "# support all functionalities."
   ]
  },
  {
   "cell_type": "code",
   "execution_count": 82,
   "metadata": {},
   "outputs": [
    {
     "name": "stdout",
     "output_type": "stream",
     "text": [
      "Printing document\n"
     ]
    },
    {
     "ename": "NotImplementedError",
     "evalue": "This device cannot scan",
     "output_type": "error",
     "traceback": [
      "\u001b[0;31m---------------------------------------------------------------------------\u001b[0m",
      "\u001b[0;31mNotImplementedError\u001b[0m                       Traceback (most recent call last)",
      "Cell \u001b[0;32mIn[82], line 14\u001b[0m\n\u001b[1;32m     12\u001b[0m old_printer \u001b[38;5;241m=\u001b[39m OldPrinter()\n\u001b[1;32m     13\u001b[0m old_printer\u001b[38;5;241m.\u001b[39mprint()  \u001b[38;5;66;03m# Output: Printing document\u001b[39;00m\n\u001b[0;32m---> 14\u001b[0m \u001b[43mold_printer\u001b[49m\u001b[38;5;241;43m.\u001b[39;49m\u001b[43mscan\u001b[49m\u001b[43m(\u001b[49m\u001b[43m)\u001b[49m   \u001b[38;5;66;03m# Raises NotImplementedError: This device cannot scan\u001b[39;00m\n\u001b[1;32m     15\u001b[0m old_printer\u001b[38;5;241m.\u001b[39mfax()    \u001b[38;5;66;03m# Raises NotImplementedError: This device cannot fax\u001b[39;00m\n",
      "Cell \u001b[0;32mIn[82], line 6\u001b[0m, in \u001b[0;36mOldPrinter.scan\u001b[0;34m(self)\u001b[0m\n\u001b[1;32m      5\u001b[0m \u001b[38;5;28;01mdef\u001b[39;00m \u001b[38;5;21mscan\u001b[39m(\u001b[38;5;28mself\u001b[39m):\n\u001b[0;32m----> 6\u001b[0m     \u001b[38;5;28;01mraise\u001b[39;00m \u001b[38;5;167;01mNotImplementedError\u001b[39;00m(\u001b[38;5;124m\"\u001b[39m\u001b[38;5;124mThis device cannot scan\u001b[39m\u001b[38;5;124m\"\u001b[39m)\n",
      "\u001b[0;31mNotImplementedError\u001b[0m: This device cannot scan"
     ]
    }
   ],
   "source": [
    "class OldPrinter(MultiFunctionDevice):\n",
    "    def print(self):\n",
    "        print(\"Printing document\")\n",
    "\n",
    "    def scan(self):\n",
    "        raise NotImplementedError(\"This device cannot scan\") # we are not implementing this method but still we have to implement it as per the interface\n",
    "\n",
    "    def fax(self):\n",
    "        raise NotImplementedError(\"This device cannot fax\") # we are not implementing this method but still we have to implement it as per the interface\n",
    "\n",
    "# Usage\n",
    "old_printer = OldPrinter()\n",
    "old_printer.print()  # Output: Printing document\n",
    "old_printer.scan()   # Raises NotImplementedError: This device cannot scan\n",
    "old_printer.fax()    # Raises NotImplementedError: This device cannot fax"
   ]
  },
  {
   "cell_type": "code",
   "execution_count": null,
   "metadata": {},
   "outputs": [],
   "source": []
  },
  {
   "cell_type": "markdown",
   "metadata": {
    "vscode": {
     "languageId": "plaintext"
    }
   },
   "source": [
    "<!-- Here's an example demonstrating abstraction. Suppose you have a class that represents a simple bank account.\n",
    "Initially, the account balance is stored as a private attribute, but later you might decide to change how the\n",
    "balance is stored or calculated. Using abstraction, you can hide these details from the user of the class.\n",
    "\n",
    "Initial Implementation\n",
    "\n",
    "In the initial implementation, the balance is stored as a private attribute: -->"
   ]
  }
 ],
 "metadata": {
  "kernelspec": {
   "display_name": "Python 3",
   "language": "python",
   "name": "python3"
  },
  "language_info": {
   "codemirror_mode": {
    "name": "ipython",
    "version": 3
   },
   "file_extension": ".py",
   "mimetype": "text/x-python",
   "name": "python",
   "nbconvert_exporter": "python",
   "pygments_lexer": "ipython3",
   "version": "3.9.6"
  }
 },
 "nbformat": 4,
 "nbformat_minor": 2
}
