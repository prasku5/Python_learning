{
 "cells": [
  {
   "cell_type": "markdown",
   "metadata": {},
   "source": [
    "### Access Modifiers in Encapsulation: Correct and Incorrect Access\n",
    "\n",
    "#### Public Attributes\n",
    "**Correct Access:**\n",
    "- **Inside the class**: Direct access.\n",
    "- **Inside subclasses**: Direct access.\n",
    "- **Outside the class**: Direct access.\n",
    "\n",
    "**Incorrect Access (Poor Practices):**\n",
    "- Accessing an uninitialized public attribute.\n",
    "- Directly modifying public attributes without proper documentation or control.\n",
    "\n",
    "#### Protected Attributes\n",
    "**Correct Access:**\n",
    "- **Inside the class**: Direct access.\n",
    "- **Inside subclasses**: Direct access.\n",
    "\n",
    "**Incorrect Access:**\n",
    "- **Outside the class**: Direct access is technically possible but considered bad practice.\n",
    "\n",
    "#### Private Attributes\n",
    "**Correct Access:**\n",
    "- **Inside the class**: Direct access using name mangling (e.g., `self.__attribute`).\n",
    "\n",
    "**Incorrect Access:**\n",
    "- **Inside subclasses**: Direct access using name mangling (e.g., `self._ParentClass__attribute`) is possible but breaks encapsulation.\n",
    "- **Outside the class**: Direct access using name mangling (e.g., `instance._ParentClass__attribute`) is possible but should be avoided.\n",
    "\n",
    "### Summary\n",
    "\n",
    "- **Public Attributes**:\n",
    "  - Intended for unrestricted access.\n",
    "  - Poor practices include accessing uninitialized attributes and modifying them without proper control.\n",
    "\n",
    "- **Protected Attributes**:\n",
    "  - Intended for access within the class and subclasses.\n",
    "  - Poor practice includes accessing them directly from outside the class hierarchy.\n",
    "\n",
    "- **Private Attributes**:\n",
    "  - Intended for access only within the class.\n",
    "  - Poor practice includes using name mangling to access them from subclasses or outside the class hierarchy."
   ]
  },
  {
   "cell_type": "code",
   "execution_count": 1,
   "metadata": {},
   "outputs": [],
   "source": [
    "#protected attributes can be accessed using class methods only from the outside of the class.\n",
    "\n",
    "# convention, these members are intended to be accessed within the class itself and its subclasses, but not from outside the class hierarchy. Unlike private members (with double underscores), protected members do not enforce access restrictions through name mangling. However, it is still considered bad practice to access them directly from outside the class hierarchy.\n",
    "\n",
    "# Here are various scenarios for accessing protected members, including correct and incorrect ways:\n",
    "\n",
    "# Inside the Class:\n",
    "# Inside the Subclass:\n",
    "# Outside the Class/Hierarchy:"
   ]
  },
  {
   "cell_type": "code",
   "execution_count": 10,
   "metadata": {},
   "outputs": [],
   "source": [
    "# inside the class\n",
    "\n",
    "class BaseClass:\n",
    "    def __init__(self):\n",
    "        self._protected_member = \"I am protected\"\n",
    "\n",
    "    def access_protected(self):\n",
    "        return self._protected_member\n",
    "\n",
    "# Example usage\n",
    "base = BaseClass()"
   ]
  },
  {
   "cell_type": "code",
   "execution_count": 12,
   "metadata": {},
   "outputs": [],
   "source": [
    "# In Python, protected members are indicated by a single underscore (e.g., _protected_member), \n",
    "# and they are not subject to name mangling like private members (indicated by double underscores,\n",
    "#  e.g., __private_member)."
   ]
  },
  {
   "cell_type": "code",
   "execution_count": 13,
   "metadata": {},
   "outputs": [
    {
     "ename": "AttributeError",
     "evalue": "'BaseClass' object has no attribute '_BaseClass_protected_member'",
     "output_type": "error",
     "traceback": [
      "\u001b[0;31m---------------------------------------------------------------------------\u001b[0m",
      "\u001b[0;31mAttributeError\u001b[0m                            Traceback (most recent call last)",
      "Cell \u001b[0;32mIn[13], line 1\u001b[0m\n\u001b[0;32m----> 1\u001b[0m \u001b[38;5;28mprint\u001b[39m(\u001b[43mbase\u001b[49m\u001b[38;5;241;43m.\u001b[39;49m\u001b[43m_BaseClass_protected_member\u001b[49m)  \u001b[38;5;66;03m# Output: I am protected\u001b[39;00m\n",
      "\u001b[0;31mAttributeError\u001b[0m: 'BaseClass' object has no attribute '_BaseClass_protected_member'"
     ]
    }
   ],
   "source": [
    "print(base._BaseClass_protected_member)  # Output: I am protected"
   ]
  },
  {
   "cell_type": "code",
   "execution_count": 16,
   "metadata": {},
   "outputs": [
    {
     "name": "stdout",
     "output_type": "stream",
     "text": [
      "I am protected\n"
     ]
    }
   ],
   "source": [
    "# Accessing protected members from outside the class hierarchy which is not recommended.\n",
    "\n",
    "print(base._protected_member)  # Output: I am protected"
   ]
  },
  {
   "cell_type": "code",
   "execution_count": 15,
   "metadata": {},
   "outputs": [
    {
     "name": "stdout",
     "output_type": "stream",
     "text": [
      "I am protected\n"
     ]
    }
   ],
   "source": [
    "print(base.access_protected())  # Output: I am protected"
   ]
  },
  {
   "cell_type": "code",
   "execution_count": 21,
   "metadata": {},
   "outputs": [],
   "source": [
    "# 2. Inside the Subclass\n",
    "# Protected members can be accessed directly within subclasses since there is no concept of name mangling."
   ]
  },
  {
   "cell_type": "code",
   "execution_count": 22,
   "metadata": {},
   "outputs": [],
   "source": [
    "# Protected Attributes\n",
    "# Protected attributes are indicated by a single underscore (e.g., _protected_member).\n",
    "# These attributes are not subject to name mangling and can be accessed directly within the subclass. \n",
    "# When you create an instance of the subclass, the subclass inherits all the attributes and methods of \n",
    "# the parent class, including protected attributes."
   ]
  },
  {
   "cell_type": "code",
   "execution_count": 25,
   "metadata": {},
   "outputs": [],
   "source": [
    "class BaseClass:\n",
    "    def __init__(self):\n",
    "        self._protected_member = \"I am protected\"\n",
    "\n",
    "    def access_protected(self):\n",
    "        return self._protected_member\n",
    "\n",
    "class SubClass(BaseClass):\n",
    "    def access_protected_in_subclass(self):\n",
    "        return self._protected_member\n",
    "\n",
    "# Example usage\n",
    "sub = SubClass()"
   ]
  },
  {
   "cell_type": "code",
   "execution_count": 28,
   "metadata": {},
   "outputs": [
    {
     "name": "stdout",
     "output_type": "stream",
     "text": [
      "I am protected\n"
     ]
    }
   ],
   "source": [
    "# In this example, SubClass inherits _protected_member from BaseClass. Since _protected_member \n",
    "# is protected (not private), it can be accessed directly within the subclass.\n",
    "\n",
    "print(sub.access_protected_in_subclass())  # Output: I am protected"
   ]
  },
  {
   "cell_type": "code",
   "execution_count": 29,
   "metadata": {},
   "outputs": [],
   "source": [
    "# Outside the Class/Hierarchy (Incorrect Usage)\n",
    "# Accessing protected members directly from outside the class hierarchy is considered bad practice,\n",
    "# but technically possible."
   ]
  },
  {
   "cell_type": "code",
   "execution_count": 33,
   "metadata": {},
   "outputs": [
    {
     "name": "stdout",
     "output_type": "stream",
     "text": [
      "Inside the class: I am protected\n",
      "Inside the subclass: I am protected\n",
      "Outside the class/hierarchy: I am protected\n"
     ]
    }
   ],
   "source": [
    "class BaseClass:\n",
    "    def __init__(self):\n",
    "        self._protected_member = \"I am protected\"\n",
    "\n",
    "    def access_protected(self):\n",
    "        return self._protected_member\n",
    "\n",
    "class SubClass(BaseClass):\n",
    "    def access_protected_in_subclass(self):\n",
    "        return self._protected_member\n",
    "\n",
    "# Inside the class\n",
    "base = BaseClass()\n",
    "print(\"Inside the class:\", base.access_protected())  # Output: I am protected\n",
    "\n",
    "# Inside the subclass\n",
    "sub = SubClass()\n",
    "print(\"Inside the subclass:\", sub.access_protected_in_subclass())  # Output: I am protected\n",
    "\n",
    "# Outside the class/hierarchy (Incorrect usage)\n",
    "print(\"Outside the class/hierarchy:\", base._protected_member)  # Output: I am protected (but this is bad practice)\n"
   ]
  },
  {
   "cell_type": "code",
   "execution_count": 37,
   "metadata": {},
   "outputs": [],
   "source": [
    "# Key Points:\n",
    "# Correct Access: Protected members should be accessed only within the class and its subclasses.\n",
    "\n",
    "# Incorrect Access: Accessing protected members directly from outside the class hierarchy breaks \n",
    "# encapsulation and is discouraged.\n",
    "\n",
    "# Convention Over Enforcement: Unlike private members, Python does not enforce protection for protected \n",
    "# members, relying on the convention to indicate intended usage."
   ]
  }
 ],
 "metadata": {
  "kernelspec": {
   "display_name": "Python 3",
   "language": "python",
   "name": "python3"
  },
  "language_info": {
   "codemirror_mode": {
    "name": "ipython",
    "version": 3
   },
   "file_extension": ".py",
   "mimetype": "text/x-python",
   "name": "python",
   "nbconvert_exporter": "python",
   "pygments_lexer": "ipython3",
   "version": "3.9.6"
  }
 },
 "nbformat": 4,
 "nbformat_minor": 2
}
