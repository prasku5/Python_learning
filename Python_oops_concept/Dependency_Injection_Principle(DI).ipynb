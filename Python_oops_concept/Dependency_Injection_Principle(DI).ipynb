{
 "cells": [
  {
   "cell_type": "code",
   "execution_count": 16,
   "metadata": {},
   "outputs": [],
   "source": [
    "# Dependency Injection (DI)\n",
    "\n",
    "# Definition:\n",
    "# Dependency Injection is a design pattern used to implement the Dependency Inversion Principle. It involves passing (injecting)\n",
    "# the dependencies (services, objects) that a class needs rather than having the class create them itself.\n",
    "\n",
    "# Purpose:\n",
    "# DI makes it easier to swap out implementations, facilitates testing (by allowing mock dependencies to be injected), and adheres \n",
    "# to the DIP by ensuring classes depend on abstractions rather than concrete implementations.\n",
    "\n",
    "# Example of DI:\n",
    "# In the previous example, DataProcessor receives its DataSource dependency via its constructor. This is an example of constructor\n",
    "# injection, one of the common types of DI."
   ]
  },
  {
   "cell_type": "code",
   "execution_count": 15,
   "metadata": {},
   "outputs": [],
   "source": [
    "# Relationship Between DIP and DI:\n",
    "# Dependency Inversion Principle is a principle that guides the design of your system to depend on abstractions rather than concrete implementations.\n",
    "# Dependency Injection is a technique or pattern to achieve DIP by providing the necessary dependencies to a class rather than having the class create them."
   ]
  },
  {
   "cell_type": "code",
   "execution_count": 3,
   "metadata": {},
   "outputs": [
    {
     "name": "stdout",
     "output_type": "stream",
     "text": [
      "Processing Data from database\n"
     ]
    }
   ],
   "source": [
    "# This is example of Dependency Inversion Principle (DIP).\n",
    "\n",
    "from abc import ABC, abstractmethod\n",
    "\n",
    "# Abstraction\n",
    "class DataSource(ABC):\n",
    "    @abstractmethod\n",
    "    def get_data(self):\n",
    "        pass\n",
    "\n",
    "# Low-level module\n",
    "class DatabaseSource(DataSource):\n",
    "    def get_data(self):\n",
    "        return \"Data from database\"\n",
    "\n",
    "# High-level module\n",
    "class DataProcessor: # This looks similar to composition but in composition another concrete class object is used as attribute but there we are using abstract class type.\n",
    "    def __init__(self, data_source: DataSource):\n",
    "        self.data_source = data_source\n",
    "\n",
    "    def process(self):\n",
    "        data = self.data_source.get_data()\n",
    "        print(f\"Processing {data}\")\n",
    "\n",
    "# Usage\n",
    "db_source = DatabaseSource()\n",
    "processor = DataProcessor(db_source)\n",
    "processor.process()\n"
   ]
  },
  {
   "cell_type": "code",
   "execution_count": 4,
   "metadata": {},
   "outputs": [
    {
     "name": "stdout",
     "output_type": "stream",
     "text": [
      "Processing Data from database\n"
     ]
    }
   ],
   "source": [
    "# In the previous example, DataProcessor receives its DataSource dependency via its constructor. \n",
    "# This is an example of constructor injection, one of the common types of DI.\n",
    "\n",
    "class DataProcessor:\n",
    "    def __init__(self, data_source: DataSource):\n",
    "        self.data_source = data_source\n",
    "\n",
    "    def process(self):\n",
    "        data = self.data_source.get_data()\n",
    "        print(f\"Processing {data}\")\n",
    "\n",
    "# Dependency injection\n",
    "db_source = DatabaseSource()\n",
    "processor = DataProcessor(db_source)\n",
    "processor.process()\n",
    "\n",
    "# Here, db_source is injected into DataProcessor when it is instantiated. This is constructor-based DI."
   ]
  },
  {
   "cell_type": "code",
   "execution_count": 6,
   "metadata": {},
   "outputs": [],
   "source": [
    "# Types of Dependency Injection:\n",
    "# Constructor Injection:\n",
    "\n",
    "# Dependencies are provided through a class constructor."
   ]
  },
  {
   "cell_type": "code",
   "execution_count": 7,
   "metadata": {},
   "outputs": [],
   "source": [
    "class DataProcessor:\n",
    "    def __init__(self, data_source: DataSource):\n",
    "        self.data_source = data_source\n"
   ]
  },
  {
   "cell_type": "code",
   "execution_count": 9,
   "metadata": {},
   "outputs": [],
   "source": [
    "# Setter Injection:\n",
    "# Dependencies are provided through setter methods."
   ]
  },
  {
   "cell_type": "code",
   "execution_count": 10,
   "metadata": {},
   "outputs": [],
   "source": [
    "class DataProcessor:\n",
    "    def set_data_source(self, data_source: DataSource):\n",
    "        self.data_source = data_source"
   ]
  },
  {
   "cell_type": "code",
   "execution_count": 12,
   "metadata": {},
   "outputs": [],
   "source": [
    "# Interface Injection:\n",
    "# Dependencies are provided through an interface that the class implements."
   ]
  },
  {
   "cell_type": "code",
   "execution_count": 13,
   "metadata": {},
   "outputs": [],
   "source": [
    "class DataProcessor:\n",
    "    def inject_data_source(self, data_source: DataSource):\n",
    "        self.data_source = data_source"
   ]
  }
 ],
 "metadata": {
  "kernelspec": {
   "display_name": "Python 3",
   "language": "python",
   "name": "python3"
  },
  "language_info": {
   "codemirror_mode": {
    "name": "ipython",
    "version": 3
   },
   "file_extension": ".py",
   "mimetype": "text/x-python",
   "name": "python",
   "nbconvert_exporter": "python",
   "pygments_lexer": "ipython3",
   "version": "3.9.6"
  }
 },
 "nbformat": 4,
 "nbformat_minor": 2
}
