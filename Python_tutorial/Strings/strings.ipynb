{
 "cells": [
  {
   "cell_type": "markdown",
   "metadata": {},
   "source": [
    "String is an #Ordered, immutable, text representation"
   ]
  },
  {
   "cell_type": "markdown",
   "metadata": {},
   "source": [
    "string can be created in single or double quotes"
   ]
  },
  {
   "cell_type": "code",
   "execution_count": 1,
   "metadata": {},
   "outputs": [
    {
     "name": "stdout",
     "output_type": "stream",
     "text": [
      "\n",
      "\n",
      "i'm a programmer\n"
     ]
    }
   ],
   "source": [
    "mystring_1 = ''\n",
    "\n",
    "mystring_2 = \"\"\n",
    "\n",
    "mystring_3 = 'i\\'m a programmer'\n",
    "\n",
    "print(mystring_1) \n",
    "print(mystring_2)\n",
    "print(mystring_3)"
   ]
  },
  {
   "cell_type": "markdown",
   "metadata": {},
   "source": [
    "For multi string"
   ]
  },
  {
   "cell_type": "code",
   "execution_count": 9,
   "metadata": {},
   "outputs": [
    {
     "name": "stdout",
     "output_type": "stream",
     "text": [
      "hello \n",
      "word\n"
     ]
    }
   ],
   "source": [
    "multiline_string = \"\"\"hello \n",
    "word\"\"\"\n",
    "\n",
    "print(multiline_string)"
   ]
  },
  {
   "cell_type": "markdown",
   "metadata": {},
   "source": [
    "Escaping backslash wont print and indicates that string continues in new line"
   ]
  },
  {
   "cell_type": "code",
   "execution_count": 11,
   "metadata": {},
   "outputs": [
    {
     "name": "stdout",
     "output_type": "stream",
     "text": [
      "hello word\n"
     ]
    }
   ],
   "source": [
    "multiline_string = \"\"\"hello \\\n",
    "word\"\"\"\n",
    "\n",
    "print(multiline_string)"
   ]
  },
  {
   "cell_type": "code",
   "execution_count": 15,
   "metadata": {},
   "outputs": [
    {
     "name": "stdout",
     "output_type": "stream",
     "text": [
      "h\n"
     ]
    }
   ],
   "source": [
    "char = multiline_string[0] #This is the characters\n",
    "print(char)"
   ]
  },
  {
   "cell_type": "markdown",
   "metadata": {},
   "source": [
    "we can access a character but cant change its values"
   ]
  },
  {
   "cell_type": "code",
   "execution_count": 17,
   "metadata": {},
   "outputs": [
    {
     "ename": "TypeError",
     "evalue": "'str' object does not support item assignment",
     "output_type": "error",
     "traceback": [
      "\u001b[0;31m---------------------------------------------------------------------------\u001b[0m",
      "\u001b[0;31mTypeError\u001b[0m                                 Traceback (most recent call last)",
      "\u001b[1;32m/Users/prasku/Library/CloudStorage/OneDrive-IndianaUniversity/Atom/Python_learning/Python_tutorial/Strings/strings.ipynb Cell 10\u001b[0m in \u001b[0;36m<cell line: 1>\u001b[0;34m()\u001b[0m\n\u001b[0;32m----> <a href='vscode-notebook-cell:/Users/prasku/Library/CloudStorage/OneDrive-IndianaUniversity/Atom/Python_learning/Python_tutorial/Strings/strings.ipynb#ch0000017?line=0'>1</a>\u001b[0m multiline_string[\u001b[39m0\u001b[39;49m] \u001b[39m=\u001b[39m \u001b[39m'\u001b[39m\u001b[39mw\u001b[39m\u001b[39m'\u001b[39m\n",
      "\u001b[0;31mTypeError\u001b[0m: 'str' object does not support item assignment"
     ]
    }
   ],
   "source": [
    "multiline_string[0] = 'w' #So items assingments are not supported since strings are immutable"
   ]
  },
  {
   "cell_type": "code",
   "execution_count": 18,
   "metadata": {},
   "outputs": [
    {
     "name": "stdout",
     "output_type": "stream",
     "text": [
      "d\n"
     ]
    }
   ],
   "source": [
    "substring = multiline_string[-1]\n",
    "print(substring)"
   ]
  },
  {
   "cell_type": "code",
   "execution_count": 19,
   "metadata": {},
   "outputs": [
    {
     "name": "stdout",
     "output_type": "stream",
     "text": [
      "ello w\n"
     ]
    }
   ],
   "source": [
    "substring = multiline_string[1:7]\n",
    "print(substring)"
   ]
  },
  {
   "cell_type": "code",
   "execution_count": 21,
   "metadata": {},
   "outputs": [
    {
     "name": "stdout",
     "output_type": "stream",
     "text": [
      "el \n"
     ]
    }
   ],
   "source": [
    "substring = multiline_string[1:7:2]\n",
    "print(substring)"
   ]
  },
  {
   "cell_type": "code",
   "execution_count": 23,
   "metadata": {},
   "outputs": [
    {
     "name": "stdout",
     "output_type": "stream",
     "text": [
      "drow olleh\n"
     ]
    }
   ],
   "source": [
    "reverse_string = multiline_string[::-1]\n",
    "print(reverse_string)"
   ]
  },
  {
   "cell_type": "markdown",
   "metadata": {},
   "source": [
    "Joining two strings "
   ]
  },
  {
   "cell_type": "code",
   "execution_count": 24,
   "metadata": {},
   "outputs": [],
   "source": [
    "string_a = \"hello\"\n",
    "string_b = \"world\""
   ]
  },
  {
   "cell_type": "code",
   "execution_count": 26,
   "metadata": {},
   "outputs": [
    {
     "data": {
      "text/plain": [
       "'hello world'"
      ]
     },
     "execution_count": 26,
     "metadata": {},
     "output_type": "execute_result"
    }
   ],
   "source": [
    "string_a + \" \" + string_b"
   ]
  },
  {
   "cell_type": "markdown",
   "metadata": {},
   "source": [
    "check a character in a string"
   ]
  },
  {
   "cell_type": "code",
   "execution_count": 28,
   "metadata": {},
   "outputs": [
    {
     "name": "stdout",
     "output_type": "stream",
     "text": [
      "character is present\n"
     ]
    }
   ],
   "source": [
    "if 'l' in string_a:\n",
    "    print(\"character is present\")\n",
    "else:\n",
    "    print(\"character is not present\")"
   ]
  },
  {
   "cell_type": "markdown",
   "metadata": {},
   "source": [
    "check word in statement"
   ]
  },
  {
   "cell_type": "code",
   "execution_count": 29,
   "metadata": {},
   "outputs": [
    {
     "name": "stdout",
     "output_type": "stream",
     "text": [
      "hello word\n"
     ]
    }
   ],
   "source": [
    "print(multiline_string)"
   ]
  },
  {
   "cell_type": "code",
   "execution_count": 30,
   "metadata": {},
   "outputs": [
    {
     "name": "stdout",
     "output_type": "stream",
     "text": [
      "word is present in the statement\n"
     ]
    }
   ],
   "source": [
    "if 'hello' in multiline_string:\n",
    "    print('word is present in the statement')\n",
    "else:\n",
    "    print('word is not present in the statement')"
   ]
  },
  {
   "cell_type": "markdown",
   "metadata": {},
   "source": [
    "Remove leading and trailing space unwanted space charactes"
   ]
  },
  {
   "cell_type": "code",
   "execution_count": 31,
   "metadata": {},
   "outputs": [],
   "source": [
    "string_3 = '       bloomington     '"
   ]
  },
  {
   "cell_type": "code",
   "execution_count": 32,
   "metadata": {},
   "outputs": [
    {
     "name": "stdout",
     "output_type": "stream",
     "text": [
      "       bloomington     \n"
     ]
    }
   ],
   "source": [
    "print(string_3)"
   ]
  },
  {
   "cell_type": "code",
   "execution_count": 35,
   "metadata": {},
   "outputs": [
    {
     "name": "stdout",
     "output_type": "stream",
     "text": [
      "bloomington\n",
      "       bloomington     \n"
     ]
    }
   ],
   "source": [
    "print(string_3.strip()) #This method will not change the existing string\n",
    "print(string_3)"
   ]
  },
  {
   "cell_type": "markdown",
   "metadata": {},
   "source": [
    "Checking the upper and lower methods to convert to small and upper case"
   ]
  },
  {
   "cell_type": "code",
   "execution_count": 36,
   "metadata": {},
   "outputs": [],
   "source": [
    "string_5 = 'Indiana University'"
   ]
  },
  {
   "cell_type": "code",
   "execution_count": 37,
   "metadata": {},
   "outputs": [
    {
     "name": "stdout",
     "output_type": "stream",
     "text": [
      "indiana university\n"
     ]
    }
   ],
   "source": [
    "string_5_lower_case = string_5.lower()\n",
    "print(string_5_lower_case)"
   ]
  },
  {
   "cell_type": "code",
   "execution_count": 38,
   "metadata": {},
   "outputs": [
    {
     "name": "stdout",
     "output_type": "stream",
     "text": [
      "INDIANA UNIVERSITY\n"
     ]
    }
   ],
   "source": [
    "string_5_upper_case = string_5.upper()\n",
    "print(string_5_upper_case)"
   ]
  },
  {
   "cell_type": "markdown",
   "metadata": {},
   "source": [
    "Replacement of substring within a string"
   ]
  },
  {
   "cell_type": "code",
   "execution_count": 40,
   "metadata": {},
   "outputs": [
    {
     "name": "stdout",
     "output_type": "stream",
     "text": [
      "indi university\n"
     ]
    }
   ],
   "source": [
    "print(string_5_lower_case.replace('indiana','indi'))"
   ]
  },
  {
   "cell_type": "code",
   "execution_count": 45,
   "metadata": {},
   "outputs": [
    {
     "ename": "SyntaxError",
     "evalue": "invalid syntax (<ipython-input-45-db2faf21d01e>, line 1)",
     "output_type": "error",
     "traceback": [
      "\u001b[0;36m  Input \u001b[0;32mIn [45]\u001b[0;36m\u001b[0m\n\u001b[0;31m    using the split method to seperate the words from the sentence\u001b[0m\n\u001b[0m          ^\u001b[0m\n\u001b[0;31mSyntaxError\u001b[0m\u001b[0;31m:\u001b[0m invalid syntax\n"
     ]
    }
   ],
   "source": [
    "using the split method to seperate the words from the sentence\n",
    "\n",
    "string_A = \"hello word\"\n",
    "string_B = \"hello\"\n",
    "\n",
    "print(string_A.split(' ')) #Since its immutable we have to assign it to some other variable"
   ]
  },
  {
   "cell_type": "code",
   "execution_count": 47,
   "metadata": {},
   "outputs": [
    {
     "name": "stdout",
     "output_type": "stream",
     "text": [
      "['hello', 'word']\n"
     ]
    }
   ],
   "source": [
    "string_A = \"hello word\" #Default argument is space\n",
    "split_string = string_A.split(' ') \n",
    "print(split_string)"
   ]
  },
  {
   "cell_type": "code",
   "execution_count": 49,
   "metadata": {},
   "outputs": [
    {
     "name": "stdout",
     "output_type": "stream",
     "text": [
      "['hello']\n"
     ]
    }
   ],
   "source": [
    "string_A = \"hello\"\n",
    "split_string = string_A.split()\n",
    "print(split_string)"
   ]
  },
  {
   "cell_type": "markdown",
   "metadata": {},
   "source": [
    "Convert string to char list\n"
   ]
  },
  {
   "cell_type": "markdown",
   "metadata": {},
   "source": [
    "The list() constructor builds a list directly from an iterable, and since the string is iterable, you can construct a list from it. Performing list(s) on a string s returns a list of all the characters present in the string, in the same order as the string’s characters."
   ]
  },
  {
   "cell_type": "code",
   "execution_count": 53,
   "metadata": {},
   "outputs": [
    {
     "data": {
      "text/plain": [
       "['h', 'e', 'l', 'l', 'o']"
      ]
     },
     "execution_count": 53,
     "metadata": {},
     "output_type": "execute_result"
    }
   ],
   "source": [
    "char_set = list(string_A) \n",
    "char_set"
   ]
  },
  {
   "cell_type": "markdown",
   "metadata": {},
   "source": [
    "Join elements of a list"
   ]
  },
  {
   "cell_type": "code",
   "execution_count": 55,
   "metadata": {},
   "outputs": [
    {
     "name": "stdout",
     "output_type": "stream",
     "text": [
      "h e l l o\n"
     ]
    }
   ],
   "source": [
    "new_joined_string = ' '.join(char_set)\n",
    "print(new_joined_string)"
   ]
  },
  {
   "cell_type": "markdown",
   "metadata": {},
   "source": [
    "Create a list with 6 elements of characters a"
   ]
  },
  {
   "cell_type": "code",
   "execution_count": 60,
   "metadata": {},
   "outputs": [
    {
     "name": "stdout",
     "output_type": "stream",
     "text": [
      "['a', 'a', 'a', 'a', 'a', 'a']\n",
      "aaaaaa\n"
     ]
    }
   ],
   "source": [
    "a = ['a'] * 6 \n",
    "print(a)\n",
    "b = ''.join(a) #This is very fast\n",
    "print(b)"
   ]
  },
  {
   "cell_type": "code",
   "execution_count": 4,
   "metadata": {},
   "outputs": [
    {
     "name": "stdout",
     "output_type": "stream",
     "text": [
      "0.8613547079999933\n",
      "0.04262058300000149\n"
     ]
    }
   ],
   "source": [
    "from timeit import default_timer as timer\n",
    "\n",
    "#Bad python coding practice\n",
    "\n",
    "a = ['a'] * 10000000 # we are creating a list with 10000000 elements\n",
    "\n",
    "start = timer()\n",
    "mystring_4 = ''\n",
    "for i in a:\n",
    "    mystring_4 += i\n",
    "#print(mystring_4)\n",
    "stop = timer()\n",
    "\n",
    "print(stop - start)\n",
    "\n",
    "#Good python coding practice\n",
    "\n",
    "start = timer()\n",
    "mystring_5 = ''.join(a) \n",
    "#print(mystring_5)\n",
    "stop = timer()\n",
    "\n",
    "print(stop - start)\n",
    "\n",
    "#So always practice to use a native python method - join in this case for strings\n",
    " "
   ]
  },
  {
   "cell_type": "markdown",
   "metadata": {},
   "source": [
    "How to format strings"
   ]
  },
  {
   "cell_type": "markdown",
   "metadata": {},
   "source": [
    "% operator\n",
    "\n",
    ".format() operator\n",
    "\n",
    "f-String operator\n"
   ]
  },
  {
   "cell_type": "code",
   "execution_count": 18,
   "metadata": {},
   "outputs": [
    {
     "name": "stdout",
     "output_type": "stream",
     "text": [
      "==================================================\n",
      "the variable is Jerry\n",
      "the variable is 50\n",
      "the variable is 3.14\n",
      "==================================================\n",
      "the variable is Jerry\n",
      "the variable is 50\n",
      "the variable is 3.14\n",
      "==================================================\n",
      "the variable is Jerry\n",
      "the variable is 50\n",
      "the variable is 3.14234234\n",
      "==================================================\n"
     ]
    }
   ],
   "source": [
    "var = \"Jerry\"\n",
    "num = 50\n",
    "flt = 3.14234234\n",
    "\n",
    "print('='*50)\n",
    "\n",
    "mystring_6 = \"the variable is %s\" % var # %s for strings\n",
    "mystring_7 = \"the variable is %d\" % num # %s for numbers\n",
    "mystring_8 = \"the variable is %.2f\" % flt # %s for numbers\n",
    "\n",
    "print(mystring_6)\n",
    "print(mystring_7)\n",
    "print(mystring_8)\n",
    "\n",
    "print('='*50)\n",
    "\n",
    "mystring_9 = \"the variable is {}\".format(var) # %s for strings\n",
    "mystring_10 = \"the variable is {}\".format(num) # %s for numbers\n",
    "mystring_11 = \"the variable is {:.2f}\".format(flt)# %s for numbers\n",
    "\n",
    "print(mystring_9)\n",
    "print(mystring_10)\n",
    "print(mystring_11)\n",
    "\n",
    "print('='*50)\n",
    "\n",
    "mystring_12 = f\"the variable is {var}\" # %s for strings\n",
    "mystring_13 = f\"the variable is {num}\" # %s for numbers\n",
    "mystring_14 = f\"the variable is {flt}\" # %s for numbers\n",
    "\n",
    "print(mystring_12)\n",
    "print(mystring_13)\n",
    "print(mystring_14)\n",
    "\n",
    "print('='*50)"
   ]
  }
 ],
 "metadata": {
  "kernelspec": {
   "display_name": "Python 3.8.13 ('mlp')",
   "language": "python",
   "name": "python3"
  },
  "language_info": {
   "codemirror_mode": {
    "name": "ipython",
    "version": 3
   },
   "file_extension": ".py",
   "mimetype": "text/x-python",
   "name": "python",
   "nbconvert_exporter": "python",
   "pygments_lexer": "ipython3",
   "version": "3.8.13"
  },
  "orig_nbformat": 4,
  "vscode": {
   "interpreter": {
    "hash": "d6e887bb000de1b0aff36cb2158729a89ef44447281fafe2f7a9ff11a98f3c71"
   }
  }
 },
 "nbformat": 4,
 "nbformat_minor": 2
}
