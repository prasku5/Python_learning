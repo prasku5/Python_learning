{
 "cells": [
  {
   "cell_type": "markdown",
   "metadata": {},
   "source": [
    "## enqueue(item)\n",
    "### Adds an item to the rear of the queue."
   ]
  },
  {
   "cell_type": "code",
   "execution_count": 1,
   "metadata": {},
   "outputs": [
    {
     "name": "stdout",
     "output_type": "stream",
     "text": [
      "deque([1, 2, 3])\n"
     ]
    }
   ],
   "source": [
    "from collections import deque\n",
    "\n",
    "queue = deque()\n",
    "\n",
    "queue.append(1)\n",
    "queue.append(2)\n",
    "queue.append(3)\n",
    "\n",
    "print(queue)  # Output: deque([1, 2, 3])"
   ]
  },
  {
   "cell_type": "markdown",
   "metadata": {},
   "source": [
    "## dequeue()\n",
    "\n",
    "### Removes and returns the front item from the queue"
   ]
  },
  {
   "cell_type": "code",
   "execution_count": 3,
   "metadata": {},
   "outputs": [
    {
     "name": "stdout",
     "output_type": "stream",
     "text": [
      "Dequeued item: 1\n",
      "deque([2, 3])\n"
     ]
    }
   ],
   "source": [
    "queue = deque([1, 2, 3])\n",
    "\n",
    "front_item = queue.popleft()\n",
    "print(\"Dequeued item:\", front_item)  # Output: Dequeued item: 1\n",
    "print(queue)  # Output: deque([2, 3])"
   ]
  },
  {
   "cell_type": "markdown",
   "metadata": {},
   "source": [
    "## peek()\n",
    "\n",
    "### Returns the front item from the queue without removing it."
   ]
  },
  {
   "cell_type": "code",
   "execution_count": 4,
   "metadata": {},
   "outputs": [
    {
     "name": "stdout",
     "output_type": "stream",
     "text": [
      "Front item: 1\n",
      "deque([1, 2, 3])\n"
     ]
    }
   ],
   "source": [
    "queue = deque([1, 2, 3])\n",
    "\n",
    "front_item = queue[0]\n",
    "print(\"Front item:\", front_item)  # Output: Front item: 1\n",
    "print(queue)  # Output: deque([1, 2, 3]) (queue remains unchanged)"
   ]
  },
  {
   "cell_type": "markdown",
   "metadata": {},
   "source": [
    "## is_empty()\n",
    "\n",
    "### Checks if the queue is empty."
   ]
  },
  {
   "cell_type": "code",
   "execution_count": 6,
   "metadata": {},
   "outputs": [
    {
     "name": "stdout",
     "output_type": "stream",
     "text": [
      "Is queue empty? True\n",
      "Is queue empty? False\n"
     ]
    }
   ],
   "source": [
    "queue = deque()\n",
    "\n",
    "print(\"Is queue empty?\", len(queue) == 0)  # Output: Is queue empty? True\n",
    "\n",
    "queue.append(1)\n",
    "print(\"Is queue empty?\", len(queue) == 0)  # Output: Is queue empty? False"
   ]
  },
  {
   "cell_type": "markdown",
   "metadata": {},
   "source": [
    "## size()\n",
    "\n",
    "### Returns the number of items in the queue."
   ]
  },
  {
   "cell_type": "code",
   "execution_count": 8,
   "metadata": {},
   "outputs": [
    {
     "name": "stdout",
     "output_type": "stream",
     "text": [
      "Size of queue: 3\n"
     ]
    }
   ],
   "source": [
    "queue = deque([1, 2, 3])\n",
    "\n",
    "print(\"Size of queue:\", len(queue))  # Output: Size of queue: 3"
   ]
  },
  {
   "cell_type": "markdown",
   "metadata": {},
   "source": [
    "## Example using a custom implementation with a linked list:\n"
   ]
  },
  {
   "cell_type": "code",
   "execution_count": 12,
   "metadata": {},
   "outputs": [
    {
     "name": "stdout",
     "output_type": "stream",
     "text": [
      "Size of queue: 3\n",
      "Front item: 1\n",
      "Dequeued item: 1\n",
      "Is queue empty? False\n",
      "the queue is:  2 3\n"
     ]
    }
   ],
   "source": [
    "class Node:\n",
    "    def __init__(self, value):\n",
    "        self.value = value\n",
    "        self.next = None\n",
    "\n",
    "class Queue:\n",
    "    def __init__(self):\n",
    "        self.front = None\n",
    "        self.rear = None\n",
    "\n",
    "    def enqueue(self, value):\n",
    "        new_node = Node(value)\n",
    "        if self.rear is None:\n",
    "            self.front = new_node\n",
    "            self.rear = new_node\n",
    "        else:\n",
    "            self.rear.next = new_node\n",
    "            self.rear = new_node\n",
    "\n",
    "    def dequeue(self):\n",
    "        if self.front is None:\n",
    "            return None\n",
    "        dequeued_value = self.front.value\n",
    "        self.front = self.front.next\n",
    "        if self.front is None:\n",
    "            self.rear = None\n",
    "        return dequeued_value\n",
    "\n",
    "    def peek(self):\n",
    "        if self.front is None:\n",
    "            return None\n",
    "        return self.front.value\n",
    "\n",
    "    def is_empty(self):\n",
    "        return self.front is None\n",
    "\n",
    "    def size(self):\n",
    "        current = self.front\n",
    "        count = 0\n",
    "        while current:\n",
    "            count += 1\n",
    "            current = current.next\n",
    "        return count\n",
    "\n",
    "# Example usage of the custom Queue implementation\n",
    "queue = Queue()\n",
    "\n",
    "queue.enqueue(1)\n",
    "queue.enqueue(2)\n",
    "queue.enqueue(3)\n",
    "\n",
    "print(\"Size of queue:\", queue.size())  # Output: Size of queue: 3\n",
    "\n",
    "print(\"Front item:\", queue.peek())  # Output: Front item: 1\n",
    "\n",
    "dequeued_item = queue.dequeue()\n",
    "print(\"Dequeued item:\", dequeued_item)  # Output: Dequeued item: 1\n",
    "\n",
    "print(\"Is queue empty?\", queue.is_empty())  # Output: Is queue empty? False\n",
    "\n",
    "print(\"the queue is: \", queue.front.value, queue.front.next.value)  # Output: the queue is: 2 3 3\n"
   ]
  }
 ],
 "metadata": {
  "kernelspec": {
   "display_name": "Python 3",
   "language": "python",
   "name": "python3"
  },
  "language_info": {
   "codemirror_mode": {
    "name": "ipython",
    "version": 3
   },
   "file_extension": ".py",
   "mimetype": "text/x-python",
   "name": "python",
   "nbconvert_exporter": "python",
   "pygments_lexer": "ipython3",
   "version": "3.9.6"
  }
 },
 "nbformat": 4,
 "nbformat_minor": 2
}
