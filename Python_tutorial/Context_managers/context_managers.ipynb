{
 "cells": [
  {
   "cell_type": "markdown",
   "metadata": {},
   "source": [
    "Context managers in Python are a powerful feature for managing resources such as files, network connections,\n",
    "\n",
    " and locks. They ensure that resources are properly acquired and released, even in the presence of errors.\n",
    " \n",
    "  This is typically done using the with statement.\n",
    "\n",
    "1. Using with Statements\n",
    "\n",
    "The with statement simplifies the management of resources by ensuring that certain setup and teardown actions\n",
    "\n",
    " are performed. It's commonly used for handling files, ensuring that they are properly opened and closed.\n",
    "\n",
    "Basic Example: File Handling"
   ]
  },
  {
   "cell_type": "code",
   "execution_count": 1,
   "metadata": {},
   "outputs": [],
   "source": [
    "with open('example.txt', 'w') as file:\n",
    "    file.write('Hello, world!')\n",
    "# The file is automatically closed at the end of the block"
   ]
  },
  {
   "cell_type": "markdown",
   "metadata": {},
   "source": [
    "Creating Custom Context Managers\n",
    "\n",
    "You can create custom context managers using two methods:\n",
    "\n",
    "Method 1: Using a Class with __enter__ and __exit__ Methods\n",
    "\n",
    "To create a custom context manager using a class, you need to define __enter__ and __exit__ methods.\n",
    "\n",
    "Example: Custom Context Manager for Timing Code Execution"
   ]
  },
  {
   "cell_type": "code",
   "execution_count": 4,
   "metadata": {},
   "outputs": [
    {
     "name": "stdout",
     "output_type": "stream",
     "text": [
      "Time taken: 0.0225 seconds\n"
     ]
    }
   ],
   "source": [
    "import time\n",
    "\n",
    "class Timer:\n",
    "    def __enter__(self):\n",
    "        self.start = time.time()\n",
    "        return self\n",
    "    \n",
    "    def __exit__(self, exc_type, exc_val, exc_tb):\n",
    "        self.end = time.time()\n",
    "        self.interval = self.end - self.start\n",
    "        print(f'Time taken: {self.interval:.4f} seconds')\n",
    "\n",
    "# Using the custom context manager\n",
    "with Timer() as timer:\n",
    "    # Code to time\n",
    "    sum(range(1000000))\n",
    "# Output: Time taken: X.XXXX seconds\n",
    "\n",
    "# Explanation:\n",
    "\n",
    "# __enter__ is executed at the start of the with block and returns the object (self in this case) to be used within the block.\n",
    "# __exit__ is executed at the end of the with block. It handles any cleanup and optionally suppresses exceptions if it returns True."
   ]
  },
  {
   "cell_type": "markdown",
   "metadata": {},
   "source": [
    "Method 2: Using the contextlib Module\n",
    "\n",
    "The contextlib module provides a more concise way to create context managers using a generator function \n",
    "\n",
    "with the @contextmanager decorator.\n",
    "\n",
    "Example: Custom Context Manager Using contextlib"
   ]
  },
  {
   "cell_type": "code",
   "execution_count": 6,
   "metadata": {},
   "outputs": [
    {
     "name": "stdout",
     "output_type": "stream",
     "text": [
      "Time taken: 0.0146 seconds\n"
     ]
    }
   ],
   "source": [
    "from contextlib import contextmanager\n",
    "import time\n",
    "\n",
    "@contextmanager\n",
    "def timer():\n",
    "    start = time.time()\n",
    "    try:\n",
    "        yield\n",
    "    finally:\n",
    "        end = time.time()\n",
    "        print(f'Time taken: {end - start:.4f} seconds')\n",
    "\n",
    "# Using the custom context manager\n",
    "with timer():\n",
    "    # Code to time\n",
    "    sum(range(1000000))\n",
    "# Output: Time taken: X.XXXX seconds\n",
    "\n",
    "\n",
    "# The @contextmanager decorator converts a generator function into a context manager.\n",
    "# The code before yield runs on entering the with block.\n",
    "# The code after yield runs on exiting the with block, including cleanup."
   ]
  }
 ],
 "metadata": {
  "kernelspec": {
   "display_name": "Python 3",
   "language": "python",
   "name": "python3"
  },
  "language_info": {
   "codemirror_mode": {
    "name": "ipython",
    "version": 3
   },
   "file_extension": ".py",
   "mimetype": "text/x-python",
   "name": "python",
   "nbconvert_exporter": "python",
   "pygments_lexer": "ipython3",
   "version": "3.9.6"
  }
 },
 "nbformat": 4,
 "nbformat_minor": 2
}
