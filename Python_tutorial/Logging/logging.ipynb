{
 "cells": [
  {
   "cell_type": "code",
   "execution_count": 1,
   "metadata": {},
   "outputs": [],
   "source": [
    "import logging"
   ]
  },
  {
   "cell_type": "code",
   "execution_count": 2,
   "metadata": {},
   "outputs": [
    {
     "name": "stderr",
     "output_type": "stream",
     "text": [
      "WARNING:root:This is a warning message\n",
      "ERROR:root:This is an error message\n",
      "CRITICAL:root:This is an error message\n"
     ]
    }
   ],
   "source": [
    "logging.debug ('This is a debug message')\n",
    "logging.info('This is an info message')\n",
    "logging.warning( 'This is a warning message')\n",
    "logging.error('This is an error message')\n",
    "logging.critical('This is an error message')"
   ]
  },
  {
   "cell_type": "markdown",
   "metadata": {},
   "source": [
    "Notice above hierarchy general error messages beyond warning are printed\n",
    "To modify this we will give the below code"
   ]
  },
  {
   "cell_type": "code",
   "execution_count": 5,
   "metadata": {},
   "outputs": [],
   "source": [
    "logging.basicConfig(level=logging.DEBUG, format='%(asctime)s- %(name)s - %(levelname)s - %(message)s', datefmt='%m/%d/%Y %H:%M:%S')"
   ]
  },
  {
   "cell_type": "markdown",
   "metadata": {},
   "source": [
    "log handlers"
   ]
  },
  {
   "cell_type": "code",
   "execution_count": 11,
   "metadata": {},
   "outputs": [],
   "source": [
    "logger = logging.getLogger(__name__)"
   ]
  },
  {
   "cell_type": "code",
   "execution_count": 13,
   "metadata": {},
   "outputs": [],
   "source": [
    "#Create handler\n",
    "stream_h = logging.StreamHandler()\n",
    "file_h   = logging.FileHandler('file.log')"
   ]
  },
  {
   "cell_type": "code",
   "execution_count": 14,
   "metadata": {},
   "outputs": [],
   "source": [
    "# Level and the format\n",
    "stream_h.setLevel(logging.WARNING)\n",
    "file_h.setLevel(logging.ERROR)\n"
   ]
  },
  {
   "cell_type": "code",
   "execution_count": 15,
   "metadata": {},
   "outputs": [],
   "source": [
    "formatter = logging.Formatter('%(name)s - %(levelname)s - %(message)s')\n",
    "stream_h.setFormatter(formatter)\n",
    "file_h.setFormatter(formatter)"
   ]
  },
  {
   "cell_type": "code",
   "execution_count": 16,
   "metadata": {},
   "outputs": [],
   "source": [
    "logger.addHandler(stream_h)\n",
    "logger.addHandler(file_h)"
   ]
  },
  {
   "cell_type": "code",
   "execution_count": 17,
   "metadata": {},
   "outputs": [
    {
     "name": "stderr",
     "output_type": "stream",
     "text": [
      "__main__ - WARNING - This is a warning\n",
      "WARNING:__main__:This is a warning\n",
      "__main__ - ERROR - This is a error\n",
      "ERROR:__main__:This is a error\n"
     ]
    }
   ],
   "source": [
    "logger.warning(\"This is a warning\")\n",
    "logger.error(\"This is a error\")"
   ]
  },
  {
   "cell_type": "code",
   "execution_count": 18,
   "metadata": {},
   "outputs": [],
   "source": [
    "import logging.config"
   ]
  },
  {
   "cell_type": "code",
   "execution_count": 21,
   "metadata": {},
   "outputs": [],
   "source": [
    "logging.config.fileConfig('logging.conf')"
   ]
  },
  {
   "cell_type": "code",
   "execution_count": null,
   "metadata": {},
   "outputs": [],
   "source": [
    "logger = logging.getLogger('simple_Example')\n",
    "logger.debug('This is a debug message')"
   ]
  },
  {
   "cell_type": "markdown",
   "metadata": {},
   "source": [
    "Capturing the stack traces in the log"
   ]
  },
  {
   "cell_type": "code",
   "execution_count": 22,
   "metadata": {},
   "outputs": [],
   "source": [
    "import logging"
   ]
  },
  {
   "cell_type": "code",
   "execution_count": 24,
   "metadata": {},
   "outputs": [
    {
     "ename": "TypeError",
     "evalue": "_log() got an unexpected keyword argument 'exe_info'",
     "output_type": "error",
     "traceback": [
      "\u001b[0;31m---------------------------------------------------------------------------\u001b[0m",
      "\u001b[0;31mIndexError\u001b[0m                                Traceback (most recent call last)",
      "\u001b[1;32m/Users/prasku/Library/CloudStorage/OneDrive-IndianaUniversity/Atom/Python_learning/Python_tutorial/Logging/logging.ipynb Cell 17\u001b[0m in \u001b[0;36m<cell line: 1>\u001b[0;34m()\u001b[0m\n\u001b[1;32m      <a href='vscode-notebook-cell:/Users/prasku/Library/CloudStorage/OneDrive-IndianaUniversity/Atom/Python_learning/Python_tutorial/Logging/logging.ipynb#X32sZmlsZQ%3D%3D?line=1'>2</a>\u001b[0m     a \u001b[39m=\u001b[39m [\u001b[39m1\u001b[39m,\u001b[39m2\u001b[39m,\u001b[39m3\u001b[39m]\n\u001b[0;32m----> <a href='vscode-notebook-cell:/Users/prasku/Library/CloudStorage/OneDrive-IndianaUniversity/Atom/Python_learning/Python_tutorial/Logging/logging.ipynb#X32sZmlsZQ%3D%3D?line=2'>3</a>\u001b[0m     val \u001b[39m=\u001b[39m a[\u001b[39m4\u001b[39;49m]\n\u001b[1;32m      <a href='vscode-notebook-cell:/Users/prasku/Library/CloudStorage/OneDrive-IndianaUniversity/Atom/Python_learning/Python_tutorial/Logging/logging.ipynb#X32sZmlsZQ%3D%3D?line=3'>4</a>\u001b[0m \u001b[39mexcept\u001b[39;00m \u001b[39mIndexError\u001b[39;00m \u001b[39mas\u001b[39;00m e:\n",
      "\u001b[0;31mIndexError\u001b[0m: list index out of range",
      "\nDuring handling of the above exception, another exception occurred:\n",
      "\u001b[0;31mTypeError\u001b[0m                                 Traceback (most recent call last)",
      "\u001b[1;32m/Users/prasku/Library/CloudStorage/OneDrive-IndianaUniversity/Atom/Python_learning/Python_tutorial/Logging/logging.ipynb Cell 17\u001b[0m in \u001b[0;36m<cell line: 1>\u001b[0;34m()\u001b[0m\n\u001b[1;32m      <a href='vscode-notebook-cell:/Users/prasku/Library/CloudStorage/OneDrive-IndianaUniversity/Atom/Python_learning/Python_tutorial/Logging/logging.ipynb#X32sZmlsZQ%3D%3D?line=2'>3</a>\u001b[0m     val \u001b[39m=\u001b[39m a[\u001b[39m4\u001b[39m]\n\u001b[1;32m      <a href='vscode-notebook-cell:/Users/prasku/Library/CloudStorage/OneDrive-IndianaUniversity/Atom/Python_learning/Python_tutorial/Logging/logging.ipynb#X32sZmlsZQ%3D%3D?line=3'>4</a>\u001b[0m \u001b[39mexcept\u001b[39;00m \u001b[39mIndexError\u001b[39;00m \u001b[39mas\u001b[39;00m e:\n\u001b[0;32m----> <a href='vscode-notebook-cell:/Users/prasku/Library/CloudStorage/OneDrive-IndianaUniversity/Atom/Python_learning/Python_tutorial/Logging/logging.ipynb#X32sZmlsZQ%3D%3D?line=4'>5</a>\u001b[0m     logging\u001b[39m.\u001b[39;49merror(e, exe_info\u001b[39m=\u001b[39;49m\u001b[39mTrue\u001b[39;49;00m)\n",
      "File \u001b[0;32m~/miniforge3/envs/mlp/lib/python3.8/logging/__init__.py:2049\u001b[0m, in \u001b[0;36merror\u001b[0;34m(msg, *args, **kwargs)\u001b[0m\n\u001b[1;32m   2047\u001b[0m \u001b[39mif\u001b[39;00m \u001b[39mlen\u001b[39m(root\u001b[39m.\u001b[39mhandlers) \u001b[39m==\u001b[39m \u001b[39m0\u001b[39m:\n\u001b[1;32m   2048\u001b[0m     basicConfig()\n\u001b[0;32m-> 2049\u001b[0m root\u001b[39m.\u001b[39;49merror(msg, \u001b[39m*\u001b[39;49margs, \u001b[39m*\u001b[39;49m\u001b[39m*\u001b[39;49mkwargs)\n",
      "File \u001b[0;32m~/miniforge3/envs/mlp/lib/python3.8/logging/__init__.py:1475\u001b[0m, in \u001b[0;36mLogger.error\u001b[0;34m(self, msg, *args, **kwargs)\u001b[0m\n\u001b[1;32m   1466\u001b[0m \u001b[39m\"\"\"\u001b[39;00m\n\u001b[1;32m   1467\u001b[0m \u001b[39mLog 'msg % args' with severity 'ERROR'.\u001b[39;00m\n\u001b[1;32m   1468\u001b[0m \n\u001b[0;32m   (...)\u001b[0m\n\u001b[1;32m   1472\u001b[0m \u001b[39mlogger.error(\"Houston, we have a %s\", \"major problem\", exc_info=1)\u001b[39;00m\n\u001b[1;32m   1473\u001b[0m \u001b[39m\"\"\"\u001b[39;00m\n\u001b[1;32m   1474\u001b[0m \u001b[39mif\u001b[39;00m \u001b[39mself\u001b[39m\u001b[39m.\u001b[39misEnabledFor(ERROR):\n\u001b[0;32m-> 1475\u001b[0m     \u001b[39mself\u001b[39;49m\u001b[39m.\u001b[39;49m_log(ERROR, msg, args, \u001b[39m*\u001b[39;49m\u001b[39m*\u001b[39;49mkwargs)\n",
      "\u001b[0;31mTypeError\u001b[0m: _log() got an unexpected keyword argument 'exe_info'"
     ]
    }
   ],
   "source": [
    "try:\n",
    "    a = [1,2,3]\n",
    "    val = a[4]\n",
    "except IndexError as e:\n",
    "    logging.error(e, exe_info=True)"
   ]
  },
  {
   "cell_type": "code",
   "execution_count": 25,
   "metadata": {},
   "outputs": [
    {
     "name": "stdout",
     "output_type": "stream",
     "text": [
      "2022-09-02 01:17:37,706-root-ERROR-The error is Traceback (most recent call last):\n",
      "  File \"<ipython-input-25-23c785ec20ea>\", line 5, in <cell line: 3>\n",
      "    val = a[4]\n",
      "IndexError: list index out of range\n",
      "\n"
     ]
    }
   ],
   "source": [
    "import traceback\n",
    "\n",
    "try:\n",
    "    a = [1,2,3]\n",
    "    val = a[4]\n",
    "except:\n",
    "    logging.error(\"The error is %s\",traceback.format_exc())"
   ]
  },
  {
   "cell_type": "markdown",
   "metadata": {},
   "source": [
    "Rotating file handler"
   ]
  },
  {
   "cell_type": "code",
   "execution_count": 27,
   "metadata": {},
   "outputs": [],
   "source": [
    "import logging\n",
    "from logging.handlers import RotatingFileHandler"
   ]
  },
  {
   "cell_type": "code",
   "execution_count": 28,
   "metadata": {},
   "outputs": [],
   "source": [
    "logger = logging.getLogger(__name__)\n",
    "logger.setLevel(logging.INFO)\n"
   ]
  },
  {
   "cell_type": "code",
   "execution_count": 30,
   "metadata": {},
   "outputs": [],
   "source": [
    "handler = RotatingFileHandler('app.log',maxBytes=2000,backupCount=5)\n",
    "logger.addHandler(handler)"
   ]
  },
  {
   "cell_type": "code",
   "execution_count": 32,
   "metadata": {},
   "outputs": [],
   "source": [
    "for _ in range(10000):\n",
    "    logger.info(\"Hello, world!\")\n"
   ]
  },
  {
   "cell_type": "markdown",
   "metadata": {},
   "source": [
    "Timed RotatingFileHandler"
   ]
  },
  {
   "cell_type": "code",
   "execution_count": 33,
   "metadata": {},
   "outputs": [],
   "source": [
    "import logging\n",
    "import time\n",
    "from logging.handlers import TimedRotatingFileHandler"
   ]
  },
  {
   "cell_type": "code",
   "execution_count": 34,
   "metadata": {},
   "outputs": [],
   "source": [
    "handler = TimedRotatingFileHandler('timed_test.log',when='s', interval=5,maxBytes=2000,backupCount=5)\n",
    "logger.addHandler(handler)"
   ]
  },
  {
   "cell_type": "code",
   "execution_count": 37,
   "metadata": {},
   "outputs": [
    {
     "ename": "TypeError",
     "evalue": "log() missing 1 required positional argument: 'msg'",
     "output_type": "error",
     "traceback": [
      "\u001b[0;31m---------------------------------------------------------------------------\u001b[0m",
      "\u001b[0;31mTypeError\u001b[0m                                 Traceback (most recent call last)",
      "\u001b[1;32m/Users/prasku/Library/CloudStorage/OneDrive-IndianaUniversity/Atom/Python_learning/Python_tutorial/Logging/logging.ipynb Cell 27\u001b[0m in \u001b[0;36m<cell line: 1>\u001b[0;34m()\u001b[0m\n\u001b[1;32m      <a href='vscode-notebook-cell:/Users/prasku/Library/CloudStorage/OneDrive-IndianaUniversity/Atom/Python_learning/Python_tutorial/Logging/logging.ipynb#X50sZmlsZQ%3D%3D?line=0'>1</a>\u001b[0m \u001b[39mfor\u001b[39;00m _ \u001b[39min\u001b[39;00m \u001b[39mrange\u001b[39m(\u001b[39m6\u001b[39m):\n\u001b[0;32m----> <a href='vscode-notebook-cell:/Users/prasku/Library/CloudStorage/OneDrive-IndianaUniversity/Atom/Python_learning/Python_tutorial/Logging/logging.ipynb#X50sZmlsZQ%3D%3D?line=1'>2</a>\u001b[0m     logger\u001b[39m.\u001b[39;49mlog(\u001b[39m'\u001b[39;49m\u001b[39mHello,world!\u001b[39;49m\u001b[39m'\u001b[39;49m)\n\u001b[1;32m      <a href='vscode-notebook-cell:/Users/prasku/Library/CloudStorage/OneDrive-IndianaUniversity/Atom/Python_learning/Python_tutorial/Logging/logging.ipynb#X50sZmlsZQ%3D%3D?line=2'>3</a>\u001b[0m     time\u001b[39m.\u001b[39msleep(\u001b[39m5\u001b[39m)\n",
      "\u001b[0;31mTypeError\u001b[0m: log() missing 1 required positional argument: 'msg'"
     ]
    }
   ],
   "source": [
    "for _ in range(6):\n",
    "    logger.log('Hello,world!')\n",
    "    time.sleep(5)"
   ]
  },
  {
   "cell_type": "code",
   "execution_count": null,
   "metadata": {},
   "outputs": [],
   "source": []
  }
 ],
 "metadata": {
  "kernelspec": {
   "display_name": "Python 3.8.13 ('mlp')",
   "language": "python",
   "name": "python3"
  },
  "language_info": {
   "codemirror_mode": {
    "name": "ipython",
    "version": 3
   },
   "file_extension": ".py",
   "mimetype": "text/x-python",
   "name": "python",
   "nbconvert_exporter": "python",
   "pygments_lexer": "ipython3",
   "version": "3.8.13"
  },
  "orig_nbformat": 4,
  "vscode": {
   "interpreter": {
    "hash": "d6e887bb000de1b0aff36cb2158729a89ef44447281fafe2f7a9ff11a98f3c71"
   }
  }
 },
 "nbformat": 4,
 "nbformat_minor": 2
}
