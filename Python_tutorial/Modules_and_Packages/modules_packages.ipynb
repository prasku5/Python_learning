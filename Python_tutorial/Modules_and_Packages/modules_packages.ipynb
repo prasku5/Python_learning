{
 "cells": [
  {
   "cell_type": "markdown",
   "metadata": {},
   "source": [
    "Modules and Packages in Python\n",
    "1. Creating Modules\n",
    "A module is simply a Python file with a .py extension that contains functions, classes, and variables."
   ]
  },
  {
   "cell_type": "code",
   "execution_count": 2,
   "metadata": {},
   "outputs": [],
   "source": [
    "# my_module.py created in this folder\n",
    "\n",
    "def greet(name):\n",
    "    return f\"Hello, {name}!\"\n",
    "\n",
    "def add(a, b):\n",
    "    return a + b"
   ]
  },
  {
   "cell_type": "markdown",
   "metadata": {},
   "source": [
    "Importing Modules\n",
    "\n",
    "Modules can be imported using the import statement. You can import an entire module or specific attributes from it.\n",
    "\n",
    "Importing an Entire Module"
   ]
  },
  {
   "cell_type": "code",
   "execution_count": 3,
   "metadata": {},
   "outputs": [
    {
     "name": "stdout",
     "output_type": "stream",
     "text": [
      "Hello, Alice!\n",
      "8\n"
     ]
    }
   ],
   "source": [
    "import my_module\n",
    "\n",
    "print(my_module.greet(\"Alice\"))  # Output: Hello, Alice!\n",
    "print(my_module.add(5, 3))       # Output: 8"
   ]
  },
  {
   "cell_type": "markdown",
   "metadata": {},
   "source": [
    "Importing Specific Functions\n"
   ]
  },
  {
   "cell_type": "code",
   "execution_count": 4,
   "metadata": {},
   "outputs": [
    {
     "name": "stdout",
     "output_type": "stream",
     "text": [
      "Hello, Bob!\n",
      "12\n"
     ]
    }
   ],
   "source": [
    "from my_module import greet, add\n",
    "\n",
    "print(greet(\"Bob\"))  # Output: Hello, Bob!\n",
    "print(add(10, 2))    # Output: 12"
   ]
  },
  {
   "cell_type": "markdown",
   "metadata": {},
   "source": [
    "Importing with Aliases\n"
   ]
  },
  {
   "cell_type": "code",
   "execution_count": 5,
   "metadata": {},
   "outputs": [
    {
     "name": "stdout",
     "output_type": "stream",
     "text": [
      "Hello, Charlie!\n",
      "11\n"
     ]
    }
   ],
   "source": [
    "import my_module as mm\n",
    "\n",
    "print(mm.greet(\"Charlie\"))  # Output: Hello, Charlie!\n",
    "print(mm.add(7, 4))         # Output: 11"
   ]
  },
  {
   "cell_type": "markdown",
   "metadata": {},
   "source": [
    "Creating Packages\n",
    "\n",
    "A package is a way of organizing related modules into a directory hierarchy. \n",
    "\n",
    "A directory must contain an __init__.py file to be recognized as a package.\n",
    "\n",
    "Directory Structure"
   ]
  },
  {
   "cell_type": "code",
   "execution_count": 8,
   "metadata": {},
   "outputs": [],
   "source": [
    "# my_package/\n",
    "#     __init__.py\n",
    "#     module1.py\n",
    "#     module2.py "
   ]
  },
  {
   "cell_type": "code",
   "execution_count": 9,
   "metadata": {},
   "outputs": [
    {
     "name": "stdout",
     "output_type": "stream",
     "text": [
      "Function 1 from Module 1\n",
      "Function 2 from Module 2\n"
     ]
    }
   ],
   "source": [
    "import my_package\n",
    "\n",
    "print(my_package.func1())  # Output: Function 1 from Module 1\n",
    "print(my_package.func2())  # Output: Function 2 from Module 2"
   ]
  },
  {
   "cell_type": "markdown",
   "metadata": {},
   "source": [
    "Importing Specific Functions\n"
   ]
  },
  {
   "cell_type": "code",
   "execution_count": 10,
   "metadata": {},
   "outputs": [
    {
     "name": "stdout",
     "output_type": "stream",
     "text": [
      "Function 1 from Module 1\n",
      "Function 2 from Module 2\n"
     ]
    }
   ],
   "source": [
    "from my_package import func1, func2\n",
    "\n",
    "print(func1())  # Output: Function 1 from Module 1\n",
    "print(func2())  # Output: Function 2 from Module 2"
   ]
  },
  {
   "cell_type": "markdown",
   "metadata": {},
   "source": [
    "Best Practices\n",
    "\n",
    "Module Naming: Use short, lowercase names. Avoid special characters.\n",
    "\n",
    "Package Naming: Similar to modules, use short, lowercase names.\n",
    "\n",
    "Function Naming: Use descriptive names that follow the snake_case convention.\n",
    "\n",
    "Documentation: Include docstrings for modules, functions, and classes."
   ]
  },
  {
   "cell_type": "markdown",
   "metadata": {},
   "source": [
    "Example: Creating and Using a Package\n",
    "Directory Structure"
   ]
  },
  {
   "cell_type": "code",
   "execution_count": 12,
   "metadata": {},
   "outputs": [
    {
     "name": "stdout",
     "output_type": "stream",
     "text": [
      "15\n",
      "5\n",
      "28.274333882308138\n",
      "16\n"
     ]
    }
   ],
   "source": [
    "import math_operations\n",
    "\n",
    "print(math_operations.add(10, 5))               # Output: 15\n",
    "print(math_operations.subtract(10, 5))          # Output: 5\n",
    "print(math_operations.area_of_circle(3))        # Output: 28.274333882308138\n",
    "print(math_operations.perimeter_of_square(4))   # Output: 16"
   ]
  },
  {
   "cell_type": "code",
   "execution_count": null,
   "metadata": {},
   "outputs": [],
   "source": []
  }
 ],
 "metadata": {
  "kernelspec": {
   "display_name": "Python 3",
   "language": "python",
   "name": "python3"
  },
  "language_info": {
   "codemirror_mode": {
    "name": "ipython",
    "version": 3
   },
   "file_extension": ".py",
   "mimetype": "text/x-python",
   "name": "python",
   "nbconvert_exporter": "python",
   "pygments_lexer": "ipython3",
   "version": "3.9.6"
  }
 },
 "nbformat": 4,
 "nbformat_minor": 2
}
