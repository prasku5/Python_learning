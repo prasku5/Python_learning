{
 "cells": [
  {
   "cell_type": "code",
   "execution_count": 1,
   "metadata": {},
   "outputs": [
    {
     "name": "stdout",
     "output_type": "stream",
     "text": [
      "__main__\n"
     ]
    }
   ],
   "source": [
    "print(__name__)"
   ]
  },
  {
   "cell_type": "code",
   "execution_count": 18,
   "metadata": {},
   "outputs": [
    {
     "name": "stdout",
     "output_type": "stream",
     "text": [
      "Hello World\n"
     ]
    }
   ],
   "source": [
    "# In python the main method is defined by the __name__ variable\n",
    "\n",
    "# When a python file is run directly, the __name__ variable is set to __main__\n",
    "\n",
    "# Lets see the example.\n",
    "\n",
    "# Create a file called main.py and add the following code\n",
    "\n",
    "def main(): \n",
    "    print(\"Hello World\")\n",
    "\n",
    "if __name__ == \"__main__\": # This is the main method and will be executed when the method is run directly\n",
    "                        # This is the entry point of the program\n",
    "                        # indentation for the __name__ should be same as the main method which means it should be at the same level as the main method\n",
    "    main()\n",
    "    \n",
    "# Now run the file using the following command\n"
   ]
  },
  {
   "cell_type": "code",
   "execution_count": null,
   "metadata": {},
   "outputs": [],
   "source": []
  }
 ],
 "metadata": {
  "kernelspec": {
   "display_name": "Python 3.9.6 64-bit",
   "language": "python",
   "name": "python3"
  },
  "language_info": {
   "codemirror_mode": {
    "name": "ipython",
    "version": 3
   },
   "file_extension": ".py",
   "mimetype": "text/x-python",
   "name": "python",
   "nbconvert_exporter": "python",
   "pygments_lexer": "ipython3",
   "version": "3.9.6"
  },
  "orig_nbformat": 4,
  "vscode": {
   "interpreter": {
    "hash": "31f2aee4e71d21fbe5cf8b01ff0e069b9275f58929596ceb00d14d90e3e16cd6"
   }
  }
 },
 "nbformat": 4,
 "nbformat_minor": 2
}
