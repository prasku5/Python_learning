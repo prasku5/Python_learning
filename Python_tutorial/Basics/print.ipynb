{
 "cells": [
  {
   "cell_type": "code",
   "execution_count": 6,
   "metadata": {},
   "outputs": [
    {
     "name": "stdout",
     "output_type": "stream",
     "text": [
      "5\n"
     ]
    }
   ],
   "source": [
    "# 'Print' is a function in python 3\n",
    "# Below one's are just statements but not function and dont return a value (provides instruction or commands for Python to perform)\n",
    "\n",
    "# Syntax\n",
    "# print(*objects, sep=' ', end='\\n', file=sys.stdout, flush=False)\n",
    "\n",
    "# Addition of two numbers\n",
    "from time import sleep\n",
    "print(2+3)"
   ]
  },
  {
   "cell_type": "code",
   "execution_count": 2,
   "metadata": {},
   "outputs": [
    {
     "name": "stdout",
     "output_type": "stream",
     "text": [
      "Python 3 Rocks\n",
      "Python,3,Rocks\n"
     ]
    }
   ],
   "source": [
    "# Python converts everything into a string (default delimiter is ' ')\n",
    "print('Python', 3, 'Rocks') # default delimiter is ' ' (space)\n",
    "print('Python', 3, 'Rocks', sep=',') # delimiter is ','"
   ]
  },
  {
   "cell_type": "code",
   "execution_count": 2,
   "metadata": {},
   "outputs": [
    {
     "name": "stdout",
     "output_type": "stream",
     "text": [
      "Python 3 Rocks I love Python\n"
     ]
    }
   ],
   "source": [
    "# You can set the end argument to a whitespace character string to print to the same line in Python 3.\n",
    "print('Python', 3, 'Rocks', end=' ') # here end is a whitespace character string to print to the same line\n",
    "print('I love Python') # this will be printed in the same line because of end=' '"
   ]
  },
  {
   "cell_type": "code",
   "execution_count": 3,
   "metadata": {},
   "outputs": [
    {
     "name": "stdout",
     "output_type": "stream",
     "text": [
      "Python 3 Rocks,I love Python\n"
     ]
    }
   ],
   "source": [
    "print('Python', 3, 'Rocks', end=',') # newline character is not present since end is ',' (comma)\n",
    "print('I love Python')"
   ]
  },
  {
   "cell_type": "code",
   "execution_count": 5,
   "metadata": {},
   "outputs": [
    {
     "name": "stdout",
     "output_type": "stream",
     "text": [
      "Python 3 Rocks*I love Python\n"
     ]
    }
   ],
   "source": [
    "print('Python', 3, 'Rocks', end='*')\n",
    "print('I love Python')"
   ]
  },
  {
   "cell_type": "code",
   "execution_count": 4,
   "metadata": {},
   "outputs": [],
   "source": [
    "# Printing to a file\n",
    "\n",
    "print('Hello World', file=open('hello.txt', 'w'))\n",
    "# syntax for open function is open(file, mode='r', buffering=-1, encoding=None, errors=None, newline=None, closefd=True, opener=None)"
   ]
  },
  {
   "cell_type": "code",
   "execution_count": 12,
   "metadata": {},
   "outputs": [
    {
     "name": "stdout",
     "output_type": "stream",
     "text": [
      "Will it get printed immediately?"
     ]
    }
   ],
   "source": [
    "# Flush the buffer immediately\n",
    "\n",
    "print('Will it get printed immediately?', end='', flush=True)\n",
    "sleep(5)\n",
    "# Flush argument is used to flush the buffer immediately which means it will be printed immediately and not wait for the buffer to fill up\n",
    "# If flush is False, the buffer will be filled up and then printed to the console\n",
    "\n",
    "# The difference between flush being True and False is that when flush is True, the buffer will be flushed immediately and printed to the console\n",
    "# When flush is False, the buffer will be filled up and then printed to the console\n"
   ]
  },
  {
   "cell_type": "code",
   "execution_count": 13,
   "metadata": {},
   "outputs": [
    {
     "name": "stdout",
     "output_type": "stream",
     "text": [
      "Will it get printed immediately?"
     ]
    }
   ],
   "source": [
    "# Flush the buffer immediately\n",
    "\n",
    "print('Will it get printed immediately?', end='', flush=False)\n",
    "sleep(5)\n",
    "# Flush argument is used to flush the buffer immediately which means it will be printed immediately and not wait for the buffer to fill up\n",
    "# If flush is False, the buffer will be filled up and then printed to the console\n"
   ]
  },
  {
   "cell_type": "code",
   "execution_count": 14,
   "metadata": {},
   "outputs": [
    {
     "name": "stdout",
     "output_type": "stream",
     "text": [
      "Pythonn\n"
     ]
    }
   ],
   "source": [
    "# print over and over the same line in Python, you have to use the\n",
    "# carriage return \\r symbol with the end argument.\n",
    "\n",
    "print(\"Pylenin\", end=\"\\r\")\n",
    "print(\"loves\", end=\"\\r\")\n",
    "print(\"Python\")\n",
    "\n",
    "# Even though the first 2 print statements are executed, the carriage return makes the next stdout line start at the beginning of the current line.\n",
    "# Also, carriage return will only replace the number of characters contained in the print statement. That is the reason, you have an extra n at the end.\n",
    "\n",
    "# Source credit: https://www.pylenin.com/blogs/python-print/\n"
   ]
  }
 ],
 "metadata": {
  "kernelspec": {
   "display_name": "Python 3.9.6 64-bit",
   "language": "python",
   "name": "python3"
  },
  "language_info": {
   "codemirror_mode": {
    "name": "ipython",
    "version": 3
   },
   "file_extension": ".py",
   "mimetype": "text/x-python",
   "name": "python",
   "nbconvert_exporter": "python",
   "pygments_lexer": "ipython3",
   "version": "3.9.6"
  },
  "orig_nbformat": 4,
  "vscode": {
   "interpreter": {
    "hash": "31f2aee4e71d21fbe5cf8b01ff0e069b9275f58929596ceb00d14d90e3e16cd6"
   }
  }
 },
 "nbformat": 4,
 "nbformat_minor": 2
}
