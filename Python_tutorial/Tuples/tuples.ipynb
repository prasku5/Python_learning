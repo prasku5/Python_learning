{
 "cells": [
  {
   "cell_type": "code",
   "execution_count": 1,
   "metadata": {},
   "outputs": [],
   "source": [
    "#Tuples - ordered , immutable, allows duplicate elements\n",
    "\n",
    "# In Python, a tuple is an ordered and immutable collection of elements. It's similar to a list, but unlike lists, tuples cannot be modified once created. Tuples are defined by enclosing the elements within parentheses (). Here's a basic example of creating a tuple:\n",
    "\n",
    "# python\n",
    "# Copy code\n",
    "# my_tuple = (1, 2, 3, 'hello')\n",
    "\n",
    "# # Accessing elements\n",
    "# print(my_tuple[0])  # Prints 1\n",
    "\n",
    "# # Tuples are immutable, so this would result in an error\n",
    "# # my_tuple[0] = 5\n",
    "# Tuples can contain elements of different types, and you can access individual elements using indexing. However, you cannot modify, add, or remove elements from a tuple after it's created. This immutability makes tuples useful for situations where you want to ensure that the data remains unchanged.\n",
    "\n",
    "# Tuples are often used to represent a collection of related values, such as coordinates, database records, or function return values. They can also be used as keys in dictionaries (if they only contain hashable types) or elements in sets."
   ]
  },
  {
   "cell_type": "code",
   "execution_count": 2,
   "metadata": {},
   "outputs": [
    {
     "name": "stdout",
     "output_type": "stream",
     "text": [
      "('max', 29, 'Ny')\n"
     ]
    }
   ],
   "source": [
    "tup1 = \"max\", 29, \"Ny\"\n",
    "print(tup1)"
   ]
  },
  {
   "cell_type": "markdown",
   "metadata": {},
   "source": [
    "So single string inside paranthesis is not tuple - It will be string \n",
    "\n",
    "we have to put a comma at the end to make a tuple"
   ]
  },
  {
   "cell_type": "code",
   "execution_count": 7,
   "metadata": {},
   "outputs": [
    {
     "name": "stdout",
     "output_type": "stream",
     "text": [
      "hello\n",
      "<class 'str'>\n"
     ]
    }
   ],
   "source": [
    "tup2 = (\"hello\")\n",
    "print(tup2)\n",
    "print(type(tup2))"
   ]
  },
  {
   "cell_type": "code",
   "execution_count": 9,
   "metadata": {},
   "outputs": [
    {
     "name": "stdout",
     "output_type": "stream",
     "text": [
      "('hello',)\n",
      "<class 'tuple'>\n"
     ]
    }
   ],
   "source": [
    "tup3 = (\"hello\",)\n",
    "print(tup3)\n",
    "print(type(tup3))"
   ]
  },
  {
   "cell_type": "code",
   "execution_count": 13,
   "metadata": {},
   "outputs": [
    {
     "name": "stdout",
     "output_type": "stream",
     "text": [
      "('cal', 9)\n",
      "<class 'tuple'>\n"
     ]
    }
   ],
   "source": [
    "#Way 2 of creation -----------> We have to provide list to the tuple method\n",
    "tup4 = tuple([\"cal\",9])\n",
    "print(tup4)\n",
    "print(type(tup4))"
   ]
  },
  {
   "cell_type": "markdown",
   "metadata": {},
   "source": [
    "Accessing elements in a tuple"
   ]
  },
  {
   "cell_type": "code",
   "execution_count": 15,
   "metadata": {},
   "outputs": [
    {
     "name": "stdout",
     "output_type": "stream",
     "text": [
      "cal\n"
     ]
    }
   ],
   "source": [
    "tuple_item_1  = tup4[0]\n",
    "print(tuple_item_1)"
   ]
  },
  {
   "cell_type": "code",
   "execution_count": 17,
   "metadata": {},
   "outputs": [
    {
     "name": "stdout",
     "output_type": "stream",
     "text": [
      "9\n"
     ]
    }
   ],
   "source": [
    "tuple_item_2  = tup4[-1]\n",
    "print(tuple_item_2)"
   ]
  },
  {
   "cell_type": "markdown",
   "metadata": {},
   "source": [
    "We cannot assign values to tuple index as shown below"
   ]
  },
  {
   "cell_type": "code",
   "execution_count": 19,
   "metadata": {},
   "outputs": [
    {
     "ename": "TypeError",
     "evalue": "'tuple' object does not support item assignment",
     "output_type": "error",
     "traceback": [
      "\u001b[0;31m---------------------------------------------------------------------------\u001b[0m",
      "\u001b[0;31mTypeError\u001b[0m                                 Traceback (most recent call last)",
      "\u001b[1;32m/Users/prasku/Library/CloudStorage/OneDrive-IndianaUniversity/Atom/Python_learning/Datacamp/Tuples/tuples.ipynb Cell 11\u001b[0m in \u001b[0;36m<cell line: 1>\u001b[0;34m()\u001b[0m\n\u001b[0;32m----> <a href='vscode-notebook-cell:/Users/prasku/Library/CloudStorage/OneDrive-IndianaUniversity/Atom/Python_learning/Datacamp/Tuples/tuples.ipynb#ch0000011?line=0'>1</a>\u001b[0m tup4[\u001b[39m0\u001b[39;49m] \u001b[39m=\u001b[39m \u001b[39m\"\u001b[39m\u001b[39mSunday\u001b[39m\u001b[39m\"\u001b[39m\n",
      "\u001b[0;31mTypeError\u001b[0m: 'tuple' object does not support item assignment"
     ]
    }
   ],
   "source": [
    "tup4[0] = \"Sunday\""
   ]
  },
  {
   "cell_type": "markdown",
   "metadata": {},
   "source": [
    "This is not possible since the tuple is immutable"
   ]
  },
  {
   "cell_type": "markdown",
   "metadata": {},
   "source": [
    "Lets check the immutability holds for lists or not\n"
   ]
  },
  {
   "cell_type": "code",
   "execution_count": 23,
   "metadata": {},
   "outputs": [
    {
     "name": "stdout",
     "output_type": "stream",
     "text": [
      "['1', '2']\n"
     ]
    }
   ],
   "source": [
    "list_1 = [\"1\",\"2\"]\n",
    "print(list_1)"
   ]
  },
  {
   "cell_type": "code",
   "execution_count": 25,
   "metadata": {},
   "outputs": [
    {
     "name": "stdout",
     "output_type": "stream",
     "text": [
      "['replaced_value', '2']\n"
     ]
    }
   ],
   "source": [
    "list_1[0] = \"replaced_value\"\n",
    "print(list_1)\n",
    "\n",
    "# So lists are mutable objects while tuples are immutable objects."
   ]
  },
  {
   "cell_type": "markdown",
   "metadata": {},
   "source": [
    "Iteration for the elements inside a tuple"
   ]
  },
  {
   "cell_type": "code",
   "execution_count": 20,
   "metadata": {},
   "outputs": [
    {
     "name": "stdout",
     "output_type": "stream",
     "text": [
      "cal\n",
      "9\n"
     ]
    }
   ],
   "source": [
    "for i in tup4:\n",
    "    print(i)"
   ]
  },
  {
   "cell_type": "markdown",
   "metadata": {},
   "source": [
    "Can check the presence of an element inside the tuple using the python \"if in\""
   ]
  },
  {
   "cell_type": "code",
   "execution_count": 22,
   "metadata": {},
   "outputs": [
    {
     "name": "stdout",
     "output_type": "stream",
     "text": [
      "cal is present\n"
     ]
    }
   ],
   "source": [
    "if \"cal\" in tup4:\n",
    "    print(\"cal is present\")\n",
    "else:\n",
    "    print(\"cal is not present\")"
   ]
  },
  {
   "cell_type": "code",
   "execution_count": 27,
   "metadata": {},
   "outputs": [
    {
     "name": "stdout",
     "output_type": "stream",
     "text": [
      "2\n"
     ]
    }
   ],
   "source": [
    "#checking the length of a tuple\n",
    "\n",
    "print(len(tup4))"
   ]
  },
  {
   "cell_type": "markdown",
   "metadata": {},
   "source": [
    "check the no of time a element is repeated with in the tuple"
   ]
  },
  {
   "cell_type": "code",
   "execution_count": 28,
   "metadata": {},
   "outputs": [
    {
     "name": "stdout",
     "output_type": "stream",
     "text": [
      "1\n"
     ]
    }
   ],
   "source": [
    "print(tup4.count(\"cal\"))"
   ]
  },
  {
   "cell_type": "markdown",
   "metadata": {},
   "source": [
    "\n",
    "Now lets add another \"cal\" string to tup4\n"
   ]
  },
  {
   "cell_type": "code",
   "execution_count": 34,
   "metadata": {},
   "outputs": [
    {
     "name": "stdout",
     "output_type": "stream",
     "text": [
      "('cal', 9, 'cal', 'cal')\n",
      "3\n"
     ]
    }
   ],
   "source": [
    "tup4_list = list(tup4)\n",
    "tup4_list.append(\"cal\")\n",
    "tup4 = tuple(tup4_list) # Converting back to tuple\n",
    "print(tup4)\n",
    "print(tup4.count('cal'))"
   ]
  },
  {
   "cell_type": "markdown",
   "metadata": {},
   "source": [
    "So to add elements to an immutable object we have to convert that to an mutable object and then add element and convert back to immutable object again"
   ]
  },
  {
   "cell_type": "markdown",
   "metadata": {},
   "source": [
    "Finding the index of a particular element"
   ]
  },
  {
   "cell_type": "code",
   "execution_count": 36,
   "metadata": {},
   "outputs": [
    {
     "name": "stdout",
     "output_type": "stream",
     "text": [
      "0\n"
     ]
    }
   ],
   "source": [
    "print(tup4.index(\"cal\")) # This returns the first index for the matched element"
   ]
  },
  {
   "cell_type": "markdown",
   "metadata": {},
   "source": [
    "Slicing with tuples ---> Similar to lists"
   ]
  },
  {
   "cell_type": "code",
   "execution_count": 37,
   "metadata": {},
   "outputs": [
    {
     "name": "stdout",
     "output_type": "stream",
     "text": [
      "('cal', 9, 'cal', 'cal')\n"
     ]
    }
   ],
   "source": [
    "print(tup4)"
   ]
  },
  {
   "cell_type": "code",
   "execution_count": 38,
   "metadata": {},
   "outputs": [
    {
     "name": "stdout",
     "output_type": "stream",
     "text": [
      "('cal', 9, 'cal', 'cal')\n"
     ]
    }
   ],
   "source": [
    "print(tup4[:])"
   ]
  },
  {
   "cell_type": "code",
   "execution_count": 40,
   "metadata": {},
   "outputs": [
    {
     "name": "stdout",
     "output_type": "stream",
     "text": [
      "(9, 'cal', 'cal')\n"
     ]
    }
   ],
   "source": [
    "print(tup4[1:])"
   ]
  },
  {
   "cell_type": "code",
   "execution_count": 41,
   "metadata": {},
   "outputs": [
    {
     "name": "stdout",
     "output_type": "stream",
     "text": [
      "('cal', 9, 'cal')\n"
     ]
    }
   ],
   "source": [
    "print(tup4[:-1])"
   ]
  },
  {
   "cell_type": "code",
   "execution_count": 42,
   "metadata": {},
   "outputs": [
    {
     "name": "stdout",
     "output_type": "stream",
     "text": [
      "()\n"
     ]
    }
   ],
   "source": [
    "print(tup4[1:1])"
   ]
  },
  {
   "cell_type": "code",
   "execution_count": 43,
   "metadata": {},
   "outputs": [
    {
     "name": "stdout",
     "output_type": "stream",
     "text": [
      "(9,)\n"
     ]
    }
   ],
   "source": [
    "print(tup4[1:2])"
   ]
  },
  {
   "cell_type": "markdown",
   "metadata": {},
   "source": [
    "Using the step argument with tuples"
   ]
  },
  {
   "cell_type": "code",
   "execution_count": 44,
   "metadata": {},
   "outputs": [
    {
     "name": "stdout",
     "output_type": "stream",
     "text": [
      "(9, 'cal')\n"
     ]
    }
   ],
   "source": [
    "print(tup4[1:3:1])"
   ]
  },
  {
   "cell_type": "code",
   "execution_count": 47,
   "metadata": {},
   "outputs": [],
   "source": [
    "tup5 = (1,2,2,3,34,5,6,6,7,7,8,9,9,9,0,0)"
   ]
  },
  {
   "cell_type": "code",
   "execution_count": 49,
   "metadata": {},
   "outputs": [
    {
     "name": "stdout",
     "output_type": "stream",
     "text": [
      "(2, 3, 5, 6)\n"
     ]
    }
   ],
   "source": [
    "print(tup5[1:9:2])"
   ]
  },
  {
   "cell_type": "code",
   "execution_count": 52,
   "metadata": {},
   "outputs": [
    {
     "name": "stdout",
     "output_type": "stream",
     "text": [
      "(0,)\n"
     ]
    }
   ],
   "source": [
    "print(tup5[-1::1])"
   ]
  },
  {
   "cell_type": "code",
   "execution_count": 53,
   "metadata": {},
   "outputs": [
    {
     "name": "stdout",
     "output_type": "stream",
     "text": [
      "(0, 0, 9, 9, 9, 8, 7, 7, 6, 6, 5, 34, 3, 2, 2, 1)\n"
     ]
    }
   ],
   "source": [
    "print(tup5[::-1])"
   ]
  },
  {
   "cell_type": "markdown",
   "metadata": {},
   "source": [
    "Unpacking a tuple"
   ]
  },
  {
   "cell_type": "code",
   "execution_count": 54,
   "metadata": {},
   "outputs": [],
   "source": [
    "tup6 = \"prasanna\", 24, \"Calfornia\""
   ]
  },
  {
   "cell_type": "code",
   "execution_count": 55,
   "metadata": {},
   "outputs": [],
   "source": [
    "name, age, city = tup6"
   ]
  },
  {
   "cell_type": "code",
   "execution_count": 56,
   "metadata": {},
   "outputs": [
    {
     "name": "stdout",
     "output_type": "stream",
     "text": [
      "prasanna\n",
      "24\n",
      "Calfornia\n"
     ]
    }
   ],
   "source": [
    "print(name)\n",
    "print(age)\n",
    "print(city)"
   ]
  },
  {
   "cell_type": "markdown",
   "metadata": {},
   "source": [
    "If we unpack more than available it will be a error"
   ]
  },
  {
   "cell_type": "code",
   "execution_count": 58,
   "metadata": {},
   "outputs": [
    {
     "ename": "ValueError",
     "evalue": "too many values to unpack (expected 2)",
     "output_type": "error",
     "traceback": [
      "\u001b[0;31m---------------------------------------------------------------------------\u001b[0m",
      "\u001b[0;31mValueError\u001b[0m                                Traceback (most recent call last)",
      "\u001b[1;32m/Users/prasku/Library/CloudStorage/OneDrive-IndianaUniversity/Atom/Python_learning/Datacamp/Tuples/tuples.ipynb Cell 46\u001b[0m in \u001b[0;36m<cell line: 1>\u001b[0;34m()\u001b[0m\n\u001b[0;32m----> <a href='vscode-notebook-cell:/Users/prasku/Library/CloudStorage/OneDrive-IndianaUniversity/Atom/Python_learning/Datacamp/Tuples/tuples.ipynb#ch0000059?line=0'>1</a>\u001b[0m name, age \u001b[39m=\u001b[39m tup6\n",
      "\u001b[0;31mValueError\u001b[0m: too many values to unpack (expected 2)"
     ]
    }
   ],
   "source": [
    "name, age = tup6"
   ]
  },
  {
   "cell_type": "markdown",
   "metadata": {},
   "source": [
    "So the no of variable catching the values during unpacking should match exactly"
   ]
  },
  {
   "cell_type": "markdown",
   "metadata": {},
   "source": [
    "Unpacking multiple elements"
   ]
  },
  {
   "cell_type": "code",
   "execution_count": 60,
   "metadata": {},
   "outputs": [
    {
     "name": "stdout",
     "output_type": "stream",
     "text": [
      "(1, 2, 2, 3, 34, 5, 6, 6, 7, 7, 8, 9, 9, 9, 0, 0)\n"
     ]
    }
   ],
   "source": [
    "print(tup5)\n",
    "\n",
    "i1, *i2, i3 = tup5"
   ]
  },
  {
   "cell_type": "code",
   "execution_count": 61,
   "metadata": {},
   "outputs": [
    {
     "name": "stdout",
     "output_type": "stream",
     "text": [
      "1\n",
      "[2, 2, 3, 34, 5, 6, 6, 7, 7, 8, 9, 9, 9, 0]\n",
      "0\n"
     ]
    }
   ],
   "source": [
    "print(i1)\n",
    "print(i2) #This will return a list of elements as an output \n",
    "print(i3)"
   ]
  },
  {
   "cell_type": "markdown",
   "metadata": {},
   "source": [
    "Sometimes working with a tuple is efficient since python with internally make it work efficient"
   ]
  },
  {
   "cell_type": "code",
   "execution_count": 68,
   "metadata": {},
   "outputs": [
    {
     "name": "stdout",
     "output_type": "stream",
     "text": [
      "Size of the list\n",
      "120 bytes\n",
      "\n",
      "Size of the tuple\n",
      "72 bytes\n",
      "\n",
      "So a list is larger than a tuple\n"
     ]
    }
   ],
   "source": [
    "import sys\n",
    "example_list  = [0,1, \"prasanna\", True]\n",
    "example_tuple = (0,1, \"prasanna\", True)\n",
    "print(\"Size of the list\")\n",
    "print(sys.getsizeof(example_list),\"bytes\")\n",
    "print()\n",
    "print(\"Size of the tuple\")\n",
    "print(sys.getsizeof(example_tuple),\"bytes\")\n",
    "print()\n",
    "print(\"So a list is larger than a tuple\")"
   ]
  },
  {
   "cell_type": "markdown",
   "metadata": {},
   "source": [
    "we will create a tuple and list for few million times and see whats faster"
   ]
  },
  {
   "cell_type": "code",
   "execution_count": 69,
   "metadata": {},
   "outputs": [
    {
     "name": "stdout",
     "output_type": "stream",
     "text": [
      "0.06214595899973574\n",
      "0.007838709000225208\n"
     ]
    }
   ],
   "source": [
    "import timeit\n",
    "print(timeit.timeit(stmt=\"[0, 1, 2, 3, 4, 5]\",number = 1000000)) \n",
    "print(timeit.timeit(stmt=\"(0, 1, 2, 3, 4, 5)\",number = 1000000))"
   ]
  },
  {
   "cell_type": "markdown",
   "metadata": {},
   "source": [
    "So from above result we can understand a tuple is much faster to create, less size, faster to iterate as well"
   ]
  },
  {
   "cell_type": "code",
   "execution_count": null,
   "metadata": {},
   "outputs": [],
   "source": []
  }
 ],
 "metadata": {
  "kernelspec": {
   "display_name": "Python 3.9.6 64-bit",
   "language": "python",
   "name": "python3"
  },
  "language_info": {
   "codemirror_mode": {
    "name": "ipython",
    "version": 3
   },
   "file_extension": ".py",
   "mimetype": "text/x-python",
   "name": "python",
   "nbconvert_exporter": "python",
   "pygments_lexer": "ipython3",
   "version": "3.9.6"
  },
  "orig_nbformat": 4,
  "vscode": {
   "interpreter": {
    "hash": "31f2aee4e71d21fbe5cf8b01ff0e069b9275f58929596ceb00d14d90e3e16cd6"
   }
  }
 },
 "nbformat": 4,
 "nbformat_minor": 2
}
