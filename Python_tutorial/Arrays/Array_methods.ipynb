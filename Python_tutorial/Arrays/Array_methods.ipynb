{
 "cells": [
  {
   "cell_type": "markdown",
   "metadata": {},
   "source": [
    "## Arrays in python"
   ]
  },
  {
   "cell_type": "code",
   "execution_count": 2,
   "metadata": {},
   "outputs": [
    {
     "name": "stdout",
     "output_type": "stream",
     "text": [
      "Appended: array('i', [1, 2, 3, 4, 5, 6])\n",
      "Index of 3: 2\n",
      "After removing 4: array('i', [1, 2, 3, 5, 6])\n",
      "Extended array: array('i', [1, 2, 3, 5, 6, 7, 8, 9])\n",
      "Reversed array: array('i', [9, 8, 7, 6, 5, 3, 2, 1])\n",
      "Converted to list: [9, 8, 7, 6, 5, 3, 2, 1]\n",
      "Bytes representation: b'\\x00\\x00\\x00\\t\\x00\\x00\\x00\\x08\\x00\\x00\\x00\\x07\\x00\\x00\\x00\\x06\\x00\\x00\\x00\\x05\\x00\\x00\\x00\\x03\\x00\\x00\\x00\\x02\\x00\\x00\\x00\\x01'\n",
      "Cleared array: array('i')\n",
      "Array from bytes: array('i', [150994944, 134217728, 117440512, 100663296, 83886080, 50331648, 33554432, 16777216])\n"
     ]
    }
   ],
   "source": [
    "import array\n",
    "\n",
    "# Create an array of integers ('i' type code)\n",
    "arr = array.array('i', [1, 2, 3, 4, 5])\n",
    "\n",
    "# Append an element to the array\n",
    "arr.append(6)\n",
    "print(\"Appended:\", arr)  # Output: array('i', [1, 2, 3, 4, 5, 6])\n",
    "\n",
    "# Find the index of an element\n",
    "index_of_3 = arr.index(3)\n",
    "print(\"Index of 3:\", index_of_3)  # Output: 2\n",
    "\n",
    "# Remove an element by value\n",
    "arr.remove(4)\n",
    "print(\"After removing 4:\", arr)  # Output: array('i', [1, 2, 3, 5, 6])\n",
    "\n",
    "# Extend the array with another iterable\n",
    "arr.extend([7, 8, 9])\n",
    "print(\"Extended array:\", arr)  # Output: array('i', [1, 2, 3, 5, 6, 7, 8, 9])\n",
    "\n",
    "# Reverse the array\n",
    "arr.reverse()\n",
    "print(\"Reversed array:\", arr)  # Output: array('i', [9, 8, 7, 6, 5, 3, 2, 1])\n",
    "\n",
    "# Convert the array to a list\n",
    "arr_list = arr.tolist()\n",
    "print(\"Converted to list:\", arr_list)  # Output: [9, 8, 7, 6, 5, 3, 2, 1]\n",
    "\n",
    "# Byteswap (for demonstration, requires elements that are byte-swappable)\n",
    "arr.byteswap()\n",
    "\n",
    "# Convert the array to a bytes object\n",
    "bytes_data = arr.tobytes()\n",
    "print(\"Bytes representation:\", bytes_data)  # Output: b'\\t\\x00\\x00\\x00\\x08\\x00\\x00\\x00\\x07\\x00\\x00\\x00\\x06\\x00\\x00\\x00\\x05\\x00\\x00\\x00\\x03\\x00\\x00\\x00\\x02\\x00\\x00\\x00\\x01\\x00\\x00\\x00'\n",
    "\n",
    "# Reinitialize the array or create a new instance to clear it\n",
    "arr = array.array('i')\n",
    "print(\"Cleared array:\", arr)  # Output: array('i')\n",
    "\n",
    "# Example of creating an array from bytes\n",
    "arr.frombytes(bytes_data)\n",
    "print(\"Array from bytes:\", arr)  # Output: array('i', [9, 8, 7, 6, 5, 3, 2, 1])\n"
   ]
  }
 ],
 "metadata": {
  "kernelspec": {
   "display_name": "Python 3",
   "language": "python",
   "name": "python3"
  },
  "language_info": {
   "codemirror_mode": {
    "name": "ipython",
    "version": 3
   },
   "file_extension": ".py",
   "mimetype": "text/x-python",
   "name": "python",
   "nbconvert_exporter": "python",
   "pygments_lexer": "ipython3",
   "version": "3.9.6"
  }
 },
 "nbformat": 4,
 "nbformat_minor": 2
}
