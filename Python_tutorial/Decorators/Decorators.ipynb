{
 "cells": [
  {
   "cell_type": "markdown",
   "metadata": {},
   "source": [
    "Decorators in Python provide a way to modify or enhance the behavior of functions or methods. They are a powerful feature that allows for more readable and reusable code. While you can achieve many things without decorators, they offer a more elegant and Pythonic way to add functionality to your code.\n",
    "\n",
    "Benefits of Using Decorators\n",
    "Code Reusability: Decorators allow you to define reusable pieces of code that can be applied to multiple functions or methods without duplicating code.\n",
    "Separation of Concerns: They help separate concerns by allowing you to add functionality (like logging, timing, authentication, etc.) without modifying the core logic of the function.\n",
    "Readability and Maintainability: Decorators can make your code cleaner and more readable, as the additional functionality is abstracted away from the core logic of your functions.\n",
    "Example Use Cases of Decorators\n",
    "Logging: Automatically log information about function calls.\n",
    "Authorization: Check if a user is authorized to perform a certain action.\n",
    "Caching: Cache the results of expensive function calls.\n",
    "Timing: Measure the execution time of functions.\n",
    "Validation: Validate function arguments before executing the function."
   ]
  },
  {
   "cell_type": "code",
   "execution_count": 3,
   "metadata": {},
   "outputs": [
    {
     "name": "stdout",
     "output_type": "stream",
     "text": [
      "Calling function say_hello\n",
      "Hello, Alice!\n",
      "Function say_hello finished\n"
     ]
    }
   ],
   "source": [
    "def my_decorator(func): # Decorator is a function that takes another function as an argument\n",
    "    \n",
    "    def wrapper(*args, **kwargs): # Wrapper is a function that takes any number of arguments and keyword arguments\n",
    "        # Arguments are passed by position\n",
    "        # Keyword arguments are arguments that are passed by name\n",
    "        # Wrapper function will call both the decorator and the original function\n",
    "        # Wrapper will call the original function with the same arguments and keyword arguments\n",
    "        print(f\"Calling function {func.__name__}\")\n",
    "        result = func(*args, **kwargs)\n",
    "        print(f\"Function {func.__name__} finished\")\n",
    "        return result\n",
    "    return wrapper\n",
    "\n",
    "@my_decorator # Decorator will be applied to the function below\n",
    "def say_hello(name):\n",
    "    print(f\"Hello, {name}!\")\n",
    "\n",
    "say_hello(\"Alice\") # Calling function say_hello"
   ]
  },
  {
   "cell_type": "code",
   "execution_count": 14,
   "metadata": {},
   "outputs": [
    {
     "name": "stdout",
     "output_type": "stream",
     "text": [
      "Finished long running task\n",
      "Function long_running_function took 2.005303144454956 seconds to execute\n"
     ]
    }
   ],
   "source": [
    "import time\n",
    "\n",
    "def timer(func):\n",
    "    def wrapper(*args, **kwargs):\n",
    "        start_time = time.time() # Time in seconds since the epoch\n",
    "        result = func(*args, **kwargs) # Call the original function and store the result\n",
    "        end_time = time.time() # Time in seconds since the epoch\n",
    "        print(f\"Function {func.__name__} took {end_time - start_time} seconds to execute\")\n",
    "        return result\n",
    "    return wrapper\n",
    "\n",
    "@timer # Decorator will be applied to the function below\n",
    "def long_running_function():\n",
    "    time.sleep(2)\n",
    "    print(\"Finished long running task\")\n",
    "\n",
    "long_running_function()\n"
   ]
  },
  {
   "cell_type": "code",
   "execution_count": 6,
   "metadata": {},
   "outputs": [],
   "source": [
    "# Practical Example: Authorization\n",
    "# Let's consider a more practical example where decorators can be useful, such as checking user authorization."
   ]
  },
  {
   "cell_type": "code",
   "execution_count": 13,
   "metadata": {},
   "outputs": [
    {
     "name": "stdout",
     "output_type": "stream",
     "text": [
      "Here is the user profile data and he is authenticated\n"
     ]
    }
   ],
   "source": [
    "def require_auth(func):\n",
    "    def wrapper(user, *args, **kwargs): # Wrapper function will take the user object as the first argument\n",
    "        # Based on the object passed, we can check if the user is authenticated or not in the wrapper function\n",
    "        if not user.is_authenticated:\n",
    "            print(\"User is not authenticated\")\n",
    "            return None\n",
    "        return func(user, *args, **kwargs) # If the user is authenticated, call the original function\n",
    "        # which mean the wrapper function will decide whether to call the original function or not based on\n",
    "        # the user object passed\n",
    "    return wrapper\n",
    "\n",
    "class User:\n",
    "    def __init__(self, is_authenticated):\n",
    "        self.is_authenticated = is_authenticated\n",
    "\n",
    "@require_auth\n",
    "def get_user_profile(user): #\n",
    "    return \"Here is the user profile data and he is authenticated\"\n",
    "\n",
    "user = User(is_authenticated=True)\n",
    "print(get_user_profile(user))  # Output: User profile data"
   ]
  },
  {
   "cell_type": "code",
   "execution_count": 12,
   "metadata": {},
   "outputs": [
    {
     "name": "stdout",
     "output_type": "stream",
     "text": [
      "User is not authenticated\n",
      "None\n"
     ]
    }
   ],
   "source": [
    "unauthenticated_user = User(is_authenticated=False)\n",
    "print(get_user_profile(unauthenticated_user))  # Output: User is not authenticated"
   ]
  },
  {
   "cell_type": "code",
   "execution_count": 15,
   "metadata": {},
   "outputs": [],
   "source": [
    "# Summary\n",
    "\n",
    "# Decorators add functionality to functions or methods in a reusable and readable way.\n",
    "# They help with separating concerns and keeping the core logic of functions clean.\n",
    "# Use cases include logging, authorization, caching, timing, and validation."
   ]
  }
 ],
 "metadata": {
  "kernelspec": {
   "display_name": "Python 3",
   "language": "python",
   "name": "python3"
  },
  "language_info": {
   "codemirror_mode": {
    "name": "ipython",
    "version": 3
   },
   "file_extension": ".py",
   "mimetype": "text/x-python",
   "name": "python",
   "nbconvert_exporter": "python",
   "pygments_lexer": "ipython3",
   "version": "3.9.6"
  }
 },
 "nbformat": 4,
 "nbformat_minor": 2
}
