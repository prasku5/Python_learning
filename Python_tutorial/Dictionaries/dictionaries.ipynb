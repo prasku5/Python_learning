{
 "cells": [
  {
   "cell_type": "code",
   "execution_count": 1,
   "metadata": {},
   "outputs": [],
   "source": [
    "#Dictionary is a mutable, unordered, key values pairs"
   ]
  },
  {
   "cell_type": "code",
   "execution_count": 1,
   "metadata": {},
   "outputs": [
    {
     "name": "stdout",
     "output_type": "stream",
     "text": [
      "Alice\n",
      "{'name': 'Alice', 'age': 25, 'city': 'New York', 'job': 'Engineer'}\n",
      "name: Alice\n",
      "age: 25\n",
      "city: New York\n",
      "job: Engineer\n"
     ]
    }
   ],
   "source": [
    "# Creating a dictionary\n",
    "person = {\n",
    "    \"name\": \"Alice\",\n",
    "    \"age\": 25,\n",
    "    \"city\": \"New York\"\n",
    "}\n",
    "\n",
    "# Accessing values\n",
    "print(person[\"name\"])  # Output: Alice\n",
    "\n",
    "# Adding a new key-value pair\n",
    "person[\"job\"] = \"Engineer\"\n",
    "print(person)  # Output: {'name': 'Alice', 'age': 25, 'city': 'New York', 'job': 'Engineer'}\n",
    "\n",
    "# Iterating over dictionary\n",
    "for key, value in person.items():\n",
    "    print(f\"{key}: {value}\")\n"
   ]
  },
  {
   "cell_type": "code",
   "execution_count": 12,
   "metadata": {},
   "outputs": [
    {
     "name": "stdout",
     "output_type": "stream",
     "text": [
      "{'key': 'value', 'name': 'prasanna kumar', 'age': 28, 'city': 'calfornia'}\n",
      "{'key': 'value', 'name': 'prasanna kumar', 'age': 28, 'city': 'calfornia'}\n"
     ]
    }
   ],
   "source": [
    "#1st way of creating the dictionary\n",
    "\n",
    "mydict1 = {\"key\":\"value\", \"name\": \"prasanna kumar\", \"age\":28 , \"city\":\"calfornia\"}\n",
    "print(mydict1)\n",
    "\n",
    "#2nd way of creation of dictionary\n",
    "\n",
    "mydict2 = dict(key=\"value\", name=\"prasanna kumar\", age = 28, city=\"calfornia\") # We need not use quotes for keys\n",
    "print(mydict2)"
   ]
  },
  {
   "cell_type": "markdown",
   "metadata": {},
   "source": [
    "Accessing the values of the dictionary"
   ]
  },
  {
   "cell_type": "code",
   "execution_count": 14,
   "metadata": {},
   "outputs": [
    {
     "name": "stdout",
     "output_type": "stream",
     "text": [
      "prasanna kumar\n"
     ]
    }
   ],
   "source": [
    "print(mydict2[\"name\"]) #-----> Dictionary_name[\"key\"]"
   ]
  },
  {
   "cell_type": "markdown",
   "metadata": {},
   "source": [
    "Accessing an key which is not present"
   ]
  },
  {
   "cell_type": "code",
   "execution_count": 15,
   "metadata": {},
   "outputs": [
    {
     "ename": "KeyError",
     "evalue": "'unknown_key'",
     "output_type": "error",
     "traceback": [
      "\u001b[0;31m---------------------------------------------------------------------------\u001b[0m",
      "\u001b[0;31mKeyError\u001b[0m                                  Traceback (most recent call last)",
      "\u001b[1;32m/Users/prasku/Library/CloudStorage/OneDrive-IndianaUniversity/Atom/Python_learning/Datacamp/Dictionaries/dictionaries.ipynb Cell 6\u001b[0m in \u001b[0;36m<cell line: 1>\u001b[0;34m()\u001b[0m\n\u001b[0;32m----> <a href='vscode-notebook-cell:/Users/prasku/Library/CloudStorage/OneDrive-IndianaUniversity/Atom/Python_learning/Datacamp/Dictionaries/dictionaries.ipynb#ch0000007?line=0'>1</a>\u001b[0m \u001b[39mprint\u001b[39m(mydict1[\u001b[39m\"\u001b[39;49m\u001b[39munknown_key\u001b[39;49m\u001b[39m\"\u001b[39;49m])\n",
      "\u001b[0;31mKeyError\u001b[0m: 'unknown_key'"
     ]
    }
   ],
   "source": [
    "print(mydict1[\"unknown_key\"])"
   ]
  },
  {
   "cell_type": "markdown",
   "metadata": {},
   "source": [
    "Since dictionary is mutable we can add or remove items"
   ]
  },
  {
   "cell_type": "markdown",
   "metadata": {},
   "source": [
    "Adding items to the dictionary"
   ]
  },
  {
   "cell_type": "code",
   "execution_count": 19,
   "metadata": {},
   "outputs": [
    {
     "name": "stdout",
     "output_type": "stream",
     "text": [
      "{'key': 'value', 'name': 'prasanna kumar', 'age': 28, 'city': 'calfornia', 'new_key_being_added': 'This is a sample value for the key'}\n"
     ]
    }
   ],
   "source": [
    "mydict2[\"new_key_being_added\"] = \"This is a sample value for the key\"\n",
    "print(mydict2)"
   ]
  },
  {
   "cell_type": "markdown",
   "metadata": {},
   "source": [
    "Modifying the existing dictionary value of a specific key"
   ]
  },
  {
   "cell_type": "code",
   "execution_count": 21,
   "metadata": {},
   "outputs": [
    {
     "name": "stdout",
     "output_type": "stream",
     "text": [
      "{'key': 'value', 'name': 'prasanna kumar', 'age': 28, 'city': 'calfornia', 'new_key_being_added': 'This is a modified/ updated value for the key'}\n"
     ]
    }
   ],
   "source": [
    "mydict2[\"new_key_being_added\"] = \"This is a modified/ updated value for the key\"\n",
    "print(mydict2)"
   ]
  },
  {
   "cell_type": "markdown",
   "metadata": {},
   "source": [
    "we can delete items from the dictionary"
   ]
  },
  {
   "cell_type": "code",
   "execution_count": 22,
   "metadata": {},
   "outputs": [
    {
     "name": "stdout",
     "output_type": "stream",
     "text": [
      "{'key': 'value', 'name': 'prasanna kumar', 'age': 28, 'city': 'calfornia'}\n"
     ]
    }
   ],
   "source": [
    "# 1st of removing an element \n",
    "del mydict2[\"new_key_being_added\"]\n",
    "print(mydict2)\n"
   ]
  },
  {
   "cell_type": "code",
   "execution_count": 23,
   "metadata": {},
   "outputs": [
    {
     "name": "stdout",
     "output_type": "stream",
     "text": [
      "{'key': 'value', 'name': 'prasanna kumar', 'age': 28}\n"
     ]
    }
   ],
   "source": [
    "# 2nd way of removing an element\n",
    "mydict2.pop(\"city\")\n",
    "print(mydict2)"
   ]
  },
  {
   "cell_type": "code",
   "execution_count": 24,
   "metadata": {},
   "outputs": [
    {
     "name": "stdout",
     "output_type": "stream",
     "text": [
      "{'key': 'value', 'name': 'prasanna kumar'}\n"
     ]
    }
   ],
   "source": [
    "# 3nd way of removing an element - post python 3.7 it removes the last element\n",
    "mydict2.popitem()\n",
    "print(mydict2)"
   ]
  },
  {
   "cell_type": "markdown",
   "metadata": {},
   "source": [
    "To check a Key is present inside a dictionary"
   ]
  },
  {
   "cell_type": "code",
   "execution_count": 25,
   "metadata": {},
   "outputs": [
    {
     "name": "stdout",
     "output_type": "stream",
     "text": [
      "name key is present in the dictionary\n"
     ]
    }
   ],
   "source": [
    "# 1st way is using the python \"if in\" statement\n",
    "\n",
    "if \"name\" in mydict2:\n",
    "    print(\"name key is present in the dictionary\")\n",
    "else:\n",
    "    print(\"name key is not present in the dictionary\")"
   ]
  },
  {
   "cell_type": "code",
   "execution_count": 30,
   "metadata": {},
   "outputs": [
    {
     "name": "stdout",
     "output_type": "stream",
     "text": [
      "name key is present\n"
     ]
    }
   ],
   "source": [
    "# 2nd way of checking a element inside a dictionary\n",
    "\n",
    "for key in mydict2.keys():\n",
    "    if key == \"name\":\n",
    "        print(\"name key is present\")\n",
    "    pass"
   ]
  },
  {
   "cell_type": "code",
   "execution_count": 26,
   "metadata": {},
   "outputs": [
    {
     "name": "stdout",
     "output_type": "stream",
     "text": [
      "prasanna kumar\n"
     ]
    }
   ],
   "source": [
    "# 2nd way of checking a element inside a dictionary\n",
    "try:\n",
    "    print(mydict2[\"name\"])\n",
    "except:\n",
    "    print(\"name key is not present in the dictionary\")"
   ]
  },
  {
   "cell_type": "code",
   "execution_count": 27,
   "metadata": {},
   "outputs": [
    {
     "name": "stdout",
     "output_type": "stream",
     "text": [
      "name key is not present in the dictionary\n"
     ]
    }
   ],
   "source": [
    "# 2nd way of checking a element inside a dictionary\n",
    "try:\n",
    "    print(mydict2[\"unknown_key\"])\n",
    "except:\n",
    "    print(\"name key is not present in the dictionary\")"
   ]
  },
  {
   "cell_type": "markdown",
   "metadata": {},
   "source": [
    "Accessing the values of a key in a dictionary"
   ]
  },
  {
   "cell_type": "code",
   "execution_count": 31,
   "metadata": {},
   "outputs": [
    {
     "name": "stdout",
     "output_type": "stream",
     "text": [
      "value\n",
      "prasanna kumar\n"
     ]
    }
   ],
   "source": [
    "for value in mydict2.values():\n",
    "    print(value)"
   ]
  },
  {
   "cell_type": "code",
   "execution_count": 32,
   "metadata": {},
   "outputs": [
    {
     "name": "stdout",
     "output_type": "stream",
     "text": [
      "Key is key and value is value \n",
      "Key is name and value is prasanna kumar \n"
     ]
    }
   ],
   "source": [
    "for key, value in mydict2.items():\n",
    "    print(f\"Key is {key} and value is {value} \")"
   ]
  },
  {
   "cell_type": "markdown",
   "metadata": {},
   "source": [
    "Copying a dictionary"
   ]
  },
  {
   "cell_type": "code",
   "execution_count": 33,
   "metadata": {},
   "outputs": [
    {
     "name": "stdout",
     "output_type": "stream",
     "text": [
      "{'key': 'value', 'name': 'prasanna kumar'}\n"
     ]
    }
   ],
   "source": [
    "mydict2_cpy = mydict2\n",
    "\n",
    "print(mydict2_cpy)"
   ]
  },
  {
   "cell_type": "markdown",
   "metadata": {},
   "source": [
    "But be careful !!!!\n",
    "\n",
    "if we modify the \"mydict2_cpy\" it will also modify the original dictionary"
   ]
  },
  {
   "cell_type": "code",
   "execution_count": 38,
   "metadata": {},
   "outputs": [
    {
     "name": "stdout",
     "output_type": "stream",
     "text": [
      "{'key': 'value', 'name': 'Prasanna'}\n",
      "{'key': 'value', 'name': 'Prasanna'}\n"
     ]
    }
   ],
   "source": [
    "mydict2_cpy[\"name\"] = \"Prasanna\"\n",
    "\n",
    "print(mydict2_cpy)\n",
    "print(mydict2) # This has the value changed"
   ]
  },
  {
   "cell_type": "markdown",
   "metadata": {},
   "source": [
    "So to copy we can use the copy() method"
   ]
  },
  {
   "cell_type": "code",
   "execution_count": 41,
   "metadata": {},
   "outputs": [
    {
     "name": "stdout",
     "output_type": "stream",
     "text": [
      "{'key': 'value', 'name': 'Prasanna kumar'}\n"
     ]
    }
   ],
   "source": [
    "mydict2[\"name\"] = \"Prasanna kumar\" #Changing back to original value \n",
    "mydict2_cpy = mydict2.copy()\n",
    "print(mydict2_cpy)"
   ]
  },
  {
   "cell_type": "markdown",
   "metadata": {},
   "source": [
    "Now lets change the value in the child dictionary and we will verify the value change in original "
   ]
  },
  {
   "cell_type": "code",
   "execution_count": 43,
   "metadata": {},
   "outputs": [
    {
     "name": "stdout",
     "output_type": "stream",
     "text": [
      "{'key': 'value', 'name': 'Prasanna kumar'}\n"
     ]
    }
   ],
   "source": [
    "mydict2_cpy[\"name\"] = \"prasanna\"\n",
    "print(mydict2)"
   ]
  },
  {
   "cell_type": "markdown",
   "metadata": {},
   "source": [
    "So from the above result the value is retained in original dictionary even if changed the value of child dictionary since we used the copy() method instead of the assignment."
   ]
  },
  {
   "cell_type": "markdown",
   "metadata": {},
   "source": [
    "we can also copy a dictionary using the keyword dict"
   ]
  },
  {
   "cell_type": "code",
   "execution_count": 47,
   "metadata": {},
   "outputs": [
    {
     "name": "stdout",
     "output_type": "stream",
     "text": [
      "{'key': 'value', 'name': 'Prasanna kumar'}\n",
      "{'key': 'value', 'name': 'prasanna'}\n",
      "{'key': 'value', 'name': 'Prasanna kumar'}\n"
     ]
    }
   ],
   "source": [
    "print(mydict2) #This is the original parent dictionary\n",
    "mydict2_cpy = dict(mydict2)\n",
    "mydict2_cpy[\"name\"] = \"prasanna\"\n",
    "print(mydict2_cpy) #This is child dictionary \n",
    "print(mydict2) # value change in child dictionary didnt effec the parent from which it is created"
   ]
  },
  {
   "cell_type": "markdown",
   "metadata": {},
   "source": [
    "We can merge two dictionaries"
   ]
  },
  {
   "cell_type": "code",
   "execution_count": 74,
   "metadata": {},
   "outputs": [],
   "source": [
    "mydict3 = dict(name=\"nasa hubble\",age = 31, area=\"space\")"
   ]
  },
  {
   "cell_type": "code",
   "execution_count": 75,
   "metadata": {},
   "outputs": [
    {
     "name": "stdout",
     "output_type": "stream",
     "text": [
      "{'key': 'value', 'name': 'nasa hubble', 'age': 31}\n",
      "{'name': 'nasa hubble', 'age': 31, 'area': 'space'}\n"
     ]
    }
   ],
   "source": [
    "print(mydict2)\n",
    "print(mydict3)"
   ]
  },
  {
   "cell_type": "code",
   "execution_count": 78,
   "metadata": {},
   "outputs": [
    {
     "name": "stdout",
     "output_type": "stream",
     "text": [
      "{'key': 'value', 'name': 'nasa hubble', 'age': 31, 'area': 'space'}\n",
      "{'name': 'nasa hubble', 'age': 31, 'area': 'space'}\n"
     ]
    }
   ],
   "source": [
    "mydict2.update(mydict3) #Updates the left side dictionary with the values from right side dictionary\n",
    "print(mydict2) #This dictionary has updated with the values\n",
    "print(mydict3) #This will retain its old state."
   ]
  },
  {
   "cell_type": "markdown",
   "metadata": {},
   "source": [
    "Dictionary are accessed only using the keys but not index based"
   ]
  },
  {
   "cell_type": "code",
   "execution_count": 79,
   "metadata": {},
   "outputs": [
    {
     "ename": "KeyError",
     "evalue": "0",
     "output_type": "error",
     "traceback": [
      "\u001b[0;31m---------------------------------------------------------------------------\u001b[0m",
      "\u001b[0;31mKeyError\u001b[0m                                  Traceback (most recent call last)",
      "\u001b[1;32m/Users/prasku/Library/CloudStorage/OneDrive-IndianaUniversity/Atom/Python_learning/Datacamp/Dictionaries/dictionaries.ipynb Cell 40\u001b[0m in \u001b[0;36m<cell line: 1>\u001b[0;34m()\u001b[0m\n\u001b[0;32m----> <a href='vscode-notebook-cell:/Users/prasku/Library/CloudStorage/OneDrive-IndianaUniversity/Atom/Python_learning/Datacamp/Dictionaries/dictionaries.ipynb#ch0000065?line=0'>1</a>\u001b[0m mydict2[\u001b[39m0\u001b[39;49m]\n",
      "\u001b[0;31mKeyError\u001b[0m: 0"
     ]
    }
   ],
   "source": [
    "mydict2[0] #This will not work as there is not key as 0 and its not index based search"
   ]
  },
  {
   "cell_type": "markdown",
   "metadata": {},
   "source": [
    "we can also use tuples as keys"
   ]
  },
  {
   "cell_type": "code",
   "execution_count": 85,
   "metadata": {},
   "outputs": [
    {
     "name": "stdout",
     "output_type": "stream",
     "text": [
      "{(8, 2, 10): 20}\n"
     ]
    }
   ],
   "source": [
    "tup1 = (8,2,10)\n",
    "\n",
    "dict4 = {tup1:sum(tup1)}\n",
    "\n",
    "print( dict4 )"
   ]
  },
  {
   "cell_type": "code",
   "execution_count": 86,
   "metadata": {},
   "outputs": [
    {
     "data": {
      "text/plain": [
       "20"
      ]
     },
     "execution_count": 86,
     "metadata": {},
     "output_type": "execute_result"
    }
   ],
   "source": [
    "dict4[(8,2,10)] # accessed the tuple key inside a dictionary"
   ]
  },
  {
   "cell_type": "code",
   "execution_count": 87,
   "metadata": {},
   "outputs": [
    {
     "name": "stdout",
     "output_type": "stream",
     "text": [
      "Tuple key is present\n"
     ]
    }
   ],
   "source": [
    "if (8,2,10) in dict4.keys():\n",
    "    print(\"Tuple key is present\")"
   ]
  },
  {
   "cell_type": "markdown",
   "metadata": {},
   "source": [
    "Dictionary keys cant be a list\n"
   ]
  },
  {
   "cell_type": "code",
   "execution_count": 89,
   "metadata": {},
   "outputs": [
    {
     "ename": "TypeError",
     "evalue": "unhashable type: 'list'",
     "output_type": "error",
     "traceback": [
      "\u001b[0;31m---------------------------------------------------------------------------\u001b[0m",
      "\u001b[0;31mTypeError\u001b[0m                                 Traceback (most recent call last)",
      "\u001b[1;32m/Users/prasku/Library/CloudStorage/OneDrive-IndianaUniversity/Atom/Python_learning/Datacamp/Dictionaries/dictionaries.ipynb Cell 46\u001b[0m in \u001b[0;36m<cell line: 3>\u001b[0;34m()\u001b[0m\n\u001b[1;32m      <a href='vscode-notebook-cell:/Users/prasku/Library/CloudStorage/OneDrive-IndianaUniversity/Atom/Python_learning/Datacamp/Dictionaries/dictionaries.ipynb#ch0000072?line=0'>1</a>\u001b[0m example_list \u001b[39m=\u001b[39m [\u001b[39m8\u001b[39m,\u001b[39m2\u001b[39m,\u001b[39m10\u001b[39m]\n\u001b[0;32m----> <a href='vscode-notebook-cell:/Users/prasku/Library/CloudStorage/OneDrive-IndianaUniversity/Atom/Python_learning/Datacamp/Dictionaries/dictionaries.ipynb#ch0000072?line=2'>3</a>\u001b[0m dict5 \u001b[39m=\u001b[39m {example_list: \u001b[39m20\u001b[39m}\n",
      "\u001b[0;31mTypeError\u001b[0m: unhashable type: 'list'"
     ]
    }
   ],
   "source": [
    "example_list = [8,2,10]\n",
    "\n",
    "dict5 = {example_list: 20}"
   ]
  },
  {
   "cell_type": "markdown",
   "metadata": {},
   "source": [
    "So notice the keys of a dictionary should be immutable and tuples qualify for that since they are immutable"
   ]
  }
 ],
 "metadata": {
  "kernelspec": {
   "display_name": "Python 3.9.6 64-bit",
   "language": "python",
   "name": "python3"
  },
  "language_info": {
   "codemirror_mode": {
    "name": "ipython",
    "version": 3
   },
   "file_extension": ".py",
   "mimetype": "text/x-python",
   "name": "python",
   "nbconvert_exporter": "python",
   "pygments_lexer": "ipython3",
   "version": "3.9.6"
  },
  "orig_nbformat": 4,
  "vscode": {
   "interpreter": {
    "hash": "31f2aee4e71d21fbe5cf8b01ff0e069b9275f58929596ceb00d14d90e3e16cd6"
   }
  }
 },
 "nbformat": 4,
 "nbformat_minor": 2
}
