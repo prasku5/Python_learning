{
 "cells": [
  {
   "cell_type": "markdown",
   "metadata": {},
   "source": [
    "Metaclasses in Python are a powerful and advanced feature that allows you to control the creation and \n",
    "\n",
    "behavior of classes. They are essentially \"classes of classes\" and are used to modify or customize class\n",
    "\n",
    " creation and initialization.\n",
    "\n",
    "Understanding Metaclasses\n",
    "1. What is a Metaclass?\n",
    "\n",
    "A metaclass is a class that defines how other classes are constructed. While regular classes are used to \n",
    "\n",
    "create objects, metaclasses are used to create classes. In other words, a metaclass is a blueprint for a class.\n",
    "\n",
    "2. How Metaclasses Work\n",
    "\n",
    "When you create a class in Python, it is actually created by a metaclass. By default, Python uses type as the \n",
    "\n",
    "metaclass for new classes.\n",
    "\n",
    "Here’s the general flow of how classes are created:\n",
    "\n",
    "Define a Class: When you define a class, Python calls the metaclass to construct it.\n",
    "\n",
    "Metaclass __new__ and __init__ Methods: The metaclass’s __new__ method creates the new class object, and __init__ \n",
    "\n",
    "initializes it.\n",
    "3. Basic Example of Using type\n",
    "\n",
    "Python’s built-in metaclass is type. You can use type to create classes dynamically."
   ]
  },
  {
   "cell_type": "code",
   "execution_count": 1,
   "metadata": {},
   "outputs": [
    {
     "name": "stdout",
     "output_type": "stream",
     "text": [
      "42\n",
      "Hello\n"
     ]
    }
   ],
   "source": [
    "# Using `type` to create a class dynamically\n",
    "MyClass = type('MyClass', (object,), {'attr': 42, 'method': lambda self: 'Hello'})\n",
    "\n",
    "# Create an instance of the dynamically created class\n",
    "instance = MyClass()\n",
    "print(instance.attr)        # Output: 42\n",
    "print(instance.method())   # Output: Hello"
   ]
  },
  {
   "cell_type": "markdown",
   "metadata": {},
   "source": [
    "Defining a Custom Metaclass\n",
    "\n",
    "To define a custom metaclass, you need to create a class that inherits from type and override the __new__ and/or \n",
    "\n",
    "__init__ methods.\n",
    "\n",
    "Example: Custom Metaclass"
   ]
  },
  {
   "cell_type": "code",
   "execution_count": 3,
   "metadata": {},
   "outputs": [
    {
     "name": "stdout",
     "output_type": "stream",
     "text": [
      "Creating class MyClass\n",
      "Hello, world!\n"
     ]
    }
   ],
   "source": [
    "class MyMeta(type):\n",
    "    def __new__(cls, name, bases, dct):\n",
    "        print(f'Creating class {name}')\n",
    "        dct['greeting'] = 'Hello, world!'\n",
    "        return super().__new__(cls, name, bases, dct)\n",
    "\n",
    "class MyClass(metaclass=MyMeta):\n",
    "    pass\n",
    "\n",
    "# Create an instance of MyClass\n",
    "instance = MyClass()\n",
    "print(instance.greeting)  # Output: Hello, world!\n"
   ]
  },
  {
   "cell_type": "markdown",
   "metadata": {},
   "source": [
    "Explanation:\n",
    "\n",
    "__new__ Method: This method is responsible for creating the new class. \n",
    "\n",
    "It receives the class name, base classes, and class dictionary. \n",
    "\n",
    "You can modify these before the class is created.\n",
    "\n",
    "__init__ Method: This method initializes the new class object. It is called \n",
    "\n",
    "after __new__ and can be used to further customize the class.\n",
    "\n",
    "5. Practical Use Cases for Metaclasses\n",
    "\n",
    "Metaclasses can be used for various advanced programming scenarios:\n",
    "\n",
    "Validation and Constraints: Enforcing constraints on class attributes or methods.\n",
    "\n",
    "Automatic Method Generation: Automatically adding methods or attributes to classes.\n",
    "\n",
    "Singleton Pattern: Ensuring that only one instance of a class is created.\n",
    "\n",
    "Example: Singleton Pattern Using a Metaclass"
   ]
  },
  {
   "cell_type": "code",
   "execution_count": 4,
   "metadata": {},
   "outputs": [
    {
     "name": "stdout",
     "output_type": "stream",
     "text": [
      "True\n"
     ]
    }
   ],
   "source": [
    "class SingletonMeta(type):\n",
    "    _instances = {}\n",
    "    \n",
    "    def __call__(cls, *args, **kwargs):\n",
    "        if cls not in cls._instances:\n",
    "            cls._instances[cls] = super().__call__(*args, **kwargs)\n",
    "        return cls._instances[cls]\n",
    "\n",
    "class SingletonClass(metaclass=SingletonMeta):\n",
    "    pass\n",
    "\n",
    "# Create instances of SingletonClass\n",
    "obj1 = SingletonClass()\n",
    "obj2 = SingletonClass()\n",
    "\n",
    "print(obj1 is obj2)  # Output: True (both references point to the same instance)\n"
   ]
  },
  {
   "cell_type": "markdown",
   "metadata": {},
   "source": [
    "Summary\n",
    "\n",
    "Metaclasses: Classes of classes used to control the creation and behavior of classes.\n",
    "\n",
    "Default Metaclass: Python uses type by default.\n",
    "\n",
    "Custom Metaclasses: Define your own by inheriting from type and overriding __new__ and/or __init__.\n",
    "\n",
    "Use Cases: Useful for validation, automatic method generation, and implementing design patterns like Singleton."
   ]
  }
 ],
 "metadata": {
  "kernelspec": {
   "display_name": "Python 3",
   "language": "python",
   "name": "python3"
  },
  "language_info": {
   "codemirror_mode": {
    "name": "ipython",
    "version": 3
   },
   "file_extension": ".py",
   "mimetype": "text/x-python",
   "name": "python",
   "nbconvert_exporter": "python",
   "pygments_lexer": "ipython3",
   "version": "3.9.6"
  }
 },
 "nbformat": 4,
 "nbformat_minor": 2
}
