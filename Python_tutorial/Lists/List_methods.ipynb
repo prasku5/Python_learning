{
 "cells": [
  {
   "cell_type": "markdown",
   "metadata": {},
   "source": [
    "## append(item)\n",
    "\n",
    "### Adds an item to the end of the list."
   ]
  },
  {
   "cell_type": "code",
   "execution_count": 2,
   "metadata": {},
   "outputs": [
    {
     "name": "stdout",
     "output_type": "stream",
     "text": [
      "['apple', 'banana', 'cherry']\n"
     ]
    }
   ],
   "source": [
    "fruits = ['apple', 'banana']\n",
    "fruits.append('cherry')\n",
    "print(fruits)  # Output: ['apple', 'banana', 'cherry']"
   ]
  },
  {
   "cell_type": "code",
   "execution_count": 3,
   "metadata": {},
   "outputs": [
    {
     "name": "stdout",
     "output_type": "stream",
     "text": [
      "['apple', 'banana', 'cherry', None]\n"
     ]
    }
   ],
   "source": [
    "# Edge case: Appending None\n",
    "fruits.append(None)\n",
    "print(fruits)  # Output: ['apple', 'banana', 'cherry', None]"
   ]
  },
  {
   "cell_type": "markdown",
   "metadata": {},
   "source": [
    "## extend(iterable)\n",
    "\n",
    "### Adds all elements from an iterable to the end of the list."
   ]
  },
  {
   "cell_type": "code",
   "execution_count": 4,
   "metadata": {},
   "outputs": [
    {
     "name": "stdout",
     "output_type": "stream",
     "text": [
      "['apple', 'banana', 'cherry', 'date']\n"
     ]
    }
   ],
   "source": [
    "# Example\n",
    "fruits = ['apple', 'banana']\n",
    "more_fruits = ['cherry', 'date']\n",
    "fruits.extend(more_fruits)\n",
    "print(fruits)  # Output: ['apple', 'banana', 'cherry', 'date']"
   ]
  },
  {
   "cell_type": "code",
   "execution_count": 5,
   "metadata": {},
   "outputs": [
    {
     "name": "stdout",
     "output_type": "stream",
     "text": [
      "['apple', 'banana', 'cherry', 'date']\n"
     ]
    }
   ],
   "source": [
    "# Edge case: Extending with an empty list\n",
    "fruits.extend([])\n",
    "print(fruits)  # Output: ['apple', 'banana', 'cherry', 'date']"
   ]
  },
  {
   "cell_type": "markdown",
   "metadata": {},
   "source": [
    "## insert(index, item)\n",
    "\n",
    "### Inserts an item at a specified position."
   ]
  },
  {
   "cell_type": "code",
   "execution_count": 6,
   "metadata": {},
   "outputs": [
    {
     "name": "stdout",
     "output_type": "stream",
     "text": [
      "['apple', 'cherry', 'banana']\n"
     ]
    }
   ],
   "source": [
    "# Example\n",
    "fruits = ['apple', 'banana']\n",
    "fruits.insert(1, 'cherry')\n",
    "print(fruits)  # Output: ['apple', 'cherry', 'banana']"
   ]
  },
  {
   "cell_type": "code",
   "execution_count": 7,
   "metadata": {},
   "outputs": [
    {
     "name": "stdout",
     "output_type": "stream",
     "text": [
      "['apple', 'cherry', 'banana', 'date']\n"
     ]
    }
   ],
   "source": [
    "# Edge case: Inserting at an index greater than the list size\n",
    "fruits.insert(10, 'date')\n",
    "print(fruits)  # Output: ['apple', 'cherry', 'banana', 'date']"
   ]
  },
  {
   "cell_type": "markdown",
   "metadata": {},
   "source": [
    "## remove(item)\n",
    "\n",
    "### Removes the first occurrence of an item."
   ]
  },
  {
   "cell_type": "code",
   "execution_count": 8,
   "metadata": {},
   "outputs": [
    {
     "name": "stdout",
     "output_type": "stream",
     "text": [
      "['apple', 'cherry', 'banana']\n"
     ]
    }
   ],
   "source": [
    "# Example\n",
    "fruits = ['apple', 'banana', 'cherry', 'banana']\n",
    "fruits.remove('banana')\n",
    "print(fruits)  # Output: ['apple', 'cherry', 'banana']"
   ]
  },
  {
   "cell_type": "code",
   "execution_count": 9,
   "metadata": {},
   "outputs": [
    {
     "name": "stdout",
     "output_type": "stream",
     "text": [
      "list.remove(x): x not in list\n"
     ]
    }
   ],
   "source": [
    "# Edge case: Removing an item not in the list\n",
    "try:\n",
    "    fruits.remove('date')\n",
    "except ValueError as e:\n",
    "    print(e)  # Output: list.remove(x): x not in list"
   ]
  },
  {
   "cell_type": "markdown",
   "metadata": {},
   "source": [
    "## pop([index])\n",
    "\n",
    "### Removes and returns an item at a given index; if no index is specified, removes and returns the last item.\n",
    "\n"
   ]
  },
  {
   "cell_type": "code",
   "execution_count": 10,
   "metadata": {},
   "outputs": [
    {
     "name": "stdout",
     "output_type": "stream",
     "text": [
      "cherry\n",
      "['apple', 'banana']\n"
     ]
    }
   ],
   "source": [
    "# Example\n",
    "fruits = ['apple', 'banana', 'cherry']\n",
    "fruit = fruits.pop()\n",
    "print(fruit)  # Output: 'cherry'\n",
    "print(fruits)  # Output: ['apple', 'banana']"
   ]
  },
  {
   "cell_type": "code",
   "execution_count": 11,
   "metadata": {},
   "outputs": [
    {
     "name": "stdout",
     "output_type": "stream",
     "text": [
      "pop from empty list\n"
     ]
    }
   ],
   "source": [
    "# Edge case: Popping from an empty list\n",
    "fruits.clear()\n",
    "try:\n",
    "    fruits.pop()\n",
    "except IndexError as e:\n",
    "    print(e)  # Output: pop from empty list"
   ]
  },
  {
   "cell_type": "markdown",
   "metadata": {},
   "source": [
    "## clear()\n",
    "\n",
    "### Removes all items from the list."
   ]
  },
  {
   "cell_type": "code",
   "execution_count": 12,
   "metadata": {},
   "outputs": [
    {
     "name": "stdout",
     "output_type": "stream",
     "text": [
      "[]\n"
     ]
    }
   ],
   "source": [
    "# Example\n",
    "fruits = ['apple', 'banana', 'cherry']\n",
    "fruits.clear()\n",
    "print(fruits)  # Output: []"
   ]
  },
  {
   "cell_type": "markdown",
   "metadata": {},
   "source": [
    "## index(item, [start, [end]])\n",
    "\n",
    "### Returns the index of the first occurrence of an item."
   ]
  },
  {
   "cell_type": "code",
   "execution_count": 13,
   "metadata": {},
   "outputs": [
    {
     "name": "stdout",
     "output_type": "stream",
     "text": [
      "1\n"
     ]
    }
   ],
   "source": [
    "# Example\n",
    "fruits = ['apple', 'banana', 'cherry']\n",
    "index = fruits.index('banana')\n",
    "print(index)  # Output: 1"
   ]
  },
  {
   "cell_type": "code",
   "execution_count": 14,
   "metadata": {},
   "outputs": [
    {
     "name": "stdout",
     "output_type": "stream",
     "text": [
      "'date' is not in list\n"
     ]
    }
   ],
   "source": [
    "# Edge case: Item not in list\n",
    "try:\n",
    "    index = fruits.index('date')\n",
    "except ValueError as e:\n",
    "    print(e)  # Output: 'date' is not in list"
   ]
  },
  {
   "cell_type": "markdown",
   "metadata": {},
   "source": [
    "## count(item)\n",
    "\n",
    "### Returns the number of occurrences of an item."
   ]
  },
  {
   "cell_type": "code",
   "execution_count": 16,
   "metadata": {},
   "outputs": [
    {
     "name": "stdout",
     "output_type": "stream",
     "text": [
      "2\n"
     ]
    }
   ],
   "source": [
    "# Example\n",
    "fruits = ['apple', 'banana', 'cherry', 'banana']\n",
    "count = fruits.count('banana')\n",
    "print(count)  # Output: 2"
   ]
  },
  {
   "cell_type": "code",
   "execution_count": 18,
   "metadata": {},
   "outputs": [
    {
     "name": "stdout",
     "output_type": "stream",
     "text": [
      "0\n"
     ]
    }
   ],
   "source": [
    "# Edge case: Counting an item not in the list\n",
    "count = fruits.count('date')\n",
    "print(count)  # Output: 0"
   ]
  },
  {
   "cell_type": "markdown",
   "metadata": {},
   "source": [
    "## sort(key=None, reverse=False)\n",
    "\n",
    "### Sorts the list in place."
   ]
  },
  {
   "cell_type": "code",
   "execution_count": 21,
   "metadata": {},
   "outputs": [
    {
     "name": "stdout",
     "output_type": "stream",
     "text": [
      "[1, 1, 3, 4, 5, 9]\n"
     ]
    }
   ],
   "source": [
    "# Example\n",
    "numbers = [3, 1, 4, 1, 5, 9]\n",
    "numbers.sort()\n",
    "print(numbers)  # Output: [1, 1, 3, 4, 5, 9]"
   ]
  },
  {
   "cell_type": "code",
   "execution_count": 22,
   "metadata": {},
   "outputs": [
    {
     "name": "stdout",
     "output_type": "stream",
     "text": [
      "[9, 5, 4, 3, 1, 1]\n"
     ]
    }
   ],
   "source": [
    "numbers.sort(reverse=True)\n",
    "print(numbers)  # Output: [1, 1, 3, 4, 5, 9]"
   ]
  },
  {
   "cell_type": "code",
   "execution_count": 20,
   "metadata": {},
   "outputs": [
    {
     "name": "stdout",
     "output_type": "stream",
     "text": [
      "'<' not supported between instances of 'str' and 'int'\n"
     ]
    }
   ],
   "source": [
    "# Edge case: Sorting a list with mixed types\n",
    "try:\n",
    "    mixed = [3, 'apple', 2]\n",
    "    mixed.sort()\n",
    "except TypeError as e:\n",
    "    print(e)  # Output: '<' not supported between instances of 'str' and 'int'"
   ]
  },
  {
   "cell_type": "markdown",
   "metadata": {},
   "source": [
    "## reverse()\n",
    "\n",
    "### Reverses the list in place."
   ]
  },
  {
   "cell_type": "code",
   "execution_count": 23,
   "metadata": {},
   "outputs": [
    {
     "name": "stdout",
     "output_type": "stream",
     "text": [
      "['cherry', 'banana', 'apple']\n"
     ]
    }
   ],
   "source": [
    "# Example\n",
    "fruits = ['apple', 'banana', 'cherry']\n",
    "fruits.reverse()\n",
    "print(fruits)  # Output: ['cherry', 'banana', 'apple']\n"
   ]
  },
  {
   "cell_type": "markdown",
   "metadata": {},
   "source": [
    "## copy()\n",
    "\n",
    "### Returns a shallow copy of the list."
   ]
  },
  {
   "cell_type": "markdown",
   "metadata": {},
   "source": [
    "\n",
    "In the deep copy example, the original list remains unchanged because deepcopy creates a completely independent copy of the list\n",
    "and its elements. This means that any changes made to the deep copy do not affect the original list. Here's the detailed reasoning:\n",
    "\n",
    "Shallow Copy\n",
    "Shallow Copy: Creates a new list, but elements within the new list are references to the objects found in the original list. Changes\n",
    " to mutable elements (e.g., nested lists) will affect the original list.\n",
    "\n",
    "Deep Copy: Creates a new list and recursively copies all objects found in the original list. Changes to any part of the deep copy do\n",
    " not affect the original list."
   ]
  },
  {
   "cell_type": "code",
   "execution_count": 44,
   "metadata": {},
   "outputs": [
    {
     "name": "stdout",
     "output_type": "stream",
     "text": [
      "['mango', 'banana', 'cherry']\n",
      "['apple', 'banana', 'cherry']\n"
     ]
    }
   ],
   "source": [
    "from copy import copy\n",
    "# Shallow copy example\n",
    "fruits = ['apple', 'banana', 'cherry']\n",
    "fruits_copy = copy(fruits)\n",
    "fruits_copy[0] = \"mango\"  # Changing the copy\n",
    "print(fruits_copy)  # Output: ['mango', 'banana', 'cherry']\n",
    "print(fruits)  # Output: ['apple', 'banana', 'cherry']  # Original list is not changed due to shallow copy"
   ]
  },
  {
   "cell_type": "code",
   "execution_count": 45,
   "metadata": {},
   "outputs": [
    {
     "name": "stdout",
     "output_type": "stream",
     "text": [
      "[6, 5, 4]\n",
      "[1, 5, 4]\n"
     ]
    }
   ],
   "source": [
    "from copy import copy\n",
    "# Shallow copy example\n",
    "fruits = [1, 5, 4]\n",
    "fruits_copy = copy(fruits)\n",
    "fruits_copy[0] = 6  # Changing the copy\n",
    "print(fruits_copy)  # Output: ['mango', 'banana', 'cherry']\n",
    "print(fruits)  # Output: ['apple', 'banana', 'cherry']  # Original list is not changed due to shallow copy"
   ]
  },
  {
   "cell_type": "code",
   "execution_count": 50,
   "metadata": {},
   "outputs": [
    {
     "name": "stdout",
     "output_type": "stream",
     "text": [
      "Original list of strings: ['apple', 'banana', 'cherry']\n",
      "Shallow copied list of strings: ['orange', 'banana', 'cherry']\n"
     ]
    }
   ],
   "source": [
    "import copy\n",
    "\n",
    "# List of strings\n",
    "original_strings = [\"apple\", \"banana\", \"cherry\"]\n",
    "\n",
    "# Shallow copy of list of strings\n",
    "shallow_copy_strings = copy.copy(original_strings)\n",
    "\n",
    "# Modify the shallow copied list\n",
    "shallow_copy_strings[0] = \"orange\"\n",
    "\n",
    "print(\"Original list of strings:\", original_strings)\n",
    "print(\"Shallow copied list of strings:\", shallow_copy_strings)\n"
   ]
  },
  {
   "cell_type": "markdown",
   "metadata": {},
   "source": [
    "Immutable Objects (like strings, integers):\n",
    "\n",
    "When you shallow copy a list of immutable objects (e.g., a list of strings or integers), each element in the copied list points to \n",
    "the same memory location as the original list. Modifications to elements in the copied list do not affect the original list because\n",
    "these elements are immutable and thus, when modified, a new object is created in memory.\n",
    "Mutable Objects (like lists of lists):\n",
    "\n",
    "When you shallow copy a list that contains mutable objects (e.g., a list of lists), the new list created by copy.copy() contains references \n",
    "to the same objects as the original list. This means both the original and the shallow copied list share references to the same nested lists.\n",
    "Therefore, modifying a nested list in the shallow copy will affect the original list because they are pointing to the same objects in memory.\n"
   ]
  },
  {
   "cell_type": "code",
   "execution_count": 47,
   "metadata": {},
   "outputs": [
    {
     "name": "stdout",
     "output_type": "stream",
     "text": [
      "Original list after shallow copy: [[100, 2, 3], [4, 5, 6], [7, 8, 9]]\n",
      "Shallow copy: [[100, 2, 3], [4, 5, 6], [7, 8, 9]]\n"
     ]
    }
   ],
   "source": [
    "import copy\n",
    "\n",
    "list_of_lists = [[1, 2, 3], [4, 5, 6], [7, 8, 9]]\n",
    "\n",
    "# Perform a shallow copy\n",
    "shallow_copy = copy.copy(list_of_lists)\n",
    "\n",
    "# Modify an element in the shallow copy\n",
    "shallow_copy[0][0] = 100\n",
    "\n",
    "print(\"Original list after shallow copy:\", list_of_lists)\n",
    "print(\"Shallow copy:\", shallow_copy)"
   ]
  },
  {
   "cell_type": "markdown",
   "metadata": {},
   "source": [
    "Notice that modifying shallow_copy affects the original list_of_lists because they share the inner lists."
   ]
  },
  {
   "cell_type": "markdown",
   "metadata": {},
   "source": [
    "Understanding Shallow Copy\n",
    "A shallow copy creates a new list, but the elements inside the list are references to the objects found in the original list.\n",
    "However, since strings in Python are immutable, any attempt to change a string in the shallow copy results in a new string object\n",
    "being created, leaving the original list unchanged."
   ]
  },
  {
   "cell_type": "code",
   "execution_count": 43,
   "metadata": {},
   "outputs": [
    {
     "name": "stdout",
     "output_type": "stream",
     "text": [
      "['mango', 'banana', 'cherry']\n",
      "['apple', 'banana', 'cherry']\n"
     ]
    }
   ],
   "source": [
    "# Deep copy example\n",
    "from copy import deepcopy\n",
    "fruits = ['apple', 'banana', 'cherry']\n",
    "fruits_deep_copy = deepcopy(fruits)\n",
    "fruits_deep_copy[0] = \"mango\"  #     Changing the copy\n",
    "print(fruits_deep_copy)  # Output: ['mango', 'banana', 'cherry']\n",
    "print(fruits)  # Output: ['apple', 'banana', 'cherry']  # Original list is not changed due to deep copy"
   ]
  },
  {
   "cell_type": "markdown",
   "metadata": {},
   "source": [
    "Both shallow copy and deep copy examples demonstrate that changes made to the copied list do not affect the original list.\n",
    "The key difference between them becomes more apparent when dealing with nested structures. Below are examples that illustrate\n",
    "this difference with nested lists:"
   ]
  },
  {
   "cell_type": "code",
   "execution_count": 46,
   "metadata": {},
   "outputs": [
    {
     "name": "stdout",
     "output_type": "stream",
     "text": [
      "[6, 5, 4]\n",
      "[1, 5, 4]\n"
     ]
    }
   ],
   "source": [
    "from copy import deepcopy\n",
    "# Shallow copy example\n",
    "fruits = [1, 5, 4]\n",
    "fruits_copy = deepcopy(fruits)\n",
    "fruits_copy[0] = 6  # Changing the copy\n",
    "print(fruits_copy)  # Output: ['mango', 'banana', 'cherry']\n",
    "print(fruits)  # Output: ['apple', 'banana', 'cherry']  # Original list is not changed due to shallow copy"
   ]
  },
  {
   "cell_type": "code",
   "execution_count": 48,
   "metadata": {},
   "outputs": [
    {
     "name": "stdout",
     "output_type": "stream",
     "text": [
      "Original list after deep copy: [[1, 2, 3], [4, 5, 6], [7, 8, 9]]\n",
      "Deep copy: [[100, 2, 3], [4, 5, 6], [7, 8, 9]]\n"
     ]
    }
   ],
   "source": [
    "import copy\n",
    "\n",
    "list_of_lists = [[1, 2, 3], [4, 5, 6], [7, 8, 9]]\n",
    "\n",
    "# Perform a deep copy\n",
    "deep_copy = copy.deepcopy(list_of_lists)\n",
    "\n",
    "# Modify an element in the deep copy\n",
    "deep_copy[0][0] = 100\n",
    "\n",
    "print(\"Original list after deep copy:\", list_of_lists)\n",
    "print(\"Deep copy:\", deep_copy)\n"
   ]
  },
  {
   "cell_type": "markdown",
   "metadata": {},
   "source": [
    "In this case, modifying deep_copy does not affect the original list_of_lists. Each list (including nested lists) is duplicated."
   ]
  },
  {
   "cell_type": "markdown",
   "metadata": {},
   "source": [
    "Summary:\n",
    "\n",
    "Shallow Copy: Copies the top-level structure and references of nested objects.\n",
    "\n",
    "Deep Copy: Recursively copies all objects found, creating a fully independent clone."
   ]
  }
 ],
 "metadata": {
  "kernelspec": {
   "display_name": "Python 3",
   "language": "python",
   "name": "python3"
  },
  "language_info": {
   "codemirror_mode": {
    "name": "ipython",
    "version": 3
   },
   "file_extension": ".py",
   "mimetype": "text/x-python",
   "name": "python",
   "nbconvert_exporter": "python",
   "pygments_lexer": "ipython3",
   "version": "3.9.6"
  }
 },
 "nbformat": 4,
 "nbformat_minor": 2
}
