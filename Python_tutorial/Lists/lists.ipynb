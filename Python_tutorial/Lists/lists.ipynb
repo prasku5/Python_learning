{
 "cells": [
  {
   "cell_type": "markdown",
   "metadata": {},
   "source": [
    "Create a list "
   ]
  },
  {
   "cell_type": "code",
   "execution_count": 12,
   "metadata": {},
   "outputs": [],
   "source": [
    "# Understanding and mastering Python data structures is crucial for data engineering tasks. Here, we'll cover the main data structures\n",
    "#  with examples and some cool methods to manipulate data.\n",
    "\n",
    "# 1. Lists\n",
    "\n",
    "# Lists are ordered collections of items that are mutable and can contain mixed data types. It supports heterogeneous data types."
   ]
  },
  {
   "cell_type": "code",
   "execution_count": 13,
   "metadata": {},
   "outputs": [
    {
     "name": "stdout",
     "output_type": "stream",
     "text": [
      "10\n",
      "[10, 20, 30, 40, 50, 60]\n",
      "[10, 20, 40, 50, 60]\n",
      "[100, 400, 1600, 2500, 3600]\n"
     ]
    }
   ],
   "source": [
    "# Creating a list\n",
    "data = [10, 20, 30, 40, 50]\n",
    "\n",
    "# Accessing elements\n",
    "print(data[0])  # Output: 10\n",
    "\n",
    "# Adding elements\n",
    "data.append(60)\n",
    "print(data)  # Output: [10, 20, 30, 40, 50, 60]\n",
    "\n",
    "# Removing elements\n",
    "data.remove(30)\n",
    "print(data)  # Output: [10, 20, 40, 50, 60]\n",
    "\n",
    "# List comprehension\n",
    "squared_data = [x**2 for x in data] # List comprehension is a concise way to create lists.\n",
    "                                    # It is a powerful tool to create lists by iterating over an iterable object.\n",
    "                                    # It is similar to the lambda function in Python and the only difference is that it can be used inside the list.\n",
    "print(squared_data)  # Output: [100, 400, 1600, 2500, 3600]\n"
   ]
  },
  {
   "cell_type": "code",
   "execution_count": 14,
   "metadata": {},
   "outputs": [
    {
     "name": "stdout",
     "output_type": "stream",
     "text": [
      "<function <lambda> at 0x1071601f0> [10, 20, 40, 50, 60]\n",
      "<class 'function'>\n"
     ]
    }
   ],
   "source": [
    "print(lambda x: x**2, data) # Output: [100, 400, 1600, 2500, 3600]\n",
    "print(type(lambda x: x**2)) # Output: <class 'function'>"
   ]
  },
  {
   "cell_type": "code",
   "execution_count": 15,
   "metadata": {},
   "outputs": [],
   "source": [
    "mylist = ['a','b','c']"
   ]
  },
  {
   "cell_type": "markdown",
   "metadata": {},
   "source": [
    "Printing a list"
   ]
  },
  {
   "cell_type": "code",
   "execution_count": 16,
   "metadata": {},
   "outputs": [
    {
     "name": "stdout",
     "output_type": "stream",
     "text": [
      "['a', 'b', 'c']\n"
     ]
    }
   ],
   "source": [
    "print(mylist)"
   ]
  },
  {
   "cell_type": "markdown",
   "metadata": {},
   "source": [
    "creating a empty list"
   ]
  },
  {
   "cell_type": "code",
   "execution_count": 17,
   "metadata": {},
   "outputs": [],
   "source": [
    "my_empty_list = list()"
   ]
  },
  {
   "cell_type": "code",
   "execution_count": 18,
   "metadata": {},
   "outputs": [
    {
     "name": "stdout",
     "output_type": "stream",
     "text": [
      "[]\n"
     ]
    }
   ],
   "source": [
    "print(my_empty_list)"
   ]
  },
  {
   "cell_type": "markdown",
   "metadata": {},
   "source": [
    "List can contain multiple datatypes"
   ]
  },
  {
   "cell_type": "code",
   "execution_count": 19,
   "metadata": {},
   "outputs": [],
   "source": [
    "mylist2 = [5, True, \"Hello\"] # Since it allows heterogeneous data types, we can have a list with different data types."
   ]
  },
  {
   "cell_type": "code",
   "execution_count": 20,
   "metadata": {},
   "outputs": [
    {
     "name": "stdout",
     "output_type": "stream",
     "text": [
      "[5, True, 'Hello']\n"
     ]
    }
   ],
   "source": [
    "print(mylist2)"
   ]
  },
  {
   "cell_type": "markdown",
   "metadata": {},
   "source": [
    "List allows duplicate elements"
   ]
  },
  {
   "cell_type": "code",
   "execution_count": 21,
   "metadata": {},
   "outputs": [],
   "source": [
    "mylist3 = [5,5, \"True\", False, False]"
   ]
  },
  {
   "cell_type": "code",
   "execution_count": 22,
   "metadata": {},
   "outputs": [
    {
     "name": "stdout",
     "output_type": "stream",
     "text": [
      "[5, 5, 'True', False, False]\n"
     ]
    }
   ],
   "source": [
    "print(mylist3)"
   ]
  },
  {
   "cell_type": "markdown",
   "metadata": {},
   "source": [
    "Accessing an element (Accessed using the square brackets[])"
   ]
  },
  {
   "cell_type": "code",
   "execution_count": 23,
   "metadata": {},
   "outputs": [
    {
     "name": "stdout",
     "output_type": "stream",
     "text": [
      "5\n"
     ]
    }
   ],
   "source": [
    "print(mylist3[1])"
   ]
  },
  {
   "cell_type": "markdown",
   "metadata": {},
   "source": [
    "Accessing index which is not present "
   ]
  },
  {
   "cell_type": "code",
   "execution_count": 24,
   "metadata": {},
   "outputs": [
    {
     "ename": "IndexError",
     "evalue": "list index out of range",
     "output_type": "error",
     "traceback": [
      "\u001b[0;31m---------------------------------------------------------------------------\u001b[0m",
      "\u001b[0;31mIndexError\u001b[0m                                Traceback (most recent call last)",
      "Cell \u001b[0;32mIn[24], line 1\u001b[0m\n\u001b[0;32m----> 1\u001b[0m \u001b[38;5;28mprint\u001b[39m(\u001b[43mmylist3\u001b[49m\u001b[43m[\u001b[49m\u001b[38;5;241;43m5\u001b[39;49m\u001b[43m]\u001b[49m)\n",
      "\u001b[0;31mIndexError\u001b[0m: list index out of range"
     ]
    }
   ],
   "source": [
    "print(mylist3[5])"
   ]
  },
  {
   "cell_type": "markdown",
   "metadata": {},
   "source": [
    "Accessing the negative index"
   ]
  },
  {
   "cell_type": "code",
   "execution_count": null,
   "metadata": {},
   "outputs": [
    {
     "name": "stdout",
     "output_type": "stream",
     "text": [
      "False\n"
     ]
    }
   ],
   "source": [
    "print(mylist3[-1])"
   ]
  },
  {
   "cell_type": "markdown",
   "metadata": {},
   "source": [
    "Iterating through a loop"
   ]
  },
  {
   "cell_type": "code",
   "execution_count": null,
   "metadata": {},
   "outputs": [
    {
     "data": {
      "text/plain": [
       "[5, 5, 'True', False, False]"
      ]
     },
     "execution_count": 17,
     "metadata": {},
     "output_type": "execute_result"
    }
   ],
   "source": [
    "[i for i in mylist3]"
   ]
  },
  {
   "cell_type": "markdown",
   "metadata": {},
   "source": [
    "Checking if a element or item is present in the list"
   ]
  },
  {
   "cell_type": "code",
   "execution_count": null,
   "metadata": {},
   "outputs": [
    {
     "name": "stdout",
     "output_type": "stream",
     "text": [
      "preview of element of mylist3 is [5, 5, 'True', False, False] \n",
      "yes element True is present\n"
     ]
    }
   ],
   "source": [
    "print(f\"preview of element of mylist3 is {mylist3} \")\n",
    "if \"True\" in mylist3:\n",
    "    print(\"yes element \"\"True\"\" is present\")\n",
    "else:\n",
    "    print(\"No, the element \"\"True\"\" is not present\")"
   ]
  },
  {
   "cell_type": "markdown",
   "metadata": {},
   "source": [
    "Check the no of elements in the list"
   ]
  },
  {
   "cell_type": "code",
   "execution_count": null,
   "metadata": {},
   "outputs": [
    {
     "data": {
      "text/plain": [
       "5"
      ]
     },
     "execution_count": 21,
     "metadata": {},
     "output_type": "execute_result"
    }
   ],
   "source": [
    "len(mylist3)"
   ]
  },
  {
   "cell_type": "markdown",
   "metadata": {},
   "source": [
    "Append items to the list"
   ]
  },
  {
   "cell_type": "code",
   "execution_count": null,
   "metadata": {},
   "outputs": [],
   "source": [
    "mylist3.append(\"example append\")"
   ]
  },
  {
   "cell_type": "code",
   "execution_count": null,
   "metadata": {},
   "outputs": [
    {
     "name": "stdout",
     "output_type": "stream",
     "text": [
      "[5, 5, 'True', False, False, 'example append']\n"
     ]
    }
   ],
   "source": [
    "print(mylist3)"
   ]
  },
  {
   "cell_type": "markdown",
   "metadata": {},
   "source": [
    "Appending items at a index position"
   ]
  },
  {
   "cell_type": "code",
   "execution_count": null,
   "metadata": {},
   "outputs": [],
   "source": [
    "mylist3.insert(0, \"Apple\")"
   ]
  },
  {
   "cell_type": "code",
   "execution_count": null,
   "metadata": {},
   "outputs": [
    {
     "name": "stdout",
     "output_type": "stream",
     "text": [
      "['Apple', 5, 5, 'True', False, False, 'example append']\n"
     ]
    }
   ],
   "source": [
    "print(mylist3)"
   ]
  },
  {
   "cell_type": "markdown",
   "metadata": {},
   "source": [
    "Remove items from the list"
   ]
  },
  {
   "cell_type": "code",
   "execution_count": null,
   "metadata": {},
   "outputs": [
    {
     "name": "stdout",
     "output_type": "stream",
     "text": [
      "example append\n"
     ]
    }
   ],
   "source": [
    "item = mylist3.pop() #This pop method will remove the very last element from the list\n",
    "print(item)"
   ]
  },
  {
   "cell_type": "code",
   "execution_count": null,
   "metadata": {},
   "outputs": [
    {
     "name": "stdout",
     "output_type": "stream",
     "text": [
      "['Apple', 5, 5, 'True', False, False]\n"
     ]
    }
   ],
   "source": [
    "print(mylist3)"
   ]
  },
  {
   "cell_type": "code",
   "execution_count": null,
   "metadata": {},
   "outputs": [
    {
     "name": "stdout",
     "output_type": "stream",
     "text": [
      "['Apple', 'Banana', 5, 5, 'True', False, False]\n"
     ]
    }
   ],
   "source": [
    "mylist4 = ['Apple', 5, 5, 'True', False, False]\n",
    "\n",
    "mylist4.insert(1, \"Banana\")\n",
    "\n",
    "print(mylist4)\n",
    "\n",
    "# The index of previous element will be shifted to the right where as\n",
    "# pop method will shift the index of the element to the left."
   ]
  },
  {
   "cell_type": "markdown",
   "metadata": {},
   "source": [
    "We can also remove a element by specifying the exact element  "
   ]
  },
  {
   "cell_type": "code",
   "execution_count": null,
   "metadata": {},
   "outputs": [
    {
     "ename": "NameError",
     "evalue": "name 'mylist3' is not defined",
     "output_type": "error",
     "traceback": [
      "\u001b[0;31m---------------------------------------------------------------------------\u001b[0m",
      "\u001b[0;31mNameError\u001b[0m                                 Traceback (most recent call last)",
      "Cell \u001b[0;32mIn[11], line 1\u001b[0m\n\u001b[0;32m----> 1\u001b[0m \u001b[38;5;28mprint\u001b[39m(\u001b[43mmylist3\u001b[49m)\n\u001b[1;32m      2\u001b[0m mylist3\u001b[38;5;241m.\u001b[39mremove(\u001b[38;5;124m\"\u001b[39m\u001b[38;5;124mApple\u001b[39m\u001b[38;5;124m\"\u001b[39m)\n\u001b[1;32m      3\u001b[0m \u001b[38;5;28mprint\u001b[39m(\u001b[38;5;124mf\u001b[39m\u001b[38;5;124m\"\u001b[39m\u001b[38;5;124mUpdated list is \u001b[39m\u001b[38;5;132;01m{\u001b[39;00mmylist3\u001b[38;5;132;01m}\u001b[39;00m\u001b[38;5;124m\"\u001b[39m)\n",
      "\u001b[0;31mNameError\u001b[0m: name 'mylist3' is not defined"
     ]
    }
   ],
   "source": [
    "print(mylist3)\n",
    "mylist3.remove(\"Apple\")\n",
    "print(f\"Updated list is {mylist3}\")\n",
    "\n",
    "# If any element is not present in the list, it will throw an error.\n",
    "# if any duplicate element is present, it will remove the first element from the list."
   ]
  },
  {
   "cell_type": "markdown",
   "metadata": {},
   "source": [
    "what if we remove a element which doesnt exist"
   ]
  },
  {
   "cell_type": "code",
   "execution_count": null,
   "metadata": {},
   "outputs": [
    {
     "ename": "ValueError",
     "evalue": "list.remove(x): x not in list",
     "output_type": "error",
     "traceback": [
      "\u001b[0;31m---------------------------------------------------------------------------\u001b[0m",
      "\u001b[0;31mValueError\u001b[0m                                Traceback (most recent call last)",
      "\u001b[1;32m/Users/prasku/Library/CloudStorage/OneDrive-IndianaUniversity/Atom/Python_learning/Datacamp/Lists/lists.ipynb Cell 38\u001b[0m in \u001b[0;36m<cell line: 1>\u001b[0;34m()\u001b[0m\n\u001b[0;32m----> <a href='vscode-notebook-cell:/Users/prasku/Library/CloudStorage/OneDrive-IndianaUniversity/Atom/Python_learning/Datacamp/Lists/lists.ipynb#ch0000053?line=0'>1</a>\u001b[0m mylist3\u001b[39m.\u001b[39;49mremove(\u001b[39m'\u001b[39;49m\u001b[39mnon_existant_element\u001b[39;49m\u001b[39m'\u001b[39;49m)\n",
      "\u001b[0;31mValueError\u001b[0m: list.remove(x): x not in list"
     ]
    }
   ],
   "source": [
    "mylist3.remove('non_existant_element')"
   ]
  },
  {
   "cell_type": "markdown",
   "metadata": {},
   "source": [
    "Remove all the elements in the list with clear method"
   ]
  },
  {
   "cell_type": "code",
   "execution_count": null,
   "metadata": {},
   "outputs": [],
   "source": [
    "mylist3.clear()"
   ]
  },
  {
   "cell_type": "code",
   "execution_count": null,
   "metadata": {},
   "outputs": [
    {
     "name": "stdout",
     "output_type": "stream",
     "text": [
      "[]\n"
     ]
    }
   ],
   "source": [
    "print(mylist3)"
   ]
  },
  {
   "cell_type": "markdown",
   "metadata": {},
   "source": [
    "Reverse the list elements "
   ]
  },
  {
   "cell_type": "code",
   "execution_count": null,
   "metadata": {},
   "outputs": [
    {
     "data": {
      "text/plain": [
       "[5, True, 'Hello']"
      ]
     },
     "execution_count": 44,
     "metadata": {},
     "output_type": "execute_result"
    }
   ],
   "source": [
    "mylist2"
   ]
  },
  {
   "cell_type": "code",
   "execution_count": null,
   "metadata": {},
   "outputs": [
    {
     "data": {
      "text/plain": [
       "['a', 'b', 'c']"
      ]
     },
     "execution_count": 51,
     "metadata": {},
     "output_type": "execute_result"
    }
   ],
   "source": [
    "mylist4 = [\"a\",\"b\",\"c\"]\n",
    "mylist4"
   ]
  },
  {
   "cell_type": "code",
   "execution_count": null,
   "metadata": {},
   "outputs": [
    {
     "name": "stdout",
     "output_type": "stream",
     "text": [
      "['c', 'b', 'a']\n"
     ]
    }
   ],
   "source": [
    "mylist4.reverse() #reverse the original list and use that list. For every iteration it flips back and forth \n",
    "print(mylist4)"
   ]
  },
  {
   "cell_type": "code",
   "execution_count": null,
   "metadata": {},
   "outputs": [
    {
     "name": "stdout",
     "output_type": "stream",
     "text": [
      "['a', 'b', 'c']\n"
     ]
    }
   ],
   "source": [
    "mylist4.reverse() #reverse the original list and use that list. For every iteration it flips back and forth \n",
    "print(mylist4)"
   ]
  },
  {
   "cell_type": "markdown",
   "metadata": {},
   "source": [
    "Below code doesnt work since the reverse doesnt work with assignment"
   ]
  },
  {
   "cell_type": "code",
   "execution_count": null,
   "metadata": {},
   "outputs": [
    {
     "name": "stdout",
     "output_type": "stream",
     "text": [
      "None\n"
     ]
    }
   ],
   "source": [
    "mylist4_reversed = mylist4.reverse()\n",
    "print(mylist4_reversed)"
   ]
  },
  {
   "cell_type": "markdown",
   "metadata": {},
   "source": [
    "Soring a list"
   ]
  },
  {
   "cell_type": "code",
   "execution_count": null,
   "metadata": {},
   "outputs": [],
   "source": [
    "mylist5 = [1,3,4,5,2]"
   ]
  },
  {
   "cell_type": "code",
   "execution_count": null,
   "metadata": {},
   "outputs": [
    {
     "data": {
      "text/plain": [
       "[1, 2, 3, 4, 5]"
      ]
     },
     "execution_count": 74,
     "metadata": {},
     "output_type": "execute_result"
    }
   ],
   "source": [
    "mylist5.sort()\n",
    "mylist5"
   ]
  },
  {
   "cell_type": "code",
   "execution_count": null,
   "metadata": {},
   "outputs": [],
   "source": [
    "mylist6 = [8,4,2,1,0]"
   ]
  },
  {
   "cell_type": "code",
   "execution_count": null,
   "metadata": {},
   "outputs": [],
   "source": [
    "mylist6_sorted = sorted(mylist6)"
   ]
  },
  {
   "cell_type": "code",
   "execution_count": null,
   "metadata": {},
   "outputs": [
    {
     "name": "stdout",
     "output_type": "stream",
     "text": [
      "[8, 4, 2, 1, 0]\n",
      "[0, 1, 2, 4, 8]\n"
     ]
    }
   ],
   "source": [
    "print(mylist6)\n",
    "print(mylist6_sorted)"
   ]
  },
  {
   "cell_type": "markdown",
   "metadata": {},
   "source": [
    "So we can sort a original list using \".sort\" or sorted(list) unlike reverse since it doesnt allow assignment of reversed list"
   ]
  },
  {
   "cell_type": "markdown",
   "metadata": {},
   "source": [
    "create a new list with multiple similar type of elements"
   ]
  },
  {
   "cell_type": "code",
   "execution_count": null,
   "metadata": {},
   "outputs": [],
   "source": [
    "mylist7  = [9] * 10"
   ]
  },
  {
   "cell_type": "code",
   "execution_count": null,
   "metadata": {},
   "outputs": [
    {
     "name": "stdout",
     "output_type": "stream",
     "text": [
      "[9, 9, 9, 9, 9, 9, 9, 9, 9, 9]\n"
     ]
    }
   ],
   "source": [
    "print(mylist7)"
   ]
  },
  {
   "cell_type": "markdown",
   "metadata": {},
   "source": [
    "we can join two lists using the '+' sign like a concatenate function"
   ]
  },
  {
   "cell_type": "code",
   "execution_count": null,
   "metadata": {},
   "outputs": [
    {
     "name": "stdout",
     "output_type": "stream",
     "text": [
      "['Tom and', 'Jerry', 2022]\n"
     ]
    }
   ],
   "source": [
    "mylist8 = [\"Tom and\"]\n",
    "mylist9 = [\"Jerry\"]\n",
    "mylist10 = [2022]\n",
    "\n",
    "my_final_list_8_9_10 = mylist8 + mylist9 + mylist10 \n",
    "\n",
    "print(my_final_list_8_9_10)"
   ]
  },
  {
   "cell_type": "markdown",
   "metadata": {},
   "source": [
    "Slicing lists "
   ]
  },
  {
   "cell_type": "code",
   "execution_count": null,
   "metadata": {},
   "outputs": [
    {
     "name": "stdout",
     "output_type": "stream",
     "text": [
      "mylist11_modified_1 is ['a', 'b', 'c']\n",
      "mylist11_modified_2 is [1]\n",
      "mylist11_modified_3 is [1, 2]\n",
      "mylist11_modified_4 is []\n",
      "mylist11_modified_5 is [1]\n",
      "mylist11_modified_6 is [1, 2, 3, 4, 5, 6, 7, 8]\n",
      "mylist11_modified_7 is [9]\n",
      "mylist11_modified_8 is []\n",
      "mylist11_modified_9 is []\n",
      "mylist11_modified_10 is [2]\n"
     ]
    }
   ],
   "source": [
    "mylist11 = [1,2,3,4,5,6,7,8,9]\n",
    "# mylist11[start_index : stop_index]\n",
    "\n",
    "mylist11_modified_1 = mylist[:]\n",
    "print(f\"mylist11_modified_1 is {mylist11_modified_1}\") #Prints all the elements\n",
    "\n",
    "mylist11_modified_2 = mylist11[0:1]\n",
    "print(f\"mylist11_modified_2 is {mylist11_modified_2}\") #Takes the zeroth index and takes elements until stopindex - 1\n",
    "\n",
    "mylist11_modified_3 = mylist11[0:2]\n",
    "print(f\"mylist11_modified_3 is {mylist11_modified_3}\") #Takes the zeroth index and takes elements until  stopindex - 1\n",
    "\n",
    "mylist11_modified_4 = mylist11[:0]\n",
    "print(f\"mylist11_modified_4 is {mylist11_modified_4}\") #Since the stop index is the first elements itself and we know stop_index gets excluded\n",
    "\n",
    "mylist11_modified_5 = mylist11[:1]\n",
    "print(f\"mylist11_modified_5 is {mylist11_modified_5}\") #Since the stop index is the first elements itself \n",
    "\n",
    "mylist11_modified_6 = mylist11[:-1]\n",
    "print(f\"mylist11_modified_6 is {mylist11_modified_6}\") #It will exlude the stop index element which in this case is -1\n",
    "\n",
    "mylist11_modified_7 = mylist11[-1:]\n",
    "print(f\"mylist11_modified_7 is {mylist11_modified_7}\") #takes the start element as the last element and it stops in reverse pattern to print till start\n",
    "\n",
    "mylist11_modified_8 = mylist11[-1:-1]\n",
    "print(f\"mylist11_modified_8 is {mylist11_modified_8}\") #If we give the start and stop of the list as same element it doesnt give anything for -1 \n",
    "\n",
    "mylist11_modified_9 = mylist11[1:1]\n",
    "print(f\"mylist11_modified_9 is {mylist11_modified_9}\") #If we give the start and stop of the list as same element it doesnt give anything for regular index as well\n",
    "\n",
    "mylist11_modified_10 = mylist11[1:2]\n",
    "print(f\"mylist11_modified_10 is {mylist11_modified_10}\") #Regular slicing"
   ]
  },
  {
   "cell_type": "markdown",
   "metadata": {},
   "source": [
    "we will use a step index in a list\n",
    "list(start_index: stop_index : step_index)"
   ]
  },
  {
   "cell_type": "code",
   "execution_count": null,
   "metadata": {},
   "outputs": [
    {
     "name": "stdout",
     "output_type": "stream",
     "text": [
      "main list is [1, 2, 3, 4, 5, 6, 7, 8, 9]\n",
      "mylist11_modified_12 is [2, 3, 4, 5, 6, 7]\n",
      "mylist11_modified_13 is [2, 4, 6]\n",
      "mylist11_modified_14 is []\n",
      "mylist11_modified_15 is [9, 8, 7, 6, 5, 4, 3, 2, 1]\n"
     ]
    }
   ],
   "source": [
    "print(f\"main list is {mylist11}\")\n",
    "\n",
    "mylist11_modified_12 = mylist11[1:7:1]\n",
    "print(f\"mylist11_modified_12 is {mylist11_modified_12}\") #Prints all the elements beween the start and stop index with step count of 1\n",
    "\n",
    "mylist11_modified_13 = mylist11[1:7:2]\n",
    "print(f\"mylist11_modified_13 is {mylist11_modified_13}\") #Prints all the elements beween the start and stop index with step count of 2 with start index as beginning element\n",
    "\n",
    "mylist11_modified_14 = mylist11[1:7:-1]\n",
    "print(f\"mylist11_modified_14 is {mylist11_modified_14}\") #Prints all the elements beween the start and stop index with step count of -1 \n",
    "\n",
    "mylist11_modified_15 = mylist11[::-1]\n",
    "print(f\"mylist11_modified_15 is {mylist11_modified_15}\") #Prints all the elements in reverse order (Nice way to reverse a list)"
   ]
  },
  {
   "cell_type": "markdown",
   "metadata": {},
   "source": [
    "copy one list to another new list"
   ]
  },
  {
   "cell_type": "code",
   "execution_count": null,
   "metadata": {},
   "outputs": [],
   "source": [
    "#Way 1\n",
    "mylist11_copied  = mylist11.copy()\n",
    "#Way 2\n",
    "mylist11_duplicate = list(mylist11)\n",
    "#Way 3 \n",
    "mylist11_twin = mylist11[:]"
   ]
  },
  {
   "cell_type": "code",
   "execution_count": null,
   "metadata": {},
   "outputs": [
    {
     "name": "stdout",
     "output_type": "stream",
     "text": [
      "[1, 2, 3, 4, 5, 6, 7, 8, 9]\n",
      "[1, 2, 3, 4, 5, 6, 7, 8, 9]\n",
      "[1, 2, 3, 4, 5, 6, 7, 8, 9]\n"
     ]
    }
   ],
   "source": [
    "print(mylist11)\n",
    "print(mylist11_duplicate)\n",
    "print(mylist11_twin)"
   ]
  },
  {
   "cell_type": "markdown",
   "metadata": {},
   "source": [
    "Operation on each element inside the list\n",
    "\n"
   ]
  },
  {
   "cell_type": "code",
   "execution_count": null,
   "metadata": {},
   "outputs": [
    {
     "name": "stdout",
     "output_type": "stream",
     "text": [
      "[1, 2, 3, 4, 5, 6, 7, 8, 9]\n",
      "[1, 4, 9, 16, 25, 36, 49, 64, 81]\n"
     ]
    }
   ],
   "source": [
    "print(mylist11)\n",
    "mylist12 = [i*i for i in mylist11]\n",
    "print(mylist12)"
   ]
  },
  {
   "cell_type": "code",
   "execution_count": 42,
   "metadata": {},
   "outputs": [
    {
     "name": "stdout",
     "output_type": "stream",
     "text": [
      "[[25, 2, 3], [4, 5, 6], [7, 8, 9]]\n",
      "[[25, 2, 3], [4, 5, 6], [7, 8, 9]]\n",
      "[[25, 2, 3], [4, 5, 6], [7, 8, 9]]\n",
      "[[25, 2, 3], [4, 5, 6], [7, 8, 9]]\n",
      "[[10, 20, 30], [100, 50, 60], [70, 80, 90]]\n",
      "[[10, 20, 30], [40, 50, 60], [70, 80, 90]]\n",
      "0\n"
     ]
    }
   ],
   "source": [
    "# The differece between deep and shallow copy is that deep copy creates a new object and does not reference the original object.\n",
    "# Shallow copy creates a new object but references the original object.\n",
    "\n",
    "mylist20 = [[1,2,3],[4,5,6],[7,8,9]]\n",
    "mylist21 = mylist20.copy() # Both have same memory location\n",
    "mylist23 = mylist20[:]\n",
    "mylist24 = list(mylist20)\n",
    "# The above 3 methods are shallow copy methods\n",
    "# If we change the original list, the copied list will be affected.\n",
    "mylist21[0][0] = 25\n",
    "\n",
    "mylist27 = [[10,20,30],[40,50,60],[70,80,90]]\n",
    "\n",
    "# Below is the deep copy method\n",
    "import copy\n",
    "mylist28 = copy.deepcopy(mylist27) # This is a deep copy which will create a new object and does not reference the original object.\n",
    "# now if we change the original list, the copied list will not be affected.\n",
    "mylist28[1][0] = 100\n",
    "\n",
    "print(mylist20)\n",
    "print(mylist21) # This is a shallow copy \n",
    "print(mylist23)\n",
    "print(mylist24) \n",
    "\n",
    "print(mylist28) # This is a deep copy which will \n",
    "print(mylist27) # prinitng the original list after changing the element \n",
    "\n"
   ]
  },
  {
   "cell_type": "code",
   "execution_count": 38,
   "metadata": {},
   "outputs": [],
   "source": [
    "#List me all the methods of list\n",
    "\n",
    "# 1. append() - Adds an element at the end of the list\n",
    "# 2. clear() - Removes all the elements from the list\n",
    "# 3. copy() - Returns a copy of the list\n",
    "# 4. count() - Returns the number of elements with the specified value\n",
    "# 5. extend() - Add the elements of a list (or any iterable), to the end of the current list\n",
    "# 6. index() - Returns the index of the first element with the specified value\n",
    "# 7. insert() - Adds an element at the specified position\n",
    "# 8. pop() - Removes the element at the specified position\n",
    "# 9. remove() - Removes the item with the specified value\n",
    "# 10. reverse() - Reverses the order of the list\n",
    "# 11. sort() - Sorts the list\n"
   ]
  }
 ],
 "metadata": {
  "kernelspec": {
   "display_name": "Python 3.8.13 ('mlp')",
   "language": "python",
   "name": "python3"
  },
  "language_info": {
   "codemirror_mode": {
    "name": "ipython",
    "version": 3
   },
   "file_extension": ".py",
   "mimetype": "text/x-python",
   "name": "python",
   "nbconvert_exporter": "python",
   "pygments_lexer": "ipython3",
   "version": "3.9.6"
  },
  "orig_nbformat": 4,
  "vscode": {
   "interpreter": {
    "hash": "d6e887bb000de1b0aff36cb2158729a89ef44447281fafe2f7a9ff11a98f3c71"
   }
  }
 },
 "nbformat": 4,
 "nbformat_minor": 2
}
