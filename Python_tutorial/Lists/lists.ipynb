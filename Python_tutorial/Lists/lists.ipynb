{
 "cells": [
  {
   "cell_type": "markdown",
   "metadata": {},
   "source": [
    "Create a list "
   ]
  },
  {
   "cell_type": "code",
   "execution_count": 1,
   "metadata": {},
   "outputs": [],
   "source": [
    "# Understanding and mastering Python data structures is crucial for data engineering tasks. Here, we'll cover the main data structures\n",
    "#  with examples and some cool methods to manipulate data.\n",
    "\n",
    "# 1. Lists\n",
    "\n",
    "# Lists are ordered collections of items that are mutable and can contain mixed data types."
   ]
  },
  {
   "cell_type": "code",
   "execution_count": 2,
   "metadata": {},
   "outputs": [
    {
     "name": "stdout",
     "output_type": "stream",
     "text": [
      "10\n",
      "[10, 20, 30, 40, 50, 60]\n",
      "[10, 20, 40, 50, 60]\n",
      "[100, 400, 1600, 2500, 3600]\n"
     ]
    }
   ],
   "source": [
    "# Creating a list\n",
    "data = [10, 20, 30, 40, 50]\n",
    "\n",
    "# Accessing elements\n",
    "print(data[0])  # Output: 10\n",
    "\n",
    "# Adding elements\n",
    "data.append(60)\n",
    "print(data)  # Output: [10, 20, 30, 40, 50, 60]\n",
    "\n",
    "# Removing elements\n",
    "data.remove(30)\n",
    "print(data)  # Output: [10, 20, 40, 50, 60]\n",
    "\n",
    "# List comprehension\n",
    "squared_data = [x**2 for x in data]\n",
    "print(squared_data)  # Output: [100, 400, 1600, 2500, 3600]\n"
   ]
  },
  {
   "cell_type": "code",
   "execution_count": 1,
   "metadata": {},
   "outputs": [],
   "source": [
    "mylist = ['a','b','c']"
   ]
  },
  {
   "cell_type": "markdown",
   "metadata": {},
   "source": [
    "Printing a list"
   ]
  },
  {
   "cell_type": "code",
   "execution_count": 3,
   "metadata": {},
   "outputs": [
    {
     "name": "stdout",
     "output_type": "stream",
     "text": [
      "['a', 'b', 'c']\n"
     ]
    }
   ],
   "source": [
    "print(mylist)"
   ]
  },
  {
   "cell_type": "markdown",
   "metadata": {},
   "source": [
    "creating a empty list"
   ]
  },
  {
   "cell_type": "code",
   "execution_count": 7,
   "metadata": {},
   "outputs": [],
   "source": [
    "my_empty_list = list()"
   ]
  },
  {
   "cell_type": "code",
   "execution_count": 6,
   "metadata": {},
   "outputs": [
    {
     "name": "stdout",
     "output_type": "stream",
     "text": [
      "[]\n"
     ]
    }
   ],
   "source": [
    "print(my_empty_list)"
   ]
  },
  {
   "cell_type": "markdown",
   "metadata": {},
   "source": [
    "List can contain multiple datatypes"
   ]
  },
  {
   "cell_type": "code",
   "execution_count": 8,
   "metadata": {},
   "outputs": [],
   "source": [
    "mylist2 = [5, True, \"Hello\"]"
   ]
  },
  {
   "cell_type": "code",
   "execution_count": 9,
   "metadata": {},
   "outputs": [
    {
     "name": "stdout",
     "output_type": "stream",
     "text": [
      "[5, True, 'Hello']\n"
     ]
    }
   ],
   "source": [
    "print(mylist2)"
   ]
  },
  {
   "cell_type": "markdown",
   "metadata": {},
   "source": [
    "List allows duplicate elements"
   ]
  },
  {
   "cell_type": "code",
   "execution_count": 10,
   "metadata": {},
   "outputs": [],
   "source": [
    "mylist3 = [5,5, \"True\", False, False]"
   ]
  },
  {
   "cell_type": "code",
   "execution_count": 11,
   "metadata": {},
   "outputs": [
    {
     "name": "stdout",
     "output_type": "stream",
     "text": [
      "[5, 5, 'True', False, False]\n"
     ]
    }
   ],
   "source": [
    "print(mylist3)"
   ]
  },
  {
   "cell_type": "markdown",
   "metadata": {},
   "source": [
    "Accessing an element (Accessed using the square brackets[])"
   ]
  },
  {
   "cell_type": "code",
   "execution_count": 13,
   "metadata": {},
   "outputs": [
    {
     "name": "stdout",
     "output_type": "stream",
     "text": [
      "5\n"
     ]
    }
   ],
   "source": [
    "print(mylist3[1])"
   ]
  },
  {
   "cell_type": "markdown",
   "metadata": {},
   "source": [
    "Accessing index which is not present "
   ]
  },
  {
   "cell_type": "code",
   "execution_count": 14,
   "metadata": {},
   "outputs": [
    {
     "ename": "IndexError",
     "evalue": "list index out of range",
     "output_type": "error",
     "traceback": [
      "\u001b[0;31m---------------------------------------------------------------------------\u001b[0m",
      "\u001b[0;31mIndexError\u001b[0m                                Traceback (most recent call last)",
      "\u001b[1;32m/Users/prasku/Library/CloudStorage/OneDrive-IndianaUniversity/Atom/Python_learning/Datacamp/Lists/lists.ipynb Cell 17\u001b[0m in \u001b[0;36m<cell line: 1>\u001b[0;34m()\u001b[0m\n\u001b[0;32m----> <a href='vscode-notebook-cell:/Users/prasku/Library/CloudStorage/OneDrive-IndianaUniversity/Atom/Python_learning/Datacamp/Lists/lists.ipynb#ch0000023?line=0'>1</a>\u001b[0m \u001b[39mprint\u001b[39m(mylist3[\u001b[39m5\u001b[39;49m])\n",
      "\u001b[0;31mIndexError\u001b[0m: list index out of range"
     ]
    }
   ],
   "source": [
    "print(mylist3[5])"
   ]
  },
  {
   "cell_type": "markdown",
   "metadata": {},
   "source": [
    "Accessing the negative index"
   ]
  },
  {
   "cell_type": "code",
   "execution_count": 16,
   "metadata": {},
   "outputs": [
    {
     "name": "stdout",
     "output_type": "stream",
     "text": [
      "False\n"
     ]
    }
   ],
   "source": [
    "print(mylist3[-1])"
   ]
  },
  {
   "cell_type": "markdown",
   "metadata": {},
   "source": [
    "Iterating through a loop"
   ]
  },
  {
   "cell_type": "code",
   "execution_count": 17,
   "metadata": {},
   "outputs": [
    {
     "data": {
      "text/plain": [
       "[5, 5, 'True', False, False]"
      ]
     },
     "execution_count": 17,
     "metadata": {},
     "output_type": "execute_result"
    }
   ],
   "source": [
    "[i for i in mylist3]"
   ]
  },
  {
   "cell_type": "markdown",
   "metadata": {},
   "source": [
    "Checking if a element or item is present in the list"
   ]
  },
  {
   "cell_type": "code",
   "execution_count": 20,
   "metadata": {},
   "outputs": [
    {
     "name": "stdout",
     "output_type": "stream",
     "text": [
      "preview of element of mylist3 is [5, 5, 'True', False, False] \n",
      "yes element True is present\n"
     ]
    }
   ],
   "source": [
    "print(f\"preview of element of mylist3 is {mylist3} \")\n",
    "if \"True\" in mylist3:\n",
    "    print(\"yes element \"\"True\"\" is present\")\n",
    "else:\n",
    "    print(\"No, the element \"\"True\"\" is not present\")"
   ]
  },
  {
   "cell_type": "markdown",
   "metadata": {},
   "source": [
    "Check the no of elements in the list"
   ]
  },
  {
   "cell_type": "code",
   "execution_count": 21,
   "metadata": {},
   "outputs": [
    {
     "data": {
      "text/plain": [
       "5"
      ]
     },
     "execution_count": 21,
     "metadata": {},
     "output_type": "execute_result"
    }
   ],
   "source": [
    "len(mylist3)"
   ]
  },
  {
   "cell_type": "markdown",
   "metadata": {},
   "source": [
    "Append items to the list"
   ]
  },
  {
   "cell_type": "code",
   "execution_count": 22,
   "metadata": {},
   "outputs": [],
   "source": [
    "mylist3.append(\"example append\")"
   ]
  },
  {
   "cell_type": "code",
   "execution_count": 23,
   "metadata": {},
   "outputs": [
    {
     "name": "stdout",
     "output_type": "stream",
     "text": [
      "[5, 5, 'True', False, False, 'example append']\n"
     ]
    }
   ],
   "source": [
    "print(mylist3)"
   ]
  },
  {
   "cell_type": "markdown",
   "metadata": {},
   "source": [
    "Appending items at a index position"
   ]
  },
  {
   "cell_type": "code",
   "execution_count": 25,
   "metadata": {},
   "outputs": [],
   "source": [
    "mylist3.insert(0, \"Apple\")"
   ]
  },
  {
   "cell_type": "code",
   "execution_count": 26,
   "metadata": {},
   "outputs": [
    {
     "name": "stdout",
     "output_type": "stream",
     "text": [
      "['Apple', 5, 5, 'True', False, False, 'example append']\n"
     ]
    }
   ],
   "source": [
    "print(mylist3)"
   ]
  },
  {
   "cell_type": "markdown",
   "metadata": {},
   "source": [
    "Remove items from the list"
   ]
  },
  {
   "cell_type": "code",
   "execution_count": 27,
   "metadata": {},
   "outputs": [
    {
     "name": "stdout",
     "output_type": "stream",
     "text": [
      "example append\n"
     ]
    }
   ],
   "source": [
    "item = mylist3.pop() #This pop method will remove the very last element from the list\n",
    "print(item)"
   ]
  },
  {
   "cell_type": "code",
   "execution_count": 28,
   "metadata": {},
   "outputs": [
    {
     "name": "stdout",
     "output_type": "stream",
     "text": [
      "['Apple', 5, 5, 'True', False, False]\n"
     ]
    }
   ],
   "source": [
    "print(mylist3)"
   ]
  },
  {
   "cell_type": "markdown",
   "metadata": {},
   "source": [
    "We can also remove a element by specifying the exact element  "
   ]
  },
  {
   "cell_type": "code",
   "execution_count": 32,
   "metadata": {},
   "outputs": [
    {
     "name": "stdout",
     "output_type": "stream",
     "text": [
      "['Apple', 5, 5, 'True', False]\n",
      "Updated list is [5, 5, 'True', False]\n"
     ]
    }
   ],
   "source": [
    "print(mylist3)\n",
    "mylist3.remove(\"Apple\")\n",
    "print(f\"Updated list is {mylist3}\")"
   ]
  },
  {
   "cell_type": "markdown",
   "metadata": {},
   "source": [
    "what if we remove a element which doesnt exist"
   ]
  },
  {
   "cell_type": "code",
   "execution_count": 33,
   "metadata": {},
   "outputs": [
    {
     "ename": "ValueError",
     "evalue": "list.remove(x): x not in list",
     "output_type": "error",
     "traceback": [
      "\u001b[0;31m---------------------------------------------------------------------------\u001b[0m",
      "\u001b[0;31mValueError\u001b[0m                                Traceback (most recent call last)",
      "\u001b[1;32m/Users/prasku/Library/CloudStorage/OneDrive-IndianaUniversity/Atom/Python_learning/Datacamp/Lists/lists.ipynb Cell 38\u001b[0m in \u001b[0;36m<cell line: 1>\u001b[0;34m()\u001b[0m\n\u001b[0;32m----> <a href='vscode-notebook-cell:/Users/prasku/Library/CloudStorage/OneDrive-IndianaUniversity/Atom/Python_learning/Datacamp/Lists/lists.ipynb#ch0000053?line=0'>1</a>\u001b[0m mylist3\u001b[39m.\u001b[39;49mremove(\u001b[39m'\u001b[39;49m\u001b[39mnon_existant_element\u001b[39;49m\u001b[39m'\u001b[39;49m)\n",
      "\u001b[0;31mValueError\u001b[0m: list.remove(x): x not in list"
     ]
    }
   ],
   "source": [
    "mylist3.remove('non_existant_element')"
   ]
  },
  {
   "cell_type": "markdown",
   "metadata": {},
   "source": [
    "Remove all the elements in the list with clear method"
   ]
  },
  {
   "cell_type": "code",
   "execution_count": 34,
   "metadata": {},
   "outputs": [],
   "source": [
    "mylist3.clear()"
   ]
  },
  {
   "cell_type": "code",
   "execution_count": 35,
   "metadata": {},
   "outputs": [
    {
     "name": "stdout",
     "output_type": "stream",
     "text": [
      "[]\n"
     ]
    }
   ],
   "source": [
    "print(mylist3)"
   ]
  },
  {
   "cell_type": "markdown",
   "metadata": {},
   "source": [
    "Reverse the list elements "
   ]
  },
  {
   "cell_type": "code",
   "execution_count": 44,
   "metadata": {},
   "outputs": [
    {
     "data": {
      "text/plain": [
       "[5, True, 'Hello']"
      ]
     },
     "execution_count": 44,
     "metadata": {},
     "output_type": "execute_result"
    }
   ],
   "source": [
    "mylist2"
   ]
  },
  {
   "cell_type": "code",
   "execution_count": 51,
   "metadata": {},
   "outputs": [
    {
     "data": {
      "text/plain": [
       "['a', 'b', 'c']"
      ]
     },
     "execution_count": 51,
     "metadata": {},
     "output_type": "execute_result"
    }
   ],
   "source": [
    "mylist4 = [\"a\",\"b\",\"c\"]\n",
    "mylist4"
   ]
  },
  {
   "cell_type": "code",
   "execution_count": 64,
   "metadata": {},
   "outputs": [
    {
     "name": "stdout",
     "output_type": "stream",
     "text": [
      "['c', 'b', 'a']\n"
     ]
    }
   ],
   "source": [
    "mylist4.reverse() #reverse the original list and use that list. For every iteration it flips back and forth \n",
    "print(mylist4)"
   ]
  },
  {
   "cell_type": "code",
   "execution_count": 65,
   "metadata": {},
   "outputs": [
    {
     "name": "stdout",
     "output_type": "stream",
     "text": [
      "['a', 'b', 'c']\n"
     ]
    }
   ],
   "source": [
    "mylist4.reverse() #reverse the original list and use that list. For every iteration it flips back and forth \n",
    "print(mylist4)"
   ]
  },
  {
   "cell_type": "markdown",
   "metadata": {},
   "source": [
    "Below code doesnt work since the reverse doesnt work with assignment"
   ]
  },
  {
   "cell_type": "code",
   "execution_count": 59,
   "metadata": {},
   "outputs": [
    {
     "name": "stdout",
     "output_type": "stream",
     "text": [
      "None\n"
     ]
    }
   ],
   "source": [
    "mylist4_reversed = mylist4.reverse()\n",
    "print(mylist4_reversed)"
   ]
  },
  {
   "cell_type": "markdown",
   "metadata": {},
   "source": [
    "Soring a list"
   ]
  },
  {
   "cell_type": "code",
   "execution_count": 73,
   "metadata": {},
   "outputs": [],
   "source": [
    "mylist5 = [1,3,4,5,2]"
   ]
  },
  {
   "cell_type": "code",
   "execution_count": 74,
   "metadata": {},
   "outputs": [
    {
     "data": {
      "text/plain": [
       "[1, 2, 3, 4, 5]"
      ]
     },
     "execution_count": 74,
     "metadata": {},
     "output_type": "execute_result"
    }
   ],
   "source": [
    "mylist5.sort()\n",
    "mylist5"
   ]
  },
  {
   "cell_type": "code",
   "execution_count": 77,
   "metadata": {},
   "outputs": [],
   "source": [
    "mylist6 = [8,4,2,1,0]"
   ]
  },
  {
   "cell_type": "code",
   "execution_count": 78,
   "metadata": {},
   "outputs": [],
   "source": [
    "mylist6_sorted = sorted(mylist6)"
   ]
  },
  {
   "cell_type": "code",
   "execution_count": 79,
   "metadata": {},
   "outputs": [
    {
     "name": "stdout",
     "output_type": "stream",
     "text": [
      "[8, 4, 2, 1, 0]\n",
      "[0, 1, 2, 4, 8]\n"
     ]
    }
   ],
   "source": [
    "print(mylist6)\n",
    "print(mylist6_sorted)"
   ]
  },
  {
   "cell_type": "markdown",
   "metadata": {},
   "source": [
    "So we can sort a original list using \".sort\" or sorted(list) unlike reverse since it doesnt allow assignment of reversed list"
   ]
  },
  {
   "cell_type": "markdown",
   "metadata": {},
   "source": [
    "create a new list with multiple similar type of elements"
   ]
  },
  {
   "cell_type": "code",
   "execution_count": 81,
   "metadata": {},
   "outputs": [],
   "source": [
    "mylist7  = [9] * 10"
   ]
  },
  {
   "cell_type": "code",
   "execution_count": 82,
   "metadata": {},
   "outputs": [
    {
     "name": "stdout",
     "output_type": "stream",
     "text": [
      "[9, 9, 9, 9, 9, 9, 9, 9, 9, 9]\n"
     ]
    }
   ],
   "source": [
    "print(mylist7)"
   ]
  },
  {
   "cell_type": "markdown",
   "metadata": {},
   "source": [
    "we can join two lists using the '+' sign like a concatenate function"
   ]
  },
  {
   "cell_type": "code",
   "execution_count": 83,
   "metadata": {},
   "outputs": [
    {
     "name": "stdout",
     "output_type": "stream",
     "text": [
      "['Tom and', 'Jerry', 2022]\n"
     ]
    }
   ],
   "source": [
    "mylist8 = [\"Tom and\"]\n",
    "mylist9 = [\"Jerry\"]\n",
    "mylist10 = [2022]\n",
    "\n",
    "my_final_list_8_9_10 = mylist8 + mylist9 + mylist10 \n",
    "\n",
    "print(my_final_list_8_9_10)"
   ]
  },
  {
   "cell_type": "markdown",
   "metadata": {},
   "source": [
    "Slicing lists "
   ]
  },
  {
   "cell_type": "code",
   "execution_count": 106,
   "metadata": {},
   "outputs": [
    {
     "name": "stdout",
     "output_type": "stream",
     "text": [
      "mylist11_modified_1 is ['a', 'b', 'c']\n",
      "mylist11_modified_2 is [1]\n",
      "mylist11_modified_3 is [1, 2]\n",
      "mylist11_modified_4 is []\n",
      "mylist11_modified_5 is [1]\n",
      "mylist11_modified_6 is [1, 2, 3, 4, 5, 6, 7, 8]\n",
      "mylist11_modified_7 is [9]\n",
      "mylist11_modified_8 is []\n",
      "mylist11_modified_9 is []\n",
      "mylist11_modified_10 is [2]\n"
     ]
    }
   ],
   "source": [
    "mylist11 = [1,2,3,4,5,6,7,8,9]\n",
    "# mylist11[start_index : stop_index]\n",
    "\n",
    "mylist11_modified_1 = mylist[:]\n",
    "print(f\"mylist11_modified_1 is {mylist11_modified_1}\") #Prints all the elements\n",
    "\n",
    "mylist11_modified_2 = mylist11[0:1]\n",
    "print(f\"mylist11_modified_2 is {mylist11_modified_2}\") #Takes the zeroth index and takes elements until stopindex - 1\n",
    "\n",
    "mylist11_modified_3 = mylist11[0:2]\n",
    "print(f\"mylist11_modified_3 is {mylist11_modified_3}\") #Takes the zeroth index and takes elements until  stopindex - 1\n",
    "\n",
    "mylist11_modified_4 = mylist11[:0]\n",
    "print(f\"mylist11_modified_4 is {mylist11_modified_4}\") #Since the stop index is the first elements itself and we know stop_index gets excluded\n",
    "\n",
    "mylist11_modified_5 = mylist11[:1]\n",
    "print(f\"mylist11_modified_5 is {mylist11_modified_5}\") #Since the stop index is the first elements itself \n",
    "\n",
    "mylist11_modified_6 = mylist11[:-1]\n",
    "print(f\"mylist11_modified_6 is {mylist11_modified_6}\") #It will exlude the stop index element which in this case is -1\n",
    "\n",
    "mylist11_modified_7 = mylist11[-1:]\n",
    "print(f\"mylist11_modified_7 is {mylist11_modified_7}\") #takes the start element as the last element and it stops in reverse pattern to print till start\n",
    "\n",
    "mylist11_modified_8 = mylist11[-1:-1]\n",
    "print(f\"mylist11_modified_8 is {mylist11_modified_8}\") #If we give the start and stop of the list as same element it doesnt give anything for -1 \n",
    "\n",
    "mylist11_modified_9 = mylist11[1:1]\n",
    "print(f\"mylist11_modified_9 is {mylist11_modified_9}\") #If we give the start and stop of the list as same element it doesnt give anything for regular index as well\n",
    "\n",
    "mylist11_modified_10 = mylist11[1:2]\n",
    "print(f\"mylist11_modified_10 is {mylist11_modified_10}\") #Regular slicing"
   ]
  },
  {
   "cell_type": "markdown",
   "metadata": {},
   "source": [
    "we will use a step index in a list\n",
    "list(start_index: stop_index : step_index)"
   ]
  },
  {
   "cell_type": "code",
   "execution_count": 123,
   "metadata": {},
   "outputs": [
    {
     "name": "stdout",
     "output_type": "stream",
     "text": [
      "main list is [1, 2, 3, 4, 5, 6, 7, 8, 9]\n",
      "mylist11_modified_12 is [2, 3, 4, 5, 6, 7]\n",
      "mylist11_modified_13 is [2, 4, 6]\n",
      "mylist11_modified_14 is []\n",
      "mylist11_modified_15 is [9, 8, 7, 6, 5, 4, 3, 2, 1]\n"
     ]
    }
   ],
   "source": [
    "print(f\"main list is {mylist11}\")\n",
    "\n",
    "mylist11_modified_12 = mylist11[1:7:1]\n",
    "print(f\"mylist11_modified_12 is {mylist11_modified_12}\") #Prints all the elements beween the start and stop index with step count of 1\n",
    "\n",
    "mylist11_modified_13 = mylist11[1:7:2]\n",
    "print(f\"mylist11_modified_13 is {mylist11_modified_13}\") #Prints all the elements beween the start and stop index with step count of 2 with start index as beginning element\n",
    "\n",
    "mylist11_modified_14 = mylist11[1:7:-1]\n",
    "print(f\"mylist11_modified_14 is {mylist11_modified_14}\") #Prints all the elements beween the start and stop index with step count of -1 \n",
    "\n",
    "mylist11_modified_15 = mylist11[::-1]\n",
    "print(f\"mylist11_modified_15 is {mylist11_modified_15}\") #Prints all the elements in reverse order (Nice way to reverse a list)"
   ]
  },
  {
   "cell_type": "markdown",
   "metadata": {},
   "source": [
    "copy one list to another new list"
   ]
  },
  {
   "cell_type": "code",
   "execution_count": 128,
   "metadata": {},
   "outputs": [],
   "source": [
    "#Way 1\n",
    "mylist11_copied  = mylist11.copy()\n",
    "#Way 2\n",
    "mylist11_duplicate = list(mylist11)\n",
    "#Way 3 \n",
    "mylist11_twin = mylist11[:]"
   ]
  },
  {
   "cell_type": "code",
   "execution_count": 129,
   "metadata": {},
   "outputs": [
    {
     "name": "stdout",
     "output_type": "stream",
     "text": [
      "[1, 2, 3, 4, 5, 6, 7, 8, 9]\n",
      "[1, 2, 3, 4, 5, 6, 7, 8, 9]\n",
      "[1, 2, 3, 4, 5, 6, 7, 8, 9]\n"
     ]
    }
   ],
   "source": [
    "print(mylist11)\n",
    "print(mylist11_duplicate)\n",
    "print(mylist11_twin)"
   ]
  },
  {
   "cell_type": "markdown",
   "metadata": {},
   "source": [
    "Operation on each element inside the list\n",
    "\n"
   ]
  },
  {
   "cell_type": "code",
   "execution_count": 130,
   "metadata": {},
   "outputs": [
    {
     "name": "stdout",
     "output_type": "stream",
     "text": [
      "[1, 2, 3, 4, 5, 6, 7, 8, 9]\n",
      "[1, 4, 9, 16, 25, 36, 49, 64, 81]\n"
     ]
    }
   ],
   "source": [
    "print(mylist11)\n",
    "mylist12 = [i*i for i in mylist11]\n",
    "print(mylist12)"
   ]
  },
  {
   "cell_type": "code",
   "execution_count": null,
   "metadata": {},
   "outputs": [],
   "source": []
  }
 ],
 "metadata": {
  "kernelspec": {
   "display_name": "Python 3.8.13 ('mlp')",
   "language": "python",
   "name": "python3"
  },
  "language_info": {
   "codemirror_mode": {
    "name": "ipython",
    "version": 3
   },
   "file_extension": ".py",
   "mimetype": "text/x-python",
   "name": "python",
   "nbconvert_exporter": "python",
   "pygments_lexer": "ipython3",
   "version": "3.9.6"
  },
  "orig_nbformat": 4,
  "vscode": {
   "interpreter": {
    "hash": "d6e887bb000de1b0aff36cb2158729a89ef44447281fafe2f7a9ff11a98f3c71"
   }
  }
 },
 "nbformat": 4,
 "nbformat_minor": 2
}
