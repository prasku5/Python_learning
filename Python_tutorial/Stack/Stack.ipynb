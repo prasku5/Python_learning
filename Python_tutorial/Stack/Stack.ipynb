{
 "cells": [
  {
   "cell_type": "markdown",
   "metadata": {},
   "source": [
    "## push(item)\n",
    "### Adds an item to the top of the stack."
   ]
  },
  {
   "cell_type": "code",
   "execution_count": 1,
   "metadata": {},
   "outputs": [
    {
     "name": "stdout",
     "output_type": "stream",
     "text": [
      "[1, 2, 3]\n"
     ]
    }
   ],
   "source": [
    "stack = []\n",
    "\n",
    "stack.append(1)\n",
    "stack.append(2)\n",
    "stack.append(3)\n",
    "\n",
    "print(stack)  # Output: [1, 2, 3]"
   ]
  },
  {
   "cell_type": "markdown",
   "metadata": {},
   "source": [
    "## pop() \n",
    "\n",
    "### Removes and returns the top item from the stack."
   ]
  },
  {
   "cell_type": "code",
   "execution_count": 2,
   "metadata": {},
   "outputs": [
    {
     "name": "stdout",
     "output_type": "stream",
     "text": [
      "Popped item: 3\n",
      "[1, 2]\n"
     ]
    }
   ],
   "source": [
    "stack = [1, 2, 3]\n",
    "\n",
    "top_item = stack.pop()\n",
    "print(\"Popped item:\", top_item)  # Output: Popped item: 3\n",
    "print(stack)  # Output: [1, 2]"
   ]
  },
  {
   "cell_type": "markdown",
   "metadata": {},
   "source": [
    "## peek()\n",
    "\n",
    "### Returns the top item from the stack without removing it."
   ]
  },
  {
   "cell_type": "code",
   "execution_count": 4,
   "metadata": {},
   "outputs": [
    {
     "name": "stdout",
     "output_type": "stream",
     "text": [
      "Top item: 3\n",
      "[1, 2, 3]\n"
     ]
    }
   ],
   "source": [
    "stack = [1, 2, 3]\n",
    "\n",
    "top_item = stack[-1] # Get the top item\n",
    "print(\"Top item:\", top_item)  # Output: Top item: 3\n",
    "print(stack)  # Output: [1, 2, 3] (stack remains unchanged)"
   ]
  },
  {
   "cell_type": "markdown",
   "metadata": {},
   "source": [
    "## is_empty()\n",
    "\n",
    "### Checks if the stack is empty."
   ]
  },
  {
   "cell_type": "code",
   "execution_count": 8,
   "metadata": {},
   "outputs": [
    {
     "name": "stdout",
     "output_type": "stream",
     "text": [
      "Is stack empty? True\n",
      "Is stack empty? False\n"
     ]
    }
   ],
   "source": [
    "stack = []\n",
    "\n",
    "print(\"Is stack empty?\", len(stack) == 0)  # Output: Is stack empty? True\n",
    "stack.append(1)\n",
    "print(\"Is stack empty?\", len(stack) == 0)  # Output: Is stack empty? False"
   ]
  },
  {
   "cell_type": "markdown",
   "metadata": {},
   "source": [
    "## size()\n",
    "\n",
    "### Returns the number of items in the stack."
   ]
  },
  {
   "cell_type": "code",
   "execution_count": 9,
   "metadata": {},
   "outputs": [
    {
     "name": "stdout",
     "output_type": "stream",
     "text": [
      "Size of stack: 3\n"
     ]
    }
   ],
   "source": [
    "stack = [1, 2, 3]\n",
    "\n",
    "print(\"Size of stack:\", len(stack))  # Output: Size of stack: 3"
   ]
  },
  {
   "cell_type": "markdown",
   "metadata": {},
   "source": [
    "## you can implement a stack using various methods. Here are a few common approaches:\n",
    "\n"
   ]
  },
  {
   "cell_type": "code",
   "execution_count": 10,
   "metadata": {},
   "outputs": [
    {
     "name": "stdout",
     "output_type": "stream",
     "text": [
      "Popped element: 3\n",
      "Top element: 2\n"
     ]
    }
   ],
   "source": [
    "# Initialize an empty stack\n",
    "stack = []\n",
    "\n",
    "# Push operation: Add elements to the stack\n",
    "stack.append(1)\n",
    "stack.append(2)\n",
    "stack.append(3)\n",
    "\n",
    "# Pop operation: Remove and return the top element from the stack\n",
    "top_element = stack.pop()\n",
    "print(\"Popped element:\", top_element)\n",
    "\n",
    "# Peek operation: Get the top element without removing it\n",
    "if stack:\n",
    "    top_element = stack[-1]\n",
    "    print(\"Top element:\", top_element)\n",
    "\n",
    "# Check if the stack is empty\n",
    "if not stack:\n",
    "    print(\"Stack is empty\")\n"
   ]
  },
  {
   "cell_type": "markdown",
   "metadata": {},
   "source": [
    "## Method 2: Using collections.deque (Double-ended Queue)\n"
   ]
  },
  {
   "cell_type": "code",
   "execution_count": 11,
   "metadata": {},
   "outputs": [
    {
     "name": "stdout",
     "output_type": "stream",
     "text": [
      "Popped element: 3\n",
      "Top element: 2\n"
     ]
    }
   ],
   "source": [
    "from collections import deque\n",
    "\n",
    "# Initialize an empty stack using deque\n",
    "stack = deque()\n",
    "\n",
    "# Push operation: Add elements to the stack\n",
    "stack.append(1)\n",
    "stack.append(2)\n",
    "stack.append(3)\n",
    "\n",
    "# Pop operation: Remove and return the top element from the stack\n",
    "top_element = stack.pop()\n",
    "print(\"Popped element:\", top_element)\n",
    "\n",
    "# Peek operation: Get the top element without removing it\n",
    "if stack:\n",
    "    top_element = stack[-1]\n",
    "    print(\"Top element:\", top_element)\n",
    "\n",
    "# Check if the stack is empty\n",
    "if not stack:\n",
    "    print(\"Stack is empty\")\n"
   ]
  },
  {
   "cell_type": "markdown",
   "metadata": {},
   "source": [
    "## Method 3: Using Linked List (Custom Implementation)"
   ]
  },
  {
   "cell_type": "code",
   "execution_count": 15,
   "metadata": {},
   "outputs": [
    {
     "name": "stdout",
     "output_type": "stream",
     "text": [
      "1\n",
      "2\n",
      "3\n"
     ]
    }
   ],
   "source": [
    "# Node class to represent each element in the stack\n",
    "class Node:\n",
    "    def __init__(self, value):\n",
    "        self.value = value # Value of the node\n",
    "        self.next = None # Pointer to the next node in the stack \n",
    "\n",
    "# Lets see diagrammatically how the stack works\n",
    "# 1. Create the nodes\n",
    "node1 = Node(1)\n",
    "node2 = Node(2)\n",
    "node3 = Node(3)\n",
    "\n",
    "# 2. Link the nodes\n",
    "node1.next = node2\n",
    "node2.next = node3\n",
    "\n",
    "# 3. Set the top node\n",
    "top = node1\n",
    "\n",
    "# 4. Traverse the stack\n",
    "current = top\n",
    "\n",
    "while current:\n",
    "    print(current.value)\n",
    "    current = current.next\n",
    "    \n",
    "# Output: 1 2 3"
   ]
  },
  {
   "cell_type": "markdown",
   "metadata": {},
   "source": [
    "## 1 -> 2 -> 3 -> None\n",
    "Top\n",
    "\n",
    "## explanation:\n",
    "\n",
    "Each node points to the next node (next attribute).\n",
    "\n",
    "Starting from node1, it points to node2, which points to node3.\n",
    "\n",
    "node3 points to None, indicating the end of the stack.\n",
    "\n",
    "This diagram visually represents the stack structure:\n",
    "\n",
    "1 is at the top of the stack.\n",
    "2 is below 1.\n",
    "3 is at the bottom of the stack.\n",
    "\n",
    "Traversing this stack from top to bottom would yield the values 1 -> 2 -> 3."
   ]
  },
  {
   "cell_type": "code",
   "execution_count": null,
   "metadata": {},
   "outputs": [],
   "source": [
    "# Stack class using a linked list\n",
    "\n",
    "class Stack:\n",
    "    def __init__(self):\n",
    "        self.top = None # Top pointer to keep track of the top element in the stack\n",
    "\n",
    "    def push(self, value):              # Top = None   ( This is intially the case when the stack is empty) \n",
    "        new_node = Node(value)          # | New Node | New Node {Next}| -------> None\n",
    "        new_node.next = self.top            # Top                  \n",
    "        self.top = new_node\n",
    "\n",
    "    def pop(self):\n",
    "        if self.top: # If the stack is not empty and we have elements to pop at the top\n",
    "            popped_value = self.top.value\n",
    "            self.top = self.top.next\n",
    "            return popped_value\n",
    "        return None\n",
    "\n",
    "    def peek(self):\n",
    "        if self.top:                     # This returns the top element of the stack \n",
    "            return self.top.value\n",
    "        return None\n",
    "\n",
    "    def is_empty(self):\n",
    "        return self.top is None\n",
    "\n",
    "# Usage of the custom Stack implementation\n",
    "stack = Stack()\n",
    "stack.push(1)\n",
    "stack.push(2)\n",
    "stack.push(3)\n",
    "\n",
    "print(\"Popped element:\", stack.pop())\n",
    "print(\"Top element:\", stack.peek())\n",
    "print(\"Is stack empty?\", stack.is_empty())\n"
   ]
  }
 ],
 "metadata": {
  "kernelspec": {
   "display_name": "Python 3",
   "language": "python",
   "name": "python3"
  },
  "language_info": {
   "codemirror_mode": {
    "name": "ipython",
    "version": 3
   },
   "file_extension": ".py",
   "mimetype": "text/x-python",
   "name": "python",
   "nbconvert_exporter": "python",
   "pygments_lexer": "ipython3",
   "version": "3.9.6"
  }
 },
 "nbformat": 4,
 "nbformat_minor": 2
}
