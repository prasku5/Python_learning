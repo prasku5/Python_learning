{
 "cells": [
  {
   "cell_type": "markdown",
   "metadata": {},
   "source": [
    "### Collections: Counter, namedtuple, OrderedDict, defaultdict, deque"
   ]
  },
  {
   "cell_type": "code",
   "execution_count": 143,
   "metadata": {},
   "outputs": [],
   "source": [
    "# Counter\n",
    "# namedtuple\n",
    "# OrderedDict\n",
    "# defaultdict\n",
    "# deque\n",
    "# ChainMap\n",
    "# UserDict\n",
    "# UserList\n",
    "# UserString\n",
    "# Itertools\n",
    "# Functools\n",
    "# Concurrent Futures\n",
    "# Multithreading and Multiprocessing\n",
    "# Bisect (This is also called as Binary search based on the sorted list for inserting the element)\n",
    "# heapq "
   ]
  },
  {
   "cell_type": "code",
   "execution_count": 1,
   "metadata": {},
   "outputs": [],
   "source": [
    "from collections import Counter"
   ]
  },
  {
   "cell_type": "code",
   "execution_count": 2,
   "metadata": {},
   "outputs": [],
   "source": [
    "a = \"aaaaabbbbccc  ccc\"\n",
    "my_counter = Counter(a) #Here we are giving our string"
   ]
  },
  {
   "cell_type": "code",
   "execution_count": 3,
   "metadata": {},
   "outputs": [
    {
     "name": "stdout",
     "output_type": "stream",
     "text": [
      "Counter({'c': 6, 'a': 5, 'b': 4, ' ': 2})\n"
     ]
    }
   ],
   "source": [
    "print(my_counter) # returns a dictionary with characters as key and count as values"
   ]
  },
  {
   "cell_type": "code",
   "execution_count": 4,
   "metadata": {},
   "outputs": [
    {
     "name": "stdout",
     "output_type": "stream",
     "text": [
      "dict_items([('a', 5), ('b', 4), ('c', 6), (' ', 2)])\n"
     ]
    }
   ],
   "source": [
    "print(my_counter.items()) "
   ]
  },
  {
   "cell_type": "code",
   "execution_count": 5,
   "metadata": {},
   "outputs": [
    {
     "name": "stdout",
     "output_type": "stream",
     "text": [
      "dict_keys(['a', 'b', 'c', ' '])\n"
     ]
    }
   ],
   "source": [
    "print(my_counter.keys()) "
   ]
  },
  {
   "cell_type": "code",
   "execution_count": 6,
   "metadata": {},
   "outputs": [
    {
     "name": "stdout",
     "output_type": "stream",
     "text": [
      "dict_values([5, 4, 6, 2])\n"
     ]
    }
   ],
   "source": [
    "print(my_counter.values()) "
   ]
  },
  {
   "cell_type": "markdown",
   "metadata": {},
   "source": [
    "Check the most common ones"
   ]
  },
  {
   "cell_type": "code",
   "execution_count": 7,
   "metadata": {},
   "outputs": [
    {
     "name": "stdout",
     "output_type": "stream",
     "text": [
      "[('c', 6), ('a', 5), ('b', 4), (' ', 2)]\n"
     ]
    }
   ],
   "source": [
    "print(my_counter.most_common()) # Sorts them from descending to ascending order"
   ]
  },
  {
   "cell_type": "code",
   "execution_count": 8,
   "metadata": {},
   "outputs": [
    {
     "name": "stdout",
     "output_type": "stream",
     "text": [
      "[('c', 6)]\n"
     ]
    }
   ],
   "source": [
    "print(my_counter.most_common(1)) # Sorts them from descending to ascending order and prints top most element with most no of occurences"
   ]
  },
  {
   "cell_type": "code",
   "execution_count": 9,
   "metadata": {},
   "outputs": [
    {
     "name": "stdout",
     "output_type": "stream",
     "text": [
      "c\n"
     ]
    }
   ],
   "source": [
    "print(my_counter.most_common(1)[0][0]) # To access the key"
   ]
  },
  {
   "cell_type": "markdown",
   "metadata": {},
   "source": [
    "To get the iterable elements at one place"
   ]
  },
  {
   "cell_type": "code",
   "execution_count": 10,
   "metadata": {},
   "outputs": [
    {
     "name": "stdout",
     "output_type": "stream",
     "text": [
      "['a', 'a', 'a', 'a', 'a', 'b', 'b', 'b', 'b', 'c', 'c', 'c', 'c', 'c', 'c', ' ', ' ']\n"
     ]
    }
   ],
   "source": [
    "print(list(my_counter.elements()))"
   ]
  },
  {
   "cell_type": "code",
   "execution_count": 45,
   "metadata": {},
   "outputs": [
    {
     "name": "stdout",
     "output_type": "stream",
     "text": [
      "17\n"
     ]
    }
   ],
   "source": [
    "print(sum(my_counter.values()))"
   ]
  },
  {
   "cell_type": "code",
   "execution_count": 51,
   "metadata": {},
   "outputs": [
    {
     "name": "stdout",
     "output_type": "stream",
     "text": [
      "counter for my_counter1 Counter({'c': 6, 'a': 5, 'b': 4, ' ': 2})\n",
      "counter for my_counter2 Counter({'a': 4})\n",
      "Counter({'a': 9, 'c': 6, 'b': 4, ' ': 2})\n",
      "Counter({'c': 6, 'b': 4, ' ': 2, 'a': 1})\n",
      "Counter({'a': 4})\n",
      "Counter({'c': 6, 'a': 5, 'b': 4, ' ': 2})\n"
     ]
    }
   ],
   "source": [
    "# Other methods\n",
    "my_counter1 = Counter(\"aaaaabbbbccc  ccc\") \n",
    "my_counter2 = Counter(\"aaaa\")\n",
    "print(\"counter for my_counter1\", my_counter1)\n",
    "print(\"counter for my_counter2\", my_counter2)\n",
    "\n",
    "print(my_counter + my_counter2) # Adds the values of the two counters\n",
    "print(my_counter - my_counter2) # Subtracts the values of the two counters\n",
    "print(my_counter & my_counter2) # Intersection of the two counters\n",
    "print(my_counter | my_counter2) # Union of the two counters"
   ]
  },
  {
   "cell_type": "markdown",
   "metadata": {},
   "source": [
    "#### Named tuple (Assigning variables)"
   ]
  },
  {
   "cell_type": "code",
   "execution_count": 11,
   "metadata": {},
   "outputs": [],
   "source": [
    "from collections import namedtuple"
   ]
  },
  {
   "cell_type": "code",
   "execution_count": 12,
   "metadata": {},
   "outputs": [],
   "source": [
    "Point = namedtuple('Point', 'x,y')"
   ]
  },
  {
   "cell_type": "code",
   "execution_count": 13,
   "metadata": {},
   "outputs": [],
   "source": [
    "pt = Point(1,-4)"
   ]
  },
  {
   "cell_type": "code",
   "execution_count": 52,
   "metadata": {},
   "outputs": [
    {
     "name": "stdout",
     "output_type": "stream",
     "text": [
      "Point(x=1, y=-4)\n"
     ]
    }
   ],
   "source": [
    "print(pt)"
   ]
  },
  {
   "cell_type": "code",
   "execution_count": 15,
   "metadata": {},
   "outputs": [
    {
     "name": "stdout",
     "output_type": "stream",
     "text": [
      "1 -4\n"
     ]
    }
   ],
   "source": [
    "print(pt.x, pt.y)"
   ]
  },
  {
   "cell_type": "markdown",
   "metadata": {},
   "source": [
    "Ordered dictionaries"
   ]
  },
  {
   "cell_type": "code",
   "execution_count": 16,
   "metadata": {},
   "outputs": [],
   "source": [
    "from collections import OrderedDict"
   ]
  },
  {
   "cell_type": "code",
   "execution_count": 17,
   "metadata": {},
   "outputs": [],
   "source": [
    "ordered_dict = OrderedDict()"
   ]
  },
  {
   "cell_type": "code",
   "execution_count": 53,
   "metadata": {},
   "outputs": [],
   "source": [
    "ordered_dict['a'] = 1\n",
    "ordered_dict['b'] = 2\n",
    "ordered_dict['c'] = 3\n",
    "ordered_dict['d'] = 4\n",
    "\n",
    "# Adding elements to dictionary which means we can add elements to dictionary in any order but it will be printed in the order we added and will retain the order\n",
    "\n",
    "# ordered_dict['key'] = value"
   ]
  },
  {
   "cell_type": "code",
   "execution_count": 19,
   "metadata": {},
   "outputs": [
    {
     "name": "stdout",
     "output_type": "stream",
     "text": [
      "OrderedDict([('a', 1), ('b', 2), ('c', 3), ('d', 4)])\n"
     ]
    }
   ],
   "source": [
    "print(ordered_dict) # These will be printed in the same order of insertion"
   ]
  },
  {
   "cell_type": "code",
   "execution_count": 20,
   "metadata": {},
   "outputs": [],
   "source": [
    "ordered_dict_1 = OrderedDict()\n",
    "\n",
    "ordered_dict_1['a'] = 4\n",
    "ordered_dict_1['b'] = 3\n",
    "ordered_dict_1['c'] = 2\n",
    "ordered_dict_1['d'] = 1\n",
    "\n",
    "# Adding elements to dictionary\n",
    "\n",
    "# ordered_dict['key'] = value"
   ]
  },
  {
   "cell_type": "code",
   "execution_count": 21,
   "metadata": {},
   "outputs": [
    {
     "name": "stdout",
     "output_type": "stream",
     "text": [
      "OrderedDict([('a', 4), ('b', 3), ('c', 2), ('d', 1)])\n"
     ]
    }
   ],
   "source": [
    "print(ordered_dict_1) #Order of insertion"
   ]
  },
  {
   "cell_type": "markdown",
   "metadata": {},
   "source": [
    "Default Dictionary"
   ]
  },
  {
   "cell_type": "code",
   "execution_count": 22,
   "metadata": {},
   "outputs": [],
   "source": [
    "from collections import defaultdict"
   ]
  },
  {
   "cell_type": "code",
   "execution_count": 55,
   "metadata": {},
   "outputs": [],
   "source": [
    "d = defaultdict(list) # Here we are giving the default value as list since we are going to append values to the dictionary\n",
    "                      # Instead of list we can give int, float, str etc which will be the default value means if we are going \n",
    "                      # to append values to the dictionary it will be of the type we gave as default value"
   ]
  },
  {
   "cell_type": "code",
   "execution_count": 56,
   "metadata": {},
   "outputs": [],
   "source": [
    "d['a'] = 1\n",
    "d['b'] = 2"
   ]
  },
  {
   "cell_type": "code",
   "execution_count": 58,
   "metadata": {},
   "outputs": [
    {
     "name": "stdout",
     "output_type": "stream",
     "text": [
      "[]\n"
     ]
    }
   ],
   "source": [
    "print(d['c']) #Notice for the key there is default value of 0.0 \n",
    "\n",
    "#Since we gave the default value as list we can append values to the dictionary"
   ]
  },
  {
   "cell_type": "code",
   "execution_count": 59,
   "metadata": {},
   "outputs": [],
   "source": [
    "d = defaultdict(int)\n"
   ]
  },
  {
   "cell_type": "code",
   "execution_count": 60,
   "metadata": {},
   "outputs": [
    {
     "name": "stdout",
     "output_type": "stream",
     "text": [
      "<class 'int'>\n"
     ]
    }
   ],
   "source": [
    "d['a'] = 1\n",
    "d['b'] = 2\n",
    "print(type(d['c']))"
   ]
  },
  {
   "cell_type": "code",
   "execution_count": 61,
   "metadata": {},
   "outputs": [
    {
     "name": "stdout",
     "output_type": "stream",
     "text": [
      "0\n"
     ]
    }
   ],
   "source": [
    "print(d['c']) #Notice for the key there is default value of 0"
   ]
  },
  {
   "cell_type": "markdown",
   "metadata": {},
   "source": [
    "#### Deque"
   ]
  },
  {
   "cell_type": "code",
   "execution_count": 29,
   "metadata": {},
   "outputs": [],
   "source": [
    "from collections import deque"
   ]
  },
  {
   "cell_type": "code",
   "execution_count": 63,
   "metadata": {},
   "outputs": [],
   "source": [
    "d = deque()"
   ]
  },
  {
   "cell_type": "code",
   "execution_count": 64,
   "metadata": {},
   "outputs": [],
   "source": [
    "d.append(1)\n",
    "d.append(2)"
   ]
  },
  {
   "cell_type": "code",
   "execution_count": 65,
   "metadata": {},
   "outputs": [
    {
     "name": "stdout",
     "output_type": "stream",
     "text": [
      "deque([3, 1, 2])\n"
     ]
    }
   ],
   "source": [
    "d.appendleft(3) # Here we are adding the element to the left of the deque which means it will be added to the first position and retrieved last\n",
    "print(d)"
   ]
  },
  {
   "cell_type": "markdown",
   "metadata": {},
   "source": [
    "remove element from the queue"
   ]
  },
  {
   "cell_type": "code",
   "execution_count": 66,
   "metadata": {},
   "outputs": [
    {
     "data": {
      "text/plain": [
       "2"
      ]
     },
     "execution_count": 66,
     "metadata": {},
     "output_type": "execute_result"
    }
   ],
   "source": [
    "d.pop()"
   ]
  },
  {
   "cell_type": "code",
   "execution_count": 67,
   "metadata": {},
   "outputs": [
    {
     "data": {
      "text/plain": [
       "deque([3, 1])"
      ]
     },
     "execution_count": 67,
     "metadata": {},
     "output_type": "execute_result"
    }
   ],
   "source": [
    "d"
   ]
  },
  {
   "cell_type": "markdown",
   "metadata": {},
   "source": [
    "remove the left most element from the queue"
   ]
  },
  {
   "cell_type": "code",
   "execution_count": 35,
   "metadata": {},
   "outputs": [
    {
     "name": "stdout",
     "output_type": "stream",
     "text": [
      "deque([1])\n"
     ]
    }
   ],
   "source": [
    "d.popleft()\n",
    "print(d)"
   ]
  },
  {
   "cell_type": "markdown",
   "metadata": {},
   "source": [
    "To remove all the elements "
   ]
  },
  {
   "cell_type": "code",
   "execution_count": 82,
   "metadata": {},
   "outputs": [
    {
     "name": "stdout",
     "output_type": "stream",
     "text": [
      "deque([])\n"
     ]
    }
   ],
   "source": [
    "d.clear()\n",
    "print(d)"
   ]
  },
  {
   "cell_type": "code",
   "execution_count": 83,
   "metadata": {},
   "outputs": [],
   "source": [
    "d.append(3)\n",
    "d.append(2)\n",
    "d.append(1)"
   ]
  },
  {
   "cell_type": "code",
   "execution_count": 84,
   "metadata": {},
   "outputs": [
    {
     "name": "stdout",
     "output_type": "stream",
     "text": [
      "deque([3, 2, 1, 4, 5, 6])\n"
     ]
    }
   ],
   "source": [
    "d.extend([4,5,6]) #This will append to the right of the existing queue\n",
    "print(d)\n",
    "\n",
    "# Order of insertion of elements in deque will be on the right side of the queue and order of retrieval will be on the right side of the queue"
   ]
  },
  {
   "cell_type": "code",
   "execution_count": 85,
   "metadata": {},
   "outputs": [],
   "source": [
    "d.extendleft([7,8,9]) # This will extend the list to the left instead of default right"
   ]
  },
  {
   "cell_type": "code",
   "execution_count": 86,
   "metadata": {},
   "outputs": [
    {
     "name": "stdout",
     "output_type": "stream",
     "text": [
      "deque([9, 8, 7, 3, 2, 1, 4, 5, 6])\n"
     ]
    }
   ],
   "source": [
    "print(d)"
   ]
  },
  {
   "cell_type": "markdown",
   "metadata": {},
   "source": [
    "We can rotate the elements"
   ]
  },
  {
   "cell_type": "code",
   "execution_count": 87,
   "metadata": {},
   "outputs": [
    {
     "name": "stdout",
     "output_type": "stream",
     "text": [
      "deque([9, 8, 7, 3, 2, 1, 4, 5, 6])\n",
      "deque([6, 9, 8, 7, 3, 2, 1, 4, 5])\n"
     ]
    }
   ],
   "source": [
    "print(d)\n",
    "d.rotate(1) # Rotate to the right by 1 place\n",
    "print(d)"
   ]
  },
  {
   "cell_type": "markdown",
   "metadata": {},
   "source": [
    "Rotate to the right"
   ]
  },
  {
   "cell_type": "code",
   "execution_count": 42,
   "metadata": {},
   "outputs": [
    {
     "name": "stdout",
     "output_type": "stream",
     "text": [
      "deque([9, 8, 7, 3, 2, 1, 4, 5, 6])\n"
     ]
    }
   ],
   "source": [
    "d.rotate(-1) # Rotate to the left by 1 place\n",
    "print(d)"
   ]
  },
  {
   "cell_type": "markdown",
   "metadata": {},
   "source": [
    "Using reverse method"
   ]
  },
  {
   "cell_type": "code",
   "execution_count": null,
   "metadata": {},
   "outputs": [],
   "source": [
    "# To convert normal list to deque \n",
    "\n",
    "normal_list = [1,2,3,4,5]\n",
    "d = deque(normal_list)\n",
    "d.reverse()\n",
    "print(d)"
   ]
  },
  {
   "cell_type": "markdown",
   "metadata": {},
   "source": [
    "Using List Slicing"
   ]
  },
  {
   "cell_type": "code",
   "execution_count": 96,
   "metadata": {},
   "outputs": [
    {
     "name": "stdout",
     "output_type": "stream",
     "text": [
      "[5, 4, 3, 2, 1]\n",
      "deque([5, 4, 3, 2, 1])\n"
     ]
    }
   ],
   "source": [
    "normal_list = [1, 2, 3, 4, 5]\n",
    "reversed_list = normal_list[::-1] # Here we are reversing the list using slicing and third parameter as -1 which means we are reversing the list\n",
    "print(reversed_list)\n",
    "d = deque(reversed_list)\n",
    "print(d)"
   ]
  },
  {
   "cell_type": "markdown",
   "metadata": {},
   "source": [
    "ChainMap\n",
    "\n",
    "A ChainMap groups multiple dictionaries (or other mappings) together to create a single, updateable view.\n",
    "\n"
   ]
  },
  {
   "cell_type": "code",
   "execution_count": 103,
   "metadata": {},
   "outputs": [
    {
     "name": "stdout",
     "output_type": "stream",
     "text": [
      "ChainMap({'a': 1, 'b': 2}, {'b': 3, 'c': 4})\n",
      "2\n",
      "4\n"
     ]
    }
   ],
   "source": [
    "from collections import ChainMap\n",
    "\n",
    "dict1 = {'a': 1, 'b': 2} # Here we are giving two dictionaries\n",
    "dict2 = {'b': 3, 'c': 4} # Here we are giving two dictionaries\n",
    "chain = ChainMap(dict1, dict2) # Here we are chaining the two dictionaries which means we are combining the two dictionaries\n",
    "                               # common columns will be merged and the first dictionary will be given more priority than the second dictionary\n",
    "print(chain)  # Output: ChainMap({'a': 1, 'b': 2}, {'b': 3, 'c': 4})\n",
    "print(chain['b'])  # Output: 2 (from the first dict)\n",
    "print(chain['c'])  # Output: 4 (from the second dict)\n",
    "\n",
    "# here remember that the first dictionary is given more priority than the second dictionary\n",
    "# If the key is not present in the first dictionary then it will search in the second dictionary"
   ]
  },
  {
   "cell_type": "markdown",
   "metadata": {},
   "source": [
    "UserDict \n",
    "\n",
    "UserDict is a wrapper around dictionary objects for easier subclassing. It acts as a base class for creating custom dictionary-like objects."
   ]
  },
  {
   "cell_type": "code",
   "execution_count": 107,
   "metadata": {},
   "outputs": [
    {
     "name": "stdout",
     "output_type": "stream",
     "text": [
      "Setting a to 10\n",
      "Setting b to 20\n",
      "{'a': 10, 'b': 20}\n",
      "Getting a\n",
      "10\n",
      "Getting b\n",
      "20\n",
      "True\n",
      "True\n",
      "2\n",
      "Deleting a\n"
     ]
    }
   ],
   "source": [
    "from collections import UserDict # This is used to create a dictionary \n",
    "\n",
    "class MyDict(UserDict): # Here we are inheriting the UserDict class\n",
    "    def __setitem__(self, key, value): # Here we are overriding the setitem method\n",
    "        print(f\"Setting {key} to {value}\") # Here we are printing the key and value\n",
    "        super().__setitem__(key, value) # Here we are calling the setitem method of the UserDict class\n",
    "    \n",
    "    def __getitem__(self, key): # Here we are overriding the getitem method\n",
    "        print(f\"Getting {key}\")\n",
    "        return super().__getitem__(key)\n",
    "    \n",
    "    def __delitem__(self, key): # Here we are overriding the delitem method\n",
    "        print(f\"Deleting {key}\")\n",
    "        super().__delitem__(key)\n",
    "\n",
    "    def __len__(self):\n",
    "        return super().__len__()\n",
    "    \n",
    "    def __contains__(self, key):\n",
    "        return super().__contains__(key)\n",
    "    \n",
    "my_dict = MyDict() # Here we are creating a dictionary using UserDict class which is inherited by MyDict class\n",
    "my_dict['a'] = 10  # Output: Setting a to 10\n",
    "my_dict['b'] = 20  # Output: Setting b to 20\n",
    "print(my_dict)  # Output: {'a': 10}\n",
    "\n",
    "print(my_dict['a'])  # Output: Getting a\n",
    "print(my_dict['b'])  # Output: Getting b\n",
    "print('a' in my_dict)  # Output: True\n",
    "print('b' in my_dict)  # Output: False\n",
    "print(len(my_dict))  # Output: 1\n",
    "del my_dict['a']  # Output: Deleting a"
   ]
  },
  {
   "cell_type": "markdown",
   "metadata": {},
   "source": [
    "UserList\n",
    "\n",
    "UserList is a wrapper around list objects for easier subclassing. It acts as a base class for creating custom list-like objects."
   ]
  },
  {
   "cell_type": "code",
   "execution_count": 110,
   "metadata": {},
   "outputs": [
    {
     "name": "stdout",
     "output_type": "stream",
     "text": [
      "Appending 10\n",
      "[10]\n",
      "Appending 20\n",
      "[10, 20]\n",
      "Removing 10\n",
      "[20]\n",
      "Getting 0\n",
      "20\n",
      "Setting 0 to 30\n",
      "[30]\n",
      "Deleting 0\n",
      "[]\n"
     ]
    }
   ],
   "source": [
    "from collections import UserList\n",
    "\n",
    "class MyList(UserList): # Here we are inheriting the UserList class\n",
    "    def append(self, item): # Here we are overriding the append method\n",
    "        print(f\"Appending {item}\")\n",
    "        super().append(item) # Here we are calling the append method of the UserList class which is the parent class\n",
    "    def remove(self, item): # Here we are overriding the remove method\n",
    "        print(f\"Removing {item}\")\n",
    "        super().remove(item)\n",
    "    def __getitem__(self, index):  # Here we are overriding the getitem method\n",
    "        print(f\"Getting {index}\")\n",
    "        return super().__getitem__(index) \n",
    "    def __setitem__(self, index, value): # Here we are overriding the setitem method\n",
    "        print(f\"Setting {index} to {value}\")\n",
    "        super().__setitem__(index, value)\n",
    "    def __delitem__(self, index): # Here we are overriding the delitem method\n",
    "        print(f\"Deleting {index}\")\n",
    "        super().__delitem__(index)\n",
    "    def __len__(self):  # Here we are overriding the len method\n",
    "        return super().__len__()\n",
    "    def __contains__(self, item): # Here we are overriding the contains method\n",
    "        return super().__contains__(item)\n",
    "                                \n",
    "my_list = MyList() # Here we are creating a list using UserList class which is inherited by MyList class\n",
    "my_list.append(10)  # Output: Appending 10\n",
    "print(my_list)  # Output: [10]\n",
    "my_list.append(20)  # Output: Appending 20\n",
    "print(my_list)  # Output: [10, 20]\n",
    "my_list.remove(10)  # Output: Removing 10\n",
    "print(my_list)  # Output: [20]\n",
    "print(my_list[0])  # Output: Getting 0\n",
    "my_list[0] = 30  # Output: Setting 0 to 30\n",
    "print(my_list)  # Output: [30]\n",
    "del my_list[0]  # Output: Deleting 0\n",
    "print(my_list)  # Output: []"
   ]
  },
  {
   "cell_type": "markdown",
   "metadata": {},
   "source": [
    "UserString\n",
    "\n",
    "UserString is a wrapper around string objects for easier subclassing. It acts as a base class for creating custom string-like objects."
   ]
  },
  {
   "cell_type": "code",
   "execution_count": 111,
   "metadata": {},
   "outputs": [
    {
     "name": "stdout",
     "output_type": "stream",
     "text": [
      "HELLO\n",
      "Appending  world\n",
      "HELLO WORLD\n",
      "Removing HELLO \n",
      "HELLO WORLD\n"
     ]
    }
   ],
   "source": [
    "from collections import UserString\n",
    "\n",
    "class MyString(UserString): # Here we are inheriting the UserString class\n",
    "    def __init__(self, seq):\n",
    "        super().__init__(seq)\n",
    "    \n",
    "    def append(self, string): # Custom method to append a string\n",
    "        print(f\"Appending {string}\")\n",
    "        self.data += string\n",
    "    \n",
    "    def remove(self, substring): # Custom method to remove a substring\n",
    "        print(f\"Removing {substring}\")\n",
    "        self.data = self.data.replace(substring, \"\")\n",
    "    \n",
    "    def __str__(self):  # Here we are overriding the str method to change representation\n",
    "        return self.data.upper()\n",
    "\n",
    "my_string = MyString(\"hello\")\n",
    "print(my_string)  # Output: HELLO\n",
    "\n",
    "my_string.append(\" world\")  # Output: Appending  world\n",
    "print(my_string)  # Output: HELLO WORLD\n",
    "\n",
    "my_string.remove(\"HELLO \")  # Output: Removing HELLO \n",
    "print(my_string)  # Output: WORLD\n"
   ]
  },
  {
   "cell_type": "markdown",
   "metadata": {},
   "source": [
    "namedtuple with Additional Methods\n",
    "\n",
    "You can add methods to namedtuple for more complex functionality."
   ]
  },
  {
   "cell_type": "code",
   "execution_count": 115,
   "metadata": {},
   "outputs": [
    {
     "name": "stdout",
     "output_type": "stream",
     "text": [
      "5.0\n",
      "PointWithDistance(x=4, y=5)\n",
      "<class '__main__.PointWithDistance'>\n"
     ]
    }
   ],
   "source": [
    "from collections import namedtuple\n",
    "\n",
    "# Define the namedtuple\n",
    "Point = namedtuple('Point', 'x y')\n",
    "\n",
    "# Extend the namedtuple with additional methods\n",
    "class PointWithDistance(Point):\n",
    "    __slots__ = ()  # Avoids __dict__ creation to save memory\n",
    "    def distance_to_origin(self):\n",
    "        return (self.x ** 2 + self.y ** 2) ** 0.5 # Returns the distance from the origin\n",
    "\n",
    "    def move(self, dx, dy):\n",
    "        return PointWithDistance(self.x + dx, self.y + dy) # Returns a new instance of the namedtuple\n",
    "\n",
    "# Create an instance of the extended namedtuple\n",
    "pt = PointWithDistance(3, 4)\n",
    "print(pt.distance_to_origin())  # Output: 5.0\n",
    "\n",
    "pt_moved = pt.move(1, 1)\n",
    "print(pt_moved)  # Output: PointWithDistance(x=4, y=5)\n",
    "print(type(pt_moved))  # Output: <class '__main__.PointWithDistance'>\n"
   ]
  },
  {
   "cell_type": "markdown",
   "metadata": {},
   "source": [
    "Heapq\n",
    "\n",
    "heapq is used for implementing priority queues and finding the smallest or largest items efficiently."
   ]
  },
  {
   "cell_type": "code",
   "execution_count": 142,
   "metadata": {},
   "outputs": [
    {
     "name": "stdout",
     "output_type": "stream",
     "text": [
      "Heap: [0, 1, 2, 6, 3, 5, 4, 7, 8, 9]\n",
      "Heap after push: [-5, 0, 2, 6, 1, 5, 4, 7, 8, 9, 3]\n",
      "Popped element: -5\n",
      "Heap after pop: [0, 1, 2, 6, 3, 5, 4, 7, 8, 9]\n",
      "Heap after pushpop: [0, 1, 2, 6, 3, 5, 4, 7, 8, 9]\n",
      "Heap after replace: [1, 3, 2, 6, 9, 5, 4, 7, 8, 10]\n",
      "Three smallest elements: [1, 2, 3]\n",
      "Three largest elements: [10, 9, 8]\n"
     ]
    }
   ],
   "source": [
    "# The use of heapq module in Python is to implement heap queues. Heap queues are a common way to implement priority queues.\n",
    "# The heapq module provides functions to create and manipulate heap data structures.\n",
    "# for example methods could be heapify, heappush, heappop, heappushpop, heapreplace, nlargest, nsmallest\n",
    "\n",
    "import heapq \n",
    "\n",
    "# Create a list of numbers\n",
    "numbers = [1, 3, 5, 7, 9, 2, 4, 6, 8, 0]\n",
    "\n",
    "# Convert the list into a heap ( Heap is a binary tree with some special properties )\n",
    "heapq.heapify(numbers)  # Transform the list into a heap in-place\n",
    "print(\"Heap:\", numbers)  # Output: Heap: [0, 1, 4, 3, 2, 9, 5, 7, 6, 8]\n",
    "\n",
    "# Push a new element onto the heap\n",
    "heapq.heappush(numbers, -5)\n",
    "print(\"Heap after push:\", numbers)  # Output: Heap after push: [-5, 1, 0, 3, 2, 4, 5, 7, 6, 8, 9]\n",
    "\n",
    "# Pop the smallest element from the heap\n",
    "smallest = heapq.heappop(numbers)\n",
    "print(\"Popped element:\", smallest)  # Output: Popped element: -5\n",
    "print(\"Heap after pop:\", numbers)  # Output: Heap after pop: [0, 1, 4, 3, 2, 9, 5, 7, 6, 8]\n",
    "\n",
    "# Push and pop an element in a single statement\n",
    "heapq.heappushpop(numbers, -1)\n",
    "print(\"Heap after pushpop:\", numbers)  # Output: Heap after pushpop: [0, 1, 4, 3, 2, 9, 5, 7, 6, 8]\n",
    "\n",
    "# Replace the smallest element with a new value\n",
    "heapq.heapreplace(numbers, 10)\n",
    "print(\"Heap after replace:\", numbers)  # Output: Heap after replace: [1, 2, 4, 3, 8, 9, 5, 7, 6, 10]\n",
    "\n",
    "# Find the three smallest numbers in the list\n",
    "three_smallest = heapq.nsmallest(3, numbers)\n",
    "print(\"Three smallest elements:\", three_smallest)  # Output: Three smallest elements: [1, 2, 3]\n",
    "\n",
    "# Find the three largest numbers in the list\n",
    "three_largest = heapq.nlargest(3, numbers)\n",
    "print(\"Three largest elements:\", three_largest)  # Output: Three largest elements: [10, 9, 8]\n"
   ]
  },
  {
   "cell_type": "markdown",
   "metadata": {},
   "source": [
    "Bisect\n",
    "\n",
    "bisect is used for maintaining a list in sorted order and performing binary search operations."
   ]
  },
  {
   "cell_type": "code",
   "execution_count": 141,
   "metadata": {},
   "outputs": [],
   "source": [
    "# Sure! Here’s a step-by-step visualization of how bisect works with the provided code.\n",
    "\n",
    "# Initial Sorted List\n",
    "# plaintext\n",
    "# Copy code\n",
    "# Index:   0  1  2  3  4  5  6  7\n",
    "# List:    1  3  4  4  4  5  7  9\n",
    "# Insert an Element (6) While Maintaining Sorted Order\n",
    "# Using bisect.insort, we insert 6 into the list.\n",
    "\n",
    "# Index:   0  1  2  3  4  5  6  7  8\n",
    "# List:    1  3  4  4  4  5  6  7  9\n",
    "# Output: List after insertion: [1, 3, 4, 4, 4, 5, 6, 7, 9]\n",
    "# Find the Insertion Point for Element (4) to Maintain Sorted Order\n",
    "# Using bisect.bisect, which is equivalent to bisect.bisect_right.\n",
    "\n",
    "# Index:   0  1  2  3  4  5  6  7  8\n",
    "# List:    1  3  4  4  4  5  6  7  9\n",
    "#                              ^\n",
    "#                              |\n",
    "#                      Insert here (index 5)\n",
    "# Output: Insertion point for 4: 5\n",
    "# Find the Leftmost Insertion Point for Element (4)\n",
    "# Using bisect.bisect_left.\n",
    "\n",
    "# Index:   0  1  2  3  4  5  6  7  8\n",
    "# List:    1  3  4  4  4  5  6  7  9\n",
    "#                 ^\n",
    "#                 |\n",
    "#       Leftmost insertion point (index 2)\n",
    "# Output: Leftmost insertion point for 4: 2\n",
    "# Find the Rightmost Insertion Point for Element (4)\n",
    "# Using bisect.bisect_right.\n",
    "\n",
    "# Index:   0  1  2  3  4  5  6  7  8\n",
    "# List:    1  3  4  4  4  5  6  7  9\n",
    "#                         ^\n",
    "#                         |\n",
    "#                 Rightmost insertion point (index 5)\n",
    "# Output: Rightmost insertion point for 4: 5\n",
    "\n",
    "\n",
    "# Summary\n",
    "# Initial List: [1, 3, 4, 4, 4, 5, 7, 9]\n",
    "# After Insertion of 6: [1, 3, 4, 4, 4, 5, 6, 7, 9]\n",
    "# Insertion Point for 4: 5\n",
    "# Leftmost Insertion Point for 4: 2\n",
    "# Rightmost Insertion Point for 4: 5"
   ]
  },
  {
   "cell_type": "code",
   "execution_count": 119,
   "metadata": {},
   "outputs": [
    {
     "name": "stdout",
     "output_type": "stream",
     "text": [
      "List after insertion: [1, 3, 4, 4, 4, 5, 6, 7, 9]\n",
      "Insertion point for 4: 5\n",
      "Leftmost insertion point for 4: 2\n",
      "Rightmost insertion point for 4: 5\n"
     ]
    }
   ],
   "source": [
    "import bisect\n",
    "\n",
    "# Create a sorted list\n",
    "sorted_list = [1, 3, 4, 4, 4, 5, 7, 9]\n",
    "\n",
    "# Insert an element while maintaining sorted order\n",
    "bisect.insort(sorted_list, 6)\n",
    "print(\"List after insertion:\", sorted_list)  # Output: List after insertion: [1, 3, 4, 4, 4, 5, 6, 7, 9]\n",
    "\n",
    "# Find the insertion point for an element to maintain sorted order\n",
    "position = bisect.bisect(sorted_list, 4)\n",
    "print(\"Insertion point for 4:\", position)  # Output: Insertion point for 4: 5\n",
    "\n",
    "# Find the leftmost insertion point for an element to maintain sorted order\n",
    "left_position = bisect.bisect_left(sorted_list, 4)\n",
    "print(\"Leftmost insertion point for 4:\", left_position)  # Output: Leftmost insertion point for 4: 2\n",
    "\n",
    "# Find the rightmost insertion point for an element to maintain sorted order\n",
    "right_position = bisect.bisect_right(sorted_list, 4)\n",
    "print(\"Rightmost insertion point for 4:\", right_position)  # Output: Rightmost insertion point for 4: 5\n"
   ]
  },
  {
   "cell_type": "markdown",
   "metadata": {},
   "source": [
    "Queue\n",
    "\n",
    "Queue is useful for implementing multi-producer, multi-consumer queues, especially in multi-threaded applications."
   ]
  },
  {
   "cell_type": "code",
   "execution_count": 139,
   "metadata": {},
   "outputs": [
    {
     "name": "stdout",
     "output_type": "stream",
     "text": [
      "Producing 0\n",
      "Consuming 0\n",
      "Producing 1\n",
      "Consuming 1\n",
      "Producing 2\n",
      "Producing 3\n",
      "Consuming 2\n",
      "Producing 4\n"
     ]
    },
    {
     "name": "stdout",
     "output_type": "stream",
     "text": [
      "Consuming 3\n",
      "Consuming 4\n"
     ]
    }
   ],
   "source": [
    "import queue\n",
    "import threading\n",
    "import time\n",
    "\n",
    "# Create a FIFO queue ( Order of insertion and retrieval will be same )\n",
    "q = queue.Queue()\n",
    "\n",
    "# Define a producer function\n",
    "def producer():\n",
    "    for i in range(5):\n",
    "        print(f\"Producing {i}\")\n",
    "        q.put(i)  # Put an item in the queue\n",
    "        time.sleep(1)  # Simulate work\n",
    "\n",
    "# Define a consumer function\n",
    "def consumer():\n",
    "    while True:\n",
    "        item = q.get()  # Get an item from the queue\n",
    "        if item is None: # Check if the item is None then break the loop and exit indicating that the queue is empty\n",
    "            break\n",
    "        print(f\"Consuming {item}\")\n",
    "        time.sleep(2)  # Simulate work\n",
    "        q.task_done()  # Indicate that a formerly enqueued task is complete\n",
    "\n",
    "# Start producer thread\n",
    "producer_thread = threading.Thread(target=producer) # we have intially started the producer thread and then the consumer thread so that the producer \n",
    "                                                    # thread will produce the items and then the consumer thread will consume the items\n",
    "                                                    # The order of producer and consumer threads can be changed but the producer thread should be started first\n",
    "\n",
    "                                                    # A way to change the order of producer and consumer threads is by using the join method which will wait for \n",
    "                                                    # the producer thread to finish\n",
    "\n",
    "                                                    # inital producer thread will be started and then the consumer thread will be started followed by join method will be called\n",
    "                                                    # join method will not allow the consumer thread to start until the producer thread is finished\n",
    "                                                    # first the producer thread will produce the items and then the consumer thread will consume the items\n",
    "                                                    # once first producer and consumer threads are finished then the second producer and consumer threads will start\n",
    "                                                    # Now once the second producer is finished join method will wait for the second producer thread to finish\n",
    "                                                    # once the second producer thread is finished then the second consumer thread will start and so on.\n",
    "\n",
    "producer_thread.start()\n",
    "\n",
    "# Start consumer thread\n",
    "consumer_thread = threading.Thread(target=consumer)\n",
    "consumer_thread.start()\n",
    "\n",
    "# Wait for the producer to finish\n",
    "producer_thread.join() # The join method will wait for the producer thread to finish and then the consumer thread will start"
   ]
  },
  {
   "cell_type": "code",
   "execution_count": 122,
   "metadata": {},
   "outputs": [],
   "source": [
    "# Stop the consumer\n",
    "q.put(None)\n",
    "consumer_thread.join()"
   ]
  },
  {
   "cell_type": "code",
   "execution_count": 123,
   "metadata": {},
   "outputs": [],
   "source": [
    "# Concurrent Futures\n",
    "\n",
    "# concurrent.futures provides a high-level interface for asynchronously executing callables."
   ]
  },
  {
   "cell_type": "code",
   "execution_count": 138,
   "metadata": {},
   "outputs": [
    {
     "name": "stdout",
     "output_type": "stream",
     "text": [
      "Task 1 is running\n",
      "\n",
      "Task 2 is running\n",
      "\n",
      "Task 3 is running\n",
      "\n",
      "Task 1 completed\n",
      "Task 2 completed\n",
      "Task 3 completed\n"
     ]
    }
   ],
   "source": [
    "from concurrent.futures import ThreadPoolExecutor, as_completed\n",
    "\n",
    "# Define a simple function to execute\n",
    "def task(n):\n",
    "    print(f\"Task {n} is running\\n\")\n",
    "    time.sleep(n)\n",
    "    return f\"Task {n} completed\"\n",
    "\n",
    "# Create a ThreadPoolExecutor\n",
    "with ThreadPoolExecutor(max_workers=3) as executor:\n",
    "    # Submit tasks\n",
    "    futures = [executor.submit(task, i) for i in range(1, 4)]\n",
    "\n",
    "    # Wait for tasks to complete\n",
    "    # as_completed returns an iterator that yields futures as they complete\n",
    "    # as_completed does not guarantee the order of results and should be used with care and its an inbuilt function.\n",
    "    for future in as_completed(futures):\n",
    "        print(future.result())  # Output: Task n completed\n"
   ]
  },
  {
   "cell_type": "markdown",
   "metadata": {},
   "source": [
    "Functools\n",
    "\n",
    "functools includes tools for higher-order functions, such as partial and lru_cache."
   ]
  },
  {
   "cell_type": "code",
   "execution_count": 133,
   "metadata": {},
   "outputs": [
    {
     "name": "stdout",
     "output_type": "stream",
     "text": [
      "10\n"
     ]
    }
   ],
   "source": [
    "from functools import partial\n",
    "\n",
    "# Define a simple function\n",
    "def multiply(x, y):\n",
    "    return x * y\n",
    "\n",
    "# Create a partial function with one argument fixed \n",
    "double = partial(multiply, 2) # Here we are fixing the first argument as 2 and the second argument will be given by the user when calling the function.\n",
    "                              # Partial function is used to fix the arguments of the function and pass the remaining arguments when calling the function\n",
    "                              # In case of multiple arguments we can fix any number of arguments and pass the remaining arguments when calling the function\n",
    "                              # example: double = partial(multiply, 2, 3) here we are fixing the first argument as 2 and the second argument as 3 and the\n",
    "                              # third argument will be given by the user when calling the function\n",
    "print(double(5))  # Output: 10"
   ]
  },
  {
   "cell_type": "code",
   "execution_count": 136,
   "metadata": {},
   "outputs": [
    {
     "name": "stdout",
     "output_type": "stream",
     "text": [
      "12586269025\n"
     ]
    }
   ],
   "source": [
    "from functools import lru_cache\n",
    "\n",
    "# Define a function to compute Fibonacci numbers\n",
    "@lru_cache(maxsize=None)  # Cache all results to speed up computation for previously computed values \n",
    "def fibonacci(n): # Here we are using the lru_cache decorator to cache the results of the function which means if we are going to call the function with the same arguments then it will return the result from the cache instead of computing it again\n",
    "    if n < 2:\n",
    "        return n\n",
    "    return fibonacci(n-1) + fibonacci(n-2)\n",
    "\n",
    "print(fibonacci(50))  # Output: 12586269025\n"
   ]
  },
  {
   "cell_type": "markdown",
   "metadata": {},
   "source": [
    "Itertools\n",
    "\n",
    "itertools provides tools for creating iterators for efficient looping."
   ]
  },
  {
   "cell_type": "code",
   "execution_count": 129,
   "metadata": {},
   "outputs": [
    {
     "name": "stdout",
     "output_type": "stream",
     "text": [
      "1\n",
      "3\n",
      "A\n",
      "B\n",
      "C\n",
      "A\n",
      "['Hello', 'Hello', 'Hello']\n",
      "(1,)\n",
      "(2,)\n",
      "(3,)\n",
      "(4,)\n",
      "(5,)\n",
      "(1, 2)\n",
      "(1, 3)\n",
      "(1, 4)\n",
      "(1, 5)\n",
      "(2, 3)\n",
      "(2, 4)\n",
      "(2, 5)\n",
      "(3, 4)\n",
      "(3, 5)\n",
      "(4, 5)\n",
      "(1, 2, 3)\n",
      "(1, 2, 4)\n",
      "(1, 2, 5)\n",
      "(1, 3, 4)\n",
      "(1, 3, 5)\n",
      "(1, 4, 5)\n",
      "(2, 3, 4)\n",
      "(2, 3, 5)\n",
      "(2, 4, 5)\n",
      "(3, 4, 5)\n",
      "(1, 2, 3, 4)\n",
      "(1, 2, 3, 5)\n",
      "(1, 2, 4, 5)\n",
      "(1, 3, 4, 5)\n",
      "(2, 3, 4, 5)\n",
      "(1, 2, 3, 4, 5)\n"
     ]
    }
   ],
   "source": [
    "import itertools\n",
    "\n",
    "# They will be used to create iterators for efficient looping and combining multiple iterators into a single iterator.\n",
    "# we can also achieve using normal python code but itertools will make it more efficient since it is written in C language and it is faster than normal python code \n",
    "# Itertools will be used to create infinite iterators, cycle iterators, repeating iterators, etc.\n",
    "\n",
    "# They are similar to for loops but they are more efficient and faster than for loops. \n",
    "# In for loops we have to store the data in memory but in itertools we don't have to store the data in memory\n",
    "\n",
    "# The data is not stored in memory, it is generated on the fly\n",
    "\n",
    "# Create an infinite iterator\n",
    "counter = itertools.count(start=1, step=2)\n",
    "print(next(counter))  # Output: 1\n",
    "print(next(counter))  # Output: 3\n",
    "\n",
    "# Create a cycle iterator\n",
    "cycler = itertools.cycle(['A', 'B', 'C']) # Here we are giving a list of elements which will be cycled through infinitely means it will be repeated infinitely.\n",
    "print(next(cycler))  # Output: A\n",
    "print(next(cycler))  # Output: B\n",
    "print(next(cycler))  # Output: C\n",
    "print(next(cycler))  # Output: A\n",
    "\n",
    "# Create a repeating iterator\n",
    "repeater = itertools.repeat('Hello', 3)\n",
    "print(list(repeater))  # Output: ['Hello', 'Hello', 'Hello']\n",
    "\n",
    "# One more example of achieving for loop functionality using itertools is as follows \n",
    "\n",
    "# Create a list of numbers\n",
    "numbers = [1, 2, 3, 4, 5]\n",
    "\n",
    "# using for loop to get the combinations of the numbers\n",
    "for i in range(1, len(numbers) + 1):\n",
    "    for combination in itertools.combinations(numbers, i):\n",
    "        print(combination) \n",
    "# using normal python code to get the combinations of the numbers without using itertools\n",
    "\n"
   ]
  },
  {
   "cell_type": "code",
   "execution_count": 130,
   "metadata": {},
   "outputs": [
    {
     "name": "stdout",
     "output_type": "stream",
     "text": [
      "[]\n",
      "[1]\n",
      "[1, 2]\n",
      "[1, 2, 3]\n",
      "[1, 2, 3, 4]\n",
      "[1, 2, 3, 4, 5]\n",
      "[1, 2, 3, 5]\n",
      "[1, 2, 4]\n",
      "[1, 2, 4, 5]\n",
      "[1, 2, 5]\n",
      "[1, 3]\n",
      "[1, 3, 4]\n",
      "[1, 3, 4, 5]\n",
      "[1, 3, 5]\n",
      "[1, 4]\n",
      "[1, 4, 5]\n",
      "[1, 5]\n",
      "[2]\n",
      "[2, 3]\n",
      "[2, 3, 4]\n",
      "[2, 3, 4, 5]\n",
      "[2, 3, 5]\n",
      "[2, 4]\n",
      "[2, 4, 5]\n",
      "[2, 5]\n",
      "[3]\n",
      "[3, 4]\n",
      "[3, 4, 5]\n",
      "[3, 5]\n",
      "[4]\n",
      "[4, 5]\n",
      "[5]\n"
     ]
    }
   ],
   "source": [
    "def get_combinations(numbers):\n",
    "    # Helper function for generating combinations\n",
    "    def combinations_helper(start, path):\n",
    "        result.append(path)\n",
    "        for i in range(start, len(numbers)):\n",
    "            combinations_helper(i + 1, path + [numbers[i]])\n",
    "\n",
    "    result = []\n",
    "    combinations_helper(0, [])\n",
    "    return result\n",
    "\n",
    "# Example usage\n",
    "numbers = [1, 2, 3, 4, 5]\n",
    "all_combinations = get_combinations(numbers)\n",
    "\n",
    "# Print all combinations\n",
    "for combination in all_combinations:\n",
    "    print(combination)\n"
   ]
  }
 ],
 "metadata": {
  "kernelspec": {
   "display_name": "Python 3.8.13 ('mlp')",
   "language": "python",
   "name": "python3"
  },
  "language_info": {
   "codemirror_mode": {
    "name": "ipython",
    "version": 3
   },
   "file_extension": ".py",
   "mimetype": "text/x-python",
   "name": "python",
   "nbconvert_exporter": "python",
   "pygments_lexer": "ipython3",
   "version": "3.9.6"
  },
  "orig_nbformat": 4,
  "vscode": {
   "interpreter": {
    "hash": "d6e887bb000de1b0aff36cb2158729a89ef44447281fafe2f7a9ff11a98f3c71"
   }
  }
 },
 "nbformat": 4,
 "nbformat_minor": 2
}
