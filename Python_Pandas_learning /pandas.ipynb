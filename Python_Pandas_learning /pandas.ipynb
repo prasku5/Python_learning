{
 "cells": [
  {
   "cell_type": "markdown",
   "metadata": {},
   "source": [
    "What is Pandas & Imports?\n",
    "\n",
    "Pandas is an open-source data analysis and manipulation tool built on top of the Python programming language.\n",
    "\n",
    "It's widely used for data science and machine learning tasks.\n",
    "\n",
    "To import Pandas, you can use:"
   ]
  },
  {
   "cell_type": "code",
   "execution_count": 1,
   "metadata": {},
   "outputs": [],
   "source": [
    "import pandas as pd"
   ]
  },
  {
   "cell_type": "markdown",
   "metadata": {},
   "source": [
    "## Series: A one-dimensional labeled array capable of holding any data type.\n",
    "\n"
   ]
  },
  {
   "cell_type": "code",
   "execution_count": 4,
   "metadata": {},
   "outputs": [
    {
     "name": "stdout",
     "output_type": "stream",
     "text": [
      "0    1.0\n",
      "1    3.0\n",
      "2    5.0\n",
      "3    NaN\n",
      "4    6.0\n",
      "5    8.0\n",
      "dtype: float64\n"
     ]
    }
   ],
   "source": [
    "import pandas as pd\n",
    "import numpy as np\n",
    "\n",
    "s = pd.Series([1, 3, 5, np.nan, 6, 8]) # np.nan is a missing value # we have different datatypes in the series\n",
    "print(s)"
   ]
  },
  {
   "cell_type": "markdown",
   "metadata": {},
   "source": [
    "## DataFrame: A two-dimensional labeled data structure with columns of potentially different types."
   ]
  },
  {
   "cell_type": "code",
   "execution_count": 6,
   "metadata": {},
   "outputs": [
    {
     "name": "stdout",
     "output_type": "stream",
     "text": [
      "   A  B\n",
      "0  1  4\n",
      "1  2  5\n",
      "2  3  6\n"
     ]
    }
   ],
   "source": [
    "data = {'A': [1, 2, 3],\n",
    "                       'B': [4, 5, 6]}\n",
    "df = pd.DataFrame(data)\n",
    "print(df)"
   ]
  },
  {
   "cell_type": "markdown",
   "metadata": {},
   "source": [
    "## Index: The labels of the rows and columns of the Series and DataFrame.\n",
    "\n"
   ]
  },
  {
   "cell_type": "code",
   "execution_count": 7,
   "metadata": {},
   "outputs": [
    {
     "name": "stdout",
     "output_type": "stream",
     "text": [
      "Index(['a', 'b', 'c'], dtype='object')\n"
     ]
    }
   ],
   "source": [
    "index = pd.Index(['a', 'b', 'c'])\n",
    "print(index)"
   ]
  },
  {
   "cell_type": "markdown",
   "metadata": {},
   "source": [
    "## Creating DataFrames"
   ]
  },
  {
   "cell_type": "code",
   "execution_count": 8,
   "metadata": {},
   "outputs": [
    {
     "name": "stdout",
     "output_type": "stream",
     "text": [
      "     Name  Age\n",
      "0     Tom   20\n",
      "1   Jerry   21\n",
      "2  Mickey   19\n"
     ]
    }
   ],
   "source": [
    "data = {'Name': ['Tom', 'Jerry', 'Mickey'], 'Age': [20, 21, 19]}\n",
    "df = pd.DataFrame(data)\n",
    "print(df)"
   ]
  },
  {
   "cell_type": "markdown",
   "metadata": {},
   "source": [
    "## Accessing Data in DataFrames: Filtering & Selecting Data"
   ]
  },
  {
   "cell_type": "code",
   "execution_count": 11,
   "metadata": {},
   "outputs": [
    {
     "name": "stdout",
     "output_type": "stream",
     "text": [
      "0    20\n",
      "1    21\n",
      "2    19\n",
      "Name: Age, dtype: int64\n"
     ]
    }
   ],
   "source": [
    "# Selecting a column\n",
    "ages = df['Age']\n",
    "print(ages)"
   ]
  },
  {
   "cell_type": "code",
   "execution_count": 10,
   "metadata": {},
   "outputs": [
    {
     "name": "stdout",
     "output_type": "stream",
     "text": [
      "    Name  Age\n",
      "1  Jerry   21\n"
     ]
    }
   ],
   "source": [
    "# Filtering rows\n",
    "adults = df[df['Age'] > 20]\n",
    "print(adults)"
   ]
  },
  {
   "cell_type": "markdown",
   "metadata": {},
   "source": [
    "## Adding & Removing Columns"
   ]
  },
  {
   "cell_type": "code",
   "execution_count": 19,
   "metadata": {},
   "outputs": [
    {
     "name": "stdout",
     "output_type": "stream",
     "text": [
      "     Name  Age Gender\n",
      "0     Tom   20      M\n",
      "1   Jerry   21      M\n",
      "2  Mickey   19      M\n"
     ]
    }
   ],
   "source": [
    "df['Gender'] = ['M', 'M', 'M']  # Adding a column\n",
    "print(df)"
   ]
  },
  {
   "cell_type": "code",
   "execution_count": 20,
   "metadata": {},
   "outputs": [
    {
     "name": "stdout",
     "output_type": "stream",
     "text": [
      "     Name  Age\n",
      "0     Tom   20\n",
      "1   Jerry   21\n",
      "2  Mickey   19\n"
     ]
    }
   ],
   "source": [
    "df.drop('Gender', axis=1, inplace=True)  # Removing a column\n",
    "print(df)\n"
   ]
  },
  {
   "cell_type": "markdown",
   "metadata": {},
   "source": [
    "## Merging & Joining DataFrames"
   ]
  },
  {
   "cell_type": "code",
   "execution_count": 21,
   "metadata": {},
   "outputs": [
    {
     "name": "stdout",
     "output_type": "stream",
     "text": [
      "  key  value_x  value_y\n",
      "0   B        2        4\n",
      "1   C        3        5\n"
     ]
    }
   ],
   "source": [
    "df1 = pd.DataFrame({'key': ['A', 'B', 'C'], 'value': [1, 2, 3]})\n",
    "df2 = pd.DataFrame({'key': ['B', 'C', 'D'], 'value': [4, 5, 6]})\n",
    "merged_df = pd.merge(df1, df2, on='key', how='inner')  # Inner join\n",
    "print(merged_df)"
   ]
  },
  {
   "cell_type": "markdown",
   "metadata": {},
   "source": [
    "## Grouping and Aggregating Data"
   ]
  },
  {
   "cell_type": "code",
   "execution_count": 22,
   "metadata": {},
   "outputs": [
    {
     "name": "stdout",
     "output_type": "stream",
     "text": [
      "       Name\n",
      "Age        \n",
      "19   Mickey\n",
      "20      Tom\n",
      "21    Jerry\n"
     ]
    }
   ],
   "source": [
    "grouped = df.groupby('Age').sum()\n",
    "print(grouped)"
   ]
  },
  {
   "cell_type": "markdown",
   "metadata": {},
   "source": [
    "## Pivot Tables"
   ]
  },
  {
   "cell_type": "code",
   "execution_count": 26,
   "metadata": {},
   "outputs": [],
   "source": [
    "# Here, we are creating a DataFrame df with four columns: A, B, C, and D. The DataFrame looks like this:\n",
    "\n",
    "#      A    B      C  D\n",
    "# 0  foo  one  small  1\n",
    "# 1  foo  one  large  2\n",
    "# 2  foo  two  large  2\n",
    "# 3  bar  two  small  3\n",
    "# 4  bar  one  small  3\n",
    "# 5  bar  one  large  4 "
   ]
  },
  {
   "cell_type": "code",
   "execution_count": 28,
   "metadata": {},
   "outputs": [],
   "source": [
    "# Here's what each part of the pivot_table method does:\n",
    "\n",
    "# values='D': We are interested in the values from the D column.\n",
    "# index=['A', 'B']: We want to create a multi-level index using columns A and B.\n",
    "# columns=['C']: The values in the C column will become the columns in the pivot table.\n",
    "# aggfunc=np.sum: The aggregation function we are using is np.sum, which will sum up the values."
   ]
  },
  {
   "cell_type": "code",
   "execution_count": 29,
   "metadata": {},
   "outputs": [],
   "source": [
    "# Explanation\n",
    "\n",
    "# The rows of the pivot table are indexed by the combinations of A and B.\n",
    "# The columns of the pivot table are created from the unique values in C.\n",
    "# The values in the pivot table are the sum of D for each combination of A, B, and C.\n",
    "\n",
    "# For example:\n",
    "\n",
    "# For A='foo' and B='one', the D values for C='large' and C='small' are 2 and 1 respectively. So, the table has 2.0 and 1.0 in the corresponding cells.\n",
    "# For A='bar' and B='one', the D values for C='large' and C='small' are 4 and 3 respectively. So, the table has 4.0 and 3.0 in the corresponding cells.\n",
    "# For combinations where no data exists (e.g., A='bar' and B='two' with C='large'), the result is NaN.\n",
    "# The pivot table provides a way to see the summarized data in a structured and easy-to-read format."
   ]
  },
  {
   "cell_type": "code",
   "execution_count": 24,
   "metadata": {},
   "outputs": [
    {
     "name": "stdout",
     "output_type": "stream",
     "text": [
      "C        large  small\n",
      "A   B                \n",
      "bar one    4.0    3.0\n",
      "    two    NaN    3.0\n",
      "foo one    2.0    1.0\n",
      "    two    2.0    NaN\n"
     ]
    },
    {
     "name": "stderr",
     "output_type": "stream",
     "text": [
      "/var/folders/g5/4lyrpx411517gbxgrcplfhvh0000gn/T/ipykernel_15733/3552220686.py:7: FutureWarning: The provided callable <function sum at 0x1106d8940> is currently using DataFrameGroupBy.sum. In a future version of pandas, the provided callable will be used directly. To keep current behavior pass the string \"sum\" instead.\n",
      "  pivot_table = df.pivot_table(values='D', index=['A', 'B'], columns=['C'], aggfunc=np.sum)\n"
     ]
    }
   ],
   "source": [
    "df = pd.DataFrame({\n",
    "    'A': ['foo', 'foo', 'foo', 'bar', 'bar', 'bar'],\n",
    "    'B': ['one', 'one', 'two', 'two', 'one', 'one'],\n",
    "    'C': ['small', 'large', 'large', 'small', 'small', 'large'],\n",
    "    'D': [1, 2, 2, 3, 3, 4]\n",
    "})\n",
    "pivot_table = df.pivot_table(values='D', index=['A', 'B'], columns=['C'], aggfunc=np.sum)\n",
    "print(pivot_table)"
   ]
  },
  {
   "cell_type": "markdown",
   "metadata": {},
   "source": [
    "## Reading & Writing CSV Files    "
   ]
  },
  {
   "cell_type": "code",
   "execution_count": 31,
   "metadata": {},
   "outputs": [
    {
     "name": "stdout",
     "output_type": "stream",
     "text": [
      "     A    B      C  D\n",
      "0  foo  one  small  1\n",
      "1  foo  one  large  2\n",
      "2  foo  two  large  2\n",
      "3  bar  two  small  3\n",
      "4  bar  one  small  3\n",
      "5  bar  one  large  4\n"
     ]
    }
   ],
   "source": [
    "df.to_csv('data.csv', index=False)  # Writing to a CSV file\n",
    "new_df = pd.read_csv('data.csv')    # Reading from a CSV file\n",
    "print(new_df)"
   ]
  },
  {
   "cell_type": "markdown",
   "metadata": {},
   "source": [
    "## Reading & Writing Excel Files"
   ]
  },
  {
   "cell_type": "code",
   "execution_count": 35,
   "metadata": {},
   "outputs": [
    {
     "name": "stdout",
     "output_type": "stream",
     "text": [
      "     A    B      C  D\n",
      "0  foo  one  small  1\n",
      "1  foo  one  large  2\n",
      "2  foo  two  large  2\n",
      "3  bar  two  small  3\n",
      "4  bar  one  small  3\n",
      "5  bar  one  large  4\n"
     ]
    }
   ],
   "source": [
    "import pandas as pd\n",
    "import numpy as np\n",
    "\n",
    "df.to_excel('data.xlsx', index=False)  # Writing to an Excel file\n",
    "new_df = pd.read_excel('data.xlsx')    # Reading from an Excel file\n",
    "print(new_df)"
   ]
  },
  {
   "cell_type": "markdown",
   "metadata": {},
   "source": [
    "## Reading & Writing SQL Databases"
   ]
  },
  {
   "cell_type": "code",
   "execution_count": 38,
   "metadata": {},
   "outputs": [],
   "source": [
    "# from sqlalchemy import create_engine\n",
    "\n",
    "# engine = create_engine('sqlite:///:memory:')\n",
    "# df.to_sql('data', engine)  # Writing to SQL\n",
    "# new_df = pd.read_sql('data', con=engine)  # Reading from SQL\n",
    "# print(new_df)"
   ]
  },
  {
   "cell_type": "markdown",
   "metadata": {},
   "source": [
    "## Reading & Writing JSON Files"
   ]
  },
  {
   "cell_type": "code",
   "execution_count": 39,
   "metadata": {},
   "outputs": [
    {
     "name": "stdout",
     "output_type": "stream",
     "text": [
      "     A    B      C  D\n",
      "0  foo  one  small  1\n",
      "1  foo  one  large  2\n",
      "2  foo  two  large  2\n",
      "3  bar  two  small  3\n",
      "4  bar  one  small  3\n",
      "5  bar  one  large  4\n"
     ]
    }
   ],
   "source": [
    "df.to_json('data.json')  # Writing to a JSON file\n",
    "new_df = pd.read_json('data.json')  # Reading from a JSON file\n",
    "print(new_df)\n"
   ]
  },
  {
   "cell_type": "markdown",
   "metadata": {},
   "source": [
    "## Reading & Writing Text & Binary Files\n",
    "\n"
   ]
  },
  {
   "cell_type": "code",
   "execution_count": 42,
   "metadata": {},
   "outputs": [
    {
     "name": "stdout",
     "output_type": "stream",
     "text": [
      "     A    B      C  D\n",
      "0  foo  one  small  1\n",
      "1  foo  one  large  2\n",
      "2  foo  two  large  2\n",
      "3  bar  two  small  3\n",
      "4  bar  one  small  3\n",
      "5  bar  one  large  4\n"
     ]
    }
   ],
   "source": [
    "df.to_csv('data.txt', index=False, sep='\\t')  # Writing to a text file\n",
    "new_df = pd.read_csv('data.txt', sep='\\t')  # Reading from a text file\n",
    "print(new_df)"
   ]
  },
  {
   "cell_type": "code",
   "execution_count": 41,
   "metadata": {},
   "outputs": [
    {
     "name": "stdout",
     "output_type": "stream",
     "text": [
      "     A    B      C  D\n",
      "0  foo  one  small  1\n",
      "1  foo  one  large  2\n",
      "2  foo  two  large  2\n",
      "3  bar  two  small  3\n",
      "4  bar  one  small  3\n",
      "5  bar  one  large  4\n"
     ]
    }
   ],
   "source": [
    "\n",
    "df.to_pickle('data.pkl')  # Writing to a binary file\n",
    "new_df = pd.read_pickle('data.pkl')  # Reading from a binary file\n",
    "print(new_df)"
   ]
  },
  {
   "cell_type": "markdown",
   "metadata": {},
   "source": [
    "## Edge Cases"
   ]
  },
  {
   "cell_type": "markdown",
   "metadata": {},
   "source": [
    "## Empty DataFrames: Handle scenarios where your DataFrame might be empty after filtering."
   ]
  },
  {
   "cell_type": "code",
   "execution_count": 45,
   "metadata": {},
   "outputs": [
    {
     "name": "stdout",
     "output_type": "stream",
     "text": [
      "     Name  Age\n",
      "0     Tom   20\n",
      "1   Jerry   21\n",
      "2  Mickey   19\n"
     ]
    }
   ],
   "source": [
    "data = {'Name': ['Tom', 'Jerry', 'Mickey'], 'Age': [20, 21, 19]}\n",
    "df = pd.DataFrame(data)\n",
    "print(df)"
   ]
  },
  {
   "cell_type": "code",
   "execution_count": 46,
   "metadata": {},
   "outputs": [
    {
     "name": "stdout",
     "output_type": "stream",
     "text": [
      "DataFrame is empty\n"
     ]
    }
   ],
   "source": [
    "empty_df = df[df['Age'] > 100]\n",
    "if empty_df.empty:\n",
    "    print(\"DataFrame is empty\")"
   ]
  },
  {
   "cell_type": "markdown",
   "metadata": {},
   "source": [
    "## Missing Data: Manage missing data using methods like .fillna() or .dropna().\n",
    "\n"
   ]
  },
  {
   "cell_type": "code",
   "execution_count": 47,
   "metadata": {},
   "outputs": [
    {
     "name": "stdout",
     "output_type": "stream",
     "text": [
      "     Name  Age\n",
      "0     Tom   20\n",
      "1   Jerry   21\n",
      "2  Mickey   19\n"
     ]
    },
    {
     "name": "stderr",
     "output_type": "stream",
     "text": [
      "/var/folders/g5/4lyrpx411517gbxgrcplfhvh0000gn/T/ipykernel_15733/956097004.py:1: FutureWarning: A value is trying to be set on a copy of a DataFrame or Series through chained assignment using an inplace method.\n",
      "The behavior will change in pandas 3.0. This inplace method will never work because the intermediate object on which we are setting values always behaves as a copy.\n",
      "\n",
      "For example, when doing 'df[col].method(value, inplace=True)', try using 'df.method({col: value}, inplace=True)' or df[col] = df[col].method(value) instead, to perform the operation inplace on the original object.\n",
      "\n",
      "\n",
      "  df['Age'].fillna(df['Age'].mean(), inplace=True)  # Filling missing values\n"
     ]
    }
   ],
   "source": [
    "df['Age'].fillna(df['Age'].mean(), inplace=True)  # Filling missing values\n",
    "print(df)"
   ]
  },
  {
   "cell_type": "markdown",
   "metadata": {},
   "source": [
    "## Duplicate Data: Remove duplicate rows using .drop_duplicates().\n",
    "\n"
   ]
  },
  {
   "cell_type": "code",
   "execution_count": 48,
   "metadata": {},
   "outputs": [
    {
     "name": "stdout",
     "output_type": "stream",
     "text": [
      "     Name  Age\n",
      "0     Tom   20\n",
      "1   Jerry   21\n",
      "2  Mickey   19\n"
     ]
    }
   ],
   "source": [
    "df.drop_duplicates(inplace=True)\n",
    "print(df)"
   ]
  }
 ],
 "metadata": {
  "kernelspec": {
   "display_name": "Python 3",
   "language": "python",
   "name": "python3"
  },
  "language_info": {
   "codemirror_mode": {
    "name": "ipython",
    "version": 3
   },
   "file_extension": ".py",
   "mimetype": "text/x-python",
   "name": "python",
   "nbconvert_exporter": "python",
   "pygments_lexer": "ipython3",
   "version": "3.9.6"
  }
 },
 "nbformat": 4,
 "nbformat_minor": 2
}
