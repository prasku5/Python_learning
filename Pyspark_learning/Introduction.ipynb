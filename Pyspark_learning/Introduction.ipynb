{
 "cells": [
  {
   "cell_type": "code",
   "execution_count": 2,
   "metadata": {},
   "outputs": [],
   "source": [
    "import os\n",
    "\n",
    "# Set SPARK_HOME and JAVA_HOME environment variables\n",
    "os.environ['SPARK_HOME'] = '/usr/local/Cellar/apache-spark/3.5.1/libexec'\n",
    "os.environ['JAVA_HOME'] = '/usr/local/opt/openjdk/libexec/openjdk.jdk/Contents/Home'"
   ]
  },
  {
   "cell_type": "markdown",
   "metadata": {},
   "source": [
    "## Basics of Spark\n",
    "\n",
    "Apache Spark is an open-source unified analytics engine for large-scale data processing. It provides an interface for programming entire clusters with implicit data parallelism and fault tolerance.\n",
    "\n",
    "### Key Features of Spark:\n",
    "- **Speed**: Spark processes in-memory, which makes it faster than traditional disk-based processing engines.\n",
    "- **Ease of Use**: High-level APIs in Java, Scala, Python, and R, and a rich set of libraries including SQL, MLlib (for machine learning), GraphX (for graph processing), and Spark Streaming.\n",
    "- **Generalized**: Combine SQL, streaming, and complex analytics.\n",
    "- **Fault Tolerance**: Built-in support for fault tolerance.\n",
    "\n",
    "## Spark Architecture\n",
    "\n",
    "The architecture of Spark comprises the following components:\n",
    "\n",
    "- **Driver**: The process that runs the `main()` function of the application and creates the `SparkContext`.\n",
    "- **Cluster Manager**: The external service for acquiring resources on the cluster (e.g., YARN, Mesos, Kubernetes, Standalone).\n",
    "- **Workers**: The nodes that execute the tasks.\n",
    "- **Executors**: Run on worker nodes, executing the tasks and keeping data in memory.\n",
    "- **Tasks**: Units of work sent to executors by the driver.\n",
    "\n",
    "## Spark Execution Flow:\n",
    "\n",
    "1. **Job Submission**: User submits a job.\n",
    "2. **Task Scheduling**: Driver program splits the job into tasks.\n",
    "3. **Task Execution**: Tasks are sent to executors for execution.\n",
    "4. **Result Collection**: Results are collected and returned to the driver.\n"
   ]
  },
  {
   "cell_type": "code",
   "execution_count": 5,
   "metadata": {},
   "outputs": [
    {
     "name": "stderr",
     "output_type": "stream",
     "text": [
      "24/07/31 11:47:57 WARN Utils: Service 'SparkUI' could not bind on port 4040. Attempting port 4041.\n"
     ]
    },
    {
     "name": "stdout",
     "output_type": "stream",
     "text": [
      "Original DataFrame:\n"
     ]
    },
    {
     "name": "stderr",
     "output_type": "stream",
     "text": [
      "                                                                                \r"
     ]
    },
    {
     "name": "stdout",
     "output_type": "stream",
     "text": [
      "+-----+---+\n",
      "| Name|Age|\n",
      "+-----+---+\n",
      "| John| 28|\n",
      "|  Doe| 35|\n",
      "|Alice| 22|\n",
      "|  Bob| 29|\n",
      "+-----+---+\n",
      "\n",
      "Transformed DataFrame:\n",
      "+-----+---+--------------+\n",
      "| Name|Age|AgeAfter5Years|\n",
      "+-----+---+--------------+\n",
      "| John| 28|            33|\n",
      "|  Doe| 35|            40|\n",
      "|Alice| 22|            27|\n",
      "|  Bob| 29|            34|\n",
      "+-----+---+--------------+\n",
      "\n",
      "Number of rows in the DataFrame: 4\n"
     ]
    }
   ],
   "source": [
    "from pyspark.sql import SparkSession\n",
    "from pyspark.sql.functions import col\n",
    "\n",
    "# Create a SparkSession\n",
    "spark = SparkSession.builder \\\n",
    "    .appName(\"Sample Spark Program\") \\\n",
    "    .getOrCreate()\n",
    "\n",
    "# Sample data\n",
    "data = [ \n",
    "    (\"John\", 28), # list of tuples \n",
    "    (\"Doe\", 35),  # It could also be in the form of a list of dictionaries ex: [{\"Name\": \"Alice\", \"Age\": 22}]\n",
    "    (\"Alice\", 22), # It could also be in the form of a list of Row objects ex: [Row(Name=\"Bob\", Age=29)]\n",
    "    (\"Bob\", 29)    # It could also be in the form of a list of namedtuples  ex: [Person(Name=\"Bob\", Age=29)]\n",
    "]         # It could also be in the form of a list of objects                ex: [Person(\"Bob\", 29)]\n",
    "\n",
    "# Create a DataFrame\n",
    "columns = [\"Name\", \"Age\"]\n",
    "df = spark.createDataFrame(data, columns)\n",
    "\n",
    "# Show the DataFrame\n",
    "print(\"Original DataFrame:\")\n",
    "df.show()\n",
    "\n",
    "# Perform some transformations\n",
    "df_transformed = df.withColumn(\"AgeAfter5Years\", col(\"Age\") + 5)\n",
    "\n",
    "# Show the transformed DataFrame\n",
    "print(\"Transformed DataFrame:\")\n",
    "df_transformed.show()\n",
    "\n",
    "# Perform an action: Count the number of rows\n",
    "count = df_transformed.count()\n",
    "print(f\"Number of rows in the DataFrame: {count}\")\n",
    "\n",
    "# # Stop the SparkSession\n",
    "# spark.stop()\n"
   ]
  },
  {
   "cell_type": "code",
   "execution_count": 8,
   "metadata": {},
   "outputs": [
    {
     "name": "stdout",
     "output_type": "stream",
     "text": [
      "+---------+---------+-----------+\n",
      "|namespace|tableName|isTemporary|\n",
      "+---------+---------+-----------+\n",
      "|         |   people|       true|\n",
      "+---------+---------+-----------+\n",
      "\n"
     ]
    }
   ],
   "source": [
    "spark.sql(\"SHOW TABLES\").show()  # Check available tables/views\n",
    "\n",
    "# Register DataFrame as a SQL temporary view\n",
    "df_transformed.createOrReplaceTempView(\"people\")\n",
    "\n",
    "# Run SQL query\n",
    "result = spark.sql(\"SELECT * FROM people WHERE Age > 33\")"
   ]
  },
  {
   "cell_type": "code",
   "execution_count": 9,
   "metadata": {},
   "outputs": [
    {
     "name": "stdout",
     "output_type": "stream",
     "text": [
      "+----+---+--------------+\n",
      "|Name|Age|AgeAfter5Years|\n",
      "+----+---+--------------+\n",
      "| Doe| 35|            40|\n",
      "+----+---+--------------+\n",
      "\n"
     ]
    }
   ],
   "source": [
    "result.show()"
   ]
  },
  {
   "cell_type": "markdown",
   "metadata": {},
   "source": [
    "Machine Learning\n",
    "Using MLlib for Machine Learning Tasks"
   ]
  },
  {
   "cell_type": "code",
   "execution_count": 21,
   "metadata": {},
   "outputs": [
    {
     "name": "stderr",
     "output_type": "stream",
     "text": [
      "24/07/31 11:56:03 WARN SparkSession: Using an existing Spark session; only runtime SQL configurations will take effect.\n",
      "                                                                                \r"
     ]
    },
    {
     "name": "stdout",
     "output_type": "stream",
     "text": [
      "+--------+-----+----------+\n",
      "|feature1|label|prediction|\n",
      "+--------+-----+----------+\n",
      "|     1.0|  1.0|       1.0|\n",
      "|     2.0|  0.0|       1.0|\n",
      "|     3.0|  1.0|       0.0|\n",
      "|     4.0|  0.0|       0.0|\n",
      "+--------+-----+----------+\n",
      "\n",
      "Accuracy: 0.5000\n"
     ]
    }
   ],
   "source": [
    "from pyspark.sql import SparkSession\n",
    "from pyspark.ml.classification import LogisticRegression\n",
    "from pyspark.ml.feature import VectorAssembler\n",
    "from pyspark.ml.evaluation import MulticlassClassificationEvaluator\n",
    "\n",
    "# Initialize Spark session\n",
    "spark = SparkSession.builder.appName(\"LogisticRegressionExample\").getOrCreate()\n",
    "\n",
    "# Sample data\n",
    "data = [(1.0, 1.0), (2.0, 0.0), (3.0, 1.0), (4.0, 0.0)]\n",
    "columns = [\"feature1\", \"label\"]\n",
    "\n",
    "df_ml = spark.createDataFrame(data, columns)\n",
    "\n",
    "# Assemble features into a feature vector\n",
    "# The inputCols parameter is a list of columns that will be used as features\n",
    "# The outputCol parameter is the name of the output column that will contain the feature vector\n",
    "# for example if we have 2 columns \"feature1\" and \"feature2\" and we want to combine them into a single feature vector\n",
    "\n",
    "assembler = VectorAssembler(inputCols=[\"feature1\"], outputCol=\"features\")\n",
    "df_ml = assembler.transform(df_ml)\n",
    "\n",
    "# Logistic Regression\n",
    "lr = LogisticRegression(featuresCol=\"features\", labelCol=\"label\")\n",
    "lr_model = lr.fit(df_ml)\n",
    "\n",
    "# Make predictions\n",
    "predictions = lr_model.transform(df_ml)\n",
    "\n",
    "# Show predictions\n",
    "predictions.select(\"feature1\", \"label\", \"prediction\").show()\n",
    "\n",
    "# Evaluate the model\n",
    "evaluator = MulticlassClassificationEvaluator(labelCol=\"label\", predictionCol=\"prediction\", metricName=\"accuracy\")\n",
    "accuracy = evaluator.evaluate(predictions)\n",
    "print(f\"Accuracy: {accuracy:.4f}\")\n",
    "\n"
   ]
  },
  {
   "cell_type": "code",
   "execution_count": 22,
   "metadata": {},
   "outputs": [
    {
     "name": "stderr",
     "output_type": "stream",
     "text": [
      "24/07/31 11:56:38 WARN DecisionTreeMetadata: DecisionTree reducing maxBins from 32 to 2 (= number of training instances)\n"
     ]
    },
    {
     "name": "stdout",
     "output_type": "stream",
     "text": [
      "+--------+-----+-------------+--------+-------------+--------------------+----------+\n",
      "|category|label|categoryIndex|features|rawPrediction|         probability|prediction|\n",
      "+--------+-----+-------------+--------+-------------+--------------------+----------+\n",
      "|       a|  1.0|          0.0|   [0.0]|   [6.0,11.0]|[0.35294117647058...|       1.0|\n",
      "|       b|  0.0|          1.0|   [1.0]|   [14.0,3.0]|[0.82352941176470...|       0.0|\n",
      "+--------+-----+-------------+--------+-------------+--------------------+----------+\n",
      "\n",
      "Accuracy: 1.0000\n"
     ]
    }
   ],
   "source": [
    "from pyspark.ml import Pipeline\n",
    "from pyspark.ml.feature import StringIndexer, VectorAssembler\n",
    "from pyspark.ml.classification import RandomForestClassifier\n",
    "\n",
    "# Sample data\n",
    "data = [(\"a\", 1.0), (\"b\", 0.0)]\n",
    "columns = [\"category\", \"label\"]\n",
    "\n",
    "df_ml = spark.createDataFrame(data, columns)\n",
    "\n",
    "# Stage 1: String Indexer\n",
    "indexer = StringIndexer(inputCol=\"category\", outputCol=\"categoryIndex\")\n",
    "\n",
    "# Stage 2: Vector Assembler\n",
    "assembler = VectorAssembler(inputCols=[\"categoryIndex\"], outputCol=\"features\")\n",
    "\n",
    "# Stage 3: RandomForestClassifier\n",
    "rf = RandomForestClassifier(labelCol=\"label\", featuresCol=\"features\")\n",
    "\n",
    "# Pipeline\n",
    "pipeline = Pipeline(stages=[indexer, assembler, rf])\n",
    "\n",
    "# Train model\n",
    "model = pipeline.fit(df_ml)\n",
    "\n",
    "# Make predictions\n",
    "predictions = model.transform(df_ml)\n",
    "predictions.show()\n",
    "\n",
    "# Evaluate the model\n",
    "evaluator = MulticlassClassificationEvaluator(labelCol=\"label\", predictionCol=\"prediction\", metricName=\"accuracy\")\n",
    "accuracy = evaluator.evaluate(predictions)\n",
    "print(f\"Accuracy: {accuracy:.4f}\")\n",
    "\n"
   ]
  }
 ],
 "metadata": {
  "kernelspec": {
   "display_name": "Python 3",
   "language": "python",
   "name": "python3"
  },
  "language_info": {
   "codemirror_mode": {
    "name": "ipython",
    "version": 3
   },
   "file_extension": ".py",
   "mimetype": "text/x-python",
   "name": "python",
   "nbconvert_exporter": "python",
   "pygments_lexer": "ipython3",
   "version": "3.9.6"
  }
 },
 "nbformat": 4,
 "nbformat_minor": 2
}
