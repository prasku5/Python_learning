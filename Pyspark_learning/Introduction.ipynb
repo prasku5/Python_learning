{
 "cells": [
  {
   "cell_type": "code",
   "execution_count": 2,
   "metadata": {},
   "outputs": [],
   "source": [
    "import os\n",
    "\n",
    "# Set SPARK_HOME and JAVA_HOME environment variables\n",
    "os.environ['SPARK_HOME'] = '/usr/local/Cellar/apache-spark/3.5.1/libexec'\n",
    "os.environ['JAVA_HOME'] = '/usr/local/opt/openjdk/libexec/openjdk.jdk/Contents/Home'"
   ]
  },
  {
   "cell_type": "markdown",
   "metadata": {},
   "source": [
    "## Basics of Spark\n",
    "\n",
    "Apache Spark is an open-source unified analytics engine for large-scale data processing. It provides an interface for programming entire clusters with implicit data parallelism and fault tolerance.\n",
    "\n",
    "### Key Features of Spark:\n",
    "- **Speed**: Spark processes in-memory, which makes it faster than traditional disk-based processing engines.\n",
    "- **Ease of Use**: High-level APIs in Java, Scala, Python, and R, and a rich set of libraries including SQL, MLlib (for machine learning), GraphX (for graph processing), and Spark Streaming.\n",
    "- **Generalized**: Combine SQL, streaming, and complex analytics.\n",
    "- **Fault Tolerance**: Built-in support for fault tolerance.\n",
    "\n",
    "## Spark Architecture\n",
    "\n",
    "The architecture of Spark comprises the following components:\n",
    "\n",
    "- **Driver**: The process that runs the `main()` function of the application and creates the `SparkContext`.\n",
    "- **Cluster Manager**: The external service for acquiring resources on the cluster (e.g., YARN, Mesos, Kubernetes, Standalone).\n",
    "- **Workers**: The nodes that execute the tasks.\n",
    "- **Executors**: Run on worker nodes, executing the tasks and keeping data in memory.\n",
    "- **Tasks**: Units of work sent to executors by the driver.\n",
    "\n",
    "## Spark Execution Flow:\n",
    "\n",
    "1. **Job Submission**: User submits a job.\n",
    "2. **Task Scheduling**: Driver program splits the job into tasks.\n",
    "3. **Task Execution**: Tasks are sent to executors for execution.\n",
    "4. **Result Collection**: Results are collected and returned to the driver.\n"
   ]
  },
  {
   "cell_type": "code",
   "execution_count": 3,
   "metadata": {},
   "outputs": [
    {
     "name": "stderr",
     "output_type": "stream",
     "text": [
      "Setting default log level to \"WARN\".\n",
      "To adjust logging level use sc.setLogLevel(newLevel). For SparkR, use setLogLevel(newLevel).\n",
      "24/07/31 08:44:22 WARN NativeCodeLoader: Unable to load native-hadoop library for your platform... using builtin-java classes where applicable\n"
     ]
    },
    {
     "name": "stdout",
     "output_type": "stream",
     "text": [
      "Original DataFrame:\n"
     ]
    },
    {
     "name": "stderr",
     "output_type": "stream",
     "text": [
      "                                                                                \r"
     ]
    },
    {
     "name": "stdout",
     "output_type": "stream",
     "text": [
      "+-----+---+\n",
      "| Name|Age|\n",
      "+-----+---+\n",
      "| John| 28|\n",
      "|  Doe| 35|\n",
      "|Alice| 22|\n",
      "|  Bob| 29|\n",
      "+-----+---+\n",
      "\n",
      "Transformed DataFrame:\n",
      "+-----+---+--------------+\n",
      "| Name|Age|AgeAfter5Years|\n",
      "+-----+---+--------------+\n",
      "| John| 28|            33|\n",
      "|  Doe| 35|            40|\n",
      "|Alice| 22|            27|\n",
      "|  Bob| 29|            34|\n",
      "+-----+---+--------------+\n",
      "\n",
      "Number of rows in the DataFrame: 4\n"
     ]
    }
   ],
   "source": [
    "from pyspark.sql import SparkSession\n",
    "from pyspark.sql.functions import col\n",
    "\n",
    "# Create a SparkSession\n",
    "spark = SparkSession.builder \\\n",
    "    .appName(\"Sample Spark Program\") \\\n",
    "    .getOrCreate()\n",
    "\n",
    "# Sample data\n",
    "data = [ \n",
    "    (\"John\", 28), # list of tuples \n",
    "    (\"Doe\", 35),  # It could also be in the form of a list of dictionaries ex: [{\"Name\": \"Alice\", \"Age\": 22}]\n",
    "    (\"Alice\", 22), # It could also be in the form of a list of Row objects ex: [Row(Name=\"Bob\", Age=29)]\n",
    "    (\"Bob\", 29)    # It could also be in the form of a list of namedtuples  ex: [Person(Name=\"Bob\", Age=29)]\n",
    "]         # It could also be in the form of a list of objects                ex: [Person(\"Bob\", 29)]\n",
    "\n",
    "# Create a DataFrame\n",
    "columns = [\"Name\", \"Age\"]\n",
    "df = spark.createDataFrame(data, columns)\n",
    "\n",
    "# Show the DataFrame\n",
    "print(\"Original DataFrame:\")\n",
    "df.show()\n",
    "\n",
    "# Perform some transformations\n",
    "df_transformed = df.withColumn(\"AgeAfter5Years\", col(\"Age\") + 5)\n",
    "\n",
    "# Show the transformed DataFrame\n",
    "print(\"Transformed DataFrame:\")\n",
    "df_transformed.show()\n",
    "\n",
    "# Perform an action: Count the number of rows\n",
    "count = df_transformed.count()\n",
    "print(f\"Number of rows in the DataFrame: {count}\")\n",
    "\n",
    "# Stop the SparkSession\n",
    "spark.stop()\n"
   ]
  },
  {
   "cell_type": "code",
   "execution_count": null,
   "metadata": {},
   "outputs": [],
   "source": []
  }
 ],
 "metadata": {
  "kernelspec": {
   "display_name": "Python 3",
   "language": "python",
   "name": "python3"
  },
  "language_info": {
   "codemirror_mode": {
    "name": "ipython",
    "version": 3
   },
   "file_extension": ".py",
   "mimetype": "text/x-python",
   "name": "python",
   "nbconvert_exporter": "python",
   "pygments_lexer": "ipython3",
   "version": "3.9.6"
  }
 },
 "nbformat": 4,
 "nbformat_minor": 2
}
