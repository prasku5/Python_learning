{
 "cells": [
  {
   "cell_type": "markdown",
   "metadata": {},
   "source": [
    "Step 2: Simple Spark Jobs\n",
    "Example 1: Reading a CSV File\n",
    "Upload a CSV file to Databricks:\n",
    "\n",
    "Go to the Databricks workspace.\n",
    "Click on Data > Add Data > Upload File.\n",
    "Upload a sample CSV file (e.g., people.csv).\n",
    "Create a Notebook and Read the CSV File:"
   ]
  },
  {
   "cell_type": "code",
   "execution_count": null,
   "metadata": {},
   "outputs": [],
   "source": [
    "from pyspark.sql import SparkSession\n",
    "\n",
    "# Create a Spark session\n",
    "spark = SparkSession.builder.appName(\"SimpleExample\").getOrCreate()\n",
    "\n",
    "# Read the CSV file\n",
    "df = spark.read.option(\"header\", \"true\").csv(\"/FileStore/tables/people.csv\")\n",
    "\n",
    "# Show the DataFrame\n",
    "df.show()"
   ]
  },
  {
   "cell_type": "markdown",
   "metadata": {},
   "source": [
    "Example 2: Writing Data to Parquet Format\n",
    "Transform and Write Data:"
   ]
  },
  {
   "cell_type": "code",
   "execution_count": null,
   "metadata": {},
   "outputs": [],
   "source": [
    "# Select specific columns\n",
    "selected_df = df.select(\"name\", \"age\")\n",
    "\n",
    "# Write the DataFrame to Parquet format\n",
    "selected_df.write.parquet(\"/FileStore/tables/people.parquet\")"
   ]
  },
  {
   "cell_type": "markdown",
   "metadata": {},
   "source": [
    "Step 3: Intermediate Spark Jobs\n",
    "Example 3: Reading Data from a JDBC Source\n",
    "Set Up the JDBC Connection:"
   ]
  },
  {
   "cell_type": "code",
   "execution_count": null,
   "metadata": {},
   "outputs": [],
   "source": [
    "jdbc_url = \"jdbc:postgresql://your_host:your_port/your_database\"\n",
    "connection_properties = {\n",
    "    \"user\": \"your_username\",\n",
    "    \"password\": \"your_password\",\n",
    "    \"driver\": \"org.postgresql.Driver\"\n",
    "}\n",
    "\n",
    "# Read data from PostgreSQL database\n",
    "jdbc_df = spark.read.jdbc(url=jdbc_url, table=\"your_table\", properties=connection_properties)\n",
    "\n",
    "# Show the DataFrame\n",
    "jdbc_df.show()"
   ]
  },
  {
   "cell_type": "markdown",
   "metadata": {},
   "source": [
    "Example 4: Performing Aggregations\n",
    "Aggregate Data:\n"
   ]
  },
  {
   "cell_type": "code",
   "execution_count": null,
   "metadata": {},
   "outputs": [],
   "source": [
    "from pyspark.sql.functions import col\n",
    "\n",
    "# Group by and aggregate\n",
    "agg_df = jdbc_df.groupBy(\"column1\").agg({\"column2\": \"sum\"})\n",
    "\n",
    "# Show the aggregated DataFrame\n",
    "agg_df.show()"
   ]
  },
  {
   "cell_type": "markdown",
   "metadata": {},
   "source": [
    "Advanced Spark Jobs\n",
    "Example 5: Handling JSON Data\n",
    "Upload a JSON file to Databricks:\n",
    "\n",
    "Go to the Databricks workspace.\n",
    "Click on Data > Add Data > Upload File.\n",
    "Upload a sample JSON file (e.g., data.json).\n"
   ]
  },
  {
   "cell_type": "code",
   "execution_count": null,
   "metadata": {},
   "outputs": [],
   "source": [
    "# Read the JSON file\n",
    "json_df = spark.read.json(\"/FileStore/tables/data.json\")\n",
    "\n",
    "# Show the DataFrame\n",
    "json_df.show()\n"
   ]
  },
  {
   "cell_type": "markdown",
   "metadata": {},
   "source": [
    "Transform JSON Data:\n",
    "\n"
   ]
  },
  {
   "cell_type": "code",
   "execution_count": null,
   "metadata": {},
   "outputs": [],
   "source": [
    "# Select specific fields from nested JSON\n",
    "transformed_df = json_df.select(col(\"field1\"), col(\"nested.field2\"))\n",
    "\n",
    "# Show the transformed DataFrame\n",
    "transformed_df.show()"
   ]
  },
  {
   "cell_type": "markdown",
   "metadata": {},
   "source": [
    "Production-Level Considerations\n",
    "\n",
    "Partitioning Data:"
   ]
  },
  {
   "cell_type": "code",
   "execution_count": null,
   "metadata": {},
   "outputs": [],
   "source": [
    "# Write data with partitioning\n",
    "selected_df.write.partitionBy(\"age\").parquet(\"/FileStore/tables/partitioned_people.parquet\")\n"
   ]
  },
  {
   "cell_type": "code",
   "execution_count": null,
   "metadata": {},
   "outputs": [],
   "source": [
    "# Repartition the DataFrame for performance\n",
    "large_df = spark.read.option(\"header\", \"true\").csv(\"/FileStore/tables/large_file.csv\")\n",
    "partitioned_large_df = large_df.repartition(100)\n",
    "\n",
    "# Write the large DataFrame\n",
    "partitioned_large_df.write.parquet(\"/FileStore/tables/large_file.parquet\")\n"
   ]
  }
 ],
 "metadata": {
  "kernelspec": {
   "display_name": "Python 3",
   "language": "python",
   "name": "python3"
  },
  "language_info": {
   "codemirror_mode": {
    "name": "ipython",
    "version": 3
   },
   "file_extension": ".py",
   "mimetype": "text/x-python",
   "name": "python",
   "nbconvert_exporter": "python",
   "pygments_lexer": "ipython3",
   "version": "3.11.9"
  }
 },
 "nbformat": 4,
 "nbformat_minor": 2
}
