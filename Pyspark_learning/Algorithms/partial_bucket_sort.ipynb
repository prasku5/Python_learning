{
 "cells": [
  {
   "cell_type": "code",
   "execution_count": 1,
   "metadata": {},
   "outputs": [],
   "source": [
    "import os\n",
    "\n",
    "# Set SPARK_HOME and JAVA_HOME environment variables\n",
    "os.environ['SPARK_HOME'] = '/usr/local/Cellar/apache-spark/3.5.1/libexec'\n",
    "os.environ['JAVA_HOME'] = '/usr/local/opt/openjdk/libexec/openjdk.jdk/Contents/Home'"
   ]
  },
  {
   "cell_type": "code",
   "execution_count": 2,
   "metadata": {},
   "outputs": [
    {
     "name": "stderr",
     "output_type": "stream",
     "text": [
      "Setting default log level to \"WARN\".\n",
      "To adjust logging level use sc.setLogLevel(newLevel). For SparkR, use setLogLevel(newLevel).\n",
      "24/08/01 15:43:53 WARN NativeCodeLoader: Unable to load native-hadoop library for your platform... using builtin-java classes where applicable\n",
      "24/08/01 15:43:54 WARN Utils: Service 'SparkUI' could not bind on port 4040. Attempting port 4041.\n",
      "[Stage 3:=======>                                                   (1 + 7) / 8]\r"
     ]
    },
    {
     "name": "stdout",
     "output_type": "stream",
     "text": [
      "Row(value=3, category='C', row_number=1)\n",
      "Row(value=9, category='B', row_number=2)\n",
      "Row(value=21, category='A', row_number=1)\n",
      "Row(value=25, category='B', row_number=2)\n",
      "Row(value=29, category='A', row_number=3)\n",
      "Row(value=37, category='C', row_number=1)\n",
      "Row(value=43, category='B', row_number=1)\n",
      "Row(value=49, category='A', row_number=1)\n"
     ]
    },
    {
     "name": "stderr",
     "output_type": "stream",
     "text": [
      "                                                                                \r"
     ]
    },
    {
     "name": "stderr",
     "output_type": "stream",
     "text": [
      "24/08/01 15:44:08 WARN GarbageCollectionMetrics: To enable non-built-in garbage collector(s) List(G1 Concurrent GC), users should configure it(them) to spark.eventLog.gcMetrics.youngGenerationGarbageCollectors or spark.eventLog.gcMetrics.oldGenerationGarbageCollectors\n"
     ]
    }
   ],
   "source": [
    "# Partial Bucket Sort\n",
    "\n",
    "from pyspark.sql.functions import col, udf, row_number\n",
    "from pyspark.sql.types import IntegerType\n",
    "from pyspark.sql import SparkSession\n",
    "from pyspark.sql.window import Window\n",
    "\n",
    "# Create a SparkSession\n",
    "spark = SparkSession.builder \\\n",
    "    .appName(\"Sample Spark Program\") \\\n",
    "    .getOrCreate()\n",
    "\n",
    "# Data with two columns\n",
    "data = [(29, 'A'), (25, 'B'), (3, 'C'), (49, 'A'), (9, 'B'), (37, 'C'), (21, 'A'), (43, 'B')]\n",
    "df = spark.createDataFrame(data, [\"value\", \"category\"])\n",
    "\n",
    "# Number of buckets - this can be parameterized or set based on your requirement\n",
    "num_buckets = 5\n",
    "\n",
    "# Calculate the maximum value from the DataFrame\n",
    "max_value = df.agg({\"value\": \"max\"}).collect()[0][0]\n",
    "\n",
    "# Example function to assign buckets\n",
    "def assign_bucket(value, num_buckets, max_value):\n",
    "    size = max_value / num_buckets\n",
    "    return int(value / size)\n",
    "\n",
    "# Register UDF with the computed max_value\n",
    "bucket_udf = udf(lambda x: assign_bucket(x, num_buckets, max_value), IntegerType())\n",
    "\n",
    "# Adding a bucket column\n",
    "df = df.withColumn(\"bucket\", bucket_udf(col(\"value\")))\n",
    "\n",
    "# Repartition based on the bucket column\n",
    "df = df.repartition(\"bucket\")\n",
    "\n",
    "# Sort within each partition\n",
    "# df = df.sortWithinPartitions(\"value\")\n",
    "\n",
    "# Define window specification\n",
    "window_spec = Window.partitionBy(\"bucket\").orderBy(\"value\")\n",
    "\n",
    "# Apply a window function like row_number to add a sequential row number within each partition\n",
    "df = df.withColumn(\"row_number\", row_number().over(window_spec))\n",
    "\n",
    "# Collecting results to show\n",
    "sorted_df = df.drop(\"bucket\").collect()\n",
    "\n",
    "# Print the results\n",
    "for row in sorted_df:\n",
    "    print(row)"
   ]
  }
 ],
 "metadata": {
  "kernelspec": {
   "display_name": "Python 3",
   "language": "python",
   "name": "python3"
  },
  "language_info": {
   "codemirror_mode": {
    "name": "ipython",
    "version": 3
   },
   "file_extension": ".py",
   "mimetype": "text/x-python",
   "name": "python",
   "nbconvert_exporter": "python",
   "pygments_lexer": "ipython3",
   "version": "3.9.6"
  }
 },
 "nbformat": 4,
 "nbformat_minor": 2
}
