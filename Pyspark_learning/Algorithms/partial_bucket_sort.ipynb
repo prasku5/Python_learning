{
 "cells": [
  {
   "cell_type": "code",
   "execution_count": 1,
   "metadata": {},
   "outputs": [],
   "source": [
    "import os\n",
    "\n",
    "# Set SPARK_HOME and JAVA_HOME environment variables\n",
    "os.environ['SPARK_HOME'] = '/usr/local/Cellar/apache-spark/3.5.1/libexec'\n",
    "os.environ['JAVA_HOME'] = '/usr/local/opt/openjdk/libexec/openjdk.jdk/Contents/Home'"
   ]
  },
  {
   "cell_type": "code",
   "execution_count": 2,
   "metadata": {},
   "outputs": [
    {
     "name": "stderr",
     "output_type": "stream",
     "text": [
      "Setting default log level to \"WARN\".\n",
      "To adjust logging level use sc.setLogLevel(newLevel). For SparkR, use setLogLevel(newLevel).\n",
      "24/08/01 15:43:53 WARN NativeCodeLoader: Unable to load native-hadoop library for your platform... using builtin-java classes where applicable\n",
      "24/08/01 15:43:54 WARN Utils: Service 'SparkUI' could not bind on port 4040. Attempting port 4041.\n",
      "[Stage 3:=======>                                                   (1 + 7) / 8]\r"
     ]
    },
    {
     "name": "stdout",
     "output_type": "stream",
     "text": [
      "Row(value=3, category='C', row_number=1)\n",
      "Row(value=9, category='B', row_number=2)\n",
      "Row(value=21, category='A', row_number=1)\n",
      "Row(value=25, category='B', row_number=2)\n",
      "Row(value=29, category='A', row_number=3)\n",
      "Row(value=37, category='C', row_number=1)\n",
      "Row(value=43, category='B', row_number=1)\n",
      "Row(value=49, category='A', row_number=1)\n"
     ]
    },
    {
     "name": "stderr",
     "output_type": "stream",
     "text": [
      "                                                                                \r"
     ]
    },
    {
     "name": "stderr",
     "output_type": "stream",
     "text": [
      "24/08/01 15:44:08 WARN GarbageCollectionMetrics: To enable non-built-in garbage collector(s) List(G1 Concurrent GC), users should configure it(them) to spark.eventLog.gcMetrics.youngGenerationGarbageCollectors or spark.eventLog.gcMetrics.oldGenerationGarbageCollectors\n"
     ]
    }
   ],
   "source": [
    "# Partial Bucket Sort\n",
    "\n",
    "from pyspark.sql.functions import col, udf, row_number\n",
    "from pyspark.sql.types import IntegerType\n",
    "from pyspark.sql import SparkSession\n",
    "from pyspark.sql.window import Window\n",
    "\n",
    "# Create a SparkSession\n",
    "spark = SparkSession.builder \\\n",
    "    .appName(\"Sample Spark Program\") \\\n",
    "    .getOrCreate()\n",
    "\n",
    "# Data with two columns\n",
    "data = [(29, 'A'), (25, 'B'), (3, 'C'), (49, 'A'), (9, 'B'), (37, 'C'), (21, 'A'), (43, 'B')]\n",
    "df = spark.createDataFrame(data, [\"value\", \"category\"])\n",
    "\n",
    "# Number of buckets - this can be parameterized or set based on your requirement\n",
    "num_buckets = 5\n",
    "\n",
    "# Calculate the maximum value from the DataFrame\n",
    "max_value = df.agg({\"value\": \"max\"}).collect()[0][0]\n",
    "\n",
    "# Example function to assign buckets\n",
    "def assign_bucket(value, num_buckets, max_value):\n",
    "    size = max_value / num_buckets # Calculate the size of each bucket based on the number of buckets and the maximum value in the data \n",
    "    return int(value / size) # Here we are using integer division to get the bucket number for the value \n",
    "\n",
    "# Register UDF with the computed max_value\n",
    "bucket_udf = udf(lambda x: assign_bucket(x, num_buckets, max_value), IntegerType())\n",
    "\n",
    "# Adding a bucket column\n",
    "df = df.withColumn(\"bucket\", bucket_udf(col(\"value\")))\n",
    "\n",
    "# Repartition based on the bucket column\n",
    "df = df.repartition(\"bucket\")\n",
    "\n",
    "# Sort within each partition\n",
    "# df = df.sortWithinPartitions(\"value\")\n",
    "\n",
    "# Define window specification\n",
    "window_spec = Window.partitionBy(\"bucket\").orderBy(\"value\")\n",
    "\n",
    "# Apply a window function like row_number to add a sequential row number within each partition\n",
    "df = df.withColumn(\"row_number\", row_number().over(window_spec))\n",
    "\n",
    "# Collecting results to show\n",
    "sorted_df = df.drop(\"bucket\").collect()\n",
    "\n",
    "# Print the results\n",
    "for row in sorted_df:\n",
    "    print(row)"
   ]
  },
  {
   "cell_type": "code",
   "execution_count": 2,
   "metadata": {},
   "outputs": [
    {
     "name": "stdout",
     "output_type": "stream",
     "text": [
      "Sorted data (strings): ['apple', 'date', 'kiwi', 'banana', 'cherry', 'blueberry']\n"
     ]
    }
   ],
   "source": [
    "def partial_bucket_sort_strings(data, num_buckets, sort_threshold):\n",
    "    \"\"\"\n",
    "    Perform partial bucket sort on a list of strings.\n",
    "    \n",
    "    Parameters:\n",
    "    - data: List of strings to sort\n",
    "    - num_buckets: Number of buckets to use\n",
    "    - sort_threshold: Number of items in a bucket before it gets fully sorted\n",
    "    \n",
    "    Returns:\n",
    "    - Sorted list of strings\n",
    "    \"\"\"\n",
    "    \n",
    "    # Step 1: Create buckets based on string lengths\n",
    "    min_length = min(len(s) for s in data)\n",
    "    max_length = max(len(s) for s in data)\n",
    "    bucket_range = (max_length - min_length + 1) / num_buckets\n",
    "    \n",
    "    # Initialize buckets\n",
    "    buckets = [[] for _ in range(num_buckets)]\n",
    "    \n",
    "    # Distribute data into buckets\n",
    "    for s in data:\n",
    "        length = len(s)\n",
    "        index = int((length - min_length) / bucket_range)\n",
    "        if index == num_buckets:  # Handle the edge case\n",
    "            index -= 1\n",
    "        buckets[index].append(s)\n",
    "    \n",
    "    # Step 2: Sort buckets partially\n",
    "    sorted_data = []\n",
    "    for bucket in buckets:\n",
    "        if len(bucket) > sort_threshold:\n",
    "            # Fully sort this bucket\n",
    "            sorted_data.extend(sorted(bucket))\n",
    "        else:\n",
    "            # Sort partially (for simplicity, sorting the whole bucket here)\n",
    "            sorted_data.extend(sorted(bucket))\n",
    "    \n",
    "    # Step 3: Merge buckets\n",
    "    return sorted_data\n",
    "\n",
    "# Example usage\n",
    "data = [\"apple\", \"banana\", \"kiwi\", \"cherry\", \"blueberry\", \"date\"]\n",
    "num_buckets = 3\n",
    "sort_threshold = 2\n",
    "\n",
    "sorted_data = partial_bucket_sort_strings(data, num_buckets, sort_threshold)\n",
    "print(\"Sorted data (strings):\", sorted_data)"
   ]
  },
  {
   "cell_type": "code",
   "execution_count": 3,
   "metadata": {},
   "outputs": [
    {
     "name": "stdout",
     "output_type": "stream",
     "text": [
      "Sorted data (dates): [datetime.datetime(2022, 12, 15, 0, 0), datetime.datetime(2023, 5, 12, 0, 0), datetime.datetime(2023, 11, 30, 0, 0), datetime.datetime(2024, 1, 23, 0, 0), datetime.datetime(2024, 8, 1, 0, 0)]\n"
     ]
    }
   ],
   "source": [
    "from datetime import datetime\n",
    "\n",
    "def partial_bucket_sort_dates(data, num_buckets, sort_threshold):\n",
    "    \"\"\"\n",
    "    Perform partial bucket sort on a list of dates.\n",
    "    \n",
    "    Parameters:\n",
    "    - data: List of datetime objects to sort\n",
    "    - num_buckets: Number of buckets to use\n",
    "    - sort_threshold: Number of items in a bucket before it gets fully sorted\n",
    "    \n",
    "    Returns:\n",
    "    - Sorted list of dates\n",
    "    \"\"\"\n",
    "    \n",
    "    # Step 1: Create buckets based on year\n",
    "    min_year = min(d.year for d in data)\n",
    "    max_year = max(d.year for d in data)\n",
    "    bucket_range = (max_year - min_year + 1) / num_buckets\n",
    "    \n",
    "    # Initialize buckets\n",
    "    buckets = [[] for _ in range(num_buckets)]\n",
    "    \n",
    "    # Distribute data into buckets\n",
    "    for d in data:\n",
    "        year = d.year\n",
    "        index = int((year - min_year) / bucket_range)\n",
    "        if index == num_buckets:  # Handle the edge case\n",
    "            index -= 1\n",
    "        buckets[index].append(d)\n",
    "    \n",
    "    # Step 2: Sort buckets partially\n",
    "    sorted_data = []\n",
    "    for bucket in buckets:\n",
    "        if len(bucket) > sort_threshold:\n",
    "            # Fully sort this bucket\n",
    "            sorted_data.extend(sorted(bucket))\n",
    "        else:\n",
    "            # Sort partially (for simplicity, sorting the whole bucket here)\n",
    "            sorted_data.extend(sorted(bucket))\n",
    "    \n",
    "    # Step 3: Merge buckets\n",
    "    return sorted_data\n",
    "\n",
    "# Example usage\n",
    "data = [\n",
    "    datetime(2024, 8, 1),\n",
    "    datetime(2023, 5, 12),\n",
    "    datetime(2024, 1, 23),\n",
    "    datetime(2023, 11, 30),\n",
    "    datetime(2022, 12, 15)\n",
    "]\n",
    "num_buckets = 2\n",
    "sort_threshold = 2\n",
    "\n",
    "sorted_data = partial_bucket_sort_dates(data, num_buckets, sort_threshold)\n",
    "print(\"Sorted data (dates):\", sorted_data)"
   ]
  },
  {
   "cell_type": "code",
   "execution_count": 4,
   "metadata": {},
   "outputs": [
    {
     "name": "stdout",
     "output_type": "stream",
     "text": [
      "Sorted data (categorical): ['apple', 'apple', 'banana', 'banana', 'cherry', 'cherry', 'date']\n"
     ]
    }
   ],
   "source": [
    "from collections import defaultdict\n",
    "\n",
    "def partial_bucket_sort_categorical(data, categories, sort_threshold):\n",
    "    \"\"\"\n",
    "    Perform partial bucket sort on categorical data.\n",
    "    \n",
    "    Parameters:\n",
    "    - data: List of categorical data (strings)\n",
    "    - categories: List of categories to create buckets\n",
    "    - sort_threshold: Number of items in a bucket before it gets fully sorted\n",
    "    \n",
    "    Returns:\n",
    "    - Sorted list of categorical data\n",
    "    \"\"\"\n",
    "    \n",
    "    # Create buckets based on categories\n",
    "    buckets = defaultdict(list)\n",
    "    for item in data:\n",
    "        if item in categories:\n",
    "            buckets[item].append(item)\n",
    "    \n",
    "    # Step 2: Sort buckets partially\n",
    "    sorted_data = []\n",
    "    for category in categories:\n",
    "        bucket = buckets[category]\n",
    "        if len(bucket) > sort_threshold:\n",
    "            # Fully sort this bucket\n",
    "            sorted_data.extend(sorted(bucket))\n",
    "        else:\n",
    "            # Sort partially (for simplicity, sorting the whole bucket here)\n",
    "            sorted_data.extend(sorted(bucket))\n",
    "    \n",
    "    # Step 3: Merge buckets\n",
    "    return sorted_data\n",
    "\n",
    "# Example usage\n",
    "data = [\"apple\", \"banana\", \"cherry\", \"apple\", \"banana\", \"date\", \"cherry\"]\n",
    "categories = [\"apple\", \"banana\", \"cherry\", \"date\"]\n",
    "sort_threshold = 1\n",
    "\n",
    "sorted_data = partial_bucket_sort_categorical(data, categories, sort_threshold)\n",
    "print(\"Sorted data (categorical):\", sorted_data)"
   ]
  }
 ],
 "metadata": {
  "kernelspec": {
   "display_name": "Python 3",
   "language": "python",
   "name": "python3"
  },
  "language_info": {
   "codemirror_mode": {
    "name": "ipython",
    "version": 3
   },
   "file_extension": ".py",
   "mimetype": "text/x-python",
   "name": "python",
   "nbconvert_exporter": "python",
   "pygments_lexer": "ipython3",
   "version": "3.9.6"
  }
 },
 "nbformat": 4,
 "nbformat_minor": 2
}
