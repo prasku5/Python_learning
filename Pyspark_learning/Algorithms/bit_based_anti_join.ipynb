{
 "cells": [
  {
   "cell_type": "code",
   "execution_count": 1,
   "metadata": {},
   "outputs": [],
   "source": [
    "import os\n",
    "\n",
    "# Set SPARK_HOME and JAVA_HOME environment variables\n",
    "os.environ['SPARK_HOME'] = '/usr/local/Cellar/apache-spark/3.5.1/libexec'\n",
    "os.environ['JAVA_HOME'] = '/usr/local/opt/openjdk/libexec/openjdk.jdk/Contents/Home'"
   ]
  },
  {
   "cell_type": "code",
   "execution_count": 2,
   "metadata": {},
   "outputs": [
    {
     "name": "stderr",
     "output_type": "stream",
     "text": [
      "Setting default log level to \"WARN\".\n",
      "To adjust logging level use sc.setLogLevel(newLevel). For SparkR, use setLogLevel(newLevel).\n",
      "24/08/20 12:51:34 WARN NativeCodeLoader: Unable to load native-hadoop library for your platform... using builtin-java classes where applicable\n",
      "                                                                                \r"
     ]
    },
    {
     "name": "stdout",
     "output_type": "stream",
     "text": [
      "+---+------+------------------+\n",
      "| id|  name|             email|\n",
      "+---+------+------------------+\n",
      "|  1| Alice| alice@example.com|\n",
      "|  4| David| david@example.com|\n",
      "|  6| Frank| frank@example.com|\n",
      "|  7| Grace| grace@example.com|\n",
      "|  8|Hannah|hannah@example.com|\n",
      "|  9|  Ivan|  ivan@example.com|\n",
      "| 10|  Jack|  jack@example.com|\n",
      "+---+------+------------------+\n",
      "\n",
      "Bitset-Based Anti-Join Time: 3.3023719787597656 seconds\n",
      "+---+------+------------------+-------+-------+------+\n",
      "| id|  name|             email|user_id|product|amount|\n",
      "+---+------+------------------+-------+-------+------+\n",
      "|  1| Alice| alice@example.com|   NULL|   NULL|  NULL|\n",
      "|  4| David| david@example.com|   NULL|   NULL|  NULL|\n",
      "|  6| Frank| frank@example.com|   NULL|   NULL|  NULL|\n",
      "|  7| Grace| grace@example.com|   NULL|   NULL|  NULL|\n",
      "|  8|Hannah|hannah@example.com|   NULL|   NULL|  NULL|\n",
      "|  9|  Ivan|  ivan@example.com|   NULL|   NULL|  NULL|\n",
      "| 10|  Jack|  jack@example.com|   NULL|   NULL|  NULL|\n",
      "+---+------+------------------+-------+-------+------+\n",
      "\n",
      "Left Join + Filter Null Time: 2.234074115753174 seconds\n"
     ]
    }
   ],
   "source": [
    "from pyspark.sql import SparkSession\n",
    "from pyspark.sql.functions import col, udf\n",
    "from pyspark.sql.types import BooleanType\n",
    "import time\n",
    "\n",
    "# Initialize Spark session\n",
    "spark = SparkSession.builder.appName(\"JoinPerformanceComparison\").getOrCreate()\n",
    "\n",
    "# Sample Users data (A)\n",
    "dataA = [\n",
    "    (1, \"Alice\", \"alice@example.com\"),\n",
    "    (2, \"Bob\", \"bob@example.com\"),\n",
    "    (3, \"Charlie\", \"charlie@example.com\"),\n",
    "    (4, \"David\", \"david@example.com\"),\n",
    "    (5, \"Eva\", \"eva@example.com\"),\n",
    "    (6, \"Frank\", \"frank@example.com\"),\n",
    "    (7, \"Grace\", \"grace@example.com\"),\n",
    "    (8, \"Hannah\", \"hannah@example.com\"),\n",
    "    (9, \"Ivan\", \"ivan@example.com\"),\n",
    "    (10, \"Jack\", \"jack@example.com\"),\n",
    "]\n",
    "\n",
    "# Sample Purchases data (B)\n",
    "dataB = [\n",
    "    (2, \"Laptop\", 1200),\n",
    "    (3, \"Phone\", 800),\n",
    "    (5, \"Headphones\", 150),\n",
    "    (11, \"Monitor\", 300),\n",
    "    (12, \"Tablet\", 400),\n",
    "]\n",
    "\n",
    "# Create DataFrames\n",
    "dfA = spark.createDataFrame(dataA, [\"id\", \"name\", \"email\"])\n",
    "dfB = spark.createDataFrame(dataB, [\"user_id\", \"product\", \"amount\"])\n",
    "\n",
    "# Create a broadcast variable of user IDs in purchases\n",
    "user_ids_in_B = set(row.user_id for row in dfB.select(\"user_id\").collect())\n",
    "broadcast_user_ids = spark.sparkContext.broadcast(user_ids_in_B)\n",
    "\n",
    "# Define a function to check membership\n",
    "def is_not_in_broadcast(value):\n",
    "    return value not in broadcast_user_ids.value\n",
    "\n",
    "# Register the function as a UDF\n",
    "is_not_in_broadcast_udf = udf(is_not_in_broadcast, BooleanType())\n",
    "\n",
    "# Timing the Bitset-Based Anti-Join\n",
    "start_time = time.time()\n",
    "# Perform the bitset-based anti-join here\n",
    "result_df = dfA.filter(is_not_in_broadcast_udf(col(\"id\")))\n",
    "result_df.show()\n",
    "end_time = time.time()\n",
    "print(f\"Bitset-Based Anti-Join Time: {end_time - start_time} seconds\")\n",
    "\n",
    "# Timing the Left Join + Filter Null\n",
    "start_time = time.time()\n",
    "# Perform the left join + filter null here\n",
    "joined_df = dfA.join(dfB, dfA.id == dfB.user_id, how=\"left\").filter(dfB.user_id.isNull())\n",
    "joined_df.show()\n",
    "end_time = time.time()\n",
    "print(f\"Left Join + Filter Null Time: {end_time - start_time} seconds\")\n",
    "\n",
    "# Stop Spark session\n",
    "spark.stop()\n"
   ]
  }
 ],
 "metadata": {
  "kernelspec": {
   "display_name": "Python 3",
   "language": "python",
   "name": "python3"
  },
  "language_info": {
   "codemirror_mode": {
    "name": "ipython",
    "version": 3
   },
   "file_extension": ".py",
   "mimetype": "text/x-python",
   "name": "python",
   "nbconvert_exporter": "python",
   "pygments_lexer": "ipython3",
   "version": "3.9.6"
  }
 },
 "nbformat": 4,
 "nbformat_minor": 2
}
